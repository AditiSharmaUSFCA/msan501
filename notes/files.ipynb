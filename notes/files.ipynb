{
 "cells": [
  {
   "cell_type": "markdown",
   "metadata": {},
   "source": [
    "# Loading files\n",
    "\n",
    "The goal of this lecture-lab is to learn how to extract data from files on your laptop's disk. We'll load words from a text file and numbers from data files.  Along the way, we'll learn more about filenames and paths to files. The first two elements of our generic analytics program template says to acquire data and then load it into a data structure:\n",
    "\n",
    "1. Acquire data, which means finding a suitable file or collecting data from the web and storing in a file\n",
    "2. Load data from disk and place into memory organized into data structures\n",
    "\n",
    "For now, we'll satisfy the first step by just downloading ready-made data files from the web by hand. In [MSAN692 -- Data Acquisition](https://github.com/parrt/msan692), we'll learn all about how to pull data from the web programmatically. This lecture focuses on the second step in the analytics program template."
   ]
  },
  {
   "cell_type": "markdown",
   "metadata": {},
   "source": [
    "## What are files?\n",
    "\n",
    "As we've discussed before, both the disk and RAM are forms of memory. RAM is much faster (but smaller) than the disk but RAM all disappears when the power goes out. Disks, on the other hand, are persistent. A file is simply a chunk of data on the disk identified by a filename. You use files all the time. For example, we can double-click on a text file or Excel file, which opens an application to display those files. \n",
    "\n",
    "We need to be able to write Python programs that read data from files just like, say, Excel does.  Accessing data in RAM is very easy in a Python program, we simply refer to the various elements in a list using an index, such as `names[i]`.  File data is less convenient to access  because we have to explicitly load the file into working memory first.  For example, we might want to load a list of names from a file into a `names` list. \n",
    "\n",
    "If a file is too big to fit into memory all at once, we have to process the data in chunks.  For now, let's assume all files fit in memory. \n",
    "\n",
    "Even so, accessing files is a bit of a hassle because we must explicitly tell Python to open a file and then close it when we're done. We also must distinguish between reading and writing from/to a file, which dictates the mood in which we open the file.  We can open the file in read, write, or append mode. For this lab, we will only concern ourselves with the default case of \"opening a file for reading.\" Here is how to open a file called `foo.txt` in read mode (the default) then immediately close that file:\n",
    "\n",
    "```\n",
    "f = open('foo.txt')  # open for read mode\n",
    "f.close()            # ok, we're done\n",
    "```\n",
    "\n",
    "Hmm...what kind of object is returned from `open()` and stored in `f`? Why do we have to close files?"
   ]
  },
  {
   "cell_type": "markdown",
   "metadata": {},
   "source": [
    "## File descriptors\n",
    "\n",
    "When we open a file, Python gives us a \"file object\" that is really just a handle or cookie that the operating system gives us. It's a unique identifier and how the operating system likes to identify a file that we work with. The file object is not the filename and is also not the file itself on the disk. It's really just a descriptor and a reference to the file.\n",
    "\n",
    "We will use a filename to get a file object using `open()` and use the file object to get the file contents."
   ]
  },
  {
   "cell_type": "code",
   "execution_count": 3,
   "metadata": {},
   "outputs": [
    {
     "name": "stdout",
     "output_type": "stream",
     "text": [
      "<type 'file'>\n",
      "<open file 'data/prices.txt', mode 'r' at 0x106ad09c0>\n"
     ]
    }
   ],
   "source": [
    "f = open(\"data/prices.txt\")\n",
    "print type(f)\n",
    "print f\n",
    "f.close()"
   ]
  },
  {
   "cell_type": "markdown",
   "metadata": {},
   "source": [
    "The close operation informs the operating system that you no longer need that resource. The operating system can only open so many files at once so you should close files when you're done using them. \n",
    "\n",
    "Later, when you are learning to write data to files, the close operation is also important. Closing a file flushes any data in memory buffers that needs to be written. From the Python documentation:\n",
    "\n",
    "> \"It is a common bug to write a program where you have the code to add all the data you want to a file, but the program does not end up creating a file. Usually this means you forgot to close the file.\"\n",
    "\n",
    "<img src=\"images/redbang.png\" width=30 align=\"left\"> To help avoid confusion, keep this analogy in mind. Your house (file) contents is different than your address (file name) and different than a piece of paper with the address written on it (file descriptor). More specifically:\n",
    "\n",
    "1. The filename is a string that identifies a file on the disk. It can be fully qualified or relative to the current working directory.\n",
    "\n",
    "2. The file object is not the filename and is also not the file itself on the disk. It's really just a descriptor and a reference to the file.\n",
    "\n",
    "3. The contents of the file is different than the filename and the file (descriptor) object that Python gives us."
   ]
  },
  {
   "cell_type": "markdown",
   "metadata": {},
   "source": [
    "## File names and paths\n",
    "\n",
    "You know what a file name is because you've created lots of files before. (BTW, another reminder not to use spaces in your file or directory names.) *Paths* are what we call fully qualified filenames because they give a description of the directories from the root of the file system. The root of the file system is identified with `/` forward slashat the start of a pathname. You are probably used to seeing it as \"Macintosh HD\" but from a programming point of view, it's just `/`. Here's a useful diagram showing the components of a fully qualified pathname to a file called `view.py`:\n",
    "\n",
    "<img src=images/path-names.png width=750>\n",
    "\n",
    "As a shorthand, you can start a path with `~`, which means \"my home directory\". On a Mac that's `/Users/parrt` or whatever your user ID is. On Linux, it's probably `/home/parrt`.\n",
    "\n",
    "The last element in a path is either a filename or a directory. For example to refer to the directory holding `view.py` in the above diagram, use path `/Users/parrt/classes/msan501/images-parrt`. Or, using the shortcut, the fully qualified path is `~/classes/msan501/images-parrt`. Here's an example bash session that uses some fully qualified paths:\n",
    "\n",
    "```bash\n",
    "$ ls /Users/parrt/classes/msan501/images-parrt/view.py\n",
    "/Users/parrt/classes/msan501/images-parrt/view.py\n",
    "$ cd /Users/parrt/classes/msan501/images-parrt ",
    "$ pwd\n",
    "/Users/parrt/classes/msan501/images-parrt\n",
    "$ cd ~/classes/msan501/images-parrt\n",
    "$ pwd\n",
    "/Users/parrt/classes/msan501/images-parrt\n",
    "```\n",
    "\n",
    "### Current working directory\n",
    "\n",
    "All programs run with the notion of a *current working directory*. So, if a program is running inside the directory `~/classes/msan501/images-parrt`, then the program could refer to any data files sitting in that directory with just a file name--no path is required.  For example, let's use the `ls` program to demonstrate the different kinds of paths.\n",
    "\n",
    "```bash\n",
    "$ cd ~/classes/msan501/images-parrt\n",
    "$ ls\n",
    "view.py\n",
    "$ ls /Users/parrt/classes/msan501\n",
    "images-parrt/\n",
    "$ ls /Users/parrt/classes\n",
    "msan501/\n",
    "```\n",
    "\n",
    "Any path that does not start with `~` or `/` is called a *relative pathname*. For completeness, note that `..` means the directory above the current working directory:\n",
    "\n",
    "```bash\n",
    "$ cd ~/classes/msan501/images-parrt\n",
    "$ ls ..\n",
    "images-parrt/\n",
    "$ ls ../..\n",
    "msan501/\n",
    "```\n",
    "\n",
    "Sometimes you will see me use `/tmp`, which is a temporary directory or dumping ground.  All files in that directory are usually erased when you reboot.\n",
    "\n",
    "## Loading text files\n",
    "\n",
    "As we discussed early in the semester, files are just bits. It's how we interpret the bits that is meaningful. The bits could represent an image, a movie, an article, data, Python program text, whatever. Let's call any file containing characters a *text file* and anything else a *binary file*.\n",
    "\n",
    "Text files are usually 1 byte per character (8 bits) and have the notion of a line. A line is just a sequence of characters terminated with either `\\r\\n` (Windows) or `\\n` (UNIX, Mac). A text file is usually then a sequence of lines. Download this sample text file, [IntroIstanbul.txt](https://raw.githubusercontent.com/parrt/msan501/master/notes/data/IntroIstanbul.txt) so we have something to work with. You can save it in `/tmp` or whatever directory you are using for in class work. For the purposes of this discussion, I have data files in a subdirectory called `data` of this notes directory.\n",
    "\n",
    "Now, let's examine the contents of the file in a raw fashion rather than with a text editor. The `od` command (octal dump) is useful for looking at the bytes of the file. Use option `-c` to see the contents as 1-byte characters:"
   ]
  },
  {
   "cell_type": "code",
   "execution_count": 7,
   "metadata": {},
   "outputs": [
    {
     "name": "stdout",
     "output_type": "stream",
     "text": [
      "0000000   \\n          \\n          \\n                  \\n                \r\n",
      "0000020           \\n                                   T   h   e       C\r\n",
      "0000040    i   t   y       a   n   d       I   T   S       P   e   o   p\r\n",
      "0000060    l   e  \\n                                   I   s   t   a   n\r\n",
      "0000100    b   u   l       i   s       o   n   e       o   f       t   h\r\n"
     ]
    }
   ],
   "source": [
    "! od -c data/IntroIstanbul.txt | head -5"
   ]
  },
  {
   "cell_type": "markdown",
   "metadata": {},
   "source": [
    "You can ignore the \"`!`\" on the front as it is just telling this Jupyter notebook to run the terminal command that follows. If you want you can think of `!` as the `$` terminal prompt in this context.\n",
    "\n",
    "That \"`| head -5`\" *pipes* (the vertical bar \"`|`\" looks like a pipe) the output of the `od` command to the `head` program, which gives this the first five lines of the output. When we have a lot of output we can also pipe the output to the `more` program to paginate long output.\n",
    "\n",
    "```bash\n",
    "$ od -c data/IntroIstanbul.txt | more\n",
    "...\n",
    "```\n",
    "\n",
    "The `\\n` character you see represents the single character we know as the carriage return. The numbers on the left are the character offsets into the file (it looks like they are octal not decimal, btw; use `-A d` to get decimal addresses).\n",
    "\n",
    "Let's look at some common programming patterns dealing with text files."
   ]
  },
  {
   "cell_type": "markdown",
   "metadata": {},
   "source": [
    "### Pattern: Load all file contents into a string.\n",
    "\n",
    "```python\n",
    "f = open('/tmp/IntroIstanbul.txt')\n",
    "contents = f.read() # read all content of the file\n",
    "f.close()\n",
    "print contents\n",
    "```\n",
    "\n",
    "**Exercise**: *Without cutting and pasting*, type in that sequence and make sure you can print the contents of the file from Python. Instead of `/tmp`, use whatever directory you saved that IntroIstanbul.txt in."
   ]
  },
  {
   "cell_type": "markdown",
   "metadata": {},
   "source": [
    "### Pattern: Load all words of file into a list.\n",
    "\n",
    "This pattern is just an extension of the previous where we `split()` on the space character to get a list:\n",
    "\n",
    "```python\n",
    "f = open('/tmp/IntroIstanbul.txt')\n",
    "contents = f.read() # read all content of the file\n",
    "f.close()\n",
    "words = contents.split(' ')\n",
    "print words[0:100] # print first 100 words\n",
    "```\n",
    "\n",
    "We get output that looks like this:\n",
    "\n",
    "```\n",
    "['\\n', '', '\\n', '', '\\n', '', '', '', '\\n', '', '', '', '', '',\n",
    " '\\n', '', '', '', '', '', '', '', 'The', 'City', 'and', 'ITS',\n",
    "  'People\\n', '', '', '', '', '', '', '', 'Istanbul', 'is', 'one', ...]\n",
    "```\n",
    "\n",
    "Because we are splitting on the space character, newlines and multiple space characters in a row yield \"words\" that are useful. We need to transform that list into a new list before it is useful."
   ]
  },
  {
   "cell_type": "markdown",
   "metadata": {},
   "source": [
    "### Exercise\n",
    "\n",
    "Using the *filter* programming pattern filters `words` for only those words greater than 1 character; place into another list called `words2`. Hint `len(s)` gets the length of string `s`."
   ]
  },
  {
   "cell_type": "markdown",
   "metadata": {},
   "source": [
    "## Loading all lines of a file\n",
    "\n",
    "Reading the contents of a file into a string is not always that useful. We typically want to deal with the words, as we just saw, or the lines of a text file.  Natural language processing (NLP) would focus on using the words, but let's look at some data files, which typically structure files as lines of data.  Each line represents an observation, data point, or record. \n",
    "\n",
    "We could split the text contents by `\\n` to get the lines, but it is so common that Python provides functions to do that for us. To give us some data to play with, download [prices.txt](https://raw.githubusercontent.com/parrt/msan501/master/data/prices.txt) that has a list of prices, one price per line. Here's another very common programming pattern:"
   ]
  },
  {
   "cell_type": "markdown",
   "metadata": {},
   "source": [
    "### Pattern: Read all of the lines of the file into a list.\n",
    "\n",
    "```python\n",
    "f = open('/tmp/prices.txt')\n",
    "prices = f.readlines() # get lines of file into a list\n",
    "f.close()\n",
    "print prices[0:10]\n",
    "```\n",
    "\n",
    "The output you should get looks like:\n",
    "\n",
    "```\n",
    "['0.605\\n', '0.600\\n', '0.594\\n', '0.592\\n', '0.600\\n', '0.616\\n', '0.623\\n', '0.628\\n', '0.630\\n', '0.629\\n']\n",
    "```"
   ]
  },
  {
   "cell_type": "markdown",
   "metadata": {},
   "source": [
    "### Exercise\n",
    "\n",
    "*Without cutting and pasting*, type in that code and make sure you can read the lines of the file into a list. \n",
    "\n",
    "The numbers have the `\\n` character on the end but that's not a problem because we can easily convert that using [NumPy](http://www.numpy.org/):\n",
    "\n",
    "```python\n",
    "import numpy as np\n",
    "prices = np.array(prices, dtype='float') # convert to array of numbers\n",
    "print prices[0:10]\n",
    "```"
   ]
  },
  {
   "cell_type": "markdown",
   "metadata": {},
   "source": [
    "### Exercise\n",
    "\n",
    "Add this conversion to the previous exercise and make sure you get an `array` as output:\n",
    "\n",
    "```\n",
    "array([ 0.605,  0.6  ,  0.594,  0.592,  0.6  ,  0.616,  0.623,  0.628,\n",
    "        0.63 ,  0.629])\n",
    "```"
   ]
  },
  {
   "cell_type": "markdown",
   "metadata": {},
   "source": [
    "### Pattern:  load list of numbers into a numpy array\n",
    "\n",
    "If we combine these code snippets, the pattern is loading a list of numbers into a numpy `array`."
   ]
  },
  {
   "cell_type": "markdown",
   "metadata": {},
   "source": [
    "## Loading CSV files\n",
    "\n",
    "Let's look at a more complicated data file. Download [heights.csv](https://raw.githubusercontent.com/parrt/msan501/master/data/player-heights.csv), which looks like:\n",
    "\n",
    "```\n",
    "Football height, Basketball height\n",
    "6.329999924, 6.079999924\n",
    "6.5, 6.579999924\n",
    "...\n",
    "```\n",
    "\n",
    "It is still a text file, but now we start to get the idea that text files can follow a particular format. In this case, we recognize it as a *comma-separated value* (CSV) file. It also has a header line that names the columns, which means we need to treat the first line differently than the remainder of the file."
   ]
  },
  {
   "cell_type": "markdown",
   "metadata": {},
   "source": [
    "### Pattern: Load a CSV file into a 2D numpy array.\n",
    "\n",
    "We already know how to open a file and get the lines, so let's do that and also separate the lines into the header and the data components:\n",
    "\n",
    "```python\n",
    "import numpy as np\n",
    "\n",
    "f = open('/tmp/player-heights.csv')\n",
    "lines = f.readlines()\n",
    "f.close()\n",
    "\n",
    "header = lines[0]\n",
    "data = lines[1:]\n",
    "print header\n",
    "print data[0:5]\n",
    "```"
   ]
  },
  {
   "cell_type": "markdown",
   "metadata": {},
   "source": [
    "### Exercise\n",
    "\n",
    "Type in this code and make sure you get the header and the first five lines of data printed out:\n",
    "\n",
    "```\n",
    "Football height, Basketball height\n",
    "['6.329999924, 6.079999924\\n', '6.5, 6.579999924\\n', '6.5, 6.25\\n', '6.25, 6.579999924\\n', '6.5, 6.25\\n']\n",
    "```\n",
    "\n",
    "Each row of the data is a string with two numbers in it. We need to convert that string into a list with two floating-point numbers using `split(',')`.  Combining all of those two-element lists into an overall list gives us the two-dimensional table we need."
   ]
  },
  {
   "cell_type": "markdown",
   "metadata": {},
   "source": [
    "### Exercise\n",
    "\n",
    "What pattern should we used to convert the `data` list? Convert the list of strings `data` to a list of number lists called `data2`.\n",
    "\n",
    "```python\n",
    "data2 = []\n",
    "for line in data:\n",
    "    row = line.split(',')\n",
    "    data2.append(row)\n",
    "print data2[0:3]\n",
    "```\n",
    "\n",
    "That gives output:\n",
    "\n",
    "```\n",
    "[['6.329999924', ' 6.079999924\\n'], ['6.5', ' 6.579999924\\n'], ['6.5', ' 6.25\\n']]\n",
    "```\n",
    "\n",
    "Now we are ready to convert it to a two-dimensional array. The numpy `array()` helps us do the conversion from individual strings to numbers and also understands that a list of lists is a two dimensional array:\n",
    "\n",
    "```python\n",
    "data2 = np.array(data2, dtype='float')\n",
    "print data2[0:5]\n",
    "```\n",
    "\n",
    "That gives output:\n",
    "\n",
    "```\n",
    "[[ 6.32999992  6.07999992]\n",
    " [ 6.5         6.57999992]\n",
    " [ 6.5         6.25      ]\n",
    " [ 6.25        6.57999992]\n",
    " [ 6.5         6.25      ]]\n",
    "```\n",
    "\n",
    "## Using Pandas to load CSV files\n",
    "\n",
    "Of course, loading CSV is something that data scientists need to do all of the time and so there is a simple function you can use in the future from [Pandas](http://pandas.pydata.org),  another library you will probably become very familiar with:\n",
    "\n",
    "```python\n",
    "import pandas\n",
    "prices = pandas.read_csv('/tmp/prices.txt')\n",
    "```\n",
    "\n",
    "This even works for CSV files with header rows:\n",
    "\n",
    "```python\n",
    "data = pandas.read_csv('/tmp/player-heights.csv')\n",
    "```\n",
    "\n",
    "The `delimiter` indicates that commas separate the data elements on a line and `names=True` indicates that there are column names in the first line of the file. If we print `data` we get:\n",
    "\n",
    "```\n",
    "    Football height   Basketball height\n",
    "0              6.33                6.08\n",
    "1              6.50                6.58\n",
    "2              6.50                6.25\n",
    "3              6.25                6.58\n",
    "4              6.50                6.25\n",
    "5              6.33                5.92\n",
    "...\n",
    "```\n",
    "\n",
    "We'll see this stuff again in [Manipulating and Visualizing Data](data.md).\n",
    "\n",
    "## Processing files line by line\n",
    "\n",
    "The previous mechanism for getting lines of text into memory works well except that it requires we load everything into memory all at once. That is pretty inefficient and limits the size of the data we can process to the amount of memory we have."
   ]
  },
  {
   "cell_type": "markdown",
   "metadata": {},
   "source": [
    "### Pattern: Read data line by line not all at once.\n",
    "\n",
    "We can use a for-each loop where the sequence of data is the file descriptor:\n",
    "\n",
    "```\n",
    "f = open('/tmp/prices.txt')\n",
    "for line in f: # for each line in the file\n",
    "    print float(line) # process the line in some way\n",
    "f.close()\n",
    "```\n",
    "\n",
    "The output we get looks like:\n",
    "```\n",
    "0.605\n",
    "0.6\n",
    "0.594\n",
    "0.592\n",
    "0.6\n",
    "...\n",
    "```"
   ]
  },
  {
   "cell_type": "markdown",
   "metadata": {},
   "source": [
    "### Exercise\n",
    "\n",
    "Try this new version of processing the lines of the file. No cutting and pasting!\n",
    "\n",
    "Keep in mind that once you close the file, you can read anymore data from it:\n",
    "\n",
    "\n",
    "```\n",
    "f = open('/tmp/prices.txt', 'w')\n",
    "f.close()\n",
    "f.read()\n",
    "Traceback (most recent call last):\n",
    "  File \"<stdin>\", line 1, in <module>\n",
    "ValueError: I/O operation on closed file\n",
    "```"
   ]
  },
  {
   "cell_type": "markdown",
   "metadata": {},
   "source": [
    "## Summary\n",
    "\n",
    "The key programming patterns to take away from this lecture are:\n",
    "\n",
    "* **Pattern**: Load all file contents into a string.\n",
    "* **Pattern**: Load all words of file into a list.\n",
    "* **Pattern**: Read all of the lines of the file into a list.\n",
    "* **Pattern**: Load list of numbers into a numpy array.\n",
    "* **Pattern**: Load a CSV file into a 2D numpy array.\n",
    "\n",
    "You should be able to code those patterns quickly and easily, and without cutting and pasting from stackoverflow."
   ]
  }
 ],
 "metadata": {
  "kernelspec": {
   "display_name": "Python [default]",
   "language": "python",
   "name": "python2"
  },
  "language_info": {
   "codemirror_mode": {
    "name": "ipython",
    "version": 2
   },
   "file_extension": ".py",
   "mimetype": "text/x-python",
   "name": "python",
   "nbconvert_exporter": "python",
   "pygments_lexer": "ipython2",
   "version": "2.7.12"
  },
  "toc": {
   "colors": {
    "hover_highlight": "#DAA520",
    "navigate_num": "#000000",
    "navigate_text": "#333333",
    "running_highlight": "#FF0000",
    "selected_highlight": "#FFD700",
    "sidebar_border": "#EEEEEE",
    "wrapper_background": "#FFFFFF"
   },
   "moveMenuLeft": true,
   "nav_menu": {
    "height": "429px",
    "width": "252px"
   },
   "navigate_menu": true,
   "number_sections": true,
   "sideBar": true,
   "threshold": 4,
   "toc_cell": false,
   "toc_section_display": "block",
   "toc_window_display": true,
   "widenNotebook": false
  }
 },
 "nbformat": 4,
 "nbformat_minor": 2
}
