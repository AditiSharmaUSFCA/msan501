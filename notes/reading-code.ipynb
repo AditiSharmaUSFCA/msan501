{
 "cells": [
  {
   "cell_type": "markdown",
   "metadata": {},
   "source": [
    "# How to read code\n",
    "\n",
    "My French is pretty bad so, when reading a French sentence, I have to consciously estimate *who is doing what to whom*.\n",
    "\n",
    "think about what pattern the original programmer had in mind. You are not a computer, so don't read code like a computer.\n",
    "\n",
    "scan through the table of contents, the list of function definitions\n",
    "\n",
    "\n",
    "when looking at a main program or a function:\n",
    "\n",
    "look for who is doing what to whom.\n",
    " \n",
    "look for the loops\n",
    "\n",
    "Listen for the drummer\n"
   ]
  }
 ],
 "metadata": {
  "anaconda-cloud": {},
  "kernelspec": {
   "display_name": "Python [default]",
   "language": "python",
   "name": "python2"
  },
  "language_info": {
   "codemirror_mode": {
    "name": "ipython",
    "version": 2
   },
   "file_extension": ".py",
   "mimetype": "text/x-python",
   "name": "python",
   "nbconvert_exporter": "python",
   "pygments_lexer": "ipython2",
   "version": "2.7.12"
  }
 },
 "nbformat": 4,
 "nbformat_minor": 1
}
