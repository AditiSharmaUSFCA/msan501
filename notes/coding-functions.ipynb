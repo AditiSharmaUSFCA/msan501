{
 "cells": [
  {
   "cell_type": "markdown",
   "metadata": {},
   "source": [
    "# Organizing your code with functions\n",
    "\n",
    "## Python program template\n",
    "\n",
    "*import any libraries*<br>\n",
    "*define any constants, simple data values*<br>\n",
    "*define any functions*<br>\n",
    "*main program body*\n",
    "\n",
    "When we are building a library not a program, then we omit the main program:\n",
    " \n",
    "*import any libraries*<br>\n",
    "*define any constants, simple data values*<br>\n",
    "*define any functions*<br>"
   ]
  }
 ],
 "metadata": {
  "anaconda-cloud": {},
  "kernelspec": {
   "display_name": "Python [default]",
   "language": "python",
   "name": "python2"
  },
  "language_info": {
   "codemirror_mode": {
    "name": "ipython",
    "version": 2
   },
   "file_extension": ".py",
   "mimetype": "text/x-python",
   "name": "python",
   "nbconvert_exporter": "python",
   "pygments_lexer": "ipython2",
   "version": "2.7.12"
  }
 },
 "nbformat": 4,
 "nbformat_minor": 1
}
