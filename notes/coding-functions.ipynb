{
 "cells": [
  {
   "cell_type": "markdown",
   "metadata": {},
   "source": [
    "# Organizing your code with functions\n",
    "\n",
    "<img src=\"images/pestle.png\" style=\"width:90px\" align=\"right\"> Years ago I learned to make Thai red curry paste from scratch, including roasting then grinding seeds and pounding stuff in a giant mortar and pestle. It takes forever and so I generally buy curry paste ready-made from the store. If you look at any cookbook, you will see a number of fundamental recipes, such as making sauces, that are used by other recipes. A cookbook is organized into a series of executable recipes, some of which \"invoke\" other recipes. To make dinner, I open a cookbook, acquire some raw ingredients, then execute one or more recipes, usually in a specific sequence.\n",
    "\n",
    "Writing a program proceeds in the same way. Opening a cookbook is the same as importing libraries. Acquiring raw ingredients means loading data in the memory. The main program  invokes functions (recipes) to accomplish a particular task. As part of writing a program, we will typically break out logical sections of code into functions specific to our problem, whereas the functions in libraries tend to be broadly-applicable. \n",
    "\n",
    "The way we organize our code is important. Programs quickly become an incomprehensible rats nest if we are not strict about style and organization. Here is the general structure of the Python programs you will write:\n",
    "\n",
    "*import any libraries*<br>\n",
    "*define any constants, simple data values*<br>\n",
    "*define any functions*<br>\n",
    "*main program body*\n",
    "\n",
    "In [Functions](functions.md), we discussed the idea of functions using pseudocode and now it's time to look at some concrete function definitions. A function with one argument in Python looks like this:\n",
    "\n",
    "`def` *funcname*`(`*argname*`)`:<br>\n",
    "&nbsp;&nbsp;&nbsp;&nbsp;*statement 1*<br>\n",
    "&nbsp;&nbsp;&nbsp;&nbsp;*statement 2*<br>\n",
    "&nbsp;&nbsp;&nbsp;&nbsp;*...*<br>\n",
    "&nbsp;&nbsp;&nbsp;&nbsp;`return` *expression*<br>\n",
    "\n",
    "where the `return` statement is omitted if the function does not return a value. \n",
    "\n",
    "**Statements are associated with the function by indentation.**\n",
    "\n",
    "If there are two arguments, the function header looks like:\n",
    "\n",
    "`def` *funcname*`(`*argname1*, *argname2*`)`:<br>\n",
    "\n",
    "Our job as programmers is to pick a descriptive function name, argument name(s), and statements within the function.\n",
    "\n",
    "**Invoking a function** looks like *funcname*`(`*expression*`)` or *funcname*`(`*expression1*`,` *expression2*`)` etc...\n",
    "\n",
    "Let's take a look at some of the code snippets from [Programming Patterns in Python](python-patterns.ipynb) and see if we can abstract some useful functions."
   ]
  },
  {
   "cell_type": "markdown",
   "metadata": {},
   "source": [
    "## Sum function\n",
    "\n",
    "In [Model of Computation](computation.md), we saw pseudocode to translate mathematical Sigma notation to python and we recently saw code to sum the values in a list:"
   ]
  },
  {
   "cell_type": "code",
   "execution_count": 27,
   "metadata": {
    "collapsed": false
   },
   "outputs": [
    {
     "name": "stdout",
     "output_type": "stream",
     "text": [
      "207\n"
     ]
    }
   ],
   "source": [
    "Quantity = [6, 49, 27, 30, 19, 21, 12, 22, 21]\n",
    "sum = 0\n",
    "for q in Quantity:\n",
    "    sum = sum + q\n",
    "print sum"
   ]
  },
  {
   "cell_type": "markdown",
   "metadata": {},
   "source": [
    "Summing values is very common so let's encapsulate the functionality in a function to avoid  having to cut-and-paste the code template all the time. Ignoring the `Quantity` list definition, we can group the summing functionality into a function by indenting it and then adding a function header:"
   ]
  },
  {
   "cell_type": "code",
   "execution_count": 28,
   "metadata": {
    "collapsed": false
   },
   "outputs": [
    {
     "name": "stdout",
     "output_type": "stream",
     "text": [
      "207\n"
     ]
    }
   ],
   "source": [
    "def sum(data):\n",
    "    s = 0\n",
    "    for q in data:\n",
    "        s = s + q\n",
    "    return s # return accumulated value s to invoker (this is not a print statement!)\n",
    "\n",
    "print sum(Quantity) # call sum with a specific list"
   ]
  },
  {
   "cell_type": "markdown",
   "metadata": {},
   "source": [
    "*The Python interpreter does not execute the code inside the function unless we directly invoke that function.*  Python sees the function definition as just that: a recipe definition that we can call if we want.\n",
    "\n",
    "The key benefit of this function version is that now we have some generic code that we can invoke with a simple call to `sum`. The argument to the function is the list of data to sum and so the for loop refers to it than the specific `Quantity` variable. (Notice that the variable inside the function is now `s` not `sum` to avoid confusion with the function name.)  \n",
    "\n",
    "The function call, or invocation, `sum(Quantity)` passes the data to the function. The function returns a value and so the function call is considered to have a value, which we can print out as shown above. Like any value, we can assign the result of calling a function to a variable:"
   ]
  },
  {
   "cell_type": "code",
   "execution_count": 29,
   "metadata": {
    "collapsed": false
   },
   "outputs": [
    {
     "name": "stdout",
     "output_type": "stream",
     "text": [
      "207\n"
     ]
    }
   ],
   "source": [
    "x = sum(Quantity)  # call sum and save result in x\n",
    "print x"
   ]
  },
  {
   "cell_type": "markdown",
   "metadata": {},
   "source": [
    "Please remember that returning a value from a function is not the same thing as printing. Only the `print` statement prints a value to the console when running a program.\n",
    "\n",
    "Because the function is now generic, in it accepts a list parameter, we can pass another list to the function:"
   ]
  },
  {
   "cell_type": "code",
   "execution_count": 30,
   "metadata": {
    "collapsed": false,
    "scrolled": true
   },
   "outputs": [
    {
     "name": "stdout",
     "output_type": "stream",
     "text": [
      "44\n"
     ]
    }
   ],
   "source": [
    "ages = [10, 21, 13]\n",
    "print sum(ages)"
   ]
  },
  {
   "cell_type": "markdown",
   "metadata": {},
   "source": [
    "And, we can even pass list literals:"
   ]
  },
  {
   "cell_type": "code",
   "execution_count": 31,
   "metadata": {
    "collapsed": false,
    "scrolled": true
   },
   "outputs": [
    {
     "name": "stdout",
     "output_type": "stream",
     "text": [
      "0\n",
      "6\n"
     ]
    }
   ],
   "source": [
    "print sum([ ]) # Empty list\n",
    "print sum([1, 2, 3])"
   ]
  },
  {
   "cell_type": "markdown",
   "metadata": {},
   "source": [
    "The `sum` function has one parameter but it's also common to have functions with two parameters."
   ]
  },
  {
   "cell_type": "markdown",
   "metadata": {},
   "source": [
    "## Search function\n",
    "\n",
    "We've seen code to search for a list element, but the specific element and specific list were *hardcoded*.  That is to say, the code only worked with specific values and was not generic:"
   ]
  },
  {
   "cell_type": "code",
   "execution_count": 32,
   "metadata": {
    "collapsed": false
   },
   "outputs": [
    {
     "name": "stdout",
     "output_type": "stream",
     "text": [
      "5\n"
     ]
    }
   ],
   "source": [
    "Rainfall = [0, 5, 2, 1, 0, 999, 8]  # our given input\n",
    "index = -1\n",
    "for i in range(len(Rainfall)):      # i is in range [0..n-1] or [0..n)\n",
    "    if Rainfall[i]==999:\n",
    "        index = i\n",
    "        break\n",
    "print index"
   ]
  },
  {
   "cell_type": "markdown",
   "metadata": {},
   "source": [
    "It would be nice to have a function we can call because searching is so common.  To get started, we can just wrap the logic associated with searching in a function by indenting and adding a function header:"
   ]
  },
  {
   "cell_type": "code",
   "execution_count": 33,
   "metadata": {
    "collapsed": false
   },
   "outputs": [
    {
     "name": "stdout",
     "output_type": "stream",
     "text": [
      "5\n"
     ]
    }
   ],
   "source": [
    "def search(x, data):\n",
    "    index = -1\n",
    "    for i in range(len(data)):      # i is in range [0..n-1] or [0..n)\n",
    "        if data[i]==x:\n",
    "            index = i\n",
    "            break\n",
    "    return index\n",
    "\n",
    "print search(999, Rainfall)"
   ]
  },
  {
   "cell_type": "markdown",
   "metadata": {},
   "source": [
    "We are now passing two arguments to the function: `x` is the element to find and `data` is the list to search.\n",
    "\n",
    "Now, anytime we want, we can search a list for an element just by calling `search`:"
   ]
  },
  {
   "cell_type": "code",
   "execution_count": 34,
   "metadata": {
    "collapsed": false
   },
   "outputs": [
    {
     "name": "stdout",
     "output_type": "stream",
     "text": [
      "0\n"
     ]
    }
   ],
   "source": [
    "print search(0, Rainfall)"
   ]
  },
  {
   "cell_type": "code",
   "execution_count": 35,
   "metadata": {
    "collapsed": false
   },
   "outputs": [
    {
     "name": "stdout",
     "output_type": "stream",
     "text": [
      "-1\n"
     ]
    }
   ],
   "source": [
    "print search(23421, Rainfall) # It is a good idea to test the failure case"
   ]
  },
  {
   "cell_type": "markdown",
   "metadata": {},
   "source": [
    "It turns out we can simplify that function by replacing the `break` statement with a `return` statement. In the current version if we find the element, the `break` statement breaks out of the loop and forces the processor to execute the statement following the loop, which is the `return` statement. Because the return statement takes a value, we don't need to track the index in a separate variable. Here is the way the cool kids would write that function:"
   ]
  },
  {
   "cell_type": "code",
   "execution_count": 36,
   "metadata": {
    "collapsed": false
   },
   "outputs": [
    {
     "name": "stdout",
     "output_type": "stream",
     "text": [
      "5\n"
     ]
    }
   ],
   "source": [
    "Rainfall = [0, 5, 2, 1, 0, 999, 8]  # our given input\n",
    "\n",
    "def search(x, data):\n",
    "    for i in range(len(data)):      # i is in range [0..n-1] or [0..n)\n",
    "        if data[i]==x:\n",
    "            return i                # found element, return the current index i\n",
    "    return -1                       # failure case; we did not return from inside loop\n",
    "\n",
    "print search(999, Rainfall)"
   ]
  },
  {
   "cell_type": "markdown",
   "metadata": {},
   "source": [
    "## Visibility of symbols\n",
    "\n",
    "When using the Pythontutor.com visualization, all of the variables were so-called global variables because they live in the global space (or frame). For example, let's revisit the non-function version of the sum accumulator:"
   ]
  },
  {
   "cell_type": "code",
   "execution_count": 38,
   "metadata": {
    "collapsed": true
   },
   "outputs": [],
   "source": [
    "Quantity = [6, 49, 27, 30, 19, 21, 12, 22, 21]\n",
    "sum = 0\n",
    "for q in Quantity:\n",
    "    sum = sum + q"
   ]
  },
  {
   "cell_type": "markdown",
   "metadata": {},
   "source": [
    "There are three (global) variables here: `Quantity`, `sum`, and `q`. The program uses all of those to compute the result. Visually, a snapshot of memory the first time through the loop at `sum = sum + q` looks like:\n",
    "\n",
    "<img src=\"images/sum-global-python-tutor.png\" style=\"width:420px\">\n",
    "\n",
    "Let's see what happens using the function version of the accumulator."
   ]
  },
  {
   "cell_type": "code",
   "execution_count": 40,
   "metadata": {
    "collapsed": true
   },
   "outputs": [],
   "source": [
    "Quantity = [6, 49, 27, 30, 19, 21, 12, 22, 21]\n",
    "\n",
    "def sum(data):\n",
    "    s = 0\n",
    "    for q in data:\n",
    "        s = s + q\n",
    "    return s # return accumulated value s to invoker (this is not a print statement!)"
   ]
  },
  {
   "cell_type": "markdown",
   "metadata": {},
   "source": [
    "First, Python defines the list as usual in the global space and then defines function `sum` in the global space:\n",
    "\n",
    "<img src=\"images/sum0-python-tutor.png\" style=\"width:420px\">"
   ]
  },
  {
   "cell_type": "markdown",
   "metadata": {},
   "source": [
    "If we add a call, `print sum(Quantity)`, and step inside the `sum` function, Python tutor shows the following memory snapshot.\n",
    "\n",
    "<img src=\"images/sum1-python-tutor.png\" style=\"width:420px\">"
   ]
  },
  {
   "cell_type": "markdown",
   "metadata": {},
   "source": [
    "There is a new frame because the main program invoked a function. There is a reference called data within `sum`'s frame because the main program passed `Quantity` to `sum` as an argument. Variable `data` and `Quantity` refer to the same list of data in memory but the names are defined in different contexts. By traversing `data`, the `sum` function is actually traversing the `Quantity` list from the outer context.\n",
    "\n",
    "Stepping further into the function to the first statement of the loop as before, we see the following snapshot:\n",
    "\n",
    "<img src=\"images/sum-python-tutor.png\" style=\"width:420px\">\n",
    "\n",
    "Now, the frame for `sum` looks like the way the global space did with the non-function version. When the function returns, the frame for `sum` disappears, leaving only the global frame.\n",
    "\n",
    "Referring back to the search function now, here is what Python tutor shows as a memory snapshot at the first statement of the loop:\n",
    "\n",
    "<img src=\"images/search-python-tutor.png\" style=\"width:340px\">\n",
    "\n",
    "Ok, now that you have the idea of context in mind, let's establish some rules for the visibility of variables according to context:\n",
    "\n",
    "* Main programs cannot see variables and arguments inside functions; just because a main program can call a function, doesn't mean it can see the inner workings. Function should be considered black boxes that take parameters and return values.\n",
    "* Functions can technically see global variables but don't do this as a general rule.  Pass the information you need to each function.\n",
    "\n",
    "The latter rule is a good one because violating it generally means you're doing something \"wrong\". For example, if we tweak the `sum` accumulator function to refer directly to the global variable `Quantity`, we get:\n",
    "\n",
    "```python\n",
    "Quantity = [6, 49, 27, 30, 19, 21, 12, 22, 21]\n",
    "def sum(data):\n",
    "    s = 0\n",
    "    for q in Quantity:\n",
    "        s = s + q\n",
    "    return s\n",
    "```\n",
    "\n",
    "The problem is that, now, `sum` only works on that global data. It's not generically useful. The clue is that the function ignores the `data` argument. So, technically the function can see global data, but it's not a good idea. (Violating this rule to alter a global variable is also a good way to get a subtle bug that's difficult to find.)"
   ]
  }
 ],
 "metadata": {
  "anaconda-cloud": {},
  "kernelspec": {
   "display_name": "Python [default]",
   "language": "python",
   "name": "python2"
  },
  "language_info": {
   "codemirror_mode": {
    "name": "ipython",
    "version": 2
   },
   "file_extension": ".py",
   "mimetype": "text/x-python",
   "name": "python",
   "nbconvert_exporter": "python",
   "pygments_lexer": "ipython2",
   "version": "2.7.12"
  }
 },
 "nbformat": 4,
 "nbformat_minor": 1
}
