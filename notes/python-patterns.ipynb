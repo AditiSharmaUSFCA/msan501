{
 "cells": [
  {
   "cell_type": "markdown",
   "metadata": {},
   "source": [
    "# Programming Patterns in Python\n",
    "\n",
    "*in progress*\n",
    "\n",
    "Now that we had a taste of actual python syntax, let's look at implementations for the high level programming patterns, such as Map, Filter, Combine, etc... Each of those patterns has a pseudocode implementation using conditional and loop patterns, which we can translate very easily to python syntax, as you'll see. \n",
    "\n",
    "Keep in mind that we design programs by selecting and applying patterns, not specific code sequences. Coding is the final act in the design process where we get an executable document.\n",
    "\n",
    "Think about the programming pattern, not the code.Kevin visualize the operation and fitted to one of these common patterns then use the template to get the pseudocode. Finally, convert that to programming language syntax. As you gain more experience, it will be easier to go straight from the pattern to the code, but we still design programs using the patterns in our head.\n",
    "\n",
    "## Map\n",
    "\n",
    "The original discussion regarding the map operation showed a simple column of prices, which we can represent with a list literal.\n",
    "\n",
    "<img src=\"images/map-discount-op.png\" style=\"width:390px\">"
   ]
  },
  {
   "cell_type": "code",
   "execution_count": 7,
   "metadata": {
    "collapsed": true
   },
   "outputs": [],
   "source": [
    "UnitPrice = [38.94, 208.16, 8.69, 195.99]"
   ]
  },
  {
   "cell_type": "markdown",
   "metadata": {},
   "source": [
    "We saw earlier that the pseudocode pattern to implement this map operation is:\n",
    "\n",
    "*for each price in UnitPrice list*:<br>\n",
    "&nbsp;&nbsp;&nbsp;&nbsp;<i>add price * 0.95 to Discounted list</i>\n",
    "\n",
    "That sure looks like a for-each loop, so let's use that coding pattern:"
   ]
  },
  {
   "cell_type": "code",
   "execution_count": 4,
   "metadata": {
    "collapsed": false,
    "scrolled": true
   },
   "outputs": [
    {
     "name": "stdout",
     "output_type": "stream",
     "text": [
      "[36.992999999999995, 197.75199999999998, 8.2555, 186.1905]\n"
     ]
    }
   ],
   "source": [
    "Discounted = []\n",
    "for price in UnitPrice:\n",
    "    Discounted.append(price * 0.95)\n",
    "print Discounted"
   ]
  },
  {
   "cell_type": "markdown",
   "metadata": {},
   "source": [
    "**Advanced**: There is an easier way to do this, using a *list comprehension*, because it is so common. It's really just shorthand that looks more like mathematical set notation:"
   ]
  },
  {
   "cell_type": "code",
   "execution_count": 6,
   "metadata": {
    "collapsed": false
   },
   "outputs": [
    {
     "name": "stdout",
     "output_type": "stream",
     "text": [
      "[36.992999999999995, 197.75199999999998, 8.2555, 186.1905]\n"
     ]
    }
   ],
   "source": [
    "Discounted = [price * 0.95 for price in UnitPrice] # a list comprehension\n",
    "print Discounted"
   ]
  },
  {
   "cell_type": "markdown",
   "metadata": {},
   "source": [
    "## Accumulate\n",
    "\n",
    "<img src=\"images/accumulator.png\" style=\"width:290px\">\n",
    "\n",
    "## Combine\n",
    "\n",
    "<img src=\"images/map-mult.png\" style=\"width:490px\">\n",
    "\n",
    "## Remove duplicates\n",
    "\n",
    "<img src=\"images/unique.png\" style=\"width:290px\">\n",
    "\n",
    "\n",
    "## Filter\n",
    "\n",
    "<img src=\"images/filter-apply.png\" style=\"width:590px\">\n",
    "\n",
    "<img src=\"images/filter-winners.png\" style=\"width:590px\">\n",
    "\n",
    "## Search\n",
    "\n",
    "<img src=\"images/search-rainfall.png\" style=\"width:180px\">\n",
    "\n",
    "## Python program template\n",
    "\n",
    "*import any libraries*<br>\n",
    "*define any constants, simple data values*<br>\n",
    "*define any functions*<br>\n",
    "*main program body*\n",
    "\n",
    "When we are building a library not a program, then we omit the main program:\n",
    " \n",
    "*import any libraries*<br>\n",
    "*define any constants, simple data values*<br>\n",
    "*define any functions*<br>"
   ]
  }
 ],
 "metadata": {
  "anaconda-cloud": {},
  "kernelspec": {
   "display_name": "Python [default]",
   "language": "python",
   "name": "python2"
  },
  "language_info": {
   "codemirror_mode": {
    "name": "ipython",
    "version": 2
   },
   "file_extension": ".py",
   "mimetype": "text/x-python",
   "name": "python",
   "nbconvert_exporter": "python",
   "pygments_lexer": "ipython2",
   "version": "2.7.12"
  }
 },
 "nbformat": 4,
 "nbformat_minor": 1
}
