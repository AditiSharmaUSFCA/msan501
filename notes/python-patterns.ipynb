{
 "cells": [
  {
   "cell_type": "markdown",
   "metadata": {},
   "source": [
    "# Programming Patterns in Python\n",
    "\n",
    "*in progress*\n",
    "\n",
    "Now that we've got a basic vocabulary and sentence structure for a bit of Python, let's look at a few implementations for the [high-level programming patterns](patterns.md), such as Map, Filter, Combine, etc... Each of those patterns has a pseudocode implementation using conditional and loop patterns, which we can translate very easily to python syntax. \n",
    "\n",
    "As we go through, you will see that program design and coding are a game of word association. A high level operation, such as map, should trigger a pseudocode loop template, which should then trigger a four-each Python code template.\n",
    "\n",
    "*Keep in mind that we design programs by selecting and applying patterns, not specific code sequences. Coding is the final act in the design process where we get an executable document.* So, think visually about how you would manipulate lists of data or extract information from data. I often draw things out or put them into a spreadsheet to help me visualize. Manually moving some data around on paper helps me to understand the operations to perform.  After designing a sequence or combination of high-level patterns, we write things out in pseudocode so we don't have to worry yet about Python syntax details. After we're happy with the pseudocode, we finally convert that to Python programming language syntax. Fortunately, there is a very close relationship between pseudocode and Python code. As you gain more experience, it will be easier to go straight from the pattern to the code, but we still design programs using the patterns in our head. For complex problems, I still write out pseudocode, despite 35+ years coding experience."
   ]
  },
  {
   "cell_type": "markdown",
   "metadata": {},
   "source": [
    "## Map\n",
    "\n",
    "Let's look at an implementation of the Map pattern first because it is so important.  The original discussion regarding the map operation showed a simple column of prices and an empty destination column at time zero:\n",
    "\n",
    "<img src=\"images/map-discount-op.png\" style=\"width:390px\">\n",
    "\n",
    "We can represent both using list literals:"
   ]
  },
  {
   "cell_type": "code",
   "execution_count": 1,
   "metadata": {
    "collapsed": true
   },
   "outputs": [],
   "source": [
    "UnitPrice = [38.94, 208.16, 8.69, 195.99]\n",
    "Discounted = [] # empty list"
   ]
  },
  {
   "cell_type": "markdown",
   "metadata": {},
   "source": [
    "In other words:\n",
    "\n",
    "<img src=\"images/price-time0.png\" style=\"width:400px\">\n",
    "\n",
    "In [Model of Computation](computation.md), we saw the pseudocode pattern to implement this map operation:\n",
    "\n",
    "*for each price in UnitPrice list*:<br>\n",
    "&nbsp;&nbsp;&nbsp;&nbsp;<i>add price * 0.95 to Discounted list</i>\n",
    "\n",
    "That sure looks like a for-each loop, so let's use that coding pattern:"
   ]
  },
  {
   "cell_type": "code",
   "execution_count": 3,
   "metadata": {
    "collapsed": false,
    "scrolled": true
   },
   "outputs": [
    {
     "name": "stdout",
     "output_type": "stream",
     "text": [
      "[36.992999999999995, 197.75199999999998, 8.2555, 186.1905]\n"
     ]
    }
   ],
   "source": [
    "Discounted = [] # empty list\n",
    "for price in UnitPrice:\n",
    "    Discounted.append(price * 0.95)\n",
    "print Discounted"
   ]
  },
  {
   "cell_type": "markdown",
   "metadata": {},
   "source": [
    "Notice that I have included the initialization of the empty list as part of this code snippet. The reason is that we really want to mentally associate the initialization with this code pattern.\n",
    "\n",
    "<u>The translation process in our heads from high-level pattern to pseudocode to code is a game of *word association*\".</u> When your brain sees an operation that maps a column of data to another, think \"map\". When your brain hears \"map\" it should generate the appropriate pseudocode loop, filling in the holes appropriately.  When your brain hears \"for each blah blah\", think \"oh, for-each loop\" and use the appropriate coding pattern.\n",
    "\n",
    "<img src=\"images/price-time1.png\" style=\"width:400px\">\n",
    "\n",
    "Even at the microlevel, think about mapping operations to code. For example, when I think about \"add x to list y\", my brain translates that to `y.append(x)`.\n",
    "\n",
    "**Advanced**: There is an easier way to do this, using a *list comprehension*, because it is so common. It's really just shorthand that looks more like mathematical set notation:"
   ]
  },
  {
   "cell_type": "code",
   "execution_count": 6,
   "metadata": {
    "collapsed": false
   },
   "outputs": [
    {
     "name": "stdout",
     "output_type": "stream",
     "text": [
      "[36.992999999999995, 197.75199999999998, 8.2555, 186.1905]\n"
     ]
    }
   ],
   "source": [
    "Discounted = [price * 0.95 for price in UnitPrice] # a list comprehension\n",
    "print Discounted"
   ]
  },
  {
   "cell_type": "markdown",
   "metadata": {},
   "source": [
    "## Accumulate\n",
    "\n",
    "As an example of an accumulator, we visualized the running sum of the values in a list of quantities:\n",
    "\n",
    "<img src=\"images/accumulator.png\" style=\"width:290px\">"
   ]
  },
  {
   "cell_type": "markdown",
   "metadata": {},
   "source": [
    "We can simulate that column of data using a list literal in Python:"
   ]
  },
  {
   "cell_type": "code",
   "execution_count": 4,
   "metadata": {
    "collapsed": true
   },
   "outputs": [],
   "source": [
    "Quantity = [6, 49, 27, 30, 19, 21, 12, 22, 21]"
   ]
  },
  {
   "cell_type": "markdown",
   "metadata": {},
   "source": [
    "The pseudocode patterns we've seen for accumulators initialize the accumulated value(s) then loop through the input data, updating the accumulated value. In this case, we can write pseudocode like this:\n",
    "\n",
    "*init <u>sum</u> to 0*<br>\n",
    "*for each quantity in <u>Quantity</u> list*:<br>\n",
    "&nbsp;&nbsp;&nbsp;&nbsp;*let sum be <u>sum + quantity</u>*\n",
    "\n",
    "To write that pseudocode, I had to fill in holes for the accumulated variable name, `sum`, list to traverse, `Quantity`, and the operation `sum + quantity`.\n",
    "\n",
    "The python code to implement that pseudocode is a straightforward one-to-one mapping:"
   ]
  },
  {
   "cell_type": "code",
   "execution_count": 6,
   "metadata": {
    "collapsed": false
   },
   "outputs": [
    {
     "name": "stdout",
     "output_type": "stream",
     "text": [
      "207\n"
     ]
    }
   ],
   "source": [
    "sum = 0\n",
    "for q in Quantity:\n",
    "    sum = sum + q\n",
    "print sum"
   ]
  },
  {
   "cell_type": "markdown",
   "metadata": {},
   "source": [
    "## Combine\n",
    "\n",
    "<img src=\"images/map-mult.png\" style=\"width:490px\">"
   ]
  },
  {
   "cell_type": "markdown",
   "metadata": {},
   "source": [
    "## Remove duplicates\n",
    "\n",
    "<img src=\"images/unique.png\" style=\"width:290px\">"
   ]
  },
  {
   "cell_type": "markdown",
   "metadata": {},
   "source": [
    "## Filter\n",
    "\n",
    "<img src=\"images/filter-apply.png\" style=\"width:590px\">\n",
    "\n",
    "<img src=\"images/filter-winners.png\" style=\"width:590px\">"
   ]
  },
  {
   "cell_type": "markdown",
   "metadata": {},
   "source": [
    "## Search\n",
    "\n",
    "<img src=\"images/search-rainfall.png\" style=\"width:180px\">"
   ]
  },
  {
   "cell_type": "markdown",
   "metadata": {},
   "source": [
    "## Python program template\n",
    "\n",
    "*import any libraries*<br>\n",
    "*define any constants, simple data values*<br>\n",
    "*define any functions*<br>\n",
    "*main program body*\n",
    "\n",
    "When we are building a library not a program, then we omit the main program:\n",
    " \n",
    "*import any libraries*<br>\n",
    "*define any constants, simple data values*<br>\n",
    "*define any functions*<br>"
   ]
  }
 ],
 "metadata": {
  "anaconda-cloud": {},
  "kernelspec": {
   "display_name": "Python [default]",
   "language": "python",
   "name": "python2"
  },
  "language_info": {
   "codemirror_mode": {
    "name": "ipython",
    "version": 2
   },
   "file_extension": ".py",
   "mimetype": "text/x-python",
   "name": "python",
   "nbconvert_exporter": "python",
   "pygments_lexer": "ipython2",
   "version": "2.7.12"
  }
 },
 "nbformat": 4,
 "nbformat_minor": 1
}
