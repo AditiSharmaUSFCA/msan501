{
 "cells": [
  {
   "cell_type": "markdown",
   "metadata": {},
   "source": [
    "# Programming Patterns in Python\n",
    "\n",
    "Now that we have an understanding of how computers organize data and have some low level programming operations, let's look at a few common high-level programming patterns. Each of these operations has an implementation using conditional and loop patterns, which we can very easily express using python syntax. We can also use existing library functions to achieve the same thing, which we'll explore also.\n",
    "\n",
    "As we go through, you will see that program design and coding are a game of word association. A high-level operation, such as map, should trigger a pseudocode (English-like \"code\") loop template in your mind, which should then trigger a for-each Python code template.\n",
    "\n",
    "*Keep in mind that we design programs by selecting and applying operations, not specific code sequences. Coding is the final act in the design process where we get an executable document.* So, think visually about how you would manipulate lists of data or extract information from data. I often draw things out or put them into a spreadsheet to help me visualize. Manually moving some data around on paper helps me to understand the operations to perform. \n",
    "\n",
    "After designing a sequence or combination of high-level operations, we can write things out in pseudocode or go straight to Python syntax. As you gain more experience, it will be easier to go straight from the operation to the code, but we still design programs using operations, not code, in our head. For complex problems, I still write out pseudocode, despite 35+ years coding experience."
   ]
  },
  {
   "cell_type": "markdown",
   "metadata": {},
   "source": [
    "## Programming patterns"
   ]
  },
  {
   "cell_type": "markdown",
   "metadata": {},
   "source": [
    "Programmers draw from a set of patterns or templates when choosing an overall program plan. The same is true of the individual operations themselves.  Programmers have a catalog of common operations that they rely on when choosing the steps of a plan.\n",
    "\n",
    "You're no doubt familiar with operations such as:\n",
    "\n",
    "* *sum the numbers in a list*\n",
    "* *count the numbers in a list*.\n",
    "\n",
    "But we can abstract those further into:\n",
    "\n",
    "* *find all values in a list satisfying a condition*\n",
    "* *apply an operation to each element in the list*. \n",
    "* ...\n",
    "\n",
    "The more abstract the operation, the more widely applicable it is.  The kinds of operations we use depends partly on a programmer's style but is heavily influenced by the capabilities of the programming language and its libraries of pre-existing functionality."
   ]
  },
  {
   "cell_type": "markdown",
   "metadata": {},
   "source": [
    "## Data for exercises\n",
    "\n",
    "We will be doing several small exercises as we go through this material. Please cut and paste this Python code into the notebook you are using.\n",
    "\n",
    "Please try to do the exercises without looking at the solutions, which appear immediately below the exercise description."
   ]
  },
  {
   "cell_type": "code",
   "execution_count": 68,
   "metadata": {
    "collapsed": true
   },
   "outputs": [],
   "source": [
    "UnitPrice = [38.94, 208.16, 8.69, 195.99]\n",
    "Shipping = [35, 68.02, 2.99, 3.99, 5.94, 4.95, 7.72, 6.22]\n",
    "names=['Xue', 'Mary', 'Bob']\n",
    "Oscars = [\n",
    "    [1984, \"A Soldier's Story\", 0],\n",
    "    [1984, 'Places in the Heart', 0],\n",
    "    [1984, 'The Killing Fields', 0],\n",
    "    [1984, 'A Passage to India', 0],\n",
    "    [1984, 'Amadeus', 1],\n",
    "    [1985, \"Prizzi's Honor\", 0],\n",
    "    [1985, 'Kiss of the Spider Woman', 0],\n",
    "    [1985, 'Witness', 0],\n",
    "    [1985, 'The Color Purple', 0],\n",
    "    [1985, 'Out of Africa', 1]\n",
    "]\n",
    "Quantity = [6, 49, 27, 30, 19, 21, 12, 22, 21]\n",
    "A = [\n",
    "    [1, 3, 10],\n",
    "    [4, -9, 0],\n",
    "    [2, 5, 8]\n",
    "]\n",
    "B = [\n",
    "    [7, 4, 0],\n",
    "    [4, 3, 1],\n",
    "    [1, 6, 8]\n",
    "]\n",
    "first=['Xue', 'Mary', 'Robert']\n",
    "last=['Li', 'Smith', 'Dixon']"
   ]
  },
  {
   "cell_type": "markdown",
   "metadata": {},
   "source": [
    "## Accumulate"
   ]
  },
  {
   "cell_type": "markdown",
   "metadata": {},
   "source": [
    "Let's start with a very simple but extremely common pattern called  accumulate. The pattern traverses a sequence of elements and accumulates a value. For example, to sum the numbers in a sequence, we use the accumulator operation with the `+` operator. As we traverse the sequence, we update a running sum that's initialized to 0:\n",
    "\n",
    "<img src=\"images/accumulator.png\" width=\"290\">\n",
    "\n",
    "In Excel, this is like using `sum(...)` in a cell. In Python, the implementation of this pattern has an initialization step and a loop:"
   ]
  },
  {
   "cell_type": "code",
   "execution_count": 69,
   "metadata": {},
   "outputs": [
    {
     "name": "stdout",
     "output_type": "stream",
     "text": [
      "207\n"
     ]
    }
   ],
   "source": [
    "sum = 0\n",
    "for q in Quantity:\n",
    "    sum += q # same as: sum = sum + q\n",
    "print(sum)"
   ]
  },
  {
   "cell_type": "markdown",
   "metadata": {},
   "source": [
    "We can use any other arithmetic operator we want, such as `*`. In fact, we can use any function that takes two operands and returns a new value. For summing, the two \"input\" numbers of the function are the previous accumulated value and the next value in the sequence. The result of that function is the new accumulated value. `+` and `*` are the most common operators. \n",
    "\n",
    "You will also see this operation called *reduce*, as in *map*/*reduce* in the distributed computing world of Hadoop and Spark.\n",
    "\n",
    "A **counter** is a special case of an accumulator that counts the number of elements in a sequence. It also uses the `+` operator but the two \"input\" numbers are the previous accumulated value and a fixed 1 value, not the next element in the sequence.\n",
    "\n",
    "We can update multiple running accumulated values, not just one. For example, let's say we wanted to count the number of even and odd values in a sequence. We need two accumulator values, both starting at zero, but the operation is the same:\n",
    "\n",
    "<img src=\"images/accumulator-even-odd.png\" width=\"320\">\n",
    "\n",
    "The `+1` indicates an \"add one to accumulated value\" operation applied at each step but only if the current value is even or odd. In Python code, we'd do something like the following:"
   ]
  },
  {
   "cell_type": "code",
   "execution_count": 70,
   "metadata": {},
   "outputs": [
    {
     "name": "stdout",
     "output_type": "stream",
     "text": [
      "4 5\n"
     ]
    }
   ],
   "source": [
    "even = 0\n",
    "odd = 0\n",
    "for q in Quantity:\n",
    "    if q % 2 == 0: even += 1 # % is mod operator\n",
    "    else: odd += 1\n",
    "print(even, odd)"
   ]
  },
  {
   "cell_type": "markdown",
   "metadata": {},
   "source": [
    "## Map\n",
    "\n",
    "Perhaps the most common operation *maps* one sequence to another, applying an operator or function to each element. (It's like an accumulator that accumulates a list of stuff instead of a single value.) For example, using a spreadsheet to create a new column containing the unit price discounted by 5% starts like this in a spreadsheet:\n",
    "\n",
    "<img src=\"images/map-discount-op.png\" width=\"390\">\n",
    "\n",
    "We can represent both lists at time 0 using list literals:"
   ]
  },
  {
   "cell_type": "code",
   "execution_count": 71,
   "metadata": {
    "collapsed": true
   },
   "outputs": [],
   "source": [
    "UnitPrice = [38.94, 208.16, 8.69, 195.99]\n",
    "Discounted = [] # empty list"
   ]
  },
  {
   "cell_type": "markdown",
   "metadata": {},
   "source": [
    "In other words:\n",
    "\n",
    "<img src=\"images/price-time0.png\" width=\"400\">\n",
    "\n",
    "<ins>The translation process in our heads from high-level operation to pseudocode to code is a game of *word association*\".</ins> When your brain sees an operation that maps a column of data to another, think \"map\". When your brain hears \"map\" it should generate the appropriate pseudocode loop, filling in the pieces appropriately.  When your brain hears \"for each blah blah\", think \"oh, for-each loop\" and use the appropriate coding pattern:"
   ]
  },
  {
   "cell_type": "code",
   "execution_count": 72,
   "metadata": {
    "code_folding": [],
    "collapsed": false,
    "scrolled": true
   },
   "outputs": [
    {
     "name": "stdout",
     "output_type": "stream",
     "text": [
      "[36.992999999999995, 197.75199999999998, 8.2555, 186.1905]\n"
     ]
    }
   ],
   "source": [
    "Discounted = [] # empty list\n",
    "for price in UnitPrice:\n",
    "    Discounted.append(price * 0.95)\n",
    "print(Discounted)"
   ]
  },
  {
   "cell_type": "markdown",
   "metadata": {},
   "source": [
    "Notice that I have included the initialization of the empty list as part of this code snippet. The reason is that we really want to mentally associate the initialization with this code pattern.\n",
    "\n",
    "Even at the microlevel, think about mapping operations to code. For example, when I think about \"*add <ins>x</ins> to list <ins>y</ins>*\", my brain translates that to `y.append(x)`.\n",
    "\n",
    "This is such a common pattern that Python has an explicit construct to make things easier.  It's called a *list comprehension* and it's really just shorthand that looks more like mathematical set notation:"
   ]
  },
  {
   "cell_type": "code",
   "execution_count": 73,
   "metadata": {
    "collapsed": false,
    "solution": "hidden",
    "solution_first": true
   },
   "outputs": [
    {
     "name": "stdout",
     "output_type": "stream",
     "text": [
      "[36.992999999999995, 197.75199999999998, 8.2555, 186.1905]\n"
     ]
    }
   ],
   "source": [
    "Discounted = [price * 0.95 for price in UnitPrice] # a list comprehension\n",
    "print(Discounted)"
   ]
  },
  {
   "cell_type": "markdown",
   "metadata": {},
   "source": [
    "### Exercise\n",
    "\n",
    "Without looking at the code we just did, try to write the code out for a map operation using a list comprehension that divides the prices in half, again putting the values in `Discounted`. **Don't cut/paste. Type!**"
   ]
  },
  {
   "cell_type": "code",
   "execution_count": 74,
   "metadata": {
    "collapsed": false,
    "scrolled": true
   },
   "outputs": [
    {
     "name": "stdout",
     "output_type": "stream",
     "text": [
      "[19.47, 104.08, 4.345, 97.995]\n"
     ]
    }
   ],
   "source": [
    "Discounted = [price/2 for price in UnitPrice] # a list comprehension\n",
    "print(Discounted)"
   ]
  },
  {
   "cell_type": "markdown",
   "metadata": {},
   "source": [
    "### Exercise\n",
    "\n",
    "Given a list of names, `['Xue', 'Mary', 'Robert']`, give code to implement a map operation that converts the names to list `namelens` containing the length of the names. Hint: Function call `len('Xue')` returns 3. **Don't cut/paste. Type!**"
   ]
  },
  {
   "cell_type": "code",
   "execution_count": 75,
   "metadata": {
    "collapsed": false
   },
   "outputs": [
    {
     "name": "stdout",
     "output_type": "stream",
     "text": [
      "[3, 4, 6]\n"
     ]
    }
   ],
   "source": [
    "names = ['Xue', 'Mary', 'Robert']\n",
    "namelens = [len(name) for name in names]\n",
    "print(namelens)"
   ]
  },
  {
   "cell_type": "markdown",
   "metadata": {},
   "source": [
    "## Combine\n",
    "\n",
    "Let's look at the code pattern to traverse two lists at once placing the result in a third list. For example, to compute the cost of a sales transaction, we multiply the quantity times the unit price. In a spreadsheet, that looks like this:\n",
    "\n",
    "<img src=\"images/map-formula.png\" width=\"250\">\n",
    "\n",
    "Dragging that formula down the Cost column, applies the formula to the following rows, thus, filling the new column.\n",
    "\n",
    "Programmatically, what we're doing is multiplying the *ith* element from two different sequences and placing the result in the *ith* position of the output sequence:\n",
    "\n",
    "<img src=\"images/map-mult.png\" width=\"490\">\n",
    "\n",
    "At time zero, we have the following data available:"
   ]
  },
  {
   "cell_type": "code",
   "execution_count": 76,
   "metadata": {
    "collapsed": true
   },
   "outputs": [],
   "source": [
    "Quantity = [6, 49, 27, 30, 19, 21, 12, 22, 21]\n",
    "UnitPrice = [38.94, 208.16, 8.69, 195.99, 21.78, 6.64, 7.3, 42.76, 138.14]"
   ]
  },
  {
   "cell_type": "markdown",
   "metadata": {},
   "source": [
    "When traversing more than a single list, we typically need to use an indexed loop rather than a for-each loop:"
   ]
  },
  {
   "cell_type": "code",
   "execution_count": 77,
   "metadata": {
    "collapsed": false
   },
   "outputs": [
    {
     "name": "stdout",
     "output_type": "stream",
     "text": [
      "[233.64, 10199.84, 234.63, 5879.700000000001, 413.82000000000005, 139.44, 87.6, 940.7199999999999, 2900.9399999999996]\n"
     ]
    }
   ],
   "source": [
    "Cost = []\n",
    "for i in range(len(Quantity)): # from 0 to length of Quantity-1, inclusively\n",
    "    Cost.append( Quantity[i] * UnitPrice[i] )\n",
    "print(Cost)"
   ]
  },
  {
   "cell_type": "markdown",
   "metadata": {},
   "source": [
    "Or, better yet, use a list comprehension:"
   ]
  },
  {
   "cell_type": "code",
   "execution_count": 78,
   "metadata": {
    "collapsed": false
   },
   "outputs": [
    {
     "name": "stdout",
     "output_type": "stream",
     "text": [
      "[233.64, 10199.84, 234.63, 5879.700000000001, 413.82000000000005, 139.44, 87.6, 940.7199999999999, 2900.9399999999996]\n"
     ]
    }
   ],
   "source": [
    "Cost = [Quantity[i] * UnitPrice[i] for i in range(len(Quantity))]\n",
    "print(Cost)"
   ]
  },
  {
   "cell_type": "markdown",
   "metadata": {},
   "source": [
    "Note that you might be tempted to use a double `for`-each loop in a list comprehension, but you get the cross product of each value in quantity times each value in your price. That's not what we want, as you can see here:"
   ]
  },
  {
   "cell_type": "code",
   "execution_count": 79,
   "metadata": {
    "collapsed": false
   },
   "outputs": [
    {
     "name": "stdout",
     "output_type": "stream",
     "text": [
      "[233.64, 1248.96, 52.14, 1175.94, 130.68, 39.839999999999996, 43.8, 256.56, 828.8399999999999, 1908.06, 10199.84, 425.81, 9603.51, 1067.22, 325.35999999999996, 357.7, 2095.24, 6768.86, 1051.3799999999999, 5620.32, 234.63, 5291.7300000000005, 588.0600000000001, 179.28, 197.1, 1154.52, 3729.7799999999997, 1168.1999999999998, 6244.8, 260.7, 5879.700000000001, 653.4000000000001, 199.2, 219.0, 1282.8, 4144.2, 739.8599999999999, 3955.04, 165.10999999999999, 3723.8100000000004, 413.82000000000005, 126.16, 138.7, 812.4399999999999, 2624.66, 817.74, 4371.36, 182.48999999999998, 4115.79, 457.38, 139.44, 153.29999999999998, 897.9599999999999, 2900.9399999999996, 467.28, 2497.92, 104.28, 2351.88, 261.36, 79.67999999999999, 87.6, 513.12, 1657.6799999999998, 856.68, 4579.5199999999995, 191.17999999999998, 4311.780000000001, 479.16, 146.07999999999998, 160.6, 940.7199999999999, 3039.08, 817.74, 4371.36, 182.48999999999998, 4115.79, 457.38, 139.44, 153.29999999999998, 897.9599999999999, 2900.9399999999996]\n"
     ]
    }
   ],
   "source": [
    "print( [q*p for q in Quantity for p in UnitPrice] ) # WRONG!"
   ]
  },
  {
   "cell_type": "markdown",
   "metadata": {},
   "source": [
    "## Split\n",
    "\n",
    "The opposite of combining is splitting where we split a stream into two or more new streams. For example, I often have to split the full names in a list into their first and last names. In a spreadsheet, we make a blank column:\n",
    "\n",
    "<img src=\"images/split-names.png\" width=\"250\">\n",
    "\n",
    "and then split on the space character (In Excel, you use `Data` > `Text to Columns`) to get two new columns:\n",
    "\n",
    "<img src=\"images/split-names-after.png\" width=\"160\">\n",
    "\n",
    "We could \"undo\" this split using a *combine* operation with the string concatenation operator, which would combine first and last names together into a new stream containing full names again.\n",
    "\n",
    "Another common use of splitting is to take a string representing a string of numbers and split it into a list with those numbers:"
   ]
  },
  {
   "cell_type": "code",
   "execution_count": 80,
   "metadata": {},
   "outputs": [
    {
     "data": {
      "text/plain": [
       "['1', '2', '3']"
      ]
     },
     "execution_count": 80,
     "metadata": {},
     "output_type": "execute_result"
    }
   ],
   "source": [
    "'1 2 3'.split(' ')"
   ]
  },
  {
   "cell_type": "code",
   "execution_count": 81,
   "metadata": {},
   "outputs": [
    {
     "data": {
      "text/plain": [
       "[1, 2, 3]"
      ]
     },
     "execution_count": 81,
     "metadata": {},
     "output_type": "execute_result"
    }
   ],
   "source": [
    "values = '1 2 3'.split(' ')\n",
    "[int(v) for v in values]"
   ]
  },
  {
   "cell_type": "markdown",
   "metadata": {},
   "source": [
    "We can even traverse a list to get a matrix (list of lists)"
   ]
  },
  {
   "cell_type": "code",
   "execution_count": 82,
   "metadata": {
    "collapsed": false,
    "scrolled": false
   },
   "outputs": [
    {
     "data": {
      "text/plain": [
       "[[1, 2, 3], [3, 4, 5]]"
      ]
     },
     "execution_count": 82,
     "metadata": {},
     "output_type": "execute_result"
    }
   ],
   "source": [
    "rows = [\n",
    "    '1 2 3',\n",
    "    '3 4 5'\n",
    "]\n",
    "matrix = [[int(v) for v in row.split(' ')] for row in rows]\n",
    "matrix"
   ]
  },
  {
   "cell_type": "code",
   "execution_count": 83,
   "metadata": {
    "collapsed": false,
    "scrolled": false
   },
   "outputs": [
    {
     "data": {
      "image/svg+xml": [
       "<?xml version=\"1.0\" encoding=\"UTF-8\" standalone=\"no\"?>\n",
       "<!DOCTYPE svg PUBLIC \"-//W3C//DTD SVG 1.1//EN\"\n",
       " \"http://www.w3.org/Graphics/SVG/1.1/DTD/svg11.dtd\">\n",
       "<!-- Generated by graphviz version 2.40.1 (20161225.0304)\n",
       " -->\n",
       "<!-- Title: G Pages: 1 -->\n",
       "<svg width=\"79pt\" height=\"75pt\"\n",
       " viewBox=\"0.00 0.00 79.00 75.00\" xmlns=\"http://www.w3.org/2000/svg\" xmlns:xlink=\"http://www.w3.org/1999/xlink\">\n",
       "<g id=\"graph0\" class=\"graph\" transform=\"scale(1 1) rotate(0) translate(4 71)\">\n",
       "<title>G</title>\n",
       "<polygon fill=\"#ffffff\" stroke=\"transparent\" points=\"-4,4 -4,-71 75,-71 75,4 -4,4\"/>\n",
       "<!-- node4419870664 -->\n",
       "<g id=\"node1\" class=\"node\">\n",
       "<title>node4419870664</title>\n",
       "<polygon fill=\"#cfe2d4\" stroke=\"#444443\" stroke-width=\".5\" points=\"13,-49 0,-49 0,-17 13,-17 13,-49\"/>\n",
       "<polygon fill=\"#cfe2d4\" stroke=\"transparent\" points=\"1.5,-33 1.5,-48 12.5,-48 12.5,-33 1.5,-33\"/>\n",
       "<polyline fill=\"none\" stroke=\"#444443\" points=\"1.5,-33 12.5,-33 \"/>\n",
       "<text text-anchor=\"start\" x=\"4.4973\" y=\"-37.8\" font-family=\"Helvetica,sans-Serif\" font-size=\"9.00\" fill=\"#444443\">0</text>\n",
       "<polygon fill=\"#cfe2d4\" stroke=\"transparent\" points=\"1.5,-18 1.5,-33 12.5,-33 12.5,-18 1.5,-18\"/>\n",
       "<text text-anchor=\"start\" x=\"4.4973\" y=\"-22.8\" font-family=\"Helvetica,sans-Serif\" font-size=\"9.00\" fill=\"#444443\">1</text>\n",
       "</g>\n",
       "<!-- node4420573960 -->\n",
       "<g id=\"node2\" class=\"node\">\n",
       "<title>node4420573960</title>\n",
       "<polygon fill=\"none\" stroke=\"#000000\" stroke-width=\".5\" points=\"71,-67 35,-67 35,-37 71,-37 71,-67\"/>\n",
       "<polygon fill=\"#fefecd\" stroke=\"transparent\" points=\"36,-55 36,-66 48,-66 48,-55 36,-55\"/>\n",
       "<polyline fill=\"none\" stroke=\"#000000\" points=\"36,-55 48,-55 48,-66 \"/>\n",
       "<text text-anchor=\"start\" x=\"39.4973\" y=\"-57.8\" font-family=\"Helvetica,sans-Serif\" font-size=\"9.00\" fill=\"#444443\">0</text>\n",
       "<polygon fill=\"#fefecd\" stroke=\"transparent\" points=\"48,-55 48,-66 60,-66 60,-55 48,-55\"/>\n",
       "<polyline fill=\"none\" stroke=\"#000000\" points=\"48,-55 60,-55 60,-66 \"/>\n",
       "<text text-anchor=\"start\" x=\"51.4973\" y=\"-57.8\" font-family=\"Helvetica,sans-Serif\" font-size=\"9.00\" fill=\"#444443\">1</text>\n",
       "<polygon fill=\"#fefecd\" stroke=\"transparent\" points=\"60,-55 60,-66 70,-66 70,-55 60,-55\"/>\n",
       "<polyline fill=\"none\" stroke=\"#000000\" points=\"60,-55 70,-55 \"/>\n",
       "<text text-anchor=\"start\" x=\"62.4973\" y=\"-57.8\" font-family=\"Helvetica,sans-Serif\" font-size=\"9.00\" fill=\"#444443\">2</text>\n",
       "<polygon fill=\"#fefecd\" stroke=\"transparent\" points=\"36,-38 36,-55 48,-55 48,-38 36,-38\"/>\n",
       "<polyline fill=\"none\" stroke=\"#000000\" points=\"48,-38 48,-55 \"/>\n",
       "<text text-anchor=\"start\" x=\"38.9412\" y=\"-43.2\" font-family=\"Helvetica,sans-Serif\" font-size=\"11.00\" fill=\"#444443\">1</text>\n",
       "<polygon fill=\"#fefecd\" stroke=\"transparent\" points=\"48,-38 48,-55 60,-55 60,-38 48,-38\"/>\n",
       "<polyline fill=\"none\" stroke=\"#000000\" points=\"60,-38 60,-55 \"/>\n",
       "<text text-anchor=\"start\" x=\"50.9412\" y=\"-43.2\" font-family=\"Helvetica,sans-Serif\" font-size=\"11.00\" fill=\"#444443\">2</text>\n",
       "<polygon fill=\"#fefecd\" stroke=\"transparent\" points=\"60,-38 60,-55 70,-55 70,-38 60,-38\"/>\n",
       "<text text-anchor=\"start\" x=\"61.9412\" y=\"-43.2\" font-family=\"Helvetica,sans-Serif\" font-size=\"11.00\" fill=\"#444443\">3</text>\n",
       "</g>\n",
       "<!-- node4419870664&#45;&gt;node4420573960 -->\n",
       "<g id=\"edge1\" class=\"edge\">\n",
       "<title>node4419870664:0&#45;&gt;node4420573960:w</title>\n",
       "<path fill=\"none\" stroke=\"#444443\" stroke-width=\".5\" d=\"M12.5,-41C22.0658,-41 23.5866,-49.1238 30.8897,-51.4086\"/>\n",
       "<polygon fill=\"#444443\" stroke=\"#444443\" stroke-width=\".5\" points=\"30.8414,-52.816 35,-52 31.2402,-50.0445 30.8414,-52.816\"/>\n",
       "</g>\n",
       "<!-- node4420142664 -->\n",
       "<g id=\"node3\" class=\"node\">\n",
       "<title>node4420142664</title>\n",
       "<polygon fill=\"none\" stroke=\"#000000\" stroke-width=\".5\" points=\"71,-30 35,-30 35,0 71,0 71,-30\"/>\n",
       "<polygon fill=\"#fefecd\" stroke=\"transparent\" points=\"36,-18 36,-29 48,-29 48,-18 36,-18\"/>\n",
       "<polyline fill=\"none\" stroke=\"#000000\" points=\"36,-18 48,-18 48,-29 \"/>\n",
       "<text text-anchor=\"start\" x=\"39.4973\" y=\"-20.8\" font-family=\"Helvetica,sans-Serif\" font-size=\"9.00\" fill=\"#444443\">0</text>\n",
       "<polygon fill=\"#fefecd\" stroke=\"transparent\" points=\"48,-18 48,-29 60,-29 60,-18 48,-18\"/>\n",
       "<polyline fill=\"none\" stroke=\"#000000\" points=\"48,-18 60,-18 60,-29 \"/>\n",
       "<text text-anchor=\"start\" x=\"51.4973\" y=\"-20.8\" font-family=\"Helvetica,sans-Serif\" font-size=\"9.00\" fill=\"#444443\">1</text>\n",
       "<polygon fill=\"#fefecd\" stroke=\"transparent\" points=\"60,-18 60,-29 70,-29 70,-18 60,-18\"/>\n",
       "<polyline fill=\"none\" stroke=\"#000000\" points=\"60,-18 70,-18 \"/>\n",
       "<text text-anchor=\"start\" x=\"62.4973\" y=\"-20.8\" font-family=\"Helvetica,sans-Serif\" font-size=\"9.00\" fill=\"#444443\">2</text>\n",
       "<polygon fill=\"#fefecd\" stroke=\"transparent\" points=\"36,-1 36,-18 48,-18 48,-1 36,-1\"/>\n",
       "<polyline fill=\"none\" stroke=\"#000000\" points=\"48,-1 48,-18 \"/>\n",
       "<text text-anchor=\"start\" x=\"38.9412\" y=\"-6.2\" font-family=\"Helvetica,sans-Serif\" font-size=\"11.00\" fill=\"#444443\">3</text>\n",
       "<polygon fill=\"#fefecd\" stroke=\"transparent\" points=\"48,-1 48,-18 60,-18 60,-1 48,-1\"/>\n",
       "<polyline fill=\"none\" stroke=\"#000000\" points=\"60,-1 60,-18 \"/>\n",
       "<text text-anchor=\"start\" x=\"50.9412\" y=\"-6.2\" font-family=\"Helvetica,sans-Serif\" font-size=\"11.00\" fill=\"#444443\">4</text>\n",
       "<polygon fill=\"#fefecd\" stroke=\"transparent\" points=\"60,-1 60,-18 70,-18 70,-1 60,-1\"/>\n",
       "<text text-anchor=\"start\" x=\"61.9412\" y=\"-6.2\" font-family=\"Helvetica,sans-Serif\" font-size=\"11.00\" fill=\"#444443\">5</text>\n",
       "</g>\n",
       "<!-- node4419870664&#45;&gt;node4420142664 -->\n",
       "<g id=\"edge2\" class=\"edge\">\n",
       "<title>node4419870664:1&#45;&gt;node4420142664:w</title>\n",
       "<path fill=\"none\" stroke=\"#444443\" stroke-width=\".5\" d=\"M12.5,-25C21.9043,-25 23.68,-17.6147 30.9387,-15.5376\"/>\n",
       "<polygon fill=\"#444443\" stroke=\"#444443\" stroke-width=\".5\" points=\"31.2184,-16.9129 35,-15 30.8508,-14.1371 31.2184,-16.9129\"/>\n",
       "</g>\n",
       "</g>\n",
       "</svg>\n"
      ],
      "text/plain": [
       "<graphviz.files.Source at 0x107744588>"
      ]
     },
     "execution_count": 83,
     "metadata": {},
     "output_type": "execute_result"
    }
   ],
   "source": [
    "from lolviz import *\n",
    "objviz(matrix)"
   ]
  },
  {
   "cell_type": "markdown",
   "metadata": {},
   "source": [
    "## Slice"
   ]
  },
  {
   "cell_type": "markdown",
   "metadata": {},
   "source": [
    "Most of the operations we've examined so far yield lists or sequences that have the same size as the input sequence, but there are many operations that yield subsets of the data. The first such operation is slice, which extracts a subset of a list. (Again, here I explicitly use the term list to indicate that slicing generally occurs on a data structure that fits in memory.)\n",
    "\n",
    "The slice operation is a function of two values, a start and end position within a list."
   ]
  },
  {
   "cell_type": "code",
   "execution_count": 84,
   "metadata": {},
   "outputs": [
    {
     "name": "stdout",
     "output_type": "stream",
     "text": [
      "Length 3\n",
      "['Xue']\n",
      "['Xue', 'Mary']\n",
      "['Xue', 'Mary', 'Bob']\n",
      "['Bob']\n"
     ]
    }
   ],
   "source": [
    "names=['Xue', 'Mary', 'Bob']\n",
    "print(f\"Length {len(names)}\")\n",
    "print(names[0:1])\n",
    "print(names[0:2])\n",
    "print(names[0:3])\n",
    "print(names[2:3])"
   ]
  },
  {
   "cell_type": "markdown",
   "metadata": {},
   "source": [
    "**Warning**: Most languages and libraries assume the ending slice position is exclusive, which would mean slicing from the first position to the 6th position, in this case. To make matters more complicated, Python but not R, starts counting at 0 not 1. It's hard to switch back and forth between Python and R in this respect, so it's good to highlight here so you keep it in mind."
   ]
  },
  {
   "cell_type": "markdown",
   "metadata": {},
   "source": [
    "## Filter\n",
    "\n",
    "The most general operation used to extract data from a list or  sequence is called *filter*. For example, using Excel's filter mechanism, we can filter a Shipping column for those values less than $10:\n",
    "\n",
    "<img src=\"images/filter-shipping.png\" width=\"170\">\n",
    "\n",
    "The filter operation is similar to the map operation in that a computation is applied to each element of the input stream. Map applies a function to each element of a sequence and creates a new sequence of the same size. Filter tests each element for a specific condition and, if true, adds that element to the new sequence.\n",
    "\n",
    "<img src=\"images/filter-apply.png\" width=\"590\">\n",
    "\n",
    "A filter operation is just a map that conditionally adds elements to the target list:"
   ]
  },
  {
   "cell_type": "code",
   "execution_count": 85,
   "metadata": {
    "collapsed": false,
    "scrolled": true
   },
   "outputs": [
    {
     "name": "stdout",
     "output_type": "stream",
     "text": [
      "[2.99, 3.99, 5.94, 4.95, 7.72, 6.22]\n"
     ]
    }
   ],
   "source": [
    "Shipping = [35, 68.02, 2.99, 3.99, 5.94, 4.95, 7.72, 6.22]\n",
    "Shipping2 = []\n",
    "for x in Shipping:\n",
    "    if x < 10:\n",
    "        Shipping2.append(x)\n",
    "print(Shipping2)"
   ]
  },
  {
   "cell_type": "markdown",
   "metadata": {},
   "source": [
    "But, we should use instead a variation on the list comprehension seen in the pattern we have for the map operation:"
   ]
  },
  {
   "cell_type": "code",
   "execution_count": 86,
   "metadata": {
    "collapsed": false
   },
   "outputs": [
    {
     "name": "stdout",
     "output_type": "stream",
     "text": [
      "[2.99, 3.99, 5.94, 4.95, 7.72, 6.22]\n"
     ]
    }
   ],
   "source": [
    "Shipping2 = [x for x in Shipping if x < 10]\n",
    "print(Shipping2)"
   ]
  },
  {
   "cell_type": "markdown",
   "metadata": {},
   "source": [
    "We can also filter on one column but keep the data within each row together. Here is an example, using Excel, that filters Oscar winners from the list of nominees (the condition is *winner equals 1*):\n",
    "\n",
    "<img src=\"images/filter-winners.png\" width=\"590\">"
   ]
  },
  {
   "cell_type": "code",
   "execution_count": 87,
   "metadata": {
    "code_folding": [],
    "collapsed": true
   },
   "outputs": [],
   "source": [
    "Oscars = [\n",
    "    [1984, \"A Soldier's Story\", 0],\n",
    "    [1984, 'Places in the Heart', 0],\n",
    "    [1984, 'The Killing Fields', 0],\n",
    "    [1984, 'A Passage to India', 0],\n",
    "    [1984, 'Amadeus', 1],\n",
    "    [1985, \"Prizzi's Honor\", 0],\n",
    "    [1985, 'Kiss of the Spider Woman', 0],\n",
    "    [1985, 'Witness', 0],\n",
    "    [1985, 'The Color Purple', 0],\n",
    "    [1985, 'Out of Africa', 1]\n",
    "]"
   ]
  },
  {
   "cell_type": "markdown",
   "metadata": {},
   "source": [
    "The code for the looping construct looks like (jumping straight to the list comprehension form):\n"
   ]
  },
  {
   "cell_type": "code",
   "execution_count": 88,
   "metadata": {
    "collapsed": false,
    "scrolled": true
   },
   "outputs": [
    {
     "name": "stdout",
     "output_type": "stream",
     "text": [
      "[[1984, 'Amadeus', 1], [1985, 'Out of Africa', 1]]\n"
     ]
    },
    {
     "data": {
      "image/svg+xml": [
       "<?xml version=\"1.0\" encoding=\"UTF-8\" standalone=\"no\"?>\n",
       "<!DOCTYPE svg PUBLIC \"-//W3C//DTD SVG 1.1//EN\"\n",
       " \"http://www.w3.org/Graphics/SVG/1.1/DTD/svg11.dtd\">\n",
       "<!-- Generated by graphviz version 2.40.1 (20161225.0304)\n",
       " -->\n",
       "<!-- Title: G Pages: 1 -->\n",
       "<svg width=\"155pt\" height=\"75pt\"\n",
       " viewBox=\"0.00 0.00 155.00 75.00\" xmlns=\"http://www.w3.org/2000/svg\" xmlns:xlink=\"http://www.w3.org/1999/xlink\">\n",
       "<g id=\"graph0\" class=\"graph\" transform=\"scale(1 1) rotate(0) translate(4 71)\">\n",
       "<title>G</title>\n",
       "<polygon fill=\"#ffffff\" stroke=\"transparent\" points=\"-4,4 -4,-71 151,-71 151,4 -4,4\"/>\n",
       "<!-- node4420575176 -->\n",
       "<g id=\"node1\" class=\"node\">\n",
       "<title>node4420575176</title>\n",
       "<polygon fill=\"#cfe2d4\" stroke=\"#444443\" stroke-width=\".5\" points=\"13,-49 0,-49 0,-17 13,-17 13,-49\"/>\n",
       "<polygon fill=\"#cfe2d4\" stroke=\"transparent\" points=\"1.5,-33 1.5,-48 12.5,-48 12.5,-33 1.5,-33\"/>\n",
       "<polyline fill=\"none\" stroke=\"#444443\" points=\"1.5,-33 12.5,-33 \"/>\n",
       "<text text-anchor=\"start\" x=\"4.4973\" y=\"-37.8\" font-family=\"Helvetica,sans-Serif\" font-size=\"9.00\" fill=\"#444443\">0</text>\n",
       "<polygon fill=\"#cfe2d4\" stroke=\"transparent\" points=\"1.5,-18 1.5,-33 12.5,-33 12.5,-18 1.5,-18\"/>\n",
       "<text text-anchor=\"start\" x=\"4.4973\" y=\"-22.8\" font-family=\"Helvetica,sans-Serif\" font-size=\"9.00\" fill=\"#444443\">1</text>\n",
       "</g>\n",
       "<!-- node4420303432 -->\n",
       "<g id=\"node2\" class=\"node\">\n",
       "<title>node4420303432</title>\n",
       "<polygon fill=\"none\" stroke=\"#000000\" stroke-width=\".5\" points=\"140,-67 42,-67 42,-37 140,-37 140,-67\"/>\n",
       "<polygon fill=\"#fefecd\" stroke=\"transparent\" points=\"43,-55 43,-66 73,-66 73,-55 43,-55\"/>\n",
       "<polyline fill=\"none\" stroke=\"#000000\" points=\"43,-55 73,-55 73,-66 \"/>\n",
       "<text text-anchor=\"start\" x=\"55.4973\" y=\"-57.8\" font-family=\"Helvetica,sans-Serif\" font-size=\"9.00\" fill=\"#444443\">0</text>\n",
       "<polygon fill=\"#fefecd\" stroke=\"transparent\" points=\"73,-55 73,-66 129,-66 129,-55 73,-55\"/>\n",
       "<polyline fill=\"none\" stroke=\"#000000\" points=\"73,-55 129,-55 129,-66 \"/>\n",
       "<text text-anchor=\"start\" x=\"98.4973\" y=\"-57.8\" font-family=\"Helvetica,sans-Serif\" font-size=\"9.00\" fill=\"#444443\">1</text>\n",
       "<polygon fill=\"#fefecd\" stroke=\"transparent\" points=\"129,-55 129,-66 139,-66 139,-55 129,-55\"/>\n",
       "<polyline fill=\"none\" stroke=\"#000000\" points=\"129,-55 139,-55 \"/>\n",
       "<text text-anchor=\"start\" x=\"131.4973\" y=\"-57.8\" font-family=\"Helvetica,sans-Serif\" font-size=\"9.00\" fill=\"#444443\">2</text>\n",
       "<polygon fill=\"#fefecd\" stroke=\"transparent\" points=\"43,-38 43,-55 73,-55 73,-38 43,-38\"/>\n",
       "<polyline fill=\"none\" stroke=\"#000000\" points=\"73,-38 73,-55 \"/>\n",
       "<text text-anchor=\"start\" x=\"45.7646\" y=\"-43.2\" font-family=\"Helvetica,sans-Serif\" font-size=\"11.00\" fill=\"#444443\">1984</text>\n",
       "<polygon fill=\"#fefecd\" stroke=\"transparent\" points=\"73,-38 73,-55 129,-55 129,-38 73,-38\"/>\n",
       "<polyline fill=\"none\" stroke=\"#000000\" points=\"129,-38 129,-55 \"/>\n",
       "<text text-anchor=\"start\" x=\"75.6646\" y=\"-43.2\" font-family=\"Helvetica,sans-Serif\" font-size=\"11.00\" fill=\"#444443\">&#39;Amadeus&#39;</text>\n",
       "<polygon fill=\"#fefecd\" stroke=\"transparent\" points=\"129,-38 129,-55 139,-55 139,-38 129,-38\"/>\n",
       "<text text-anchor=\"start\" x=\"130.9412\" y=\"-43.2\" font-family=\"Helvetica,sans-Serif\" font-size=\"11.00\" fill=\"#444443\">1</text>\n",
       "</g>\n",
       "<!-- node4420575176&#45;&gt;node4420303432 -->\n",
       "<g id=\"edge1\" class=\"edge\">\n",
       "<title>node4420575176:0&#45;&gt;node4420303432:w</title>\n",
       "<path fill=\"none\" stroke=\"#444443\" stroke-width=\".5\" d=\"M12.5,-41C24.9625,-41 27.5266,-49.7253 37.8238,-51.634\"/>\n",
       "<polygon fill=\"#444443\" stroke=\"#444443\" stroke-width=\".5\" points=\"37.893,-53.0454 42,-52 38.1375,-50.2561 37.893,-53.0454\"/>\n",
       "</g>\n",
       "<!-- node4420062984 -->\n",
       "<g id=\"node3\" class=\"node\">\n",
       "<title>node4420062984</title>\n",
       "<polygon fill=\"none\" stroke=\"#000000\" stroke-width=\".5\" points=\"147,-30 35,-30 35,0 147,0 147,-30\"/>\n",
       "<polygon fill=\"#fefecd\" stroke=\"transparent\" points=\"36,-18 36,-29 66,-29 66,-18 36,-18\"/>\n",
       "<polyline fill=\"none\" stroke=\"#000000\" points=\"36,-18 66,-18 66,-29 \"/>\n",
       "<text text-anchor=\"start\" x=\"48.4973\" y=\"-20.8\" font-family=\"Helvetica,sans-Serif\" font-size=\"9.00\" fill=\"#444443\">0</text>\n",
       "<polygon fill=\"#fefecd\" stroke=\"transparent\" points=\"66,-18 66,-29 136,-29 136,-18 66,-18\"/>\n",
       "<polyline fill=\"none\" stroke=\"#000000\" points=\"66,-18 136,-18 136,-29 \"/>\n",
       "<text text-anchor=\"start\" x=\"98.4973\" y=\"-20.8\" font-family=\"Helvetica,sans-Serif\" font-size=\"9.00\" fill=\"#444443\">1</text>\n",
       "<polygon fill=\"#fefecd\" stroke=\"transparent\" points=\"136,-18 136,-29 146,-29 146,-18 136,-18\"/>\n",
       "<polyline fill=\"none\" stroke=\"#000000\" points=\"136,-18 146,-18 \"/>\n",
       "<text text-anchor=\"start\" x=\"138.4973\" y=\"-20.8\" font-family=\"Helvetica,sans-Serif\" font-size=\"9.00\" fill=\"#444443\">2</text>\n",
       "<polygon fill=\"#fefecd\" stroke=\"transparent\" points=\"36,-1 36,-18 66,-18 66,-1 36,-1\"/>\n",
       "<polyline fill=\"none\" stroke=\"#000000\" points=\"66,-1 66,-18 \"/>\n",
       "<text text-anchor=\"start\" x=\"38.7646\" y=\"-6.2\" font-family=\"Helvetica,sans-Serif\" font-size=\"11.00\" fill=\"#444443\">1985</text>\n",
       "<polygon fill=\"#fefecd\" stroke=\"transparent\" points=\"66,-1 66,-18 136,-18 136,-1 66,-1\"/>\n",
       "<polyline fill=\"none\" stroke=\"#000000\" points=\"136,-1 136,-18 \"/>\n",
       "<text text-anchor=\"start\" x=\"68.6338\" y=\"-6.2\" font-family=\"Helvetica,sans-Serif\" font-size=\"11.00\" fill=\"#444443\">&#39;Out of Africa&#39;</text>\n",
       "<polygon fill=\"#fefecd\" stroke=\"transparent\" points=\"136,-1 136,-18 146,-18 146,-1 136,-1\"/>\n",
       "<text text-anchor=\"start\" x=\"137.9412\" y=\"-6.2\" font-family=\"Helvetica,sans-Serif\" font-size=\"11.00\" fill=\"#444443\">1</text>\n",
       "</g>\n",
       "<!-- node4420575176&#45;&gt;node4420062984 -->\n",
       "<g id=\"edge2\" class=\"edge\">\n",
       "<title>node4420575176:1&#45;&gt;node4420062984:w</title>\n",
       "<path fill=\"none\" stroke=\"#444443\" stroke-width=\".5\" d=\"M12.5,-25C21.9043,-25 23.68,-17.6147 30.9387,-15.5376\"/>\n",
       "<polygon fill=\"#444443\" stroke=\"#444443\" stroke-width=\".5\" points=\"31.2184,-16.9129 35,-15 30.8508,-14.1371 31.2184,-16.9129\"/>\n",
       "</g>\n",
       "</g>\n",
       "</svg>\n"
      ],
      "text/plain": [
       "<graphviz.files.Source at 0x1077446d8>"
      ]
     },
     "execution_count": 88,
     "metadata": {},
     "output_type": "execute_result"
    }
   ],
   "source": [
    "Oscars2 = [movie for movie in Oscars if movie[2]==1]\n",
    "print(Oscars2)\n",
    "objviz(Oscars2)"
   ]
  },
  {
   "cell_type": "markdown",
   "metadata": {},
   "source": [
    "The output is a list of lists, a filtered table of rows one per movie.\n",
    "\n",
    "Notice how we test one column value from the row, `movie[2]`, but add the entire row to the new table. If we just added the \"winner\" column value to the new list, we would end up with a list of ones: 1, 1, 1, ..., 1."
   ]
  },
  {
   "cell_type": "markdown",
   "metadata": {},
   "source": [
    "### Exercise\n",
    "\n",
    "Filter the `Oscars` list into `Oscars2` for all movies with 3-word titles. To break a string into a list of words, use `title.split(' ')`. If the length, `len()`, of that list is 3, then copy the entire row to `Oscars2`."
   ]
  },
  {
   "cell_type": "code",
   "execution_count": 89,
   "metadata": {
    "collapsed": false
   },
   "outputs": [
    {
     "name": "stdout",
     "output_type": "stream",
     "text": [
      "[[1984, \"A Soldier's Story\", 0], [1984, 'The Killing Fields', 0], [1985, 'The Color Purple', 0], [1985, 'Out of Africa', 1]]\n"
     ]
    }
   ],
   "source": [
    "Oscars2 = [movie for movie in Oscars if len(movie[1].split(' '))==3]\n",
    "print(Oscars2)"
   ]
  },
  {
   "cell_type": "markdown",
   "metadata": {},
   "source": [
    "### Exercise\n",
    "\n",
    "Rather than just referencing an iterate value, `x`, we can also use expressions in list comprehensions. Use the filtering variation of a list comprehension to double the shipping cost in `Shipping` if less than 10 dollars. Put the result in list `Shipping2`."
   ]
  },
  {
   "cell_type": "code",
   "execution_count": 90,
   "metadata": {
    "collapsed": false
   },
   "outputs": [
    {
     "name": "stdout",
     "output_type": "stream",
     "text": [
      "[5.98, 7.98, 11.88, 9.9, 15.44, 12.44]\n"
     ]
    }
   ],
   "source": [
    "Shipping2 = [x*2 for x in Shipping if x < 10]\n",
    "print(Shipping2)"
   ]
  },
  {
   "cell_type": "markdown",
   "metadata": {},
   "source": [
    "### Exercise\n",
    "\n",
    "Given a list of `names=['Xue', 'Mary', 'Bob']`, filter the list into `names2` for those names starting with `X`. Recall that `name[i]` yields the ith character in `name`."
   ]
  },
  {
   "cell_type": "code",
   "execution_count": 91,
   "metadata": {
    "collapsed": false
   },
   "outputs": [
    {
     "name": "stdout",
     "output_type": "stream",
     "text": [
      "['Xue']\n"
     ]
    }
   ],
   "source": [
    "names=['Xue', 'Mary', 'Bob']\n",
    "names2 = [name for name in names if name[0]=='X']\n",
    "print(names2)"
   ]
  },
  {
   "cell_type": "markdown",
   "metadata": {},
   "source": [
    "## Search\n",
    "\n",
    "The filter operation finds all elements in a sequence that satisfy a specific condition, but often we'd like to know which element satisfies the condition first (or last). (Or, we often just need to know if a particular element is present.) This brings us to the *search* operation. At its most general, search returns the first (or last) position in the sequence rather than the value at that position. If we have the position, often called the *index*, we can always ask the sequence for the value at that position. If the element is not found, the search returns invalid index -1. \n",
    "\n",
    "Searching is, in some sense, a variation on filtering. The difference is what we do when we find an element for which the condition is true. Instead of adding that element to the target list, a search bails out of the loop."
   ]
  },
  {
   "cell_type": "code",
   "execution_count": 92,
   "metadata": {
    "collapsed": false
   },
   "outputs": [
    {
     "name": "stdout",
     "output_type": "stream",
     "text": [
      "1\n"
     ]
    }
   ],
   "source": [
    "first=['Xue', 'Mary', 'Robert']     # our given input\n",
    "target = 'Mary'                     # searching for Mary\n",
    "index = -1\n",
    "for i in range(len(first)):         # i is in range [0..n-1] or [0..n)\n",
    "    if first[i]=='Mary':\n",
    "        index = i\n",
    "        break\n",
    "print(index)"
   ]
  },
  {
   "cell_type": "markdown",
   "metadata": {},
   "source": [
    "The `break` statement breaks out of the immediately-enclosing loop, regardless of the type of loop.\n",
    "\n",
    "The search operation can even be used within a string (list of characters) to find the position of a character of interest. For example, to slice up a full name into first and last names, we can combine a search for the space character with two slice operations. Given full name `Xue Li`, a search for the space character returns the fourth position or index 3. To extract the first name, we slice from index 0 to index 3, exclusively on the right. To get the last name, we slice from index 4 to 6, exclusively on the right. \n",
    "\n",
    "<img src=\"images/split-string.png\" width=\"190\">\n",
    "\n",
    "Here's what that looks like a python:"
   ]
  },
  {
   "cell_type": "code",
   "execution_count": 93,
   "metadata": {},
   "outputs": [
    {
     "name": "stdout",
     "output_type": "stream",
     "text": [
      "Index of space is 3\n",
      "First: Xue\n",
      "Last: Li\n"
     ]
    }
   ],
   "source": [
    "name = 'Xue Li'\n",
    "\n",
    "# SEARCH\n",
    "index = -1\n",
    "for i in range(len(name)):\n",
    "    if name[i]==' ':\n",
    "        index = i\n",
    "        break\n",
    "print(f\"Index of space is {index}\")\n",
    "\n",
    "# SLICE\n",
    "print(f\"First: {name[0:index]}\")\n",
    "print(f\"Last: {name[index+1:]}\") # or name[index+1:len(name)]"
   ]
  },
  {
   "cell_type": "markdown",
   "metadata": {},
   "source": [
    "To determine the index of the end of the string, programmers tend to use the length of the string. The length works out to be an index whose value is one past the end of the string, which is what we want for a slice using an exclusive right index."
   ]
  },
  {
   "cell_type": "markdown",
   "metadata": {},
   "source": [
    "## Nested loops\n",
    "\n",
    "We sometimes need to repeat repeated instructions, which we call a *nested loop*. In the analytics world, nested loops are hugely important because we use them to process matrices, images, and tables of data."
   ]
  },
  {
   "cell_type": "markdown",
   "metadata": {},
   "source": [
    "### Processing matrices\n",
    "\n",
    "Recall that, while we humans can look at the entire matrix at once, a computer examines each element one-by-one. Take a look at this 3x3 matrix:\n",
    "\n",
    "<img src=\"images/matrixA.png\" width=\"100\">\n",
    "\n",
    "which we can represent in python using a list of list:"
   ]
  },
  {
   "cell_type": "code",
   "execution_count": 94,
   "metadata": {
    "collapsed": false
   },
   "outputs": [],
   "source": [
    "A = [\n",
    "    [1, 3, 10],\n",
    "    [4, -9, 0],\n",
    "    [2, 5, 8]\n",
    "]"
   ]
  },
  {
   "cell_type": "markdown",
   "metadata": {},
   "source": [
    "Because this is not a one-dimensional data structure, we can't use a simple \"for each element in the matrix\" loop to examine each element. The most common pattern for iterating through all elements of an *nrows* x *ncols* matrix looks like this:\n",
    "\n",
    "*for i in 0..nrows-1:*<br>\n",
    "&nbsp;&nbsp;&nbsp;&nbsp;*for j in 0..ncols-1:*<br>\n",
    "&nbsp;&nbsp;&nbsp;&nbsp;&nbsp;&nbsp;&nbsp;&nbsp;*do something with matrix[i,j]*\n",
    "\n",
    "where *matrix[i,j]* accesses the element at row *i* and column *j*.  Such a nested loop gives all possible combinations of *i* and *j*, which is what we want when operating on a matrix. Consider the following translation of that template to Python that prints out all of the two-dimensional indices:"
   ]
  },
  {
   "cell_type": "code",
   "execution_count": 95,
   "metadata": {
    "collapsed": false
   },
   "outputs": [
    {
     "name": "stdout",
     "output_type": "stream",
     "text": [
      "0 0\n",
      "0 1\n",
      "0 2\n",
      "1 0\n",
      "1 1\n",
      "1 2\n",
      "2 0\n",
      "2 1\n",
      "2 2\n"
     ]
    }
   ],
   "source": [
    "nrows = 3  # or len(A)\n",
    "ncols = 3  # or len(A[0]) length of first row\n",
    "for i in range(nrows):\n",
    "    for j in range(ncols):\n",
    "        print( i, j )"
   ]
  },
  {
   "cell_type": "markdown",
   "metadata": {},
   "source": [
    "Notice how the column *j* value varies more quickly than the row *i* value.  We can reverse this order of traversal by changing the loop order:"
   ]
  },
  {
   "cell_type": "code",
   "execution_count": 96,
   "metadata": {
    "collapsed": false
   },
   "outputs": [
    {
     "name": "stdout",
     "output_type": "stream",
     "text": [
      "0 0\n",
      "1 0\n",
      "2 0\n",
      "0 1\n",
      "1 1\n",
      "2 1\n",
      "0 2\n",
      "1 2\n",
      "2 2\n"
     ]
    }
   ],
   "source": [
    "for j in range(ncols):\n",
    "    for i in range(nrows):\n",
    "        print(i, j)"
   ]
  },
  {
   "cell_type": "markdown",
   "metadata": {},
   "source": [
    "With the *j* loop on the outside, it will vary less quickly than the inner *i* loop.\n",
    "\n",
    "Double loops inside list comprehensions give all combinations, which in this case is something we want. The following code example creates a list of string representations of the coordinates:"
   ]
  },
  {
   "cell_type": "code",
   "execution_count": 97,
   "metadata": {
    "collapsed": false
   },
   "outputs": [
    {
     "name": "stdout",
     "output_type": "stream",
     "text": [
      "['0,0', '0,1', '0,2', '1,0', '1,1', '1,2', '2,0', '2,1', '2,2']\n"
     ]
    }
   ],
   "source": [
    "coords = [f\"{i},{j}\" for i in range(nrows) for j in range(ncols)]\n",
    "print(coords)"
   ]
  },
  {
   "cell_type": "markdown",
   "metadata": {},
   "source": [
    "Now, let's use an accumulator to sum all of the elements of a 3x3 matrix, we let *nrows*=3 and *ncols*=3 and use an addition operation:"
   ]
  },
  {
   "cell_type": "code",
   "execution_count": 98,
   "metadata": {
    "collapsed": false
   },
   "outputs": [
    {
     "name": "stdout",
     "output_type": "stream",
     "text": [
      "24\n"
     ]
    }
   ],
   "source": [
    "sum = 0\n",
    "for i in range(nrows):\n",
    "    for j in range(ncols):\n",
    "        sum = sum + A[i][j]\n",
    "print(sum)"
   ]
  },
  {
   "cell_type": "markdown",
   "metadata": {},
   "source": [
    "### Processing images\n",
    "\n",
    "In the images project for this class, we do lots of fun things to images. An image is nothing more than a two-dimensional matrix whose entries are pixel grayscale values from 0 to 255. A pixel value of 0 is black and 255 is white. For example, if we zoom in on an image, we see the individual elements (called pixels) of a two-dimensional matrix:\n",
    "\n",
    "<img src=\"images/obama-zoom.png\" width=\"400\">\n",
    "\n",
    "The only difference between an image and a matrix is that we typically access the elements of an image using x and y coordinates, rather than row and column. The template for a nested loop that accesses each element of an image looks like this:\n",
    "\n",
    "*for x in 0..width-1:*<br>\n",
    "&nbsp;&nbsp;&nbsp;&nbsp;*for y in 0..height-1:*<br>\n",
    "&nbsp;&nbsp;&nbsp;&nbsp;&nbsp;&nbsp;&nbsp;&nbsp;*process pixel[x,y]*<br>\n",
    "\n",
    "Because the *y* coordinate varies faster than the *x* coordinate, the inner loop traverses one vertical stripe. The outer loop shifts *x* to the next vertical stripe to the right."
   ]
  },
  {
   "cell_type": "markdown",
   "metadata": {},
   "source": [
    "### Exercise\n",
    "\n",
    "As a more realistic example, let's add two matrices A and B together to form C. The key operation is to add A<sub>i,j</sub> to B<sub>i,j</sub> to get C<sub>i,j</sub>. Visually, it looks like this:\n",
    "\n",
    "<img src=\"images/ABC.png\" width=\"360\">\n",
    "\n",
    "\n",
    "Write out the nested Python indexed loops to add two matrices together, C = A + B. Here are some definitions to get you started:\n",
    "\n",
    "```python\n",
    "A = [\n",
    "    [1, 3, 10],\n",
    "    [4, -9, 0],\n",
    "    [2, 5, 8]\n",
    "]\n",
    "B = [\n",
    "    [7, 4, 0],\n",
    "    [4, 3, 1],\n",
    "    [1, 6, 8]\n",
    "]\n",
    "# Use list comprehension to init list of lists\n",
    "C = [[0]*ncols for i in range(nrows)]\n",
    "```"
   ]
  },
  {
   "cell_type": "code",
   "execution_count": 99,
   "metadata": {
    "collapsed": false
   },
   "outputs": [
    {
     "name": "stdout",
     "output_type": "stream",
     "text": [
      "[[8, 7, 10], [8, -6, 1], [3, 11, 16]]\n"
     ]
    }
   ],
   "source": [
    "A = [\n",
    "    [1, 3, 10],\n",
    "    [4, -9, 0],\n",
    "    [2, 5, 8]\n",
    "]\n",
    "B = [\n",
    "    [7, 4, 0],\n",
    "    [4, 3, 1],\n",
    "    [1, 6, 8]\n",
    "]\n",
    "# Use list comprehension to init list of lists\n",
    "C = [[0]*ncols for i in range(nrows)]\n",
    "for i in range(nrows):\n",
    "    for j in range(ncols):\n",
    "        C[i][j] = A[i][j] + B[i][j]\n",
    "print(C)"
   ]
  },
  {
   "cell_type": "markdown",
   "metadata": {},
   "source": [
    "### Exercise\n",
    "\n",
    "Instead of using indexed loops as we've done so far (which is very appropriate for matrices), we can also use nested for-each loops. Try this out.\n",
    "\n",
    "Given a list of first names, `first=['Xue', 'Mary', 'Robert']` and a list of last names, `last=['Li', 'Smith', 'Dixon']`, write a nested Python loop to print every combination of first and last name."
   ]
  },
  {
   "cell_type": "code",
   "execution_count": 100,
   "metadata": {
    "collapsed": false
   },
   "outputs": [
    {
     "name": "stdout",
     "output_type": "stream",
     "text": [
      "Xue Li\n",
      "Xue Smith\n",
      "Xue Dixon\n",
      "Mary Li\n",
      "Mary Smith\n",
      "Mary Dixon\n",
      "Robert Li\n",
      "Robert Smith\n",
      "Robert Dixon\n"
     ]
    }
   ],
   "source": [
    "first=['Xue', 'Mary', 'Robert']\n",
    "last=['Li', 'Smith', 'Dixon']\n",
    "for f in first:\n",
    "    for l in last:\n",
    "        print(f+' '+l)"
   ]
  },
  {
   "cell_type": "markdown",
   "metadata": {},
   "source": [
    "### Exercise\n",
    "\n",
    "Now repeat that exercise using a double-loop list comprehension."
   ]
  },
  {
   "cell_type": "code",
   "execution_count": 101,
   "metadata": {
    "collapsed": false,
    "scrolled": true
   },
   "outputs": [
    {
     "name": "stdout",
     "output_type": "stream",
     "text": [
      "['Xue Li', 'Xue Smith', 'Xue Dixon', 'Mary Li', 'Mary Smith', 'Mary Dixon', 'Robert Li', 'Robert Smith', 'Robert Dixon']\n"
     ]
    }
   ],
   "source": [
    "print([f+' '+l for f in first for l in last])"
   ]
  },
  {
   "cell_type": "markdown",
   "metadata": {},
   "source": [
    "### Exercise\n",
    "\n",
    "Write Python code to sum column index 2 from the Oscars table. You can find the Python for the table definition above."
   ]
  },
  {
   "cell_type": "code",
   "execution_count": 102,
   "metadata": {
    "collapsed": false
   },
   "outputs": [
    {
     "name": "stdout",
     "output_type": "stream",
     "text": [
      "2\n"
     ]
    }
   ],
   "source": [
    "Oscars = [\n",
    "    [1984, \"A Soldier's Story\", 0],\n",
    "    [1984, 'Places in the Heart', 0],\n",
    "    [1984, 'The Killing Fields', 0],\n",
    "    [1984, 'A Passage to India', 0],\n",
    "    [1984, 'Amadeus', 1],\n",
    "    [1985, \"Prizzi's Honor\", 0],\n",
    "    [1985, 'Kiss of the Spider Woman', 0],\n",
    "    [1985, 'Witness', 0],\n",
    "    [1985, 'The Color Purple', 0],\n",
    "    [1985, 'Out of Africa', 1]\n",
    "]\n",
    "\n",
    "sum = 0\n",
    "for movie in Oscars:\n",
    "    sum = sum + movie[2]\n",
    "print(sum)"
   ]
  }
 ],
 "metadata": {
  "anaconda-cloud": {},
  "kernelspec": {
   "display_name": "Python 3",
   "language": "python",
   "name": "python3"
  },
  "language_info": {
   "codemirror_mode": {
    "name": "ipython",
    "version": 3
   },
   "file_extension": ".py",
   "mimetype": "text/x-python",
   "name": "python",
   "nbconvert_exporter": "python",
   "pygments_lexer": "ipython3",
   "version": "3.6.5"
  },
  "toc": {
   "colors": {
    "hover_highlight": "#DAA520",
    "navigate_num": "#000000",
    "navigate_text": "#333333",
    "running_highlight": "#FF0000",
    "selected_highlight": "#FFD700",
    "sidebar_border": "#EEEEEE",
    "wrapper_background": "#FFFFFF"
   },
   "moveMenuLeft": true,
   "nav_menu": {
    "height": "122px",
    "width": "252px"
   },
   "navigate_menu": true,
   "number_sections": true,
   "sideBar": true,
   "threshold": 4,
   "toc_cell": false,
   "toc_section_display": "block",
   "toc_window_display": false,
   "widenNotebook": false
  }
 },
 "nbformat": 4,
 "nbformat_minor": 2
}
