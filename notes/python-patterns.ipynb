{
 "cells": [
  {
   "cell_type": "markdown",
   "metadata": {},
   "source": [
    "# Programming Patterns in Python\n",
    "\n",
    "*in progress*\n",
    "\n",
    "Now that we've got a basic vocabulary and sentence structure for a bit of Python, let's look at a few implementations for the [high-level programming patterns](patterns.md), such as Map, Filter, Combine, etc... Each of those patterns has a pseudocode implementation using conditional and loop patterns, which we can translate very easily to python syntax. \n",
    "\n",
    "As we go through, you will see that program design and coding are a game of word association. A high level operation, such as map, should trigger a pseudocode loop template, which should then trigger a four-each Python code template.\n",
    "\n",
    "*Keep in mind that we design programs by selecting and applying patterns, not specific code sequences. Coding is the final act in the design process where we get an executable document.* So, think visually about how you would manipulate lists of data or extract information from data. I often draw things out or put them into a spreadsheet to help me visualize. Manually moving some data around on paper helps me to understand the operations to perform.  After designing a sequence or combination of high-level patterns, we write things out in pseudocode so we don't have to worry yet about Python syntax details. After we're happy with the pseudocode, we finally convert that to Python programming language syntax. Fortunately, there is a very close relationship between pseudocode and Python code. As you gain more experience, it will be easier to go straight from the pattern to the code, but we still design programs using the patterns in our head. For complex problems, I still write out pseudocode, despite 35+ years coding experience."
   ]
  },
  {
   "cell_type": "markdown",
   "metadata": {},
   "source": [
    "## Map\n",
    "\n",
    "Let's look at an implementation of the Map pattern first because it is so important.  The original discussion regarding the map operation showed a simple column of prices and an empty destination column at time zero:\n",
    "\n",
    "<img src=\"images/map-discount-op.png\" style=\"width:390px\">\n",
    "\n",
    "We can represent both using list literals:"
   ]
  },
  {
   "cell_type": "code",
   "execution_count": 1,
   "metadata": {
    "collapsed": true
   },
   "outputs": [],
   "source": [
    "UnitPrice = [38.94, 208.16, 8.69, 195.99]\n",
    "Discounted = [] # empty list"
   ]
  },
  {
   "cell_type": "markdown",
   "metadata": {},
   "source": [
    "In other words:\n",
    "\n",
    "<img src=\"images/price-time0.png\" style=\"width:400px\">\n",
    "\n",
    "In [Model of Computation](computation.md), we saw the pseudocode pattern to implement this map operation:\n",
    "\n",
    "*for each price in <ins>UnitPrice</ins> list*:<br>\n",
    "&nbsp;&nbsp;&nbsp;&nbsp;<i>add <ins>price * 0.95</ins> to <ins>Discounted</ins> list</i>\n",
    "\n",
    "The holes to fill in are the list to traverse, the expression representing the new values, and the target list.\n",
    "\n",
    "That sure looks like a for-each loop, so let's use that coding pattern:"
   ]
  },
  {
   "cell_type": "code",
   "execution_count": 3,
   "metadata": {
    "collapsed": false,
    "scrolled": true
   },
   "outputs": [
    {
     "name": "stdout",
     "output_type": "stream",
     "text": [
      "[36.992999999999995, 197.75199999999998, 8.2555, 186.1905]\n"
     ]
    }
   ],
   "source": [
    "Discounted = [] # empty list\n",
    "for price in UnitPrice:\n",
    "    Discounted.append(price * 0.95)\n",
    "print Discounted"
   ]
  },
  {
   "cell_type": "markdown",
   "metadata": {},
   "source": [
    "Notice that I have included the initialization of the empty list as part of this code snippet. The reason is that we really want to mentally associate the initialization with this code pattern.\n",
    "\n",
    "<ins>The translation process in our heads from high-level pattern to pseudocode to code is a game of *word association*\".</ins> When your brain sees an operation that maps a column of data to another, think \"map\". When your brain hears \"map\" it should generate the appropriate pseudocode loop, filling in the holes appropriately.  When your brain hears \"for each blah blah\", think \"oh, for-each loop\" and use the appropriate coding pattern.\n",
    "\n",
    "<img src=\"images/price-time1.png\" style=\"width:400px\">\n",
    "\n",
    "Even at the microlevel, think about mapping operations to code. For example, when I think about \"add x to list y\", my brain translates that to `y.append(x)`.\n",
    "\n",
    "**Exercise**: Without looking at the code for this map, try to write the code out for a map operation that divided the prices in half, again putting the values in `Discounted`.\n",
    "\n",
    "**Advanced**: There is an easier way to do this, using a *list comprehension*, because it is so common. It's really just shorthand that looks more like mathematical set notation:"
   ]
  },
  {
   "cell_type": "code",
   "execution_count": 7,
   "metadata": {
    "collapsed": false
   },
   "outputs": [
    {
     "name": "stdout",
     "output_type": "stream",
     "text": [
      "[36.992999999999995, 197.75199999999998, 8.2555, 186.1905]\n"
     ]
    }
   ],
   "source": [
    "Discounted = [price * 0.95 for price in UnitPrice] # a list comprehension\n",
    "print Discounted"
   ]
  },
  {
   "cell_type": "markdown",
   "metadata": {},
   "source": [
    "## Accumulate\n",
    "\n",
    "As an example of an accumulator, we visualized the running sum of the values in a list of quantities:\n",
    "\n",
    "<img src=\"images/accumulator.png\" style=\"width:290px\">"
   ]
  },
  {
   "cell_type": "markdown",
   "metadata": {},
   "source": [
    "We can simulate that column of data using a list literal in Python:"
   ]
  },
  {
   "cell_type": "code",
   "execution_count": 4,
   "metadata": {
    "collapsed": true
   },
   "outputs": [],
   "source": [
    "Quantity = [6, 49, 27, 30, 19, 21, 12, 22, 21]"
   ]
  },
  {
   "cell_type": "markdown",
   "metadata": {},
   "source": [
    "The pseudocode patterns we've seen for accumulators initialize the accumulated value(s) then loop through the input data, updating the accumulated value. In this case, we can write pseudocode like this:\n",
    "\n",
    "*init <ins>sum</ins> to 0*<br>\n",
    "*for each quantity in <ins>Quantity</ins> list*:<br>\n",
    "&nbsp;&nbsp;&nbsp;&nbsp;*let sum be <ins>sum + quantity</ins>*\n",
    "\n",
    "To write that pseudocode, I had to fill in holes for the accumulated variable name, `sum`, list to traverse, `Quantity`, and the operation `sum + quantity`.\n",
    "\n",
    "The python code to implement that pseudocode is a straightforward one-to-one mapping:"
   ]
  },
  {
   "cell_type": "code",
   "execution_count": 6,
   "metadata": {
    "collapsed": false
   },
   "outputs": [
    {
     "name": "stdout",
     "output_type": "stream",
     "text": [
      "207\n"
     ]
    }
   ],
   "source": [
    "sum = 0\n",
    "for q in Quantity:\n",
    "    sum = sum + q\n",
    "print sum"
   ]
  },
  {
   "cell_type": "markdown",
   "metadata": {},
   "source": [
    "To accumulate two different values, we would have two different initializations and two statements in the loop.\n",
    "\n",
    "**Exercise**: What is the similarity between this accumulator code pattern and the previous map code pattern?"
   ]
  },
  {
   "cell_type": "markdown",
   "metadata": {},
   "source": [
    "## Combine\n",
    "\n",
    "Now that we've seen two examples that traverse a single list, let's look at the code pattern to traverse two lists at once placing the result in a third list. Visually we saw this example in the high-level patterns discussion:\n",
    "\n",
    "<img src=\"images/map-mult.png\" style=\"width:490px\">\n",
    "\n",
    "At time zero, we have the following data available:"
   ]
  },
  {
   "cell_type": "code",
   "execution_count": 10,
   "metadata": {
    "collapsed": false
   },
   "outputs": [],
   "source": [
    "Quantity = [6, 49, 27, 30, 19, 21, 12, 22, 21]\n",
    "UnitPrice = [38.94, 208.16, 8.69, 195.99, 21.78, 6.64, 7.3, 42.76, 138.14]"
   ]
  },
  {
   "cell_type": "markdown",
   "metadata": {},
   "source": [
    "Then, as the initialization element of our pseudocode, we can initialize an empty list for the target list, `Cost`:\n",
    "\n",
    "*init <ins>Cost</ins> to empty list*<br>\n",
    "*for each value <ins>i</ins> in set <ins>0..n-1</ins>*:<br>\n",
    "&nbsp;&nbsp;&nbsp;&nbsp;<i>let Cost<sub>i</sub> be <ins>Quantity<sub>i</sub> * UnitPrice<sub>i</sub></ins></i>\n",
    "\n",
    "The pseudocode template has a number of holes to fill in: the target list, the index variable name, the range of indices, and the expression describing the ith value.\n",
    "\n",
    "While that pseudocode says to set the ith value of `Cost`, as we'd do inMathematics, we need to do something a little bit different in the code pattern: `Cost.append(...)`. The reason is that `Cost` starts out as an empty list and so `Cost[i]` for any i>=0 is an error because there is no such element. Instead, we just add to the list like we did for the map operation. Knowing this, we could have used a variation of the pseudocode:\n",
    "\n",
    "*init <ins>Cost</ins> to empty list*<br>\n",
    "*for each value <ins>i</ins> in set <ins>0..n-1</ins>*:<br>\n",
    "&nbsp;&nbsp;&nbsp;&nbsp;<i>add <ins>Quantity<sub>i</sub> * UnitPrice<sub>i</sub></ins> to <ins>Cost</ins> list</i>\n",
    "\n",
    "Looking at the pseudocode loop, it's clear we should translate to Python using an indexed loop. That makes sense because when traversing more than a single list, we typically need to use an indexed loop rather than a for-each loop."
   ]
  },
  {
   "cell_type": "code",
   "execution_count": 12,
   "metadata": {
    "collapsed": false
   },
   "outputs": [
    {
     "name": "stdout",
     "output_type": "stream",
     "text": [
      "[233.64, 10199.84, 234.63, 5879.700000000001, 413.82000000000005, 139.44, 87.6, 940.7199999999999, 2900.9399999999996]\n"
     ]
    }
   ],
   "source": [
    "Cost = []\n",
    "for i in range(len(Quantity)): # from 0 to length of Quantity-1, inclusively\n",
    "    Cost.append( Quantity[i] * UnitPrice[i] )\n",
    "print Cost"
   ]
  },
  {
   "cell_type": "markdown",
   "metadata": {},
   "source": [
    "## Remove duplicates\n",
    "\n",
    "<img src=\"images/unique.png\" style=\"width:290px\">"
   ]
  },
  {
   "cell_type": "markdown",
   "metadata": {},
   "source": [
    "## Filter\n",
    "\n",
    "<img src=\"images/filter-apply.png\" style=\"width:590px\">\n",
    "\n",
    "<img src=\"images/filter-winners.png\" style=\"width:590px\">"
   ]
  },
  {
   "cell_type": "markdown",
   "metadata": {},
   "source": [
    "## Search\n",
    "\n",
    "<img src=\"images/search-rainfall.png\" style=\"width:180px\">"
   ]
  },
  {
   "cell_type": "markdown",
   "metadata": {},
   "source": [
    "## Python program template\n",
    "\n",
    "*import any libraries*<br>\n",
    "*define any constants, simple data values*<br>\n",
    "*define any functions*<br>\n",
    "*main program body*\n",
    "\n",
    "When we are building a library not a program, then we omit the main program:\n",
    " \n",
    "*import any libraries*<br>\n",
    "*define any constants, simple data values*<br>\n",
    "*define any functions*<br>"
   ]
  }
 ],
 "metadata": {
  "anaconda-cloud": {},
  "kernelspec": {
   "display_name": "Python [default]",
   "language": "python",
   "name": "python2"
  },
  "language_info": {
   "codemirror_mode": {
    "name": "ipython",
    "version": 2
   },
   "file_extension": ".py",
   "mimetype": "text/x-python",
   "name": "python",
   "nbconvert_exporter": "python",
   "pygments_lexer": "ipython2",
   "version": "2.7.12"
  }
 },
 "nbformat": 4,
 "nbformat_minor": 1
}
