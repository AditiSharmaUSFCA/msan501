{
 "cells": [
  {
   "cell_type": "markdown",
   "metadata": {},
   "source": [
    "# Programming Patterns in Python\n",
    "\n",
    "Now that we had a taste of actual python syntax, let's look at implementations for the high level programming patterns, such as Map, Filter, Combine, etc... Each of those patterns has a pseudocode implementation using conditional and loop patterns, which we can translate very easily to python syntax, as you'll see. \n",
    "\n",
    "Keep in mind that we design programs by selecting and applying patterns, not specific code sequences. Coding is the final act in the design process where we get an executable document.\n",
    "\n",
    "## Map\n",
    "\n",
    "<img src=images/map-discount-op.png style=\"width:390px\">\n",
    "\n",
    "## Accumulate\n",
    "\n",
    "<img src=images/accumulator.png style=\"width:290px\">\n",
    "\n",
    "## Combine\n",
    "\n",
    "<img src=images/map-mult.png style=\"width:490px\">\n",
    "\n",
    "## Remove duplicates\n",
    "\n",
    "<img src=images/unique.png style=\"width:290px\">\n",
    "\n",
    "\n",
    "## Filter\n",
    "\n",
    "<img src=images/filter-apply.png style=\"width:590px\">\n",
    "\n",
    "<img src=images/filter-winners.png style=\"width:590px\">\n",
    "\n",
    "## Search\n",
    "\n",
    "<img src=images/search-rainfall.png style=\"width:180px\">\n",
    "\n",
    "## Python program template\n",
    "\n",
    "*import any libraries*<br>\n",
    "*define any constants, simple data values*<br>\n",
    "*define any functions*<br>\n",
    "*main program body*\n",
    "\n",
    "When we are building a library not a program, then we omit the main program:\n",
    " \n",
    "*import any libraries*<br>\n",
    "*define any constants, simple data values*<br>\n",
    "*define any functions*<br>\n",
    "\n"
   ]
  }
 ],
 "metadata": {
  "anaconda-cloud": {},
  "kernelspec": {
   "display_name": "Python [default]",
   "language": "python",
   "name": "python2"
  },
  "language_info": {
   "codemirror_mode": {
    "name": "ipython",
    "version": 2
   },
   "file_extension": ".py",
   "mimetype": "text/x-python",
   "name": "python",
   "nbconvert_exporter": "python",
   "pygments_lexer": "ipython2",
   "version": "2.7.12"
  }
 },
 "nbformat": 4,
 "nbformat_minor": 1
}
