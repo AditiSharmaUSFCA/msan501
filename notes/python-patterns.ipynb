{
 "cells": [
  {
   "cell_type": "code",
   "execution_count": null,
   "metadata": {
    "collapsed": true
   },
   "outputs": [],
   "source": []
  },
  {
   "cell_type": "markdown",
   "metadata": {},
   "source": [
    "# Programming Patterns in Python\n",
    "\n",
    "Now that we've got an overall strategy and plan for designing programs, let's look at a few implementations for the [high-level programming operations](operations.md), such as Map, Filter, Combine, etc... Each of those operations has an implementation using conditional and loop patterns, which we can very easily express using python syntax.\n",
    "\n",
    "As we go through, you will see that program design and coding are a game of word association. A high-level operation, such as map, should trigger a pseudocode loop template in your mind, which should then trigger a for-each Python code template.\n",
    "\n",
    "*Keep in mind that we design programs by selecting and applying operations, not specific code sequences. Coding is the final act in the design process where we get an executable document.* So, think visually about how you would manipulate lists of data or extract information from data. I often draw things out or put them into a spreadsheet to help me visualize. Manually moving some data around on paper helps me to understand the operations to perform.  \n",
    "\n",
    "After designing a sequence or combination of high-level operations, we can write things out in pseudocode or go straight to Python syntax. As you gain more experience, it will be easier to go straight from the operation to the code, but we still design programs using operations, not code, in our head. For complex problems, I still write out pseudocode, despite 35+ years coding experience."
   ]
  },
  {
   "cell_type": "markdown",
   "metadata": {},
   "source": [
    "## Data for exercises\n",
    "\n",
    "We will be doing several small exercises as we go through this material. Please cut and paste this Python code to a file in your \"in class\" directory on your laptop. With this at the top of your file, you can focus on the code in the exercises without having to worry about defining the data.\n",
    "\n",
    "Please try to do the exercises without looking at the solutions, which appear immediately below the exercise description. In front of you in class, I will have the solutions hidden so try to do the exercises without peeking at this page from your own browser.\n",
    "\n",
    "I repeat the data definitions for completeness in the discussions below."
   ]
  },
  {
   "cell_type": "code",
   "execution_count": 40,
   "metadata": {
    "collapsed": true
   },
   "outputs": [],
   "source": [
    "UnitPrice = [38.94, 208.16, 8.69, 195.99]\n",
    "Shipping = [35, 68.02, 2.99, 3.99, 5.94, 4.95, 7.72, 6.22]\n",
    "names=['Xue', 'Mary', 'Bob']\n",
    "Oscars = [\n",
    "    [1984, \"A Soldier's Story\", 0],\n",
    "    [1984, 'Places in the Heart', 0],\n",
    "    [1984, 'The Killing Fields', 0],\n",
    "    [1984, 'A Passage to India', 0],\n",
    "    [1984, 'Amadeus', 1],\n",
    "    [1985, \"Prizzi's Honor\", 0],\n",
    "    [1985, 'Kiss of the Spider Woman', 0],\n",
    "    [1985, 'Witness', 0],\n",
    "    [1985, 'The Color Purple', 0],\n",
    "    [1985, 'Out of Africa', 1]\n",
    "]\n",
    "Quantity = [6, 49, 27, 30, 19, 21, 12, 22, 21]\n",
    "UnitPrice = [38.94, 208.16, 8.69, 195.99, 21.78, 6.64, 7.3, 42.76, 138.14]\n",
    "Rainfall = [0, 5, 2, 1, 0, 999, 8]  # our given input\n",
    "A = [\n",
    "    [1, 3, 10],\n",
    "    [4, -9, 0],\n",
    "    [2, 5, 8]\n",
    "]\n",
    "B = [\n",
    "    [7, 4, 0],\n",
    "    [4, 3, 1],\n",
    "    [1, 6, 8]\n",
    "]\n",
    "first=['Xue', 'Mary', 'Robert']\n",
    "last=['Li', 'Smith', 'Dixon']"
   ]
  },
  {
   "cell_type": "markdown",
   "metadata": {},
   "source": [
    "## Map\n",
    "\n",
    "Let's look at an implementation of the [Map](operations.md#map) operation first because it is so important.  The original discussion regarding the map operation showed a simple column of prices and an empty destination column at time 0:\n",
    "\n",
    "<img src=\"images/map-discount-op.png\" style=\"width:390px\">\n",
    "\n",
    "We can represent both at time 0 using list literals:"
   ]
  },
  {
   "cell_type": "code",
   "execution_count": 8,
   "metadata": {
    "collapsed": true
   },
   "outputs": [],
   "source": [
    "UnitPrice = [38.94, 208.16, 8.69, 195.99]\n",
    "Discounted = [] # empty list"
   ]
  },
  {
   "cell_type": "markdown",
   "metadata": {},
   "source": [
    "In other words:\n",
    "\n",
    "<img src=\"images/price-time0.png\" style=\"width:400px\">\n",
    "\n",
    "In [Model of Computation](computation.md), we saw the pseudocode pattern to implement this map operation:\n",
    "\n",
    "*for each price in <ins>UnitPrice</ins> list*:<br>\n",
    "&nbsp;&nbsp;&nbsp;&nbsp;<i>add <ins>price * 0.95</ins> to <ins>Discounted</ins> list</i>\n",
    "\n",
    "The holes to fill in are the list to traverse, the expression representing the new values, and the target list. Here's the actual Python coding pattern:"
   ]
  },
  {
   "cell_type": "code",
   "execution_count": 2,
   "metadata": {
    "code_folding": [],
    "scrolled": true
   },
   "outputs": [
    {
     "name": "stdout",
     "output_type": "stream",
     "text": [
      "[36.992999999999995, 197.75199999999998, 8.2555, 186.1905]\n"
     ]
    }
   ],
   "source": [
    "Discounted = [] # empty list\n",
    "for price in UnitPrice:\n",
    "    Discounted.append(price * 0.95)\n",
    "print Discounted"
   ]
  },
  {
   "cell_type": "markdown",
   "metadata": {},
   "source": [
    "Notice that I have included the initialization of the empty list as part of this code snippet. The reason is that we really want to mentally associate the initialization with this code pattern.\n",
    "\n",
    "<ins>The translation process in our heads from high-level operation to pseudocode to code is a game of *word association*\".</ins> When your brain sees an operation that maps a column of data to another, think \"map\". When your brain hears \"map\" it should generate the appropriate pseudocode loop, filling in the holes appropriately.  When your brain hears \"for each blah blah\", think \"oh, for-each loop\" and use the appropriate coding pattern.\n",
    "\n",
    "<img src=\"images/price-time1.png\" style=\"width:400px\">\n",
    "\n",
    "Even at the microlevel, think about mapping operations to code. For example, when I think about \"*add <ins>x</ins> to list <ins>y</ins>*\", my brain translates that to `y.append(x)`.\n",
    "\n",
    "This is such a common pattern that Python has an explicit construct to make things easier.  It's called a *list comprehension* and it's really just shorthand that looks more like mathematical set notation:"
   ]
  },
  {
   "cell_type": "code",
   "execution_count": 9,
   "metadata": {
    "solution": "hidden",
    "solution_first": true
   },
   "outputs": [
    {
     "name": "stdout",
     "output_type": "stream",
     "text": [
      "[36.992999999999995, 197.75199999999998, 8.2555, 186.1905]\n"
     ]
    }
   ],
   "source": [
    "Discounted = [price * 0.95 for price in UnitPrice] # a list comprehension\n",
    "print Discounted"
   ]
  },
  {
   "cell_type": "markdown",
   "metadata": {},
   "source": [
    "### Exercise\n",
    "\n",
    "Without looking at the code we just did, try to write the code out for a map operation using a list comprehension that divides the prices in half, again putting the values in `Discounted`. **Don't cut/paste. Type!**"
   ]
  },
  {
   "cell_type": "code",
   "execution_count": 10,
   "metadata": {},
   "outputs": [
    {
     "name": "stdout",
     "output_type": "stream",
     "text": [
      "[19.47, 104.08, 4.345, 97.995]\n"
     ]
    }
   ],
   "source": [
    "Discounted = [price / 2 for price in UnitPrice] # a list comprehension\n",
    "print Discounted"
   ]
  },
  {
   "cell_type": "markdown",
   "metadata": {},
   "source": [
    "### Exercise\n",
    "\n",
    "Given a list of names, `['Xue', 'Mary', 'Robert']`, give code to implement a map operation that converts the names to list `namelens` containing the length of the names. Hint: Function call `len('Xue')` returns 3. **Don't cut/paste. Type!**"
   ]
  },
  {
   "cell_type": "code",
   "execution_count": 11,
   "metadata": {},
   "outputs": [
    {
     "name": "stdout",
     "output_type": "stream",
     "text": [
      "[3, 4, 6]\n"
     ]
    }
   ],
   "source": [
    "names = ['Xue', 'Mary', 'Robert']\n",
    "namelens = [len(name) for name in names]\n",
    "print namelens"
   ]
  },
  {
   "cell_type": "markdown",
   "metadata": {},
   "source": [
    "## Split\n",
    "\n",
    "We often want to split a single list into multiple lists to get a list of lists. The examples we've seen before involves splitting a string containing the first and last name and also the string containing a sequence of numbers. Here's an example that splits each string in a list into a list of lists."
   ]
  },
  {
   "cell_type": "code",
   "execution_count": 41,
   "metadata": {
    "scrolled": false
   },
   "outputs": [
    {
     "name": "stdout",
     "output_type": "stream",
     "text": [
      "[['1', '2', '3'], ['3', '4', '5']]\n"
     ]
    }
   ],
   "source": [
    "values = [\n",
    "    \"1 2 3\",\n",
    "    \"3 4 5\"\n",
    "]\n",
    "matrix = [v.split(' ') for v in values]\n",
    "print matrix"
   ]
  },
  {
   "cell_type": "markdown",
   "metadata": {},
   "source": [
    "## Filter\n",
    "\n",
    "Let's do the filter operation next because the implementation is so similar to map. Our example filter visualization extracted shipping costs less than 10 dollars from a Shipping column:\n",
    "\n",
    "<img src=\"images/filter-apply.png\" style=\"width:590px\">"
   ]
  },
  {
   "cell_type": "markdown",
   "metadata": {},
   "source": [
    "A filter operation is just a map that conditionally adds elements to the target list. The pseudocode template for filtering is:\n",
    "\n",
    "*for each <ins>x</ins> in <ins>sequence</ins>*:<br>\n",
    "&nbsp;&nbsp;&nbsp;&nbsp;*if <ins>condition</ins>*:<br>\n",
    "&nbsp;&nbsp;&nbsp;&nbsp;&nbsp;&nbsp;&nbsp;&nbsp;*add x to <ins>new list</ins>*<br>\n",
    "\n",
    "The holes to fill in are the variable name to iterate through the sequence, the sequence to filter, the filtering condition indicating what to extract, and the target list containing the filtered values. \n",
    "\n",
    "The relationship with Python code is straightforward. Because we are traversing a single list, we use a for-each loop. Because we are filtering into a new list, we have to explicitly initialize `Shipping2`:"
   ]
  },
  {
   "cell_type": "code",
   "execution_count": 9,
   "metadata": {
    "scrolled": true
   },
   "outputs": [
    {
     "name": "stdout",
     "output_type": "stream",
     "text": [
      "[2.99, 3.99, 5.94, 4.95, 7.72, 6.22]\n"
     ]
    }
   ],
   "source": [
    "Shipping = [35, 68.02, 2.99, 3.99, 5.94, 4.95, 7.72, 6.22]\n",
    "Shipping2 = []\n",
    "for x in Shipping:\n",
    "    if x < 10:\n",
    "        Shipping2.append(x)\n",
    "print Shipping2"
   ]
  },
  {
   "cell_type": "markdown",
   "metadata": {},
   "source": [
    "But, we should use instead a variation on the list comprehension seen in the pattern we have for the map operation:"
   ]
  },
  {
   "cell_type": "code",
   "execution_count": 2,
   "metadata": {},
   "outputs": [
    {
     "name": "stdout",
     "output_type": "stream",
     "text": [
      "[2.99, 3.99, 5.94, 4.95, 7.72, 6.22]\n"
     ]
    }
   ],
   "source": [
    "Shipping = [35, 68.02, 2.99, 3.99, 5.94, 4.95, 7.72, 6.22]\n",
    "Shipping2 = [x for x in Shipping if x < 10]\n",
    "print Shipping2"
   ]
  },
  {
   "cell_type": "markdown",
   "metadata": {},
   "source": [
    "### Exercise\n",
    "\n",
    "Rather than just referencing an iterate value, `x`, we can also use expressions in filtering list comprehensions. Use the filtering list comprehension to double the shipping cost in `Shipping` if less than 10 dollars. Put the result in list `Shipping2`."
   ]
  },
  {
   "cell_type": "code",
   "execution_count": 4,
   "metadata": {},
   "outputs": [
    {
     "name": "stdout",
     "output_type": "stream",
     "text": [
      "[5.98, 7.98, 11.88, 9.9, 15.44, 12.44]\n"
     ]
    }
   ],
   "source": [
    "Shipping2 = [x*2 for x in Shipping if x < 10]\n",
    "print Shipping2"
   ]
  },
  {
   "cell_type": "markdown",
   "metadata": {},
   "source": [
    "### Exercise\n",
    "\n",
    "Given a list of `names=['Xue', 'Mary', 'Bob']`, filter the list into `names2` for those names starting with `X`. Recall that `name[i]` yields the ith character in `name`."
   ]
  },
  {
   "cell_type": "code",
   "execution_count": 37,
   "metadata": {},
   "outputs": [
    {
     "name": "stdout",
     "output_type": "stream",
     "text": [
      "['Xue']\n"
     ]
    }
   ],
   "source": [
    "names=['Xue', 'Mary', 'Bob']\n",
    "names2 = [name for name in names if name[0]=='X']\n",
    "print names2"
   ]
  },
  {
   "cell_type": "markdown",
   "metadata": {},
   "source": [
    "### Filter table rows\n",
    "\n",
    "We often filter rows of a table on a particular column, which means that we need a slightly different pseudocode template. Let's look at the previous example visualization that filtered for Oscar winners:\n",
    "\n",
    "<img src=\"images/filter-winners.png\" style=\"width:590px\">\n",
    "\n",
    "The pseudocode for this operation tests a particular column (index 2 aka position 3), but adds an entire row to the output list:\n",
    " \n",
    "*for each <ins>row</ins> in <ins>Oscars</ins>:*<br>\n",
    "&nbsp;&nbsp;&nbsp;&nbsp;*if <ins>row<sub>2</sub> is 1<ins>*:<br>\n",
    "&nbsp;&nbsp;&nbsp;&nbsp;&nbsp;&nbsp;&nbsp;&nbsp;*add row to <ins>Oscars2</ins>*\n",
    "\n",
    "In Python code, we could create the Oscars table like this:"
   ]
  },
  {
   "cell_type": "code",
   "execution_count": 18,
   "metadata": {
    "code_folding": [],
    "collapsed": true
   },
   "outputs": [],
   "source": [
    "Oscars = [\n",
    "    [1984, \"A Soldier's Story\", 0],\n",
    "    [1984, 'Places in the Heart', 0],\n",
    "    [1984, 'The Killing Fields', 0],\n",
    "    [1984, 'A Passage to India', 0],\n",
    "    [1984, 'Amadeus', 1],\n",
    "    [1985, \"Prizzi's Honor\", 0],\n",
    "    [1985, 'Kiss of the Spider Woman', 0],\n",
    "    [1985, 'Witness', 0],\n",
    "    [1985, 'The Color Purple', 0],\n",
    "    [1985, 'Out of Africa', 1]\n",
    "]"
   ]
  },
  {
   "cell_type": "markdown",
   "metadata": {},
   "source": [
    "The code for the looping construct looks like (jumping straight to the list comprehension form):\n"
   ]
  },
  {
   "cell_type": "code",
   "execution_count": 15,
   "metadata": {
    "scrolled": true
   },
   "outputs": [
    {
     "name": "stdout",
     "output_type": "stream",
     "text": [
      "[[1984, 'Amadeus', 1], [1985, 'Out of Africa', 1]]\n"
     ]
    }
   ],
   "source": [
    "Oscars2 = [movie for movie in Oscars if movie[2]==1]\n",
    "print Oscars2"
   ]
  },
  {
   "cell_type": "markdown",
   "metadata": {},
   "source": [
    "The output is a list of lists, a filtered table of rows one per movie.\n",
    "\n",
    "Notice how we test one column value from the row, `movie[2]`, but add the entire row to the new table. If we just added the \"winner\" column value to the new list, we would end up with a list of ones: 1, 1, 1, ..., 1."
   ]
  },
  {
   "cell_type": "markdown",
   "metadata": {},
   "source": [
    "### Exercise\n",
    "\n",
    "Filter the `Oscars` list into `Oscars2` for all movies with 3-word titles. To break a string into a list of words, use `title.split(' ')`. If the length, `len()`, of that list is 3, then copy the entire row to `Oscars2`."
   ]
  },
  {
   "cell_type": "code",
   "execution_count": 19,
   "metadata": {},
   "outputs": [
    {
     "name": "stdout",
     "output_type": "stream",
     "text": [
      "[[1984, \"A Soldier's Story\", 0], [1984, 'The Killing Fields', 0], [1985, 'The Color Purple', 0], [1985, 'Out of Africa', 1]]\n"
     ]
    }
   ],
   "source": [
    "Oscars2 = [movie for movie in Oscars if len(movie[1].split(' '))==3]\n",
    "print Oscars2"
   ]
  },
  {
   "cell_type": "markdown",
   "metadata": {},
   "source": [
    "## Accumulate\n",
    "\n",
    "As an example of an accumulator, we visualized the running sum of the values in a list of quantities:\n",
    "\n",
    "<img src=\"images/accumulator.png\" style=\"width:290px\">"
   ]
  },
  {
   "cell_type": "markdown",
   "metadata": {},
   "source": [
    "We can simulate that column of data using a list literal in Python:"
   ]
  },
  {
   "cell_type": "code",
   "execution_count": 21,
   "metadata": {
    "collapsed": true
   },
   "outputs": [],
   "source": [
    "Quantity = [6, 49, 27, 30, 19, 21, 12, 22, 21]"
   ]
  },
  {
   "cell_type": "markdown",
   "metadata": {},
   "source": [
    "The pseudocode pattern for an accumulators initialize the accumulated value(s) then loop through the input data, updating the accumulated value. In this case, we can write pseudocode like this:\n",
    "\n",
    "*init <ins>sum</ins> to 0*<br>\n",
    "*for each quantity in <ins>Quantity</ins> list*:<br>\n",
    "&nbsp;&nbsp;&nbsp;&nbsp;*let sum be <ins>sum + quantity</ins>*\n",
    "\n",
    "To write that pseudocode, I had to fill in holes for the accumulated variable name, `sum`, list to traverse, `Quantity`, and the operation `sum + quantity`.\n",
    "\n",
    "The python code to implement that pseudocode is a straightforward one-to-one mapping:"
   ]
  },
  {
   "cell_type": "code",
   "execution_count": 6,
   "metadata": {},
   "outputs": [
    {
     "name": "stdout",
     "output_type": "stream",
     "text": [
      "207\n"
     ]
    }
   ],
   "source": [
    "sum = 0\n",
    "for q in Quantity:\n",
    "    sum = sum + q\n",
    "print sum"
   ]
  },
  {
   "cell_type": "markdown",
   "metadata": {},
   "source": [
    "To accumulate two different values, we would use two different initializations and two statements in the loop."
   ]
  },
  {
   "cell_type": "markdown",
   "metadata": {},
   "source": [
    "### Exercise\n",
    "\n",
    "Use the accumulator operation to count the elements in the `Quantity` list. I.e., figure out the length of that list without using the `len()` function. Hint: use an accumulator variable called `count`."
   ]
  },
  {
   "cell_type": "code",
   "execution_count": 22,
   "metadata": {},
   "outputs": [
    {
     "name": "stdout",
     "output_type": "stream",
     "text": [
      "9\n"
     ]
    }
   ],
   "source": [
    "count = 0\n",
    "for q in Quantity:\n",
    "    count = count + 1\n",
    "print count"
   ]
  },
  {
   "cell_type": "markdown",
   "metadata": {},
   "source": [
    "## Combine\n",
    "\n",
    "Now that we've seen examples that traverse a single list, let's look at the code pattern to traverse two lists at once placing the result in a third list. Visually we saw this example in the high-level operations discussion:\n",
    "\n",
    "<img src=\"images/map-mult.png\" style=\"width:490px\">\n",
    "\n",
    "At time zero, we have the following data available:"
   ]
  },
  {
   "cell_type": "code",
   "execution_count": 24,
   "metadata": {
    "collapsed": true
   },
   "outputs": [],
   "source": [
    "Quantity = [6, 49, 27, 30, 19, 21, 12, 22, 21]\n",
    "UnitPrice = [38.94, 208.16, 8.69, 195.99, 21.78, 6.64, 7.3, 42.76, 138.14]"
   ]
  },
  {
   "cell_type": "markdown",
   "metadata": {},
   "source": [
    "Then, as the initialization element of our pseudocode, we can initialize an empty list for the target list, `Cost`:\n",
    "\n",
    "*init <ins>Cost</ins> to empty list*<br>\n",
    "*for each value <ins>i</ins> in set <ins>0..n-1</ins>*:<br>\n",
    "&nbsp;&nbsp;&nbsp;&nbsp;<i>let Cost<sub>i</sub> be <ins>Quantity<sub>i</sub> * UnitPrice<sub>i</sub></ins></i>\n",
    "\n",
    "The pseudocode template has a number of holes to fill in: the target list, the index variable name, the range of indices, and the expression describing the ith value.\n",
    "\n",
    "While that pseudocode says to set the ith value of `Cost`, as we'd do in mathematics, we need to do something a little bit different in the code pattern: `Cost.append(...)`. The reason is that `Cost` starts out as an empty list and so `Cost[i]` for any i>=0 is an error because there is no such element. Instead, we just add to the list like we did for the map operation. Knowing this, we could have used a variation of the pseudocode:\n",
    "\n",
    "*init <ins>Cost</ins> to empty list*<br>\n",
    "*for each value <ins>i</ins> in set <ins>0..n-1</ins>*:<br>\n",
    "&nbsp;&nbsp;&nbsp;&nbsp;<i>add <ins>Quantity<sub>i</sub> * UnitPrice<sub>i</sub></ins> to <ins>Cost</ins> list</i>\n",
    "\n",
    "Looking at the pseudocode loop, it's clear we should translate to Python using an indexed loop. That makes sense because when traversing more than a single list, we typically need to use an indexed loop rather than a for-each loop."
   ]
  },
  {
   "cell_type": "code",
   "execution_count": 8,
   "metadata": {},
   "outputs": [
    {
     "name": "stdout",
     "output_type": "stream",
     "text": [
      "[233.64, 10199.84, 234.63, 5879.700000000001, 413.82000000000005, 139.44, 87.6, 940.7199999999999, 2900.9399999999996]\n"
     ]
    }
   ],
   "source": [
    "Cost = []\n",
    "for i in range(len(Quantity)): # from 0 to length of Quantity-1, inclusively\n",
    "    Cost.append( Quantity[i] * UnitPrice[i] )\n",
    "print Cost"
   ]
  },
  {
   "cell_type": "markdown",
   "metadata": {},
   "source": [
    "Note that you might be tempted to use a double `for`-each loop in a list comprehension, but you get the cross product of each value in quantity times each value in your price. That's not what we want, as you can see here:"
   ]
  },
  {
   "cell_type": "code",
   "execution_count": 27,
   "metadata": {},
   "outputs": [
    {
     "name": "stdout",
     "output_type": "stream",
     "text": [
      "[233.64, 1248.96, 52.14, 1175.94, 130.68, 39.839999999999996, 43.8, 256.56, 828.8399999999999, 1908.06, 10199.84, 425.81, 9603.51, 1067.22, 325.35999999999996, 357.7, 2095.24, 6768.86, 1051.3799999999999, 5620.32, 234.63, 5291.7300000000005, 588.0600000000001, 179.28, 197.1, 1154.52, 3729.7799999999997, 1168.1999999999998, 6244.8, 260.7, 5879.700000000001, 653.4000000000001, 199.2, 219.0, 1282.8, 4144.2, 739.8599999999999, 3955.04, 165.10999999999999, 3723.8100000000004, 413.82000000000005, 126.16, 138.7, 812.4399999999999, 2624.66, 817.74, 4371.36, 182.48999999999998, 4115.79, 457.38, 139.44, 153.29999999999998, 897.9599999999999, 2900.9399999999996, 467.28, 2497.92, 104.28, 2351.88, 261.36, 79.67999999999999, 87.6, 513.12, 1657.6799999999998, 856.68, 4579.5199999999995, 191.17999999999998, 4311.780000000001, 479.16, 146.07999999999998, 160.6, 940.7199999999999, 3039.08, 817.74, 4371.36, 182.48999999999998, 4115.79, 457.38, 139.44, 153.29999999999998, 897.9599999999999, 2900.9399999999996]\n"
     ]
    }
   ],
   "source": [
    "print [q*p for q in Quantity for p in UnitPrice]"
   ]
  },
  {
   "cell_type": "markdown",
   "metadata": {},
   "source": [
    "## Search\n",
    "\n",
    "Instead of filtering a sequence, such as a list, we often just need to know if a particular element is present. We call this **searching** and a search typically returns the index of the found element. If the element is not found, the search returns invalid index -1. For example, recall the searching for 999 visualization from the [search operation](operations.md#search):\n",
    "\n",
    "<img src=\"images/search-rainfall.png\" style=\"width:180px\">\n",
    "\n",
    "Because there is only one, searching for the first and last gets the same element.  \n",
    "\n",
    "Searching is, in some sense, a variation on filtering. The difference is what we do when we find an element for which the condition is true. Instead of adding that element to the target list, a search bails out of the loop. The template for searching a *mylist* sequence for element *e* looks like:\n",
    "\n",
    "*let index be -1*<br>\n",
    "*for i in 0..len(<ins>mylist</ins>)-1:*<br>\n",
    "&nbsp;&nbsp;&nbsp;&nbsp;*if <ins>mylist<sub>i</sub></ins>==<ins>x</ins>*:<br>\n",
    "&nbsp;&nbsp;&nbsp;&nbsp;&nbsp;&nbsp;&nbsp;&nbsp;*index = i*<br>\n",
    "&nbsp;&nbsp;&nbsp;&nbsp;&nbsp;&nbsp;&nbsp;&nbsp;*break out of loop*\n",
    "\n",
    "Translating the pseudocode for the rainfall data to Python looks like this:"
   ]
  },
  {
   "cell_type": "code",
   "execution_count": 28,
   "metadata": {},
   "outputs": [
    {
     "name": "stdout",
     "output_type": "stream",
     "text": [
      "5\n"
     ]
    }
   ],
   "source": [
    "Rainfall = [0, 5, 2, 1, 0, 999, 8]  # our given input\n",
    "index = -1\n",
    "for i in range(len(Rainfall)):      # i is in range [0..n-1] or [0..n)\n",
    "    if Rainfall[i]==999:\n",
    "        index = i\n",
    "        break\n",
    "print index"
   ]
  },
  {
   "cell_type": "markdown",
   "metadata": {},
   "source": [
    "The `break` statement breaks out of the immediately-enclosing loop, regardless of the type of loop."
   ]
  },
  {
   "cell_type": "markdown",
   "metadata": {},
   "source": [
    "### Exercise\n",
    "\n",
    "This code finds the first element of a list satisfying a condition. Alter the code so it finds the last element satisfying the condition that the element is 0. In this case, it should find index 4 not 0. Hint: `reversed(range(...))` gives a range that counts backwards."
   ]
  },
  {
   "cell_type": "code",
   "execution_count": 32,
   "metadata": {},
   "outputs": [
    {
     "name": "stdout",
     "output_type": "stream",
     "text": [
      "4\n"
     ]
    }
   ],
   "source": [
    "index = -1\n",
    "for i in reversed(range(len(Rainfall))):      # i is in range [0..n-1] or [0..n)\n",
    "    if Rainfall[i]==0:\n",
    "        index = i\n",
    "        break\n",
    "print index"
   ]
  },
  {
   "cell_type": "markdown",
   "metadata": {},
   "source": [
    "## Nested loops\n",
    "\n",
    "We sometimes need to repeat repeated instructions, which we call a *nested loop*. For example, the [recipe for risotto](http://allrecipes.com/recipe/85389/gourmet-mushroom-risotto/) we discussed earlier goes on to say:\n",
    "\n",
    "> Continue adding broth 1/2 cup at a time, stirring continuously, until the liquid is absorbed and the rice is *al dente*, about 15 to 20 minutes.\n",
    "\n",
    "We are supposed to add broth until we run out of it, 1/2 cup at a time.  For each 1/2 cup we add, we are to stir until it is absorbed, which we expressed as a single loop previously. Making the recipe more precise, we might express the recipe operation like this using a nested loop:\n",
    "\n",
    "*while there is more broth:*<br>\n",
    "&nbsp;&nbsp;&nbsp;&nbsp;*add 1/2 cup broth to pot*<br>\n",
    "&nbsp;&nbsp;&nbsp;&nbsp;*while broth not absorbed:*<br>\n",
    "&nbsp;&nbsp;&nbsp;&nbsp;&nbsp;&nbsp;&nbsp;&nbsp;*stir rice in pot*\n",
    "\n",
    "We are wrapping our previous loop in an outer loop (\"*while there is more broth*\"). This code pops out from our loop template by identifying the two conditional expressions and the loop operations.\n",
    "\n",
    "In the analytics world, nested loops are hugely important because we use them to process matrices, images, and tables of data."
   ]
  },
  {
   "cell_type": "markdown",
   "metadata": {},
   "source": [
    "### Processing matrices\n",
    "\n",
    "Recall that, while we humans can look at the entire matrix at once, a computer examines each element one-by-one. Take a look at this 3x3 matrix:\n",
    "\n",
    "<img src=\"images/matrixA.png\" style=\"width:100px\">\n",
    "\n",
    "which we can represent in python using a list of list:"
   ]
  },
  {
   "cell_type": "code",
   "execution_count": 2,
   "metadata": {
    "collapsed": true
   },
   "outputs": [],
   "source": [
    "A = [\n",
    "    [1, 3, 10],\n",
    "    [4, -9, 0],\n",
    "    [2, 5, 8]\n",
    "]"
   ]
  },
  {
   "cell_type": "markdown",
   "metadata": {},
   "source": [
    "Because this is not a one-dimensional data structure, we can't use a simple \"for each element in the matrix\" loop to examine each element. The most common pattern for iterating through all elements of an *nrows* x *ncols* matrix looks like this:\n",
    "\n",
    "*for i in 0..nrows-1:*<br>\n",
    "&nbsp;&nbsp;&nbsp;&nbsp;*for j in 0..ncols-1:*<br>\n",
    "&nbsp;&nbsp;&nbsp;&nbsp;&nbsp;&nbsp;&nbsp;&nbsp;*do something with matrix<sub>i,j</sub>*\n",
    "\n",
    "where *matrix<sub>i,j</sub>* accesses the element at row *i* and column *j*.  Such a nested loop gives all possible combinations of *i* and *j*, which is what we want when operating on a matrix. Consider the following translation of that template to Python that prints out all of the two-dimensional indices:"
   ]
  },
  {
   "cell_type": "code",
   "execution_count": 15,
   "metadata": {
    "scrolled": true
   },
   "outputs": [
    {
     "name": "stdout",
     "output_type": "stream",
     "text": [
      "0 0\n",
      "0 1\n",
      "0 2\n",
      "1 0\n",
      "1 1\n",
      "1 2\n",
      "2 0\n",
      "2 1\n",
      "2 2\n"
     ]
    }
   ],
   "source": [
    "nrows = 3  # or len(A)\n",
    "ncols = 3  # or len(A[0]) length of first row\n",
    "for i in range(nrows):\n",
    "    for j in range(ncols):\n",
    "        print i, j"
   ]
  },
  {
   "cell_type": "markdown",
   "metadata": {},
   "source": [
    "Notice how the column *j* value varies more quickly than the row *i* value.  We can reverse this order of traversal by changing the loop order:"
   ]
  },
  {
   "cell_type": "code",
   "execution_count": 14,
   "metadata": {},
   "outputs": [
    {
     "name": "stdout",
     "output_type": "stream",
     "text": [
      "0 0\n",
      "1 0\n",
      "2 0\n",
      "0 1\n",
      "1 1\n",
      "2 1\n",
      "0 2\n",
      "1 2\n",
      "2 2\n"
     ]
    }
   ],
   "source": [
    "for j in range(ncols):\n",
    "    for i in range(nrows):\n",
    "        print i, j"
   ]
  },
  {
   "cell_type": "markdown",
   "metadata": {},
   "source": [
    "With the *j* loop on the outside, it will vary less quickly than the inner *i* loop.\n",
    "\n",
    "Double loops inside list comprehensions give all combinations, which in this case is something we want. The following code example creates a list of string representations of the coordinates:"
   ]
  },
  {
   "cell_type": "code",
   "execution_count": 22,
   "metadata": {},
   "outputs": [
    {
     "name": "stdout",
     "output_type": "stream",
     "text": [
      "['0,0', '0,1', '0,2', '1,0', '1,1', '1,2', '2,0', '2,1', '2,2']\n"
     ]
    }
   ],
   "source": [
    "coords = [str(i)+','+str(j) for i in range(nrows) for j in range(ncols)]\n",
    "print coords"
   ]
  },
  {
   "cell_type": "markdown",
   "metadata": {},
   "source": [
    "Now, let's sum all of the elements of a 3x3 matrix, we let *nrows*=3 and *ncols*=3 and use an addition operation:"
   ]
  },
  {
   "cell_type": "code",
   "execution_count": 25,
   "metadata": {},
   "outputs": [
    {
     "name": "stdout",
     "output_type": "stream",
     "text": [
      "24\n"
     ]
    }
   ],
   "source": [
    "sum = 0\n",
    "for i in range(nrows):\n",
    "    for j in range(ncols):\n",
    "        sum = sum + A[i][j]\n",
    "print sum"
   ]
  },
  {
   "cell_type": "markdown",
   "metadata": {},
   "source": [
    "You might recognize this as a 2D form of an accumulator operation.\n",
    "\n",
    "As a more realistic example, let's add two matrices A and B together to form C. The key operation is to add A<sub>i,j</sub> to B<sub>i,j</sub> to get C<sub>i,j</sub>. Visually, it looks like this:\n",
    "\n",
    "<img src=\"images/ABC.png\" style=\"width:360px\">"
   ]
  },
  {
   "cell_type": "markdown",
   "metadata": {},
   "source": [
    "### Exercise\n",
    "\n",
    "Write out the nested Python indexed loops to add two matrices together, C = A + B. Here are some definitions to get you started:\n",
    "\n",
    "```python\n",
    "A = [\n",
    "    [1, 3, 10],\n",
    "    [4, -9, 0],\n",
    "    [2, 5, 8]\n",
    "]\n",
    "B = [\n",
    "    [7, 4, 0],\n",
    "    [4, 3, 1],\n",
    "    [1, 6, 8]\n",
    "]\n",
    "# Use list comprehension to init list of lists\n",
    "C = [[0]*ncols for i in range(nrows)]\n",
    "```"
   ]
  },
  {
   "cell_type": "code",
   "execution_count": 47,
   "metadata": {},
   "outputs": [
    {
     "name": "stdout",
     "output_type": "stream",
     "text": [
      "[[8, 7, 10], [8, -6, 1], [3, 11, 16]]\n"
     ]
    }
   ],
   "source": [
    "A = [\n",
    "    [1, 3, 10],\n",
    "    [4, -9, 0],\n",
    "    [2, 5, 8]\n",
    "]\n",
    "B = [\n",
    "    [7, 4, 0],\n",
    "    [4, 3, 1],\n",
    "    [1, 6, 8]\n",
    "]\n",
    "# Use list comprehension to init list of lists\n",
    "C = [[0]*ncols for i in range(nrows)]\n",
    "for i in range(nrows):\n",
    "    for j in range(ncols):\n",
    "        C[i][j] = A[i][j] + B[i][j]\n",
    "print C"
   ]
  },
  {
   "cell_type": "markdown",
   "metadata": {},
   "source": [
    "### Exercise\n",
    "\n",
    "Instead of using indexed loops as we've done so far (which is very appropriate for matrices), we can also use nested for each loops. Try this out.\n",
    "\n",
    "Given a list of first names, `first=['Xue', 'Mary', 'Robert']` and a list of last names, `last=['Li', 'Smith', 'Dixon']`, write a nested Python loop to print every combination of first and last name."
   ]
  },
  {
   "cell_type": "code",
   "execution_count": 23,
   "metadata": {},
   "outputs": [
    {
     "name": "stdout",
     "output_type": "stream",
     "text": [
      "Xue Li\n",
      "Xue Smith\n",
      "Xue Dixon\n",
      "Mary Li\n",
      "Mary Smith\n",
      "Mary Dixon\n",
      "Robert Li\n",
      "Robert Smith\n",
      "Robert Dixon\n"
     ]
    }
   ],
   "source": [
    "first=['Xue', 'Mary', 'Robert']\n",
    "last=['Li', 'Smith', 'Dixon']\n",
    "for f in first:\n",
    "    for l in last:\n",
    "        print f+' '+l"
   ]
  },
  {
   "cell_type": "markdown",
   "metadata": {},
   "source": [
    "### Exercise\n",
    "\n",
    "Now repeat that exercise using a double-loop list comprehension."
   ]
  },
  {
   "cell_type": "code",
   "execution_count": 24,
   "metadata": {
    "scrolled": true
   },
   "outputs": [
    {
     "name": "stdout",
     "output_type": "stream",
     "text": [
      "['Xue Li', 'Xue Smith', 'Xue Dixon', 'Mary Li', 'Mary Smith', 'Mary Dixon', 'Robert Li', 'Robert Smith', 'Robert Dixon']\n"
     ]
    }
   ],
   "source": [
    "print [f+' '+l for f in first for l in last]"
   ]
  },
  {
   "cell_type": "markdown",
   "metadata": {},
   "source": [
    "### Exercise\n",
    "\n",
    "The matrix we used in the Split operation was a list of lists but with elements as strings:\n",
    "\n",
    "```python\n",
    "[['1', '2', '3'], ['3', '4', '5']]\n",
    "```\n",
    "\n",
    "Write a nested list comprehension that converts the matrix to have floating-point elements instead of strings. Note that `float('2.4')` is `2.4`. My solution uses nested for-each loops inside the list comprehension."
   ]
  },
  {
   "cell_type": "code",
   "execution_count": 45,
   "metadata": {},
   "outputs": [
    {
     "name": "stdout",
     "output_type": "stream",
     "text": [
      "[[1.0, 2.0, 3.0], [3.0, 4.0, 5.0]]\n"
     ]
    }
   ],
   "source": [
    "matrix = [[float(v) for v in row] for row in matrix]\n",
    "print matrix"
   ]
  },
  {
   "cell_type": "markdown",
   "metadata": {},
   "source": [
    "### Processing images\n",
    "\n",
    "In the images project for this class, we do lots of fun things to images. An image is nothing more than a two-dimensional matrix whose entries are pixel grayscale values from 0 to 255. A pixel value of 0 is black and 255 is white. For example, if we zoom in on an image, we see the individual elements (called pixels) of a two-dimensional matrix:\n",
    "\n",
    "<img src=\"images/obama-zoom.png\" style=\"width:400px\">\n",
    "\n",
    "The only difference between an image and a matrix is that we typically access the elements of an image using x and y coordinates, rather than row and column. The template for a nested loop that accesses each element of an image looks like this:\n",
    "\n",
    "*for x in 0..width-1:*<br>\n",
    "&nbsp;&nbsp;&nbsp;&nbsp;*for y in 0..height-1:*<br>\n",
    "&nbsp;&nbsp;&nbsp;&nbsp;&nbsp;&nbsp;&nbsp;&nbsp;*process pixel<sub>x,y</sub>*<br>\n",
    "\n",
    "Because the *y* coordinate varies faster than the *x* coordinate, the inner loop traverses one vertical stripe. The outer loop shifts *x* to the next vertical stripe to the right."
   ]
  },
  {
   "cell_type": "markdown",
   "metadata": {},
   "source": [
    "### Processing tables\n",
    "\n",
    "Operating on a table is exactly like operating on a matrix, except that the elements are typically heterogeneous. For example, in our table of Oscar winners we see dates, numbers, and strings of text.\n",
    "\n",
    "<img src=\"images/filter-winners.png\" style=\"width:590px\">\n",
    "\n",
    "Instead of using indexes *i* and *j*, we typically use *row* and *col* to index into tables. One of the most common operations is to traverse a specific column. The code template to access the elements of a column for all n rows looks like:\n",
    "\n",
    "*for row in 0..n-1:*<br>\n",
    "&nbsp;&nbsp;&nbsp;&nbsp;*do something with table<sub>row,col</sub>*\n",
    "\n",
    "Because it's customary to use *i* and *j* as loop indices, we might also process a table like this:\n",
    "\n",
    "*for i in 0..n-1:*<br>\n",
    "&nbsp;&nbsp;&nbsp;&nbsp;*do something with table<sub>i,j</sub>*\n",
    "\n",
    "Some think *i* and *j* make the loop more readable. Note here that only the *i* is changing through the loop as we proceed down a column."
   ]
  },
  {
   "cell_type": "markdown",
   "metadata": {},
   "source": [
    "### Exercise\n",
    "\n",
    "Write Python code to sum column index 2 from the Oscars table. You can find the Python for the table definition above."
   ]
  },
  {
   "cell_type": "code",
   "execution_count": 36,
   "metadata": {},
   "outputs": [
    {
     "name": "stdout",
     "output_type": "stream",
     "text": [
      "2\n"
     ]
    }
   ],
   "source": [
    "Oscars = [\n",
    "    [1984, \"A Soldier's Story\", 0],\n",
    "    [1984, 'Places in the Heart', 0],\n",
    "    [1984, 'The Killing Fields', 0],\n",
    "    [1984, 'A Passage to India', 0],\n",
    "    [1984, 'Amadeus', 1],\n",
    "    [1985, \"Prizzi's Honor\", 0],\n",
    "    [1985, 'Kiss of the Spider Woman', 0],\n",
    "    [1985, 'Witness', 0],\n",
    "    [1985, 'The Color Purple', 0],\n",
    "    [1985, 'Out of Africa', 1]\n",
    "]\n",
    "\n",
    "sum = 0\n",
    "for i in range(len(Oscars)):\n",
    "    sum = sum + Oscars[i][2]\n",
    "print sum"
   ]
  }
 ],
 "metadata": {
  "anaconda-cloud": {},
  "kernelspec": {
   "display_name": "Python [default]",
   "language": "python",
   "name": "python2"
  },
  "language_info": {
   "codemirror_mode": {
    "name": "ipython",
    "version": 2
   },
   "file_extension": ".py",
   "mimetype": "text/x-python",
   "name": "python",
   "nbconvert_exporter": "python",
   "pygments_lexer": "ipython2",
   "version": "2.7.12"
  },
  "toc": {
   "colors": {
    "hover_highlight": "#DAA520",
    "navigate_num": "#000000",
    "navigate_text": "#333333",
    "running_highlight": "#FF0000",
    "selected_highlight": "#FFD700",
    "sidebar_border": "#EEEEEE",
    "wrapper_background": "#FFFFFF"
   },
   "moveMenuLeft": true,
   "nav_menu": {
    "height": "122px",
    "width": "252px"
   },
   "navigate_menu": true,
   "number_sections": true,
   "sideBar": true,
   "threshold": 4,
   "toc_cell": false,
   "toc_section_display": "block",
   "toc_window_display": true,
   "widenNotebook": false
  }
 },
 "nbformat": 4,
 "nbformat_minor": 1
}
