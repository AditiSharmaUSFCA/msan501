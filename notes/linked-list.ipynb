{
 "cells": [
  {
   "cell_type": "markdown",
   "metadata": {},
   "source": [
    "# Linked lists\n",
    "\n",
    "We've studied arrays/lists that are built into Python but they are not always the best kind of list to use. Sometimes, we are inserting and deleting things from the head or middle of the list. If we do this with lists implemented as a raise (made up of contiguous cells in memory), we have to move a lot of cells around to make room for a new element or to close a hole made by a deletion.\n",
    "\n",
    "*Linked list* implementations of abstract lists allow us to efficiently insert and remove things anywhere we want, at the cost of more memory."
   ]
  },
  {
   "cell_type": "markdown",
   "metadata": {},
   "source": [
    "## Metaphor for linked lists vs arrays\n",
    "\n",
    "Imagine that I wanted to take roll in class. Since everyone is sitting next to each other, i.e. contiguous, I can simply point from one person to the next by looking to the left or right. That's the way lists work, as contiguous chunks.\n",
    "\n",
    "A linked list requires everybody to not only remember their name but also who is to the right of them (a next pointer).  As long as I remember the first person in the list, I can call that person later and ask for their name. Then I can ask them to refer to the next person in line.  This works even if people distribute across the continent or randomly reassign where they are sitting. There is no requirement that these elements be contiguous because each node in the list has the information needed to get to the next person.\n",
    "\n",
    "A linked list implementation associates a next pointer with each list value. We call these things *nodes* usually: `[value,next]` or `(value,next)`. We also keep a pointer to the *head* of the list and sometimes the *tail* of the list. (The only problem with our implementation will be that tuples don't let us name the elements.)\n",
    "\n",
    "The simplest list has one element with a `next` pointer/reference that points at nothing.\n",
    "\n",
    "```python\n",
    "users = (\"parrt\", None)\n",
    "```\n",
    "<img src=images/links1.png width=200>\n",
    "\n",
    "Here's one with two elements:\n",
    "\n",
    "```python\n",
    "users = (\"parrt\", (\"tombu\", None))\n",
    "```\n",
    "<img src=images/links2.png width=290>\n",
    "\n",
    "and three elements:\n",
    "\n",
    "```python\n",
    "users = (\"parrt\", (\"tombu\", (\"afedosov\", None)))\n",
    "```\n",
    "<img src=images/links3.png width=400>\n",
    "\n",
    "Or, with lists not tuples, because tuples are immutable. We want to be able to change the node `next` pointers:\n",
    "\n",
    "```python\n",
    "a = [\"parrt\", None]\n",
    "b = [\"tombu\", None]\n",
    "c = [\"afedosov\", None]\n",
    "users = a # points to first node of list\n",
    "a[1] = b  # first node's next points to 2nd element\n",
    "b[1] = c\n",
    "```\n",
    "\n",
    "The most basic implementation of a list is just a `head` pointer (here I'm using `users` for a specific list). Creating a linked list is then just a matter of saying `head=None`."
   ]
  },
  {
   "cell_type": "markdown",
   "metadata": {},
   "source": [
    "## Support code\n",
    "\n",
    "Let's add some support code that will make it easier to build and manipulate linked lists. It uses some object-oriented programming syntax from Python, which you can ignore if you want. Basically, I'm defining an object called `Node` that will have two fields `value` and `next`. It's much easier to access field names than `p[0]` and `p[1]`."
   ]
  },
  {
   "cell_type": "code",
   "execution_count": 17,
   "metadata": {
    "collapsed": true
   },
   "outputs": [],
   "source": [
    "class Node:\n",
    "    def __str__(self):\n",
    "        return \"(%s,%s)\" % (self.value, str(self.next))\n",
    "    def __repr__(self):\n",
    "        return \"(%s,%s)\" % (self.value, str(self.next))\n",
    "    def __init__(self, value, next=None):\n",
    "        self.value = value\n",
    "        self.next = next"
   ]
  },
  {
   "cell_type": "markdown",
   "metadata": {},
   "source": [
    "With that definition, we can create lists more naturally:"
   ]
  },
  {
   "cell_type": "code",
   "execution_count": 20,
   "metadata": {},
   "outputs": [
    {
     "name": "stdout",
     "output_type": "stream",
     "text": [
      "(parrt,None) (tombu,None) (dmose,None)\n",
      "(parrt,(tombu,(dmose,None)))\n"
     ]
    }
   ],
   "source": [
    "a = Node(\"parrt\")\n",
    "b = Node(\"tombu\")\n",
    "c = Node(\"dmose\")\n",
    "print a, b, c\n",
    "\n",
    "# Now link them up\n",
    "users = a\n",
    "a.next = b\n",
    "b.next = c\n",
    "print users"
   ]
  },
  {
   "cell_type": "markdown",
   "metadata": {},
   "source": [
    "## Inserting nodes at the head\n",
    "\n",
    "To insert something, say, `x` at the head of a linked list, there are two cases: an empty list and a nonempty list. An empty list is a case where `head=None`, the initial conditions of the list. A nonempty list of course will have `head` pointing at some tuple. Both cases can be handled the same way:\n",
    "\n",
    "```python\n",
    "head = Node(x, head)\n",
    "```\n",
    "\n",
    "That makes a new node holding the new value `x` and a `next` pointer pointing at the old head tuple (even if `None`). Finally, it sets the `head` pointer to point at the new tuple.\n",
    "\n",
    "Inserting in the middle is more complicated. We need to find the node *after* which we want to insert something. Then we hook in the new node."
   ]
  },
  {
   "cell_type": "code",
   "execution_count": 14,
   "metadata": {},
   "outputs": [
    {
     "name": "stdout",
     "output_type": "stream",
     "text": [
      "(parrt,(tombu,(mary,(dmose,None))))\n"
     ]
    }
   ],
   "source": [
    "b.next = Node(\"mary\",b.next)\n",
    "print users"
   ]
  },
  {
   "cell_type": "markdown",
   "metadata": {},
   "source": [
    "## Walking a linked list\n",
    "\n",
    "How do we walk a list? Well, we define a *cursor*  (often called `p` or `q`), which we can think of as just a finger we move along between the nodes in a list. Here's how to walk a linked list and print out the values:"
   ]
  },
  {
   "cell_type": "code",
   "execution_count": 21,
   "metadata": {},
   "outputs": [
    {
     "name": "stdout",
     "output_type": "stream",
     "text": [
      "parrt\n",
      "tombu\n",
      "dmose\n"
     ]
    }
   ],
   "source": [
    "p = users\n",
    "while p is not None:\n",
    "    print p.value\n",
    "    p = p.next"
   ]
  },
  {
   "cell_type": "markdown",
   "metadata": {},
   "source": [
    "## Exercise\n",
    "\n",
    "Create a function called `tostr` that returns a bracketed string like `['parrt', 'tombu', 'dmose']` given a link list `head` as an argument. Hint: Just in the elements to a regular Python list (`[]`) as you find them in the linked list; then return the string representation of that list using `str()`."
   ]
  },
  {
   "cell_type": "code",
   "execution_count": 23,
   "metadata": {},
   "outputs": [
    {
     "name": "stdout",
     "output_type": "stream",
     "text": [
      "['parrt', 'tombu', 'dmose']\n"
     ]
    }
   ],
   "source": [
    "def tostr(head):\n",
    "    p = head\n",
    "    values = []\n",
    "    while p is not None:\n",
    "        values.append(p.value)\n",
    "        p = p.next\n",
    "    return str(values)\n",
    "\n",
    "print tostr(users)"
   ]
  },
  {
   "cell_type": "markdown",
   "metadata": {},
   "source": [
    "## Exercise\n",
    "\n",
    "Implement method called `getitem(head, i)` that returns the ith node in a list `head` starting from zero:"
   ]
  },
  {
   "cell_type": "code",
   "execution_count": 27,
   "metadata": {},
   "outputs": [
    {
     "name": "stdout",
     "output_type": "stream",
     "text": [
      "parrt\n",
      "tombu\n",
      "dmose\n",
      "None\n",
      "None\n"
     ]
    }
   ],
   "source": [
    "def getitem(head,j):\n",
    "    \"Return ith node in the list starting from 0 or return None if invalid index\"\n",
    "    i = 0\n",
    "    p = head\n",
    "    while p is not None:\n",
    "        if i == j:\n",
    "            return p\n",
    "        i = i + 1\n",
    "        p = p.next\n",
    "    return None\n",
    "\n",
    "print getitem(users, 0).value\n",
    "print getitem(users, 1).value\n",
    "print getitem(users, 2).value\n",
    "print getitem(users, -1)\n",
    "print getitem(users, 999)"
   ]
  },
  {
   "cell_type": "markdown",
   "metadata": {},
   "source": [
    "## Delete first element\n",
    "\n",
    "To delete the first node of a list, all we have to do is make the `head` point at what the first node's `next` points at. We want to say head.next but we don't know objects it.\n",
    "\n",
    "```python\n",
    "head = head[1]\n",
    "```\n"
   ]
  },
  {
   "cell_type": "markdown",
   "metadata": {},
   "source": [
    "**Exercise**. After looking through `add` and `delete` and `show` functions, implement `len()`, which will return the number of elements in the list. Hint: start by cutting and pasting the body of `show()` and putting it into the body of `len()`."
   ]
  }
 ],
 "metadata": {
  "kernelspec": {
   "display_name": "Python [default]",
   "language": "python",
   "name": "python2"
  },
  "language_info": {
   "codemirror_mode": {
    "name": "ipython",
    "version": 2
   },
   "file_extension": ".py",
   "mimetype": "text/x-python",
   "name": "python",
   "nbconvert_exporter": "python",
   "pygments_lexer": "ipython2",
   "version": "2.7.12"
  },
  "toc": {
   "colors": {
    "hover_highlight": "#DAA520",
    "navigate_num": "#000000",
    "navigate_text": "#333333",
    "running_highlight": "#FF0000",
    "selected_highlight": "#FFD700",
    "sidebar_border": "#EEEEEE",
    "wrapper_background": "#FFFFFF"
   },
   "moveMenuLeft": true,
   "nav_menu": {
    "height": "159px",
    "width": "252px"
   },
   "navigate_menu": true,
   "number_sections": true,
   "sideBar": true,
   "threshold": 4,
   "toc_cell": false,
   "toc_section_display": "block",
   "toc_window_display": false,
   "widenNotebook": false
  }
 },
 "nbformat": 4,
 "nbformat_minor": 2
}
