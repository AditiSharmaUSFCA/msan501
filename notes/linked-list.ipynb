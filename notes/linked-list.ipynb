{
 "cells": [
  {
   "cell_type": "markdown",
   "metadata": {},
   "source": [
    "# Linked lists\n",
    "\n",
    "We've studied arrays/lists that are built into Python but they are not always the best kind of list to use. Sometimes, we are inserting and deleting things from the head or middle of the list. If we do this with lists implemented as contiguous arrays (made up of contiguous cells in memory), we have to move a lot of cells around to make room for a new element or to close a hole made by a deletion.\n",
    "\n",
    "*Linked list* implementations of abstract lists allow us to efficiently insert and remove things anywhere we want. This flexibility comes at the cost of more memory.\n",
    "\n",
    "The other reason to study linked lists is that the notion of a linked list *node* is easily extended to create hierarchical parent-child data structures called *trees* and then to *graphs* (that track any node->node relationship)."
   ]
  },
  {
   "cell_type": "markdown",
   "metadata": {},
   "source": [
    "## Metaphor for linked lists vs arrays\n",
    "\n",
    "Imagine that I wanted to take roll in class. Since everyone is sitting next to each other, i.e. contiguous, I can simply point from one person to the next by looking to the left or right. That's the way lists work, as contiguous chunks.\n",
    "\n",
    "A linked list requires everybody to not only remember their name but also who is to the right of them (a next pointer).  As long as I remember the first person (the head) in the list, I can call that person later and ask for their name. Then I can ask them to refer to the next person in line.  This works even if people distribute across the continent or randomly reassign where they are sitting. There is no requirement that these elements be contiguous because each node in the list has the information needed to get to the next person.\n",
    "\n",
    "A linked list implementation associates a next pointer with each list value. We call these things *nodes* usually: `[value,next]` or `(value,next)`. We also keep a pointer to the *head* of the list and sometimes the *tail* of the list.\n",
    "\n",
    "The simplest list has one element with a `next` pointer/reference that points at nothing.\n",
    "\n",
    "```python\n",
    "users = (\"parrt\", None)\n",
    "```\n",
    "<img src=\"images/links1.png\" style=\"width:200px\">\n",
    "\n",
    "Here's one with two elements:\n",
    "\n",
    "```python\n",
    "users = (\"parrt\", (\"tombu\", None))\n",
    "```\n",
    "<img src=\"images/links2.png\" style=\"width:290px\">\n",
    "\n",
    "and three elements:\n",
    "\n",
    "```python\n",
    "users = (\"parrt\", (\"tombu\", (\"afedosov\", None)))\n",
    "```\n",
    "<img src=\"images/links3.png\" style=\"width:400px\">\n",
    "\n",
    "In practice, we'll use lists not tuples, because tuples are immutable. We want to be able to change the node `next` pointers:\n",
    "\n",
    "```python\n",
    "a = [\"parrt\", None]\n",
    "b = [\"tombu\", None]\n",
    "c = [\"afedosov\", None]\n",
    "users = a # points to first node of list\n",
    "a[1] = b  # first node's next points to 2nd element\n",
    "b[1] = c\n",
    "```\n",
    "\n",
    "The most basic implementation of a list is just a *head* pointer (here I'm using `users` for a specific list). Creating an empty linked list is then just a matter of saying `users=None`.\n",
    "\n",
    "Naturally, we can store any kind of object we want for the value component, not just strings. We can store numbers or even other lists!"
   ]
  },
  {
   "cell_type": "markdown",
   "metadata": {},
   "source": [
    "## Support code\n",
    "\n",
    "Let's add some support code that will make it easier to build and manipulate linked lists. It uses some object-oriented programming syntax from Python, which you can ignore if you want. Basically, I'm defining an object (a data aggregate) called `Node` that will have two fields `value` and `next`. It's much easier to access field names than `p[0]` and `p[1]` for some tuple/list `p`."
   ]
  },
  {
   "cell_type": "code",
   "execution_count": 1,
   "metadata": {
    "collapsed": true
   },
   "outputs": [],
   "source": [
    "class Node:\n",
    "    def __str__(self):\n",
    "        return \"(%s,%s)\" % (self.value, str(self.next))\n",
    "    def __repr__(self):\n",
    "        return str(self)\n",
    "    def __init__(self, value, next=None):\n",
    "        self.value = value\n",
    "        self.next = next"
   ]
  },
  {
   "cell_type": "markdown",
   "metadata": {},
   "source": [
    "With that definition, we can create lists more naturally:"
   ]
  },
  {
   "cell_type": "code",
   "execution_count": 4,
   "metadata": {
    "collapsed": false
   },
   "outputs": [
    {
     "name": "stdout",
     "output_type": "stream",
     "text": [
      "(parrt,None) (tombu,None) (dmose,None)\n",
      "(parrt,(tombu,(dmose,None)))\n"
     ]
    }
   ],
   "source": [
    "a = Node(\"parrt\")\n",
    "b = Node(\"tombu\")\n",
    "c = Node(\"dmose\")\n",
    "print a, b, c\n",
    "\n",
    "# Now link them up\n",
    "users = a\n",
    "a.next = b\n",
    "b.next = c\n",
    "print users"
   ]
  },
  {
   "cell_type": "markdown",
   "metadata": {},
   "source": [
    "## Inserting nodes at the head\n",
    "\n",
    "Ok, so let's say we create an empty list with `head=None`. To insert something, say, `'hi'` at the head of a linked list, there are two cases: an empty list and a nonempty list. An empty list is a case where `head==None`, the initial conditions of the list. A nonempty list of course will have `head` pointing at some tuple. Both cases can be handled the same way:\n",
    "\n",
    "```python\n",
    "head = Node('hi', head)\n",
    "```\n",
    "\n",
    "That makes a new node holding the new value `'hi'` and a `next` pointer pointing at the old head tuple (even if `None`). Finally, it sets the `head` pointer to point at the new tuple.\n",
    "\n",
    "Inserting in the middle is more complicated. We need to find the node *after* which we want to insert something. Then we hook in the new node.For example, to insert something between `tombu` and `dmose`, we create a new node whose `next` pointer points at `dmose`'s node (what `tombu` points at. Then we set `tombu`'s `next` pointer to point to the new node containing `\"mary\"`:"
   ]
  },
  {
   "cell_type": "code",
   "execution_count": 14,
   "metadata": {
    "collapsed": false
   },
   "outputs": [
    {
     "name": "stdout",
     "output_type": "stream",
     "text": [
      "(parrt,(tombu,(mary,(dmose,None))))\n"
     ]
    }
   ],
   "source": [
    "b.next = Node(\"mary\",b.next)\n",
    "print users"
   ]
  },
  {
   "cell_type": "markdown",
   "metadata": {},
   "source": [
    "## Walking a linked list\n",
    "\n",
    "Assuming we have a linked list constructed, how do we walk that list? With an array, we can just access the *i*th value and move *i* along the list.  To walk a linked list, we have to define a *cursor*  (often called `p` or `q`), which we can think of as just a finger we move along between the nodes in a list. Here's the code pattern to walk a linked list and print out the values:"
   ]
  },
  {
   "cell_type": "code",
   "execution_count": 21,
   "metadata": {
    "collapsed": false
   },
   "outputs": [
    {
     "name": "stdout",
     "output_type": "stream",
     "text": [
      "parrt\n",
      "tombu\n",
      "dmose\n"
     ]
    }
   ],
   "source": [
    "p = users\n",
    "while p is not None:\n",
    "    print p.value\n",
    "    p = p.next"
   ]
  },
  {
   "cell_type": "markdown",
   "metadata": {},
   "source": [
    "### A recursive version\n",
    "\n",
    "There's another way to walk data structures that uses what we call *recursion*. We are familiar with the concept from recurrence relations. In this case, note that starting at any node in the linked list, the rest of the list looks like a linked list. It's like a fractal, where no matter how much you zoom in and it still looks like a fractal.\n",
    "\n",
    "A recursive function call is one that calls the function surrounding it. The most obvious one is:\n",
    "\n",
    "```python\n",
    "def f():\n",
    "    f()\n",
    "```\n",
    "\n",
    "But, that's not very useful because it is an infinite loop.  The first thing the function `f()` does is call it self, causing a loop. We typically have a termination condition that tells it when to stop recursing. \n",
    "\n",
    "Here's how we would recursively walk a list:"
   ]
  },
  {
   "cell_type": "code",
   "execution_count": 22,
   "metadata": {
    "collapsed": false
   },
   "outputs": [
    {
     "name": "stdout",
     "output_type": "stream",
     "text": [
      "parrt\n",
      "tombu\n",
      "dmose\n"
     ]
    }
   ],
   "source": [
    "def walk(p):\n",
    "    if p is None: return\n",
    "    print p.value\n",
    "    walk(p.next)\n",
    "\n",
    "walk(users)"
   ]
  },
  {
   "cell_type": "markdown",
   "metadata": {},
   "source": [
    "## Exercise\n",
    "\n",
    "Create a function called `tostr` that returns a bracketed string like `['parrt', 'tombu', 'dmose']` given a link list `head` as an argument. Hint: Reduce this to a problem we know how to solve. Just add the elements to a regular Python list (`[]`) as you find them in the linked list; then return the string representation of that list using `str()`."
   ]
  },
  {
   "cell_type": "code",
   "execution_count": 23,
   "metadata": {
    "collapsed": false,
    "scrolled": true
   },
   "outputs": [
    {
     "name": "stdout",
     "output_type": "stream",
     "text": [
      "['parrt', 'tombu', 'dmose']\n"
     ]
    }
   ],
   "source": [
    "def tostr(head):\n",
    "    p = head\n",
    "    values = []\n",
    "    while p is not None:\n",
    "        values.append(p.value)\n",
    "        p = p.next\n",
    "    return str(values)\n",
    "\n",
    "print tostr(users)"
   ]
  },
  {
   "cell_type": "markdown",
   "metadata": {},
   "source": [
    "## Exercise\n",
    "\n",
    "Implement method `len(head)` that counts and returns the number of elements in the linked list referred to by `head`.  Return zero if the list is empty. Hint: This is just adding a counter-accumulator pattern to the list walking pattern."
   ]
  },
  {
   "cell_type": "code",
   "execution_count": 6,
   "metadata": {
    "collapsed": true
   },
   "outputs": [],
   "source": [
    "def len(head):\n",
    "    p = head\n",
    "    n = 0\n",
    "    while p is not None:\n",
    "        n = n + 1\n",
    "        p = p.next\n",
    "    return n"
   ]
  },
  {
   "cell_type": "markdown",
   "metadata": {},
   "source": [
    "## Exercise\n",
    "\n",
    "Implement method called `getitem(head, i)` that returns the ith node in a list `head` starting from zero. Hint: Combine a counter-accumulator loop with a search loop (look for counter hitting `i`) and the list walker pattern. Another way to think about this is that it is adding a search pattern to the previous length exercise."
   ]
  },
  {
   "cell_type": "code",
   "execution_count": 5,
   "metadata": {
    "collapsed": false
   },
   "outputs": [
    {
     "name": "stdout",
     "output_type": "stream",
     "text": [
      "parrt\n",
      "tombu\n",
      "dmose\n",
      "None\n",
      "None\n"
     ]
    }
   ],
   "source": [
    "def getitem(head,j):\n",
    "    \"Return ith node in the list starting from 0 or return None if invalid index\"\n",
    "    i = 0\n",
    "    p = head\n",
    "    while p is not None:\n",
    "        if i == j:\n",
    "            return p\n",
    "        i = i + 1\n",
    "        p = p.next\n",
    "    return None\n",
    "\n",
    "print getitem(users, 0).value\n",
    "print getitem(users, 1).value\n",
    "print getitem(users, 2).value\n",
    "print getitem(users, -1)\n",
    "print getitem(users, 999)"
   ]
  },
  {
   "cell_type": "markdown",
   "metadata": {},
   "source": [
    "## Delete first element\n",
    "\n",
    "To delete the first node of a list, all we have to do is make the `head` point at what the first node's `next` points at, being careful to check for the empty list condition:\n",
    "\n",
    "```python\n",
    "if head is not None:\n",
    "    head = head.next\n",
    "```\n"
   ]
  },
  {
   "cell_type": "markdown",
   "metadata": {},
   "source": [
    "## A taste of trees\n",
    "\n",
    "Once we're comfortable with the notion of pointers/references from one node to the other, we can extend nodes to have two pointers instead of just one `next` pointer.   A *binary tree* consists of nodes that have `left` and `right` child pointers; one or both of those pointers can be `None`. A tree reduces to a linked list if each tree node has at most one child.\n",
    "\n",
    "Trees are very common data structure in analytics, particularly machine learning. For example, there is a form of clustering called *hierarchical clustering* that constructs trees of related element groups. Then, one of the most powerful machine learning models is called *random forest* and consists of a collection of decision trees that work together to provide a very strong predictor or classifier.\n",
    "\n",
    "We draw trees upside down from their normal biological perspective. The **root** of the tree is a single node and is drawn at the top of the diagram.  The **leaves** of the tree are the children that themselves have no children.\n",
    "\n",
    "Here is some support code for a tree node that you can safely ignore, except that the tree nodes (data aggregates) contain `value`, `left`, and `right` fields."
   ]
  },
  {
   "cell_type": "code",
   "execution_count": 8,
   "metadata": {
    "collapsed": true
   },
   "outputs": [],
   "source": [
    "class TNode:\n",
    "    def __str__(self):\n",
    "        return \"(%s,%s,%s)\" % (self.value, str(self.left), str(self.right))\n",
    "    def __repr__(self):\n",
    "        return str(self)\n",
    "    def __init__(self, value, left=None, right=None):\n",
    "        self.value = value\n",
    "        self.left = left\n",
    "        self.right = right"
   ]
  },
  {
   "cell_type": "markdown",
   "metadata": {},
   "source": [
    "To test it out, we can create nodes just like linked list nodes and then hook them up as we want:"
   ]
  },
  {
   "cell_type": "code",
   "execution_count": 18,
   "metadata": {
    "collapsed": false,
    "scrolled": false
   },
   "outputs": [
    {
     "name": "stdout",
     "output_type": "stream",
     "text": [
      "(Paul,(Don,(Liz,None,None),(Marcelo,None,None)),None)\n"
     ]
    }
   ],
   "source": [
    "myroot = prez = TNode(\"Paul\")\n",
    "provost = TNode(\"Don\")\n",
    "som = TNode(\"Liz\")\n",
    "cas = TNode(\"Marcelo\")\n",
    "\n",
    "prez.left = provost\n",
    "provost.left = som\n",
    "provost.right = cas\n",
    "\n",
    "print prez"
   ]
  },
  {
   "cell_type": "markdown",
   "metadata": {},
   "source": [
    "To visualize this, we can view the following tuple definition in Python tutor.\n",
    "\n",
    "```python\n",
    "tuples = ('Paul',\n",
    "           ('Don',\n",
    "             ('Liz',    None,None),\n",
    "             ('Marcelo',None,None)\n",
    "           ),\n",
    "           None\n",
    "         )\n",
    "```\n",
    "\n",
    "<img src=\"images/tree-python-tutor.png\" style=\"width:400px\">"
   ]
  },
  {
   "cell_type": "markdown",
   "metadata": {},
   "source": [
    "### Walking trees\n",
    "\n",
    "While it is most common to use a `while` loop to traverse a linked list, is most common to use recursion to traverse a tree. For example, here is how we would print out all the elements in a tree in *preorder*, meaning printing the value added note before it's children."
   ]
  },
  {
   "cell_type": "code",
   "execution_count": 24,
   "metadata": {
    "collapsed": false
   },
   "outputs": [
    {
     "name": "stdout",
     "output_type": "stream",
     "text": [
      "Paul\n",
      "Don\n",
      "Liz\n",
      "Marcelo\n"
     ]
    }
   ],
   "source": [
    "def walk(t):\n",
    "    if t is None: return\n",
    "    print t.value\n",
    "    walk(t.left)\n",
    "    walk(t.right)\n",
    "\n",
    "walk(prez)"
   ]
  }
 ],
 "metadata": {
  "anaconda-cloud": {},
  "kernelspec": {
   "display_name": "Python [default]",
   "language": "python",
   "name": "python2"
  },
  "language_info": {
   "codemirror_mode": {
    "name": "ipython",
    "version": 2
   },
   "file_extension": ".py",
   "mimetype": "text/x-python",
   "name": "python",
   "nbconvert_exporter": "python",
   "pygments_lexer": "ipython2",
   "version": "2.7.12"
  },
  "toc": {
   "colors": {
    "hover_highlight": "#DAA520",
    "navigate_num": "#000000",
    "navigate_text": "#333333",
    "running_highlight": "#FF0000",
    "selected_highlight": "#FFD700",
    "sidebar_border": "#EEEEEE",
    "wrapper_background": "#FFFFFF"
   },
   "moveMenuLeft": true,
   "nav_menu": {
    "height": "159px",
    "width": "252px"
   },
   "navigate_menu": true,
   "number_sections": true,
   "sideBar": true,
   "threshold": 4,
   "toc_cell": false,
   "toc_section_display": "block",
   "toc_window_display": false,
   "widenNotebook": false
  }
 },
 "nbformat": 4,
 "nbformat_minor": 2
}
