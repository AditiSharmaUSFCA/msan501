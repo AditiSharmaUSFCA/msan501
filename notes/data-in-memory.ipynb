{
 "cells": [
  {
   "cell_type": "markdown",
   "metadata": {},
   "source": [
    "# Representing data in memory"
   ]
  },
  {
   "cell_type": "markdown",
   "metadata": {},
   "source": [
    "Step 2 from our program outline calls for us to \"Load data from disk and place into memory organized into data structures\". The way we represent data in memory is critical to building programs. This is particularly true with analytics programs because processing data is our focus.  Let's take a small detour into computer architecture to get a handle on what it means to load something into memory.\n",
    "\n",
    "A computer consists of three primary components: a disk to hold data, a memory (that is wiped upon power off), and a processor (CPU) to process that data. Here is a picture of an actual CPU and some memory chips:\n",
    "\n",
    "<img src=\"images/cpu-memory.png\" width=\"400\">\n",
    "\n",
    "Computer memory is much faster but usually much smaller than the disk and all memory is lost when the computer powers off. Think of memory as your working or scratch space and the disk as your permanent storage. Memory chips are kind of like human short-term memory that is prone to disappearing versus a piece of paper which is slower to read and write but *persistent*.\n",
    "\n",
    "The memory is broken up into discrete cells of a fixed size. The size of a cell is one *byte*, which consists of 8 *bits*, binary on/off digits. It is sufficient to hold a number between 0 and 255. Each cell is identified by an integer address, just like the numbers on mailboxes (see image below and to the right). Processors can ask for the data at a particular address and can store a piece of data at a specific memory location as well. For example, here is an abstract representation of byte-addressable computer memory:\n",
    "\n",
    "<img src=\"images/addresses.png\" width=\"80\"> &nbsp;&nbsp;&nbsp;&nbsp;&nbsp;&nbsp;&nbsp;&nbsp;&nbsp; <img src=\"images/mailboxes.png\"  width=\"70\">\n",
    "\n",
    "In this case, the memory has value 100 at address 0. At address 1, the memory has value 0. Address 4 has the maximum value we can store in a single byte: 255. Everything from actual numbers to music to videos is stored using one or more of these atomic storage units called bytes."
   ]
  },
  {
   "cell_type": "markdown",
   "metadata": {},
   "source": [
    "Programming languages present us with a higher level view of the memory in two ways: we can use names to refer to locations in memory and each memory cell can hold integer and real number values of arbitrary size (they do have a limit, but let's keep things simple for now). For example, here are two named values stored in memory:\n",
    "\n",
    "<img src=\"images/named-memory.png\" width=\"90\">"
   ]
  },
  {
   "cell_type": "code",
   "execution_count": 1,
   "metadata": {},
   "outputs": [],
   "source": [
    "units = 923\n",
    "price = 8.02"
   ]
  },
  {
   "cell_type": "markdown",
   "metadata": {},
   "source": [
    "<img src=\"images/redbang.png\" width=\"30\" align=\"left\">When referring to the kind of thing a value represents, we use the word **type**. The type of the \"units\" cell is integer and the type of \"price\" is real number (or floating-point number)."
   ]
  },
  {
   "cell_type": "code",
   "execution_count": 3,
   "metadata": {},
   "outputs": [
    {
     "data": {
      "text/plain": [
       "int"
      ]
     },
     "execution_count": 3,
     "metadata": {},
     "output_type": "execute_result"
    }
   ],
   "source": [
    "type(units)"
   ]
  },
  {
   "cell_type": "code",
   "execution_count": 4,
   "metadata": {},
   "outputs": [
    {
     "data": {
      "text/plain": [
       "float"
      ]
     },
     "execution_count": 4,
     "metadata": {},
     "output_type": "execute_result"
    }
   ],
   "source": [
    "type(price)"
   ]
  },
  {
   "cell_type": "markdown",
   "metadata": {},
   "source": [
    "Another very common value type is *string*, which is really a list of characters. We use strings to hold place names, book titles, and any other text-based values.  We can think of strings as being a single value because the programming language hides the details.  Strings can be arbitrarily long and the programming language stores the characters as a sequence of bytes in memory. In other words, we think of it as\n",
    "\n",
    "<img src=\"images/strings.png\" width=\"110\">"
   ]
  },
  {
   "cell_type": "code",
   "execution_count": 7,
   "metadata": {},
   "outputs": [],
   "source": [
    "name = \"Mary\""
   ]
  },
  {
   "cell_type": "code",
   "execution_count": 8,
   "metadata": {},
   "outputs": [
    {
     "data": {
      "text/plain": [
       "str"
      ]
     },
     "execution_count": 8,
     "metadata": {},
     "output_type": "execute_result"
    }
   ],
   "source": [
    "type(name)"
   ]
  },
  {
   "cell_type": "markdown",
   "metadata": {},
   "source": [
    "but it is really more like this:\n",
    "\n",
    "<img src=\"images/strings2.png\" width=\"110\">\n",
    "\n",
    "Using package [lolviz](https://github.com/parrt/lolviz) we can visualize even simple types like strings:"
   ]
  },
  {
   "cell_type": "code",
   "execution_count": 19,
   "metadata": {},
   "outputs": [
    {
     "data": {
      "image/svg+xml": [
       "<?xml version=\"1.0\" encoding=\"UTF-8\" standalone=\"no\"?>\n",
       "<!DOCTYPE svg PUBLIC \"-//W3C//DTD SVG 1.1//EN\"\n",
       " \"http://www.w3.org/Graphics/SVG/1.1/DTD/svg11.dtd\">\n",
       "<!-- Generated by graphviz version 2.40.1 (20161225.0304)\n",
       " -->\n",
       "<!-- Title: G Pages: 1 -->\n",
       "<svg width=\"54pt\" height=\"43pt\"\n",
       " viewBox=\"0.00 0.00 54.00 43.00\" xmlns=\"http://www.w3.org/2000/svg\" xmlns:xlink=\"http://www.w3.org/1999/xlink\">\n",
       "<g id=\"graph0\" class=\"graph\" transform=\"scale(1 1) rotate(0) translate(4 39)\">\n",
       "<title>G</title>\n",
       "<polygon fill=\"#ffffff\" stroke=\"transparent\" points=\"-4,4 -4,-39 50,-39 50,4 -4,4\"/>\n",
       "<!-- node4484172072 -->\n",
       "<g id=\"node1\" class=\"node\">\n",
       "<title>node4484172072</title>\n",
       "<polygon fill=\"#fefecd\" stroke=\"#444443\" stroke-width=\".5\" points=\"46,-35 0,-35 0,0 46,0 46,-35\"/>\n",
       "<polygon fill=\"#fbfeb0\" stroke=\"transparent\" points=\"11,-18.5 11,-30.5 17,-30.5 17,-18.5 11,-18.5\"/>\n",
       "<polyline fill=\"none\" stroke=\"#444443\" points=\"11,-18.5 17,-18.5 17,-30.5 \"/>\n",
       "<text text-anchor=\"start\" x=\"12\" y=\"-22.3\" font-family=\"Helvetica,sans-Serif\" font-size=\"9.00\" fill=\"#444443\">0</text>\n",
       "<polygon fill=\"#fbfeb0\" stroke=\"transparent\" points=\"17,-18.5 17,-30.5 23,-30.5 23,-18.5 17,-18.5\"/>\n",
       "<polyline fill=\"none\" stroke=\"#444443\" points=\"17,-18.5 23,-18.5 23,-30.5 \"/>\n",
       "<text text-anchor=\"start\" x=\"18\" y=\"-22.3\" font-family=\"Helvetica,sans-Serif\" font-size=\"9.00\" fill=\"#444443\">1</text>\n",
       "<polygon fill=\"#fbfeb0\" stroke=\"transparent\" points=\"23,-18.5 23,-30.5 29,-30.5 29,-18.5 23,-18.5\"/>\n",
       "<polyline fill=\"none\" stroke=\"#444443\" points=\"23,-18.5 29,-18.5 29,-30.5 \"/>\n",
       "<text text-anchor=\"start\" x=\"24\" y=\"-22.3\" font-family=\"Helvetica,sans-Serif\" font-size=\"9.00\" fill=\"#444443\">2</text>\n",
       "<polygon fill=\"#fbfeb0\" stroke=\"transparent\" points=\"29,-18.5 29,-30.5 35,-30.5 35,-18.5 29,-18.5\"/>\n",
       "<polyline fill=\"none\" stroke=\"#444443\" points=\"29,-18.5 35,-18.5 \"/>\n",
       "<text text-anchor=\"start\" x=\"30\" y=\"-22.3\" font-family=\"Helvetica,sans-Serif\" font-size=\"9.00\" fill=\"#444443\">3</text>\n",
       "<text text-anchor=\"start\" x=\"8\" y=\"-7.3\" font-family=\"Helvetica,sans-Serif\" font-size=\"14.00\" fill=\"#444443\">&#39;</text>\n",
       "<polygon fill=\"#fbfeb0\" stroke=\"transparent\" points=\"11,-3.5 11,-18.5 17,-18.5 17,-3.5 11,-3.5\"/>\n",
       "<text text-anchor=\"start\" x=\"11.5\" y=\"-8.2\" font-family=\"Monaco\" font-size=\"11.00\" fill=\"#444443\">M</text>\n",
       "<polygon fill=\"#fbfeb0\" stroke=\"transparent\" points=\"17,-3.5 17,-18.5 23,-18.5 23,-3.5 17,-3.5\"/>\n",
       "<text text-anchor=\"start\" x=\"17.5\" y=\"-8.2\" font-family=\"Monaco\" font-size=\"11.00\" fill=\"#444443\">a</text>\n",
       "<polygon fill=\"#fbfeb0\" stroke=\"transparent\" points=\"23,-3.5 23,-18.5 29,-18.5 29,-3.5 23,-3.5\"/>\n",
       "<text text-anchor=\"start\" x=\"23.5\" y=\"-8.2\" font-family=\"Monaco\" font-size=\"11.00\" fill=\"#444443\">r</text>\n",
       "<polygon fill=\"#fbfeb0\" stroke=\"transparent\" points=\"29,-3.5 29,-18.5 35,-18.5 35,-3.5 29,-3.5\"/>\n",
       "<text text-anchor=\"start\" x=\"29.5\" y=\"-8.2\" font-family=\"Monaco\" font-size=\"11.00\" fill=\"#444443\">y</text>\n",
       "<text text-anchor=\"start\" x=\"35\" y=\"-7.3\" font-family=\"Helvetica,sans-Serif\" font-size=\"14.00\" fill=\"#444443\">&#39;</text>\n",
       "</g>\n",
       "</g>\n",
       "</svg>\n"
      ],
      "text/plain": [
       "<graphviz.files.Source at 0x10b947f28>"
      ]
     },
     "execution_count": 19,
     "metadata": {},
     "output_type": "execute_result"
    }
   ],
   "source": [
    "from lolviz import *\n",
    "strviz(name) # jupyter lab appears to squish this image :("
   ]
  },
  {
   "cell_type": "code",
   "execution_count": 21,
   "metadata": {},
   "outputs": [
    {
     "data": {
      "image/svg+xml": [
       "<?xml version=\"1.0\" encoding=\"UTF-8\" standalone=\"no\"?>\n",
       "<!DOCTYPE svg PUBLIC \"-//W3C//DTD SVG 1.1//EN\"\n",
       " \"http://www.w3.org/Graphics/SVG/1.1/DTD/svg11.dtd\">\n",
       "<!-- Generated by graphviz version 2.40.1 (20161225.0304)\n",
       " -->\n",
       "<!-- Title: G Pages: 1 -->\n",
       "<svg width=\"65pt\" height=\"40pt\"\n",
       " viewBox=\"0.00 0.00 65.00 40.00\" xmlns=\"http://www.w3.org/2000/svg\" xmlns:xlink=\"http://www.w3.org/1999/xlink\">\n",
       "<g id=\"graph0\" class=\"graph\" transform=\"scale(1 1) rotate(0) translate(4 36)\">\n",
       "<title>G</title>\n",
       "<polygon fill=\"#ffffff\" stroke=\"transparent\" points=\"-4,4 -4,-36 61,-36 61,4 -4,4\"/>\n",
       "<!-- node4484472968 -->\n",
       "<g id=\"node1\" class=\"node\">\n",
       "<title>node4484472968</title>\n",
       "<polygon fill=\"none\" stroke=\"#000000\" stroke-width=\".5\" points=\"57,-32 0,-32 0,0 57,0 57,-32\"/>\n",
       "<polygon fill=\"#fefecd\" stroke=\"transparent\" points=\"1.5,-19 1.5,-31 18.5,-31 18.5,-19 1.5,-19\"/>\n",
       "<polyline fill=\"none\" stroke=\"#000000\" points=\"1.5,-19 18.5,-19 18.5,-31 \"/>\n",
       "<text text-anchor=\"start\" x=\"8\" y=\"-22.8\" font-family=\"Helvetica,sans-Serif\" font-size=\"9.00\" fill=\"#444443\">0</text>\n",
       "<polygon fill=\"#fefecd\" stroke=\"transparent\" points=\"18.5,-19 18.5,-31 32.5,-31 32.5,-19 18.5,-19\"/>\n",
       "<polyline fill=\"none\" stroke=\"#000000\" points=\"18.5,-19 32.5,-19 32.5,-31 \"/>\n",
       "<text text-anchor=\"start\" x=\"23.5\" y=\"-22.8\" font-family=\"Helvetica,sans-Serif\" font-size=\"9.00\" fill=\"#444443\">1</text>\n",
       "<polygon fill=\"#fefecd\" stroke=\"transparent\" points=\"32.5,-19 32.5,-31 44.5,-31 44.5,-19 32.5,-19\"/>\n",
       "<polyline fill=\"none\" stroke=\"#000000\" points=\"32.5,-19 44.5,-19 44.5,-31 \"/>\n",
       "<text text-anchor=\"start\" x=\"36.5\" y=\"-22.8\" font-family=\"Helvetica,sans-Serif\" font-size=\"9.00\" fill=\"#444443\">2</text>\n",
       "<polygon fill=\"#fefecd\" stroke=\"transparent\" points=\"44.5,-19 44.5,-31 56.5,-31 56.5,-19 44.5,-19\"/>\n",
       "<polyline fill=\"none\" stroke=\"#000000\" points=\"44.5,-19 56.5,-19 \"/>\n",
       "<text text-anchor=\"start\" x=\"48.5\" y=\"-22.8\" font-family=\"Helvetica,sans-Serif\" font-size=\"9.00\" fill=\"#444443\">3</text>\n",
       "<polygon fill=\"#fefecd\" stroke=\"transparent\" points=\"1.5,-1 1.5,-19 18.5,-19 18.5,-1 1.5,-1\"/>\n",
       "<polyline fill=\"none\" stroke=\"#000000\" points=\"18.5,-1 18.5,-19 \"/>\n",
       "<text text-anchor=\"start\" x=\"4.5\" y=\"-7.2\" font-family=\"Helvetica,sans-Serif\" font-size=\"11.00\" fill=\"#444443\">&#39;M&#39;</text>\n",
       "<polygon fill=\"#fefecd\" stroke=\"transparent\" points=\"18.5,-1 18.5,-19 32.5,-19 32.5,-1 18.5,-1\"/>\n",
       "<polyline fill=\"none\" stroke=\"#000000\" points=\"32.5,-1 32.5,-19 \"/>\n",
       "<text text-anchor=\"start\" x=\"21.5\" y=\"-7.2\" font-family=\"Helvetica,sans-Serif\" font-size=\"11.00\" fill=\"#444443\">&#39;a&#39;</text>\n",
       "<polygon fill=\"#fefecd\" stroke=\"transparent\" points=\"32.5,-1 32.5,-19 44.5,-19 44.5,-1 32.5,-1\"/>\n",
       "<polyline fill=\"none\" stroke=\"#000000\" points=\"44.5,-1 44.5,-19 \"/>\n",
       "<text text-anchor=\"start\" x=\"35.5\" y=\"-7.2\" font-family=\"Helvetica,sans-Serif\" font-size=\"11.00\" fill=\"#444443\">&#39;r&#39;</text>\n",
       "<polygon fill=\"#fefecd\" stroke=\"transparent\" points=\"44.5,-1 44.5,-19 56.5,-19 56.5,-1 44.5,-1\"/>\n",
       "<text text-anchor=\"start\" x=\"46.5\" y=\"-7.2\" font-family=\"Helvetica,sans-Serif\" font-size=\"11.00\" fill=\"#444443\">&#39;y&#39;</text>\n",
       "</g>\n",
       "</g>\n",
       "</svg>\n"
      ],
      "text/plain": [
       "<graphviz.files.Source at 0x10b947d30>"
      ]
     },
     "execution_count": 21,
     "metadata": {},
     "output_type": "execute_result"
    }
   ],
   "source": [
    "objviz(name) # render as list of char"
   ]
  },
  {
   "cell_type": "markdown",
   "metadata": {},
   "source": [
    "These basic data types:\n",
    "\n",
    "* integer numbers\n",
    "* floating-point numbers\n",
    "* strings\n",
    "\n",
    "are our building blocks. If we arrange some of these blocks together, we can create more complex structures."
   ]
  },
  {
   "cell_type": "markdown",
   "metadata": {},
   "source": [
    "## Data structures"
   ]
  },
  {
   "cell_type": "markdown",
   "metadata": {},
   "source": [
    "### List"
   ]
  },
  {
   "cell_type": "markdown",
   "metadata": {},
   "source": [
    "The most common *data structures* is the **list**, which is just a sequence of memory cells.  Because we're all familiar with spreadsheets, let's visualize these data structures using a spreadsheet.  Columns in a spreadsheet are really lists, such as the following lists/columns of integers, floating-point numbers, and strings:\n",
    "\n",
    "<img src=\"images/int-list.png\" width=\"60\">&nbsp;&nbsp;<img src=\"images/float-list.png\" width=\"80\">&nbsp;&nbsp;<img src=\"images/names-list.png\" width=\"139\">"
   ]
  },
  {
   "cell_type": "code",
   "execution_count": 11,
   "metadata": {},
   "outputs": [],
   "source": [
    "Quantity = [6, 49, 27, 30, 19, 21, 12, 22, 21]"
   ]
  },
  {
   "cell_type": "code",
   "execution_count": 12,
   "metadata": {},
   "outputs": [
    {
     "data": {
      "text/plain": [
       "list"
      ]
     },
     "execution_count": 12,
     "metadata": {},
     "output_type": "execute_result"
    }
   ],
   "source": [
    "type(Quantity)"
   ]
  },
  {
   "cell_type": "code",
   "execution_count": 14,
   "metadata": {},
   "outputs": [
    {
     "data": {
      "image/svg+xml": [
       "<?xml version=\"1.0\" encoding=\"UTF-8\" standalone=\"no\"?>\n",
       "<!DOCTYPE svg PUBLIC \"-//W3C//DTD SVG 1.1//EN\"\n",
       " \"http://www.w3.org/Graphics/SVG/1.1/DTD/svg11.dtd\">\n",
       "<!-- Generated by graphviz version 2.40.1 (20161225.0304)\n",
       " -->\n",
       "<!-- Title: G Pages: 1 -->\n",
       "<svg width=\"147pt\" height=\"40pt\"\n",
       " viewBox=\"0.00 0.00 147.00 40.00\" xmlns=\"http://www.w3.org/2000/svg\" xmlns:xlink=\"http://www.w3.org/1999/xlink\">\n",
       "<g id=\"graph0\" class=\"graph\" transform=\"scale(1 1) rotate(0) translate(4 36)\">\n",
       "<title>G</title>\n",
       "<polygon fill=\"#ffffff\" stroke=\"transparent\" points=\"-4,4 -4,-36 143,-36 143,4 -4,4\"/>\n",
       "<!-- node4484482056 -->\n",
       "<g id=\"node1\" class=\"node\">\n",
       "<title>node4484482056</title>\n",
       "<polygon fill=\"none\" stroke=\"#000000\" stroke-width=\".5\" points=\"139,-32 0,-32 0,0 139,0 139,-32\"/>\n",
       "<polygon fill=\"#fefecd\" stroke=\"transparent\" points=\"1.5,-19 1.5,-31 12.5,-31 12.5,-19 1.5,-19\"/>\n",
       "<polyline fill=\"none\" stroke=\"#000000\" points=\"1.5,-19 12.5,-19 12.5,-31 \"/>\n",
       "<text text-anchor=\"start\" x=\"5\" y=\"-22.8\" font-family=\"Helvetica,sans-Serif\" font-size=\"9.00\" fill=\"#444443\">0</text>\n",
       "<polygon fill=\"#fefecd\" stroke=\"transparent\" points=\"12.5,-19 12.5,-31 28.5,-31 28.5,-19 12.5,-19\"/>\n",
       "<polyline fill=\"none\" stroke=\"#000000\" points=\"12.5,-19 28.5,-19 28.5,-31 \"/>\n",
       "<text text-anchor=\"start\" x=\"18.5\" y=\"-22.8\" font-family=\"Helvetica,sans-Serif\" font-size=\"9.00\" fill=\"#444443\">1</text>\n",
       "<polygon fill=\"#fefecd\" stroke=\"transparent\" points=\"28.5,-19 28.5,-31 44.5,-31 44.5,-19 28.5,-19\"/>\n",
       "<polyline fill=\"none\" stroke=\"#000000\" points=\"28.5,-19 44.5,-19 44.5,-31 \"/>\n",
       "<text text-anchor=\"start\" x=\"34.5\" y=\"-22.8\" font-family=\"Helvetica,sans-Serif\" font-size=\"9.00\" fill=\"#444443\">2</text>\n",
       "<polygon fill=\"#fefecd\" stroke=\"transparent\" points=\"44.5,-19 44.5,-31 60.5,-31 60.5,-19 44.5,-19\"/>\n",
       "<polyline fill=\"none\" stroke=\"#000000\" points=\"44.5,-19 60.5,-19 60.5,-31 \"/>\n",
       "<text text-anchor=\"start\" x=\"50.5\" y=\"-22.8\" font-family=\"Helvetica,sans-Serif\" font-size=\"9.00\" fill=\"#444443\">3</text>\n",
       "<polygon fill=\"#fefecd\" stroke=\"transparent\" points=\"60.5,-19 60.5,-31 76.5,-31 76.5,-19 60.5,-19\"/>\n",
       "<polyline fill=\"none\" stroke=\"#000000\" points=\"60.5,-19 76.5,-19 76.5,-31 \"/>\n",
       "<text text-anchor=\"start\" x=\"66.5\" y=\"-22.8\" font-family=\"Helvetica,sans-Serif\" font-size=\"9.00\" fill=\"#444443\">4</text>\n",
       "<polygon fill=\"#fefecd\" stroke=\"transparent\" points=\"76.5,-19 76.5,-31 92.5,-31 92.5,-19 76.5,-19\"/>\n",
       "<polyline fill=\"none\" stroke=\"#000000\" points=\"76.5,-19 92.5,-19 92.5,-31 \"/>\n",
       "<text text-anchor=\"start\" x=\"82.5\" y=\"-22.8\" font-family=\"Helvetica,sans-Serif\" font-size=\"9.00\" fill=\"#444443\">5</text>\n",
       "<polygon fill=\"#fefecd\" stroke=\"transparent\" points=\"92.5,-19 92.5,-31 108.5,-31 108.5,-19 92.5,-19\"/>\n",
       "<polyline fill=\"none\" stroke=\"#000000\" points=\"92.5,-19 108.5,-19 108.5,-31 \"/>\n",
       "<text text-anchor=\"start\" x=\"98.5\" y=\"-22.8\" font-family=\"Helvetica,sans-Serif\" font-size=\"9.00\" fill=\"#444443\">6</text>\n",
       "<polygon fill=\"#fefecd\" stroke=\"transparent\" points=\"108.5,-19 108.5,-31 124.5,-31 124.5,-19 108.5,-19\"/>\n",
       "<polyline fill=\"none\" stroke=\"#000000\" points=\"108.5,-19 124.5,-19 124.5,-31 \"/>\n",
       "<text text-anchor=\"start\" x=\"114.5\" y=\"-22.8\" font-family=\"Helvetica,sans-Serif\" font-size=\"9.00\" fill=\"#444443\">7</text>\n",
       "<polygon fill=\"#fefecd\" stroke=\"transparent\" points=\"124.5,-19 124.5,-31 138.5,-31 138.5,-19 124.5,-19\"/>\n",
       "<polyline fill=\"none\" stroke=\"#000000\" points=\"124.5,-19 138.5,-19 \"/>\n",
       "<text text-anchor=\"start\" x=\"129.5\" y=\"-22.8\" font-family=\"Helvetica,sans-Serif\" font-size=\"9.00\" fill=\"#444443\">8</text>\n",
       "<polygon fill=\"#fefecd\" stroke=\"transparent\" points=\"1.5,-1 1.5,-19 12.5,-19 12.5,-1 1.5,-1\"/>\n",
       "<polyline fill=\"none\" stroke=\"#000000\" points=\"12.5,-1 12.5,-19 \"/>\n",
       "<text text-anchor=\"start\" x=\"4.5\" y=\"-7.2\" font-family=\"Helvetica,sans-Serif\" font-size=\"11.00\" fill=\"#444443\">6</text>\n",
       "<polygon fill=\"#fefecd\" stroke=\"transparent\" points=\"12.5,-1 12.5,-19 28.5,-19 28.5,-1 12.5,-1\"/>\n",
       "<polyline fill=\"none\" stroke=\"#000000\" points=\"28.5,-1 28.5,-19 \"/>\n",
       "<text text-anchor=\"start\" x=\"15.5\" y=\"-7.2\" font-family=\"Helvetica,sans-Serif\" font-size=\"11.00\" fill=\"#444443\">49</text>\n",
       "<polygon fill=\"#fefecd\" stroke=\"transparent\" points=\"28.5,-1 28.5,-19 44.5,-19 44.5,-1 28.5,-1\"/>\n",
       "<polyline fill=\"none\" stroke=\"#000000\" points=\"44.5,-1 44.5,-19 \"/>\n",
       "<text text-anchor=\"start\" x=\"31.5\" y=\"-7.2\" font-family=\"Helvetica,sans-Serif\" font-size=\"11.00\" fill=\"#444443\">27</text>\n",
       "<polygon fill=\"#fefecd\" stroke=\"transparent\" points=\"44.5,-1 44.5,-19 60.5,-19 60.5,-1 44.5,-1\"/>\n",
       "<polyline fill=\"none\" stroke=\"#000000\" points=\"60.5,-1 60.5,-19 \"/>\n",
       "<text text-anchor=\"start\" x=\"47.5\" y=\"-7.2\" font-family=\"Helvetica,sans-Serif\" font-size=\"11.00\" fill=\"#444443\">30</text>\n",
       "<polygon fill=\"#fefecd\" stroke=\"transparent\" points=\"60.5,-1 60.5,-19 76.5,-19 76.5,-1 60.5,-1\"/>\n",
       "<polyline fill=\"none\" stroke=\"#000000\" points=\"76.5,-1 76.5,-19 \"/>\n",
       "<text text-anchor=\"start\" x=\"63.5\" y=\"-7.2\" font-family=\"Helvetica,sans-Serif\" font-size=\"11.00\" fill=\"#444443\">19</text>\n",
       "<polygon fill=\"#fefecd\" stroke=\"transparent\" points=\"76.5,-1 76.5,-19 92.5,-19 92.5,-1 76.5,-1\"/>\n",
       "<polyline fill=\"none\" stroke=\"#000000\" points=\"92.5,-1 92.5,-19 \"/>\n",
       "<text text-anchor=\"start\" x=\"79.5\" y=\"-7.2\" font-family=\"Helvetica,sans-Serif\" font-size=\"11.00\" fill=\"#444443\">21</text>\n",
       "<polygon fill=\"#fefecd\" stroke=\"transparent\" points=\"92.5,-1 92.5,-19 108.5,-19 108.5,-1 92.5,-1\"/>\n",
       "<polyline fill=\"none\" stroke=\"#000000\" points=\"108.5,-1 108.5,-19 \"/>\n",
       "<text text-anchor=\"start\" x=\"95.5\" y=\"-7.2\" font-family=\"Helvetica,sans-Serif\" font-size=\"11.00\" fill=\"#444443\">12</text>\n",
       "<polygon fill=\"#fefecd\" stroke=\"transparent\" points=\"108.5,-1 108.5,-19 124.5,-19 124.5,-1 108.5,-1\"/>\n",
       "<polyline fill=\"none\" stroke=\"#000000\" points=\"124.5,-1 124.5,-19 \"/>\n",
       "<text text-anchor=\"start\" x=\"111.5\" y=\"-7.2\" font-family=\"Helvetica,sans-Serif\" font-size=\"11.00\" fill=\"#444443\">22</text>\n",
       "<polygon fill=\"#fefecd\" stroke=\"transparent\" points=\"124.5,-1 124.5,-19 138.5,-19 138.5,-1 124.5,-1\"/>\n",
       "<text text-anchor=\"start\" x=\"126.5\" y=\"-7.2\" font-family=\"Helvetica,sans-Serif\" font-size=\"11.00\" fill=\"#444443\">21</text>\n",
       "</g>\n",
       "</g>\n",
       "</svg>\n"
      ],
      "text/plain": [
       "<graphviz.files.Source at 0x10b947be0>"
      ]
     },
     "execution_count": 14,
     "metadata": {},
     "output_type": "execute_result"
    }
   ],
   "source": [
    "objviz(Quantity)"
   ]
  },
  {
   "cell_type": "markdown",
   "metadata": {},
   "source": [
    "We can think of the rows of a spreadsheet as lists also. For example, the header row of a spreadsheet is really a list of strings:\n",
    "\n",
    "<img src=\"images/header-row.png\" width=\"750\">"
   ]
  },
  {
   "cell_type": "code",
   "execution_count": 16,
   "metadata": {},
   "outputs": [
    {
     "data": {
      "text/plain": [
       "list"
      ]
     },
     "execution_count": 16,
     "metadata": {},
     "output_type": "execute_result"
    }
   ],
   "source": [
    "headers = ['Date', 'Quantity', 'Unit Price', 'Shipping']\n",
    "type(headers)"
   ]
  },
  {
   "cell_type": "code",
   "execution_count": 17,
   "metadata": {},
   "outputs": [
    {
     "data": {
      "image/svg+xml": [
       "<?xml version=\"1.0\" encoding=\"UTF-8\" standalone=\"no\"?>\n",
       "<!DOCTYPE svg PUBLIC \"-//W3C//DTD SVG 1.1//EN\"\n",
       " \"http://www.w3.org/Graphics/SVG/1.1/DTD/svg11.dtd\">\n",
       "<!-- Generated by graphviz version 2.40.1 (20161225.0304)\n",
       " -->\n",
       "<!-- Title: G Pages: 1 -->\n",
       "<svg width=\"162pt\" height=\"40pt\"\n",
       " viewBox=\"0.00 0.00 162.00 40.00\" xmlns=\"http://www.w3.org/2000/svg\" xmlns:xlink=\"http://www.w3.org/1999/xlink\">\n",
       "<g id=\"graph0\" class=\"graph\" transform=\"scale(1 1) rotate(0) translate(4 36)\">\n",
       "<title>G</title>\n",
       "<polygon fill=\"#ffffff\" stroke=\"transparent\" points=\"-4,4 -4,-36 158,-36 158,4 -4,4\"/>\n",
       "<!-- node4484574216 -->\n",
       "<g id=\"node1\" class=\"node\">\n",
       "<title>node4484574216</title>\n",
       "<polygon fill=\"none\" stroke=\"#000000\" stroke-width=\".5\" points=\"154,-32 0,-32 0,0 154,0 154,-32\"/>\n",
       "<polygon fill=\"#fefecd\" stroke=\"transparent\" points=\"1,-19 1,-31 28,-31 28,-19 1,-19\"/>\n",
       "<polyline fill=\"none\" stroke=\"#000000\" points=\"1,-19 28,-19 28,-31 \"/>\n",
       "<text text-anchor=\"start\" x=\"12.5\" y=\"-22.8\" font-family=\"Helvetica,sans-Serif\" font-size=\"9.00\" fill=\"#444443\">0</text>\n",
       "<polygon fill=\"#fefecd\" stroke=\"transparent\" points=\"28,-19 28,-31 68,-31 68,-19 28,-19\"/>\n",
       "<polyline fill=\"none\" stroke=\"#000000\" points=\"28,-19 68,-19 68,-31 \"/>\n",
       "<text text-anchor=\"start\" x=\"46\" y=\"-22.8\" font-family=\"Helvetica,sans-Serif\" font-size=\"9.00\" fill=\"#444443\">1</text>\n",
       "<polygon fill=\"#fefecd\" stroke=\"transparent\" points=\"68,-19 68,-31 113,-31 113,-19 68,-19\"/>\n",
       "<polyline fill=\"none\" stroke=\"#000000\" points=\"68,-19 113,-19 113,-31 \"/>\n",
       "<text text-anchor=\"start\" x=\"88.5\" y=\"-22.8\" font-family=\"Helvetica,sans-Serif\" font-size=\"9.00\" fill=\"#444443\">2</text>\n",
       "<polygon fill=\"#fefecd\" stroke=\"transparent\" points=\"113,-19 113,-31 153,-31 153,-19 113,-19\"/>\n",
       "<polyline fill=\"none\" stroke=\"#000000\" points=\"113,-19 153,-19 \"/>\n",
       "<text text-anchor=\"start\" x=\"131\" y=\"-22.8\" font-family=\"Helvetica,sans-Serif\" font-size=\"9.00\" fill=\"#444443\">3</text>\n",
       "<polygon fill=\"#fefecd\" stroke=\"transparent\" points=\"1,-1 1,-19 28,-19 28,-1 1,-1\"/>\n",
       "<polyline fill=\"none\" stroke=\"#000000\" points=\"28,-1 28,-19 \"/>\n",
       "<text text-anchor=\"start\" x=\"4\" y=\"-7.2\" font-family=\"Helvetica,sans-Serif\" font-size=\"11.00\" fill=\"#444443\">&#39;Date&#39;</text>\n",
       "<polygon fill=\"#fefecd\" stroke=\"transparent\" points=\"28,-1 28,-19 68,-19 68,-1 28,-1\"/>\n",
       "<polyline fill=\"none\" stroke=\"#000000\" points=\"68,-1 68,-19 \"/>\n",
       "<text text-anchor=\"start\" x=\"31\" y=\"-7.2\" font-family=\"Helvetica,sans-Serif\" font-size=\"11.00\" fill=\"#444443\">&#39;Quantity&#39;</text>\n",
       "<polygon fill=\"#fefecd\" stroke=\"transparent\" points=\"68,-1 68,-19 113,-19 113,-1 68,-1\"/>\n",
       "<polyline fill=\"none\" stroke=\"#000000\" points=\"113,-1 113,-19 \"/>\n",
       "<text text-anchor=\"start\" x=\"71\" y=\"-7.2\" font-family=\"Helvetica,sans-Serif\" font-size=\"11.00\" fill=\"#444443\">&#39;Unit Price&#39;</text>\n",
       "<polygon fill=\"#fefecd\" stroke=\"transparent\" points=\"113,-1 113,-19 153,-19 153,-1 113,-1\"/>\n",
       "<text text-anchor=\"start\" x=\"115\" y=\"-7.2\" font-family=\"Helvetica,sans-Serif\" font-size=\"11.00\" fill=\"#444443\">&#39;Shipping&#39;</text>\n",
       "</g>\n",
       "</g>\n",
       "</svg>\n"
      ],
      "text/plain": [
       "<graphviz.files.Source at 0x10b947dd8>"
      ]
     },
     "execution_count": 17,
     "metadata": {},
     "output_type": "execute_result"
    }
   ],
   "source": [
    "objviz(headers)"
   ]
  },
  {
   "cell_type": "markdown",
   "metadata": {},
   "source": [
    "All of these lists have one thing in common: the type of element is the same. They are *homogeneous*. But, we can also have lists with *heterogeneous* elements, which is typically what we see in spreadsheet rows:\n",
    "\n",
    "<img src=\"images/sample-row.png\" width=\"800\">"
   ]
  },
  {
   "cell_type": "code",
   "execution_count": null,
   "metadata": {},
   "outputs": [],
   "source": [
    "arow = ['10/13/10', 6, 38.94, 35, 'Muhammed MacIntyre']"
   ]
  },
  {
   "cell_type": "markdown",
   "metadata": {},
   "source": [
    "or"
   ]
  },
  {
   "cell_type": "code",
   "execution_count": 22,
   "metadata": {},
   "outputs": [
    {
     "data": {
      "text/plain": [
       "[datetime.date(2010, 10, 13), 6, 38.94, 35, 'Muhammed MacIntyre']"
      ]
     },
     "execution_count": 22,
     "metadata": {},
     "output_type": "execute_result"
    }
   ],
   "source": [
    "from datetime import date\n",
    "arow = [date(2010, 10, 13), 6, 38.94, 35, 'Muhammed MacIntyre']\n",
    "arow"
   ]
  },
  {
   "cell_type": "code",
   "execution_count": 23,
   "metadata": {},
   "outputs": [
    {
     "data": {
      "text/plain": [
       "list"
      ]
     },
     "execution_count": 23,
     "metadata": {},
     "output_type": "execute_result"
    }
   ],
   "source": [
    "type(arow)"
   ]
  },
  {
   "cell_type": "code",
   "execution_count": 26,
   "metadata": {},
   "outputs": [
    {
     "data": {
      "image/svg+xml": [
       "<?xml version=\"1.0\" encoding=\"UTF-8\" standalone=\"no\"?>\n",
       "<!DOCTYPE svg PUBLIC \"-//W3C//DTD SVG 1.1//EN\"\n",
       " \"http://www.w3.org/Graphics/SVG/1.1/DTD/svg11.dtd\">\n",
       "<!-- Generated by graphviz version 2.40.1 (20161225.0304)\n",
       " -->\n",
       "<!-- Title: G Pages: 1 -->\n",
       "<svg width=\"262pt\" height=\"40pt\"\n",
       " viewBox=\"0.00 0.00 262.00 40.00\" xmlns=\"http://www.w3.org/2000/svg\" xmlns:xlink=\"http://www.w3.org/1999/xlink\">\n",
       "<g id=\"graph0\" class=\"graph\" transform=\"scale(1 1) rotate(0) translate(4 36)\">\n",
       "<title>G</title>\n",
       "<polygon fill=\"#ffffff\" stroke=\"transparent\" points=\"-4,4 -4,-36 258,-36 258,4 -4,4\"/>\n",
       "<!-- node4484593416 -->\n",
       "<g id=\"node1\" class=\"node\">\n",
       "<title>node4484593416</title>\n",
       "<polygon fill=\"none\" stroke=\"#000000\" stroke-width=\".5\" points=\"254,-32 0,-32 0,0 254,0 254,-32\"/>\n",
       "<polygon fill=\"#fefecd\" stroke=\"transparent\" points=\"1,-19 1,-31 109,-31 109,-19 1,-19\"/>\n",
       "<polyline fill=\"none\" stroke=\"#000000\" points=\"1,-19 109,-19 109,-31 \"/>\n",
       "<text text-anchor=\"start\" x=\"53\" y=\"-22.8\" font-family=\"Helvetica,sans-Serif\" font-size=\"9.00\" fill=\"#444443\">0</text>\n",
       "<polygon fill=\"#fefecd\" stroke=\"transparent\" points=\"109,-19 109,-31 120,-31 120,-19 109,-19\"/>\n",
       "<polyline fill=\"none\" stroke=\"#000000\" points=\"109,-19 120,-19 120,-31 \"/>\n",
       "<text text-anchor=\"start\" x=\"112.5\" y=\"-22.8\" font-family=\"Helvetica,sans-Serif\" font-size=\"9.00\" fill=\"#444443\">1</text>\n",
       "<polygon fill=\"#fefecd\" stroke=\"transparent\" points=\"120,-19 120,-31 147,-31 147,-19 120,-19\"/>\n",
       "<polyline fill=\"none\" stroke=\"#000000\" points=\"120,-19 147,-19 147,-31 \"/>\n",
       "<text text-anchor=\"start\" x=\"131.5\" y=\"-22.8\" font-family=\"Helvetica,sans-Serif\" font-size=\"9.00\" fill=\"#444443\">2</text>\n",
       "<polygon fill=\"#fefecd\" stroke=\"transparent\" points=\"147,-19 147,-31 163,-31 163,-19 147,-19\"/>\n",
       "<polyline fill=\"none\" stroke=\"#000000\" points=\"147,-19 163,-19 163,-31 \"/>\n",
       "<text text-anchor=\"start\" x=\"153\" y=\"-22.8\" font-family=\"Helvetica,sans-Serif\" font-size=\"9.00\" fill=\"#444443\">3</text>\n",
       "<polygon fill=\"#fefecd\" stroke=\"transparent\" points=\"163,-19 163,-31 253,-31 253,-19 163,-19\"/>\n",
       "<polyline fill=\"none\" stroke=\"#000000\" points=\"163,-19 253,-19 \"/>\n",
       "<text text-anchor=\"start\" x=\"206\" y=\"-22.8\" font-family=\"Helvetica,sans-Serif\" font-size=\"9.00\" fill=\"#444443\">4</text>\n",
       "<polygon fill=\"#fefecd\" stroke=\"transparent\" points=\"1,-1 1,-19 109,-19 109,-1 1,-1\"/>\n",
       "<polyline fill=\"none\" stroke=\"#000000\" points=\"109,-1 109,-19 \"/>\n",
       "<text text-anchor=\"start\" x=\"4\" y=\"-7.2\" font-family=\"Helvetica,sans-Serif\" font-size=\"11.00\" fill=\"#444443\">datetime.date(2010, 10, 13)</text>\n",
       "<polygon fill=\"#fefecd\" stroke=\"transparent\" points=\"109,-1 109,-19 120,-19 120,-1 109,-1\"/>\n",
       "<polyline fill=\"none\" stroke=\"#000000\" points=\"120,-1 120,-19 \"/>\n",
       "<text text-anchor=\"start\" x=\"112\" y=\"-7.2\" font-family=\"Helvetica,sans-Serif\" font-size=\"11.00\" fill=\"#444443\">6</text>\n",
       "<polygon fill=\"#fefecd\" stroke=\"transparent\" points=\"120,-1 120,-19 147,-19 147,-1 120,-1\"/>\n",
       "<polyline fill=\"none\" stroke=\"#000000\" points=\"147,-1 147,-19 \"/>\n",
       "<text text-anchor=\"start\" x=\"123\" y=\"-7.2\" font-family=\"Helvetica,sans-Serif\" font-size=\"11.00\" fill=\"#444443\">38.94</text>\n",
       "<polygon fill=\"#fefecd\" stroke=\"transparent\" points=\"147,-1 147,-19 163,-19 163,-1 147,-1\"/>\n",
       "<polyline fill=\"none\" stroke=\"#000000\" points=\"163,-1 163,-19 \"/>\n",
       "<text text-anchor=\"start\" x=\"150\" y=\"-7.2\" font-family=\"Helvetica,sans-Serif\" font-size=\"11.00\" fill=\"#444443\">35</text>\n",
       "<polygon fill=\"#fefecd\" stroke=\"transparent\" points=\"163,-1 163,-19 253,-19 253,-1 163,-1\"/>\n",
       "<text text-anchor=\"start\" x=\"165\" y=\"-7.2\" font-family=\"Helvetica,sans-Serif\" font-size=\"11.00\" fill=\"#444443\">&#39;Muhammed MacIntyre&#39;</text>\n",
       "</g>\n",
       "</g>\n",
       "</svg>\n"
      ],
      "text/plain": [
       "<graphviz.files.Source at 0x10b8df320>"
      ]
     },
     "execution_count": 26,
     "metadata": {},
     "output_type": "execute_result"
    }
   ],
   "source": [
    "listviz(arow)"
   ]
  },
  {
   "cell_type": "markdown",
   "metadata": {},
   "source": [
    "Heterogeneous lists are typically used to group bits of information about a particular entity. In machine learning, we call this a **feature vector**, an **instance**, or an **observation**.  For example, an apples versus oranges classifier might have feature vectors containing weight (number), volume (number), and color (string).  The important point here is that a list can also be used to as a way to aggregate features about a particular entity. The sequence of the elements is less important than the fact that they are contained (aggregated) within the same list. We will see this notion again when we talk about *tuples* in [Extracting information from text](text.ipynb)."
   ]
  },
  {
   "cell_type": "markdown",
   "metadata": {},
   "source": [
    "### Set"
   ]
  },
  {
   "cell_type": "markdown",
   "metadata": {},
   "source": [
    "If we enforce a rule that all elements within a list are unique, then we get a **set**. Sets are unordered."
   ]
  },
  {
   "cell_type": "code",
   "execution_count": 34,
   "metadata": {},
   "outputs": [
    {
     "data": {
      "text/plain": [
       "{100, 102, 103, 113, 121}"
      ]
     },
     "execution_count": 34,
     "metadata": {},
     "output_type": "execute_result"
    }
   ],
   "source": [
    "ids = {100, 103, 121, 102, 113, 113, 113, 113}\n",
    "ids"
   ]
  },
  {
   "cell_type": "code",
   "execution_count": 35,
   "metadata": {},
   "outputs": [
    {
     "data": {
      "text/plain": [
       "set"
      ]
     },
     "execution_count": 35,
     "metadata": {},
     "output_type": "execute_result"
    }
   ],
   "source": [
    "type(ids)"
   ]
  },
  {
   "cell_type": "code",
   "execution_count": 36,
   "metadata": {},
   "outputs": [
    {
     "data": {
      "image/svg+xml": [
       "<?xml version=\"1.0\" encoding=\"UTF-8\" standalone=\"no\"?>\n",
       "<!DOCTYPE svg PUBLIC \"-//W3C//DTD SVG 1.1//EN\"\n",
       " \"http://www.w3.org/Graphics/SVG/1.1/DTD/svg11.dtd\">\n",
       "<!-- Generated by graphviz version 2.40.1 (20161225.0304)\n",
       " -->\n",
       "<!-- Title: G Pages: 1 -->\n",
       "<svg width=\"108pt\" height=\"40pt\"\n",
       " viewBox=\"0.00 0.00 108.00 40.00\" xmlns=\"http://www.w3.org/2000/svg\" xmlns:xlink=\"http://www.w3.org/1999/xlink\">\n",
       "<g id=\"graph0\" class=\"graph\" transform=\"scale(1 1) rotate(0) translate(4 36)\">\n",
       "<title>G</title>\n",
       "<polygon fill=\"#ffffff\" stroke=\"transparent\" points=\"-4,4 -4,-36 104,-36 104,4 -4,4\"/>\n",
       "<!-- node4485335944 -->\n",
       "<g id=\"node1\" class=\"node\">\n",
       "<title>node4485335944</title>\n",
       "<polygon fill=\"none\" stroke=\"#000000\" stroke-width=\".5\" points=\"100,-32 0,-32 0,0 100,0 100,-32\"/>\n",
       "<polygon fill=\"#fefecd\" stroke=\"transparent\" points=\"1,-19 1,-31 21,-31 21,-19 1,-19\"/>\n",
       "<polyline fill=\"none\" stroke=\"#000000\" points=\"1,-19 21,-19 21,-31 \"/>\n",
       "<text text-anchor=\"start\" x=\"9\" y=\"-22.8\" font-family=\"Helvetica,sans-Serif\" font-size=\"9.00\" fill=\"#444443\">0</text>\n",
       "<polygon fill=\"#fefecd\" stroke=\"transparent\" points=\"21,-19 21,-31 41,-31 41,-19 21,-19\"/>\n",
       "<polyline fill=\"none\" stroke=\"#000000\" points=\"21,-19 41,-19 41,-31 \"/>\n",
       "<text text-anchor=\"start\" x=\"29\" y=\"-22.8\" font-family=\"Helvetica,sans-Serif\" font-size=\"9.00\" fill=\"#444443\">1</text>\n",
       "<polygon fill=\"#fefecd\" stroke=\"transparent\" points=\"41,-19 41,-31 61,-31 61,-19 41,-19\"/>\n",
       "<polyline fill=\"none\" stroke=\"#000000\" points=\"41,-19 61,-19 61,-31 \"/>\n",
       "<text text-anchor=\"start\" x=\"49\" y=\"-22.8\" font-family=\"Helvetica,sans-Serif\" font-size=\"9.00\" fill=\"#444443\">2</text>\n",
       "<polygon fill=\"#fefecd\" stroke=\"transparent\" points=\"61,-19 61,-31 81,-31 81,-19 61,-19\"/>\n",
       "<polyline fill=\"none\" stroke=\"#000000\" points=\"61,-19 81,-19 81,-31 \"/>\n",
       "<text text-anchor=\"start\" x=\"69\" y=\"-22.8\" font-family=\"Helvetica,sans-Serif\" font-size=\"9.00\" fill=\"#444443\">3</text>\n",
       "<polygon fill=\"#fefecd\" stroke=\"transparent\" points=\"81,-19 81,-31 99,-31 99,-19 81,-19\"/>\n",
       "<polyline fill=\"none\" stroke=\"#000000\" points=\"81,-19 99,-19 \"/>\n",
       "<text text-anchor=\"start\" x=\"88\" y=\"-22.8\" font-family=\"Helvetica,sans-Serif\" font-size=\"9.00\" fill=\"#444443\">4</text>\n",
       "<polygon fill=\"#fefecd\" stroke=\"transparent\" points=\"1,-1 1,-19 21,-19 21,-1 1,-1\"/>\n",
       "<polyline fill=\"none\" stroke=\"#000000\" points=\"21,-1 21,-19 \"/>\n",
       "<text text-anchor=\"start\" x=\"4\" y=\"-7.2\" font-family=\"Helvetica,sans-Serif\" font-size=\"11.00\" fill=\"#444443\">100</text>\n",
       "<polygon fill=\"#fefecd\" stroke=\"transparent\" points=\"21,-1 21,-19 41,-19 41,-1 21,-1\"/>\n",
       "<polyline fill=\"none\" stroke=\"#000000\" points=\"41,-1 41,-19 \"/>\n",
       "<text text-anchor=\"start\" x=\"24\" y=\"-7.2\" font-family=\"Helvetica,sans-Serif\" font-size=\"11.00\" fill=\"#444443\">102</text>\n",
       "<polygon fill=\"#fefecd\" stroke=\"transparent\" points=\"41,-1 41,-19 61,-19 61,-1 41,-1\"/>\n",
       "<polyline fill=\"none\" stroke=\"#000000\" points=\"61,-1 61,-19 \"/>\n",
       "<text text-anchor=\"start\" x=\"44\" y=\"-7.2\" font-family=\"Helvetica,sans-Serif\" font-size=\"11.00\" fill=\"#444443\">103</text>\n",
       "<polygon fill=\"#fefecd\" stroke=\"transparent\" points=\"61,-1 61,-19 81,-19 81,-1 61,-1\"/>\n",
       "<polyline fill=\"none\" stroke=\"#000000\" points=\"81,-1 81,-19 \"/>\n",
       "<text text-anchor=\"start\" x=\"64\" y=\"-7.2\" font-family=\"Helvetica,sans-Serif\" font-size=\"11.00\" fill=\"#444443\">113</text>\n",
       "<polygon fill=\"#fefecd\" stroke=\"transparent\" points=\"81,-1 81,-19 99,-19 99,-1 81,-1\"/>\n",
       "<text text-anchor=\"start\" x=\"83\" y=\"-7.2\" font-family=\"Helvetica,sans-Serif\" font-size=\"11.00\" fill=\"#444443\">121</text>\n",
       "</g>\n",
       "</g>\n",
       "</svg>\n"
      ],
      "text/plain": [
       "<graphviz.files.Source at 0x10b510b00>"
      ]
     },
     "execution_count": 36,
     "metadata": {},
     "output_type": "execute_result"
    }
   ],
   "source": [
    "objviz(ids)"
   ]
  },
  {
   "cell_type": "markdown",
   "metadata": {},
   "source": [
    "We can do lots of fun set arithmetic:"
   ]
  },
  {
   "cell_type": "code",
   "execution_count": 32,
   "metadata": {},
   "outputs": [
    {
     "data": {
      "text/plain": [
       "{100, 102, 109}"
      ]
     },
     "execution_count": 32,
     "metadata": {},
     "output_type": "execute_result"
    }
   ],
   "source": [
    "{100,102}.union({109})"
   ]
  },
  {
   "cell_type": "code",
   "execution_count": 33,
   "metadata": {},
   "outputs": [
    {
     "data": {
      "text/plain": [
       "{100}"
      ]
     },
     "execution_count": 33,
     "metadata": {},
     "output_type": "execute_result"
    }
   ],
   "source": [
    "{100,102}.intersection({100,119})"
   ]
  },
  {
   "cell_type": "markdown",
   "metadata": {},
   "source": [
    "### Tables (list of lists)"
   ]
  },
  {
   "cell_type": "markdown",
   "metadata": {},
   "source": [
    "Spreadsheets arrange rows one after the other, which programmers interpret as a *list of lists.* In the analytics or database world, we call this a **table**:\n",
    "\n",
    "<img src=\"images/rows.png\" width=\"700\">\n",
    "\n",
    "In this example, each row represents a sales transaction.\n",
    "\n",
    "The input to machine learning algorithms is often a table where each row aggregates the data associated with a specific instance or observation. These tables are called **dataframes** and will become your BFF."
   ]
  },
  {
   "cell_type": "code",
   "execution_count": 52,
   "metadata": {},
   "outputs": [
    {
     "data": {
      "text/html": [
       "<div>\n",
       "<style scoped>\n",
       "    .dataframe tbody tr th:only-of-type {\n",
       "        vertical-align: middle;\n",
       "    }\n",
       "\n",
       "    .dataframe tbody tr th {\n",
       "        vertical-align: top;\n",
       "    }\n",
       "\n",
       "    .dataframe thead th {\n",
       "        text-align: right;\n",
       "    }\n",
       "</style>\n",
       "<table border=\"1\" class=\"dataframe\">\n",
       "  <thead>\n",
       "    <tr style=\"text-align: right;\">\n",
       "      <th></th>\n",
       "      <th>ID</th>\n",
       "      <th>user</th>\n",
       "    </tr>\n",
       "  </thead>\n",
       "  <tbody>\n",
       "    <tr>\n",
       "      <th>0</th>\n",
       "      <td>99</td>\n",
       "      <td>parrt</td>\n",
       "    </tr>\n",
       "    <tr>\n",
       "      <th>1</th>\n",
       "      <td>101</td>\n",
       "      <td>sri</td>\n",
       "    </tr>\n",
       "    <tr>\n",
       "      <th>2</th>\n",
       "      <td>42</td>\n",
       "      <td>kayla</td>\n",
       "    </tr>\n",
       "  </tbody>\n",
       "</table>\n",
       "</div>"
      ],
      "text/plain": [
       "    ID   user\n",
       "0   99  parrt\n",
       "1  101    sri\n",
       "2   42  kayla"
      ]
     },
     "execution_count": 52,
     "metadata": {},
     "output_type": "execute_result"
    }
   ],
   "source": [
    "from pandas import DataFrame\n",
    "\n",
    "df = DataFrame(data=[[99,'parrt'],[101,'sri'],[42,'kayla']],\n",
    "               columns=['ID','user'])\n",
    "df"
   ]
  },
  {
   "cell_type": "code",
   "execution_count": 53,
   "metadata": {},
   "outputs": [
    {
     "data": {
      "text/plain": [
       "array([[99, 'parrt'],\n",
       "       [101, 'sri'],\n",
       "       [42, 'kayla']], dtype=object)"
      ]
     },
     "execution_count": 53,
     "metadata": {},
     "output_type": "execute_result"
    }
   ],
   "source": [
    "df.values"
   ]
  },
  {
   "cell_type": "code",
   "execution_count": 54,
   "metadata": {},
   "outputs": [
    {
     "data": {
      "text/plain": [
       "Index(['ID', 'user'], dtype='object')"
      ]
     },
     "execution_count": 54,
     "metadata": {},
     "output_type": "execute_result"
    }
   ],
   "source": [
    "df.columns"
   ]
  },
  {
   "cell_type": "code",
   "execution_count": 56,
   "metadata": {},
   "outputs": [
    {
     "data": {
      "text/plain": [
       "0    parrt\n",
       "1      sri\n",
       "2    kayla\n",
       "Name: user, dtype: object"
      ]
     },
     "execution_count": 56,
     "metadata": {},
     "output_type": "execute_result"
    }
   ],
   "source": [
    "df.user"
   ]
  },
  {
   "cell_type": "markdown",
   "metadata": {},
   "source": [
    "### Matrix"
   ]
  },
  {
   "cell_type": "markdown",
   "metadata": {},
   "source": [
    "If the table elements are all numbers, we call it a **matrix**. Here's a matrix with 5 rows and 2 columns:\n",
    "\n",
    "<img src=\"images/matrix.png\" width=\"110\">\n",
    "\n",
    "Let me introduce you to another of your new BFF:"
   ]
  },
  {
   "cell_type": "code",
   "execution_count": 61,
   "metadata": {},
   "outputs": [
    {
     "name": "stdout",
     "output_type": "stream",
     "text": [
      "[[ 19  11]\n",
      " [ 21  15]\n",
      " [103  18]\n",
      " [ 99  13]\n",
      " [  8   2]]\n"
     ]
    }
   ],
   "source": [
    "import numpy as np\n",
    "A = np.array([[19,11],\n",
    "              [21,15],\n",
    "              [103,18],\n",
    "              [99,13],\n",
    "              [8,2]])\n",
    "print(A)"
   ]
  },
  {
   "cell_type": "code",
   "execution_count": 68,
   "metadata": {},
   "outputs": [
    {
     "data": {
      "text/plain": [
       "(5, 2)"
      ]
     },
     "execution_count": 68,
     "metadata": {},
     "output_type": "execute_result"
    }
   ],
   "source": [
    "A.shape"
   ]
  },
  {
   "cell_type": "markdown",
   "metadata": {},
   "source": [
    "We can do lots of matrix math with numpy:"
   ]
  },
  {
   "cell_type": "code",
   "execution_count": 62,
   "metadata": {},
   "outputs": [
    {
     "name": "stdout",
     "output_type": "stream",
     "text": [
      "[[ 38  22]\n",
      " [ 42  30]\n",
      " [206  36]\n",
      " [198  26]\n",
      " [ 16   4]]\n"
     ]
    }
   ],
   "source": [
    "print(A+A)"
   ]
  },
  {
   "cell_type": "code",
   "execution_count": 63,
   "metadata": {},
   "outputs": [
    {
     "name": "stdout",
     "output_type": "stream",
     "text": [
      "[[ 1881  1089]\n",
      " [ 2079  1485]\n",
      " [10197  1782]\n",
      " [ 9801  1287]\n",
      " [  792   198]]\n"
     ]
    }
   ],
   "source": [
    "print(A*99)"
   ]
  },
  {
   "cell_type": "code",
   "execution_count": 69,
   "metadata": {},
   "outputs": [
    {
     "data": {
      "text/plain": [
       "array([[ 19,  21, 103,  99,   8],\n",
       "       [ 11,  15,  18,  13,   2]])"
      ]
     },
     "execution_count": 69,
     "metadata": {},
     "output_type": "execute_result"
    }
   ],
   "source": [
    "A.T #transpose"
   ]
  },
  {
   "cell_type": "markdown",
   "metadata": {},
   "source": [
    "Systems of equations: $A x = b$, $x = A^{-1} b$:\n",
    "\n",
    "\\begin{equation*}\n",
    "\\begin{bmatrix}\n",
    "38 & 22\\\\\n",
    "42 & 30\n",
    "\\end{bmatrix}\n",
    "\\begin{bmatrix}\n",
    "x_1  \\\\\n",
    "x_2 \n",
    "\\end{bmatrix} =\n",
    "\\begin{bmatrix}\n",
    "3 \\\\\n",
    "5 \n",
    "\\end{bmatrix}\n",
    "\\end{equation*}"
   ]
  },
  {
   "cell_type": "code",
   "execution_count": 87,
   "metadata": {},
   "outputs": [
    {
     "name": "stdout",
     "output_type": "stream",
     "text": [
      "[-0.09259259  0.2962963 ]\n"
     ]
    }
   ],
   "source": [
    "from numpy.linalg import inv\n",
    "A = np.array([[38, 22], [42, 30]])\n",
    "b = np.array([3, 5])\n",
    "x = inv(A).dot(b)\n",
    "print(x)"
   ]
  },
  {
   "cell_type": "code",
   "execution_count": 85,
   "metadata": {},
   "outputs": [
    {
     "name": "stdout",
     "output_type": "stream",
     "text": [
      "(2,)\n",
      "(1, 2)\n",
      "(2, 1)\n"
     ]
    }
   ],
   "source": [
    "x = np.array([3, 5])     # vertical vector with 2 rows\n",
    "y = np.array([[3, 5]])   # matrix with 1 row and 2 columns\n",
    "z = np.array([[3],[5]])  # matrix with 2 rows, 1 column\n",
    "print(x.shape)\n",
    "print(y.shape)\n",
    "print(z.shape)"
   ]
  },
  {
   "cell_type": "markdown",
   "metadata": {},
   "source": [
    "### Dictionary"
   ]
  },
  {
   "cell_type": "markdown",
   "metadata": {},
   "source": [
    "If we arrange two lists side-by-side and kind of glue them together, we get a **dictionary**. Dictionaries map one value to another, just like a dictionary in the real world maps a word to a definition.  Here is a sample dictionary that maps a movie title to the year it was nominated for an Oscar award:\n",
    "\n",
    "<img src=\"images/dict.png\" width=\"220\">"
   ]
  },
  {
   "cell_type": "code",
   "execution_count": 92,
   "metadata": {},
   "outputs": [
    {
     "name": "stdout",
     "output_type": "stream",
     "text": [
      "<class 'dict'>\n",
      "{'Amadeus': 1984, 'Witness': 1985}\n"
     ]
    }
   ],
   "source": [
    "movies = {'Amadeus':1984, 'Witness':1985}\n",
    "print(type(movies))\n",
    "print(movies)"
   ]
  },
  {
   "cell_type": "code",
   "execution_count": 90,
   "metadata": {},
   "outputs": [
    {
     "name": "stdout",
     "output_type": "stream",
     "text": [
      "dict_keys(['Amadeus', 'Witness'])\n",
      "dict_values([1984, 1985])\n"
     ]
    }
   ],
   "source": [
    "print(movies.keys())\n",
    "print(movies.values())"
   ]
  },
  {
   "cell_type": "code",
   "execution_count": 93,
   "metadata": {},
   "outputs": [
    {
     "data": {
      "text/plain": [
       "1984"
      ]
     },
     "execution_count": 93,
     "metadata": {},
     "output_type": "execute_result"
    }
   ],
   "source": [
    "movies['Amadeus']"
   ]
  },
  {
   "cell_type": "code",
   "execution_count": 95,
   "metadata": {},
   "outputs": [
    {
     "ename": "KeyError",
     "evalue": "'foo'",
     "output_type": "error",
     "traceback": [
      "\u001b[0;31m-----------------------------------------------------------------------\u001b[0m",
      "\u001b[0;31mKeyError\u001b[0m                              Traceback (most recent call last)",
      "\u001b[0;32m<ipython-input-95-72c06b90f573>\u001b[0m in \u001b[0;36m<module>\u001b[0;34m()\u001b[0m\n\u001b[0;32m----> 1\u001b[0;31m \u001b[0mmovies\u001b[0m\u001b[0;34m[\u001b[0m\u001b[0;34m'foo'\u001b[0m\u001b[0;34m]\u001b[0m \u001b[0;31m# gets a KeyError\u001b[0m\u001b[0;34m\u001b[0m\u001b[0m\n\u001b[0m",
      "\u001b[0;31mKeyError\u001b[0m: 'foo'"
     ]
    }
   ],
   "source": [
    "movies['foo'] # gets a KeyError"
   ]
  },
  {
   "cell_type": "markdown",
   "metadata": {},
   "source": [
    "## Traversing data structures"
   ]
  },
  {
   "cell_type": "markdown",
   "metadata": {},
   "source": [
    "The spreadsheet model is a good one for understanding data structures but it's important to keep in mind that computers process one element (number or string) at a time.\n",
    "As humans, we can look at the spreadsheet or data structure from above in its entirety, but programs must **walk** or **traverse** the elements of a data structure one after the other. It's kind of like sliding a magnifying glass over the elements of a list:\n",
    "\n",
    "<img src=\"images/int-list-item.png\" width=\"230\">\n",
    "\n",
    "This notion of traversal abstracts to any **sequence** (or **stream**) of elements, not just lists. For example, we will eventually traverse the lines of a text file or a sequence of filenames obtained from the operating system. Sequences are extremely powerful because it allows us to process data that is much bigger than the memory of our computer. We can process the data piecemeal whereas a list requires all elements to be in memory at once.\n",
    "\n",
    "For lists and other structures that fit completely in memory, we often find a **reverse traversal** useful, that examines elements from last to first."
   ]
  },
  {
   "cell_type": "markdown",
   "metadata": {},
   "source": [
    "## Summary"
   ]
  },
  {
   "cell_type": "markdown",
   "metadata": {},
   "source": [
    "Here are the commonly-used data types:\n",
    "\n",
    "* integer numbers like -2, 0, 99\n",
    "* real numbers (floating-point numbers) like -2.3, 99.1932\n",
    "* strings like \"Mary\", \"President Obama\"\n",
    "\n",
    "And here are the commonly-used data structures:\n",
    "\n",
    "* ordered list\n",
    "* set (just an unordered, unique list)\n",
    "* list of lists such as tables or matrices with rows and columns \n",
    "* dictionary such as mapping a student name to their student ID; we can think of this as a table where each row in the table associates the key with a value.\n",
    "\n",
    "Now that we know what data looks like in memory, let's consider a small but powerful set of possible operations we can do on that data in [Common Programming Operations](operations.md)."
   ]
  }
 ],
 "metadata": {
  "kernelspec": {
   "display_name": "Python 3",
   "language": "python",
   "name": "python3"
  },
  "language_info": {
   "codemirror_mode": {
    "name": "ipython",
    "version": 3
   },
   "file_extension": ".py",
   "mimetype": "text/x-python",
   "name": "python",
   "nbconvert_exporter": "python",
   "pygments_lexer": "ipython3",
   "version": "3.6.5"
  }
 },
 "nbformat": 4,
 "nbformat_minor": 2
}
