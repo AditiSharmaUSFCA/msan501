{
 "cells": [
  {
   "cell_type": "markdown",
   "metadata": {},
   "source": [
    "# Representing data in memory"
   ]
  },
  {
   "cell_type": "markdown",
   "metadata": {},
   "source": [
    "A typical program outline calls for us to load data from disk and place into memory organized into data structures. The way we represent data in memory is critical to building programs. This is particularly true with data science programs because processing data is our focus.  \n",
    "\n",
    "First, let's get something straight about data. Data elements have *values* and *types*, such as `32` and *integer* or `\"hi\"` and *string*. We build the data structures by combining and organizing these data elements, such as a list of integers. \n",
    "\n",
    "We also have a special element called a *pointer* or *reference* that refers to another element. It's like a phone number \"points at\" a phone but is not the phone itself. Using the pointer we can get to the phone. A list of pointers is like a phone book with references to humans but the phone book is not actually a list of humans. (We will see later that even when we do something simple like `x=3`, the variable `x` is secretly a pointer to an integer object with the value of 3.)\n",
    "\n",
    "Next, let's take a small detour into computer architecture to get a handle on what it means to load something into memory."
   ]
  },
  {
   "cell_type": "markdown",
   "metadata": {},
   "source": [
    "## Computer architecture detour\n",
    "\n",
    "A computer consists of three primary components: a disk to hold data, a memory (that is wiped upon power off), and a processor (CPU) to process that data. Here is a picture of an actual CPU and some memory chips:\n",
    "\n",
    "<img src=\"images/cpu-memory.png\" width=\"400\">\n",
    "\n",
    "Computer memory is much faster but usually much smaller than the disk and all memory is lost when the computer powers off. Think of memory as your working or scratch space and the disk as your permanent storage. Memory chips are kind of like human short-term memory that is prone to disappearing versus a piece of paper which is slower to read and write but *persistent*.\n",
    "\n",
    "The memory is broken up into discrete cells of a fixed size. The size of a cell is one *byte*, which consists of 8 *bits*, binary on/off digits. It is sufficient to hold a number between 0 and 255. Each cell is identified by an integer address, just like the numbers on mailboxes (see image below and to the right). Processors can ask for the data at a particular address and can store a piece of data at a specific memory location as well. For example, here is an abstract representation of byte-addressable computer memory:\n",
    "\n",
    "<table border=\"0\">\n",
    "<tr>\n",
    "<td><img src=\"images/addresses.png\" width=\"80\">\n",
    "<td><img src=\"images/mailboxes.png\"  width=\"70\">\n",
    "</table>\n",
    "\n",
    "In this case, the memory has value 100 at address 0. At address 1, the memory has value 0. Address 4 has the maximum value we can store in a single byte: 255. \n",
    "\n",
    "**Everything from actual numbers to music to videos is stored using one or more of these atomic storage units called bytes.**\n",
    "\n",
    "**Everything is stored as a number or sequence of numbers in a computer, even text.**\n",
    "\n",
    "Data lives either in memory, on the disk, or can be retrieved from a network.  As part of producing a programming plan, you need to know where the data resides so you can incorporate loading that data into memory as part of the plan."
   ]
  },
  {
   "cell_type": "markdown",
   "metadata": {},
   "source": [
    "## Programming language view of memory"
   ]
  },
  {
   "cell_type": "markdown",
   "metadata": {},
   "source": [
    "Programming languages present us with a higher level view of the memory in two ways: we can use names to refer to locations in memory and each memory cell can hold integer and real number values of arbitrary size (they do have a limit, but let's keep things simple for now). For example, here are two named values stored in memory:\n",
    "\n",
    "<img src=\"images/named-memory.png\" width=\"90\">"
   ]
  },
  {
   "cell_type": "code",
   "execution_count": 1,
   "metadata": {},
   "outputs": [],
   "source": [
    "units = 923\n",
    "price = 8.02"
   ]
  },
  {
   "cell_type": "markdown",
   "metadata": {},
   "source": [
    "<img src=\"images/redbang.png\" width=\"30\" align=\"left\">When referring to the kind of thing a value represents, we use the word **type**. The type of the \"units\" cell is integer and the type of \"price\" is real number (or floating-point number)."
   ]
  },
  {
   "cell_type": "code",
   "execution_count": 2,
   "metadata": {},
   "outputs": [
    {
     "data": {
      "text/plain": [
       "int"
      ]
     },
     "execution_count": 2,
     "metadata": {},
     "output_type": "execute_result"
    }
   ],
   "source": [
    "type(units)"
   ]
  },
  {
   "cell_type": "code",
   "execution_count": 3,
   "metadata": {},
   "outputs": [
    {
     "data": {
      "text/plain": [
       "float"
      ]
     },
     "execution_count": 3,
     "metadata": {},
     "output_type": "execute_result"
    }
   ],
   "source": [
    "type(price)"
   ]
  },
  {
   "cell_type": "markdown",
   "metadata": {},
   "source": [
    "Another very common value type is *string*, which is really a list of characters. We use strings to hold place names, book titles, and any other text-based values.  We can think of strings as being a single value because the programming language hides the details.  Strings can be arbitrarily long and the programming language stores the characters as a sequence of bytes in memory. In other words, we think of it as\n",
    "\n",
    "<img src=\"images/strings.png\" width=\"110\">"
   ]
  },
  {
   "cell_type": "code",
   "execution_count": 4,
   "metadata": {},
   "outputs": [],
   "source": [
    "name = \"Mary\""
   ]
  },
  {
   "cell_type": "code",
   "execution_count": 5,
   "metadata": {},
   "outputs": [
    {
     "data": {
      "text/plain": [
       "str"
      ]
     },
     "execution_count": 5,
     "metadata": {},
     "output_type": "execute_result"
    }
   ],
   "source": [
    "type(name)"
   ]
  },
  {
   "cell_type": "markdown",
   "metadata": {},
   "source": [
    "but it is really more like this:\n",
    "\n",
    "<img src=\"images/strings2.png\" width=\"110\">\n",
    "\n",
    "Using package [lolviz](https://github.com/parrt/lolviz) we can visualize even simple types like strings:"
   ]
  },
  {
   "cell_type": "code",
   "execution_count": 6,
   "metadata": {},
   "outputs": [
    {
     "data": {
      "image/svg+xml": [
       "<?xml version=\"1.0\" encoding=\"UTF-8\" standalone=\"no\"?>\n",
       "<!DOCTYPE svg PUBLIC \"-//W3C//DTD SVG 1.1//EN\"\n",
       " \"http://www.w3.org/Graphics/SVG/1.1/DTD/svg11.dtd\">\n",
       "<!-- Generated by graphviz version 2.40.1 (20161225.0304)\n",
       " -->\n",
       "<!-- Title: G Pages: 1 -->\n",
       "<svg width=\"56pt\" height=\"41pt\"\n",
       " viewBox=\"0.00 0.00 56.00 41.00\" xmlns=\"http://www.w3.org/2000/svg\" xmlns:xlink=\"http://www.w3.org/1999/xlink\">\n",
       "<g id=\"graph0\" class=\"graph\" transform=\"scale(1 1) rotate(0) translate(4 37)\">\n",
       "<title>G</title>\n",
       "<polygon fill=\"#ffffff\" stroke=\"transparent\" points=\"-4,4 -4,-37 52,-37 52,4 -4,4\"/>\n",
       "<!-- node4338621048 -->\n",
       "<g id=\"node1\" class=\"node\">\n",
       "<title>node4338621048</title>\n",
       "<polygon fill=\"#fefecd\" stroke=\"#444443\" stroke-width=\".5\" points=\"48,-33 0,-33 0,0 48,0 48,-33\"/>\n",
       "<polygon fill=\"#fbfeb0\" stroke=\"transparent\" points=\"10,-17.5 10,-28.5 17,-28.5 17,-17.5 10,-17.5\"/>\n",
       "<polyline fill=\"none\" stroke=\"#444443\" points=\"10,-17.5 17,-17.5 17,-28.5 \"/>\n",
       "<text text-anchor=\"start\" x=\"10.9973\" y=\"-20.3\" font-family=\"Helvetica,sans-Serif\" font-size=\"9.00\" fill=\"#444443\">0</text>\n",
       "<polygon fill=\"#fbfeb0\" stroke=\"transparent\" points=\"17,-17.5 17,-28.5 24,-28.5 24,-17.5 17,-17.5\"/>\n",
       "<polyline fill=\"none\" stroke=\"#444443\" points=\"17,-17.5 24,-17.5 24,-28.5 \"/>\n",
       "<text text-anchor=\"start\" x=\"17.9973\" y=\"-20.3\" font-family=\"Helvetica,sans-Serif\" font-size=\"9.00\" fill=\"#444443\">1</text>\n",
       "<polygon fill=\"#fbfeb0\" stroke=\"transparent\" points=\"24,-17.5 24,-28.5 31,-28.5 31,-17.5 24,-17.5\"/>\n",
       "<polyline fill=\"none\" stroke=\"#444443\" points=\"24,-17.5 31,-17.5 31,-28.5 \"/>\n",
       "<text text-anchor=\"start\" x=\"24.9973\" y=\"-20.3\" font-family=\"Helvetica,sans-Serif\" font-size=\"9.00\" fill=\"#444443\">2</text>\n",
       "<polygon fill=\"#fbfeb0\" stroke=\"transparent\" points=\"31,-17.5 31,-28.5 38,-28.5 38,-17.5 31,-17.5\"/>\n",
       "<polyline fill=\"none\" stroke=\"#444443\" points=\"31,-17.5 38,-17.5 \"/>\n",
       "<text text-anchor=\"start\" x=\"31.9973\" y=\"-20.3\" font-family=\"Helvetica,sans-Serif\" font-size=\"9.00\" fill=\"#444443\">3</text>\n",
       "<text text-anchor=\"start\" x=\"7.6636\" y=\"-6.3\" font-family=\"Helvetica,sans-Serif\" font-size=\"14.00\" fill=\"#444443\">&#39;</text>\n",
       "<polygon fill=\"#fbfeb0\" stroke=\"transparent\" points=\"10,-3.5 10,-17.5 17,-17.5 17,-3.5 10,-3.5\"/>\n",
       "<text text-anchor=\"start\" x=\"10.1995\" y=\"-8.7\" font-family=\"Monaco\" font-size=\"11.00\" fill=\"#444443\">M</text>\n",
       "<polygon fill=\"#fbfeb0\" stroke=\"transparent\" points=\"17,-3.5 17,-17.5 24,-17.5 24,-3.5 17,-3.5\"/>\n",
       "<text text-anchor=\"start\" x=\"17.1995\" y=\"-8.7\" font-family=\"Monaco\" font-size=\"11.00\" fill=\"#444443\">a</text>\n",
       "<polygon fill=\"#fbfeb0\" stroke=\"transparent\" points=\"24,-3.5 24,-17.5 31,-17.5 31,-3.5 24,-3.5\"/>\n",
       "<text text-anchor=\"start\" x=\"24.1995\" y=\"-8.7\" font-family=\"Monaco\" font-size=\"11.00\" fill=\"#444443\">r</text>\n",
       "<polygon fill=\"#fbfeb0\" stroke=\"transparent\" points=\"31,-3.5 31,-17.5 38,-17.5 38,-3.5 31,-3.5\"/>\n",
       "<text text-anchor=\"start\" x=\"31.1995\" y=\"-8.7\" font-family=\"Monaco\" font-size=\"11.00\" fill=\"#444443\">y</text>\n",
       "<text text-anchor=\"start\" x=\"37.6636\" y=\"-6.3\" font-family=\"Helvetica,sans-Serif\" font-size=\"14.00\" fill=\"#444443\">&#39;</text>\n",
       "</g>\n",
       "</g>\n",
       "</svg>\n"
      ],
      "text/plain": [
       "<graphviz.files.Source at 0x1029d03c8>"
      ]
     },
     "execution_count": 6,
     "metadata": {},
     "output_type": "execute_result"
    }
   ],
   "source": [
    "from lolviz import *\n",
    "strviz(name)"
   ]
  },
  {
   "cell_type": "code",
   "execution_count": 7,
   "metadata": {},
   "outputs": [
    {
     "data": {
      "image/svg+xml": [
       "<?xml version=\"1.0\" encoding=\"UTF-8\" standalone=\"no\"?>\n",
       "<!DOCTYPE svg PUBLIC \"-//W3C//DTD SVG 1.1//EN\"\n",
       " \"http://www.w3.org/Graphics/SVG/1.1/DTD/svg11.dtd\">\n",
       "<!-- Generated by graphviz version 2.40.1 (20161225.0304)\n",
       " -->\n",
       "<!-- Title: G Pages: 1 -->\n",
       "<svg width=\"71pt\" height=\"38pt\"\n",
       " viewBox=\"0.00 0.00 71.00 38.00\" xmlns=\"http://www.w3.org/2000/svg\" xmlns:xlink=\"http://www.w3.org/1999/xlink\">\n",
       "<g id=\"graph0\" class=\"graph\" transform=\"scale(1 1) rotate(0) translate(4 34)\">\n",
       "<title>G</title>\n",
       "<polygon fill=\"#ffffff\" stroke=\"transparent\" points=\"-4,4 -4,-34 67,-34 67,4 -4,4\"/>\n",
       "<!-- node4338696328 -->\n",
       "<g id=\"node1\" class=\"node\">\n",
       "<title>node4338696328</title>\n",
       "<polygon fill=\"none\" stroke=\"#000000\" stroke-width=\".5\" points=\"63,-30 0,-30 0,0 63,0 63,-30\"/>\n",
       "<polygon fill=\"#fefecd\" stroke=\"transparent\" points=\"1.5,-18 1.5,-29 20.5,-29 20.5,-18 1.5,-18\"/>\n",
       "<polyline fill=\"none\" stroke=\"#000000\" points=\"1.5,-18 20.5,-18 20.5,-29 \"/>\n",
       "<text text-anchor=\"start\" x=\"8.4973\" y=\"-20.8\" font-family=\"Helvetica,sans-Serif\" font-size=\"9.00\" fill=\"#444443\">0</text>\n",
       "<polygon fill=\"#fefecd\" stroke=\"transparent\" points=\"20.5,-18 20.5,-29 36.5,-29 36.5,-18 20.5,-18\"/>\n",
       "<polyline fill=\"none\" stroke=\"#000000\" points=\"20.5,-18 36.5,-18 36.5,-29 \"/>\n",
       "<text text-anchor=\"start\" x=\"25.9973\" y=\"-20.8\" font-family=\"Helvetica,sans-Serif\" font-size=\"9.00\" fill=\"#444443\">1</text>\n",
       "<polygon fill=\"#fefecd\" stroke=\"transparent\" points=\"36.5,-18 36.5,-29 49.5,-29 49.5,-18 36.5,-18\"/>\n",
       "<polyline fill=\"none\" stroke=\"#000000\" points=\"36.5,-18 49.5,-18 49.5,-29 \"/>\n",
       "<text text-anchor=\"start\" x=\"40.4973\" y=\"-20.8\" font-family=\"Helvetica,sans-Serif\" font-size=\"9.00\" fill=\"#444443\">2</text>\n",
       "<polygon fill=\"#fefecd\" stroke=\"transparent\" points=\"49.5,-18 49.5,-29 62.5,-29 62.5,-18 49.5,-18\"/>\n",
       "<polyline fill=\"none\" stroke=\"#000000\" points=\"49.5,-18 62.5,-18 \"/>\n",
       "<text text-anchor=\"start\" x=\"53.4973\" y=\"-20.8\" font-family=\"Helvetica,sans-Serif\" font-size=\"9.00\" fill=\"#444443\">3</text>\n",
       "<polygon fill=\"#fefecd\" stroke=\"transparent\" points=\"1.5,-1 1.5,-18 20.5,-18 20.5,-1 1.5,-1\"/>\n",
       "<polyline fill=\"none\" stroke=\"#000000\" points=\"20.5,-1 20.5,-18 \"/>\n",
       "<text text-anchor=\"start\" x=\"4.3184\" y=\"-6.2\" font-family=\"Helvetica,sans-Serif\" font-size=\"11.00\" fill=\"#444443\">&#39;M&#39;</text>\n",
       "<polygon fill=\"#fefecd\" stroke=\"transparent\" points=\"20.5,-1 20.5,-18 36.5,-18 36.5,-1 20.5,-1\"/>\n",
       "<polyline fill=\"none\" stroke=\"#000000\" points=\"36.5,-1 36.5,-18 \"/>\n",
       "<text text-anchor=\"start\" x=\"23.3411\" y=\"-6.2\" font-family=\"Helvetica,sans-Serif\" font-size=\"11.00\" fill=\"#444443\">&#39;a&#39;</text>\n",
       "<polygon fill=\"#fefecd\" stroke=\"transparent\" points=\"36.5,-1 36.5,-18 49.5,-18 49.5,-1 36.5,-1\"/>\n",
       "<polyline fill=\"none\" stroke=\"#000000\" points=\"49.5,-1 49.5,-18 \"/>\n",
       "<text text-anchor=\"start\" x=\"39.0684\" y=\"-6.2\" font-family=\"Helvetica,sans-Serif\" font-size=\"11.00\" fill=\"#444443\">&#39;r&#39;</text>\n",
       "<polygon fill=\"#fefecd\" stroke=\"transparent\" points=\"49.5,-1 49.5,-18 62.5,-18 62.5,-1 49.5,-1\"/>\n",
       "<text text-anchor=\"start\" x=\"51.1499\" y=\"-6.2\" font-family=\"Helvetica,sans-Serif\" font-size=\"11.00\" fill=\"#444443\">&#39;y&#39;</text>\n",
       "</g>\n",
       "</g>\n",
       "</svg>\n"
      ],
      "text/plain": [
       "<graphviz.files.Source at 0x1029decc0>"
      ]
     },
     "execution_count": 7,
     "metadata": {},
     "output_type": "execute_result"
    }
   ],
   "source": [
    "objviz(name) # render as list of char"
   ]
  },
  {
   "cell_type": "markdown",
   "metadata": {},
   "source": [
    "These basic data types\n",
    "\n",
    "* integer numbers\n",
    "* floating-point numbers\n",
    "* strings\n",
    "\n",
    "are our building blocks. If we arrange some of these blocks together, we can create more complex structures."
   ]
  },
  {
   "cell_type": "markdown",
   "metadata": {},
   "source": [
    "## Data structures"
   ]
  },
  {
   "cell_type": "markdown",
   "metadata": {},
   "source": [
    "### List"
   ]
  },
  {
   "cell_type": "markdown",
   "metadata": {},
   "source": [
    "The most common *data structures* is the **list**, which is just a sequence of memory cells.  Because we're all familiar with spreadsheets, let's visualize these data structures using a spreadsheet.  Columns in a spreadsheet are really lists, such as the following lists/columns of integers, floating-point numbers, and strings:\n",
    "\n",
    "<table border=\"0\">\n",
    "<tr>\n",
    "<td><img src=\"images/int-list.png\" width=\"60\">\n",
    "<td><img src=\"images/float-list.png\" width=\"80\">\n",
    "<td><img src=\"images/names-list.png\" width=\"139\">\n",
    "</tr>\n",
    "</table>"
   ]
  },
  {
   "cell_type": "code",
   "execution_count": 8,
   "metadata": {},
   "outputs": [],
   "source": [
    "Quantity = [6, 49, 27, 30, 19, 21, 12, 22, 21]"
   ]
  },
  {
   "cell_type": "code",
   "execution_count": 9,
   "metadata": {},
   "outputs": [
    {
     "data": {
      "text/plain": [
       "list"
      ]
     },
     "execution_count": 9,
     "metadata": {},
     "output_type": "execute_result"
    }
   ],
   "source": [
    "type(Quantity)"
   ]
  },
  {
   "cell_type": "code",
   "execution_count": 10,
   "metadata": {},
   "outputs": [
    {
     "data": {
      "text/plain": [
       "9"
      ]
     },
     "execution_count": 10,
     "metadata": {},
     "output_type": "execute_result"
    }
   ],
   "source": [
    "len(Quantity)"
   ]
  },
  {
   "cell_type": "code",
   "execution_count": 11,
   "metadata": {},
   "outputs": [
    {
     "data": {
      "image/svg+xml": [
       "<?xml version=\"1.0\" encoding=\"UTF-8\" standalone=\"no\"?>\n",
       "<!DOCTYPE svg PUBLIC \"-//W3C//DTD SVG 1.1//EN\"\n",
       " \"http://www.w3.org/Graphics/SVG/1.1/DTD/svg11.dtd\">\n",
       "<!-- Generated by graphviz version 2.40.1 (20161225.0304)\n",
       " -->\n",
       "<!-- Title: G Pages: 1 -->\n",
       "<svg width=\"164pt\" height=\"38pt\"\n",
       " viewBox=\"0.00 0.00 164.00 38.00\" xmlns=\"http://www.w3.org/2000/svg\" xmlns:xlink=\"http://www.w3.org/1999/xlink\">\n",
       "<g id=\"graph0\" class=\"graph\" transform=\"scale(1 1) rotate(0) translate(4 34)\">\n",
       "<title>G</title>\n",
       "<polygon fill=\"#ffffff\" stroke=\"transparent\" points=\"-4,4 -4,-34 160,-34 160,4 -4,4\"/>\n",
       "<!-- node4338700040 -->\n",
       "<g id=\"node1\" class=\"node\">\n",
       "<title>node4338700040</title>\n",
       "<polygon fill=\"none\" stroke=\"#000000\" stroke-width=\".5\" points=\"156,-30 0,-30 0,0 156,0 156,-30\"/>\n",
       "<polygon fill=\"#fefecd\" stroke=\"transparent\" points=\"1,-18 1,-29 13,-29 13,-18 1,-18\"/>\n",
       "<polyline fill=\"none\" stroke=\"#000000\" points=\"1,-18 13,-18 13,-29 \"/>\n",
       "<text text-anchor=\"start\" x=\"4.4973\" y=\"-20.8\" font-family=\"Helvetica,sans-Serif\" font-size=\"9.00\" fill=\"#444443\">0</text>\n",
       "<polygon fill=\"#fefecd\" stroke=\"transparent\" points=\"13,-18 13,-29 31,-29 31,-18 13,-18\"/>\n",
       "<polyline fill=\"none\" stroke=\"#000000\" points=\"13,-18 31,-18 31,-29 \"/>\n",
       "<text text-anchor=\"start\" x=\"19.4973\" y=\"-20.8\" font-family=\"Helvetica,sans-Serif\" font-size=\"9.00\" fill=\"#444443\">1</text>\n",
       "<polygon fill=\"#fefecd\" stroke=\"transparent\" points=\"31,-18 31,-29 49,-29 49,-18 31,-18\"/>\n",
       "<polyline fill=\"none\" stroke=\"#000000\" points=\"31,-18 49,-18 49,-29 \"/>\n",
       "<text text-anchor=\"start\" x=\"37.4973\" y=\"-20.8\" font-family=\"Helvetica,sans-Serif\" font-size=\"9.00\" fill=\"#444443\">2</text>\n",
       "<polygon fill=\"#fefecd\" stroke=\"transparent\" points=\"49,-18 49,-29 67,-29 67,-18 49,-18\"/>\n",
       "<polyline fill=\"none\" stroke=\"#000000\" points=\"49,-18 67,-18 67,-29 \"/>\n",
       "<text text-anchor=\"start\" x=\"55.4973\" y=\"-20.8\" font-family=\"Helvetica,sans-Serif\" font-size=\"9.00\" fill=\"#444443\">3</text>\n",
       "<polygon fill=\"#fefecd\" stroke=\"transparent\" points=\"67,-18 67,-29 85,-29 85,-18 67,-18\"/>\n",
       "<polyline fill=\"none\" stroke=\"#000000\" points=\"67,-18 85,-18 85,-29 \"/>\n",
       "<text text-anchor=\"start\" x=\"73.4973\" y=\"-20.8\" font-family=\"Helvetica,sans-Serif\" font-size=\"9.00\" fill=\"#444443\">4</text>\n",
       "<polygon fill=\"#fefecd\" stroke=\"transparent\" points=\"85,-18 85,-29 103,-29 103,-18 85,-18\"/>\n",
       "<polyline fill=\"none\" stroke=\"#000000\" points=\"85,-18 103,-18 103,-29 \"/>\n",
       "<text text-anchor=\"start\" x=\"91.4973\" y=\"-20.8\" font-family=\"Helvetica,sans-Serif\" font-size=\"9.00\" fill=\"#444443\">5</text>\n",
       "<polygon fill=\"#fefecd\" stroke=\"transparent\" points=\"103,-18 103,-29 121,-29 121,-18 103,-18\"/>\n",
       "<polyline fill=\"none\" stroke=\"#000000\" points=\"103,-18 121,-18 121,-29 \"/>\n",
       "<text text-anchor=\"start\" x=\"109.4973\" y=\"-20.8\" font-family=\"Helvetica,sans-Serif\" font-size=\"9.00\" fill=\"#444443\">6</text>\n",
       "<polygon fill=\"#fefecd\" stroke=\"transparent\" points=\"121,-18 121,-29 139,-29 139,-18 121,-18\"/>\n",
       "<polyline fill=\"none\" stroke=\"#000000\" points=\"121,-18 139,-18 139,-29 \"/>\n",
       "<text text-anchor=\"start\" x=\"127.4973\" y=\"-20.8\" font-family=\"Helvetica,sans-Serif\" font-size=\"9.00\" fill=\"#444443\">7</text>\n",
       "<polygon fill=\"#fefecd\" stroke=\"transparent\" points=\"139,-18 139,-29 155,-29 155,-18 139,-18\"/>\n",
       "<polyline fill=\"none\" stroke=\"#000000\" points=\"139,-18 155,-18 \"/>\n",
       "<text text-anchor=\"start\" x=\"144.4973\" y=\"-20.8\" font-family=\"Helvetica,sans-Serif\" font-size=\"9.00\" fill=\"#444443\">8</text>\n",
       "<polygon fill=\"#fefecd\" stroke=\"transparent\" points=\"1,-1 1,-18 13,-18 13,-1 1,-1\"/>\n",
       "<polyline fill=\"none\" stroke=\"#000000\" points=\"13,-1 13,-18 \"/>\n",
       "<text text-anchor=\"start\" x=\"3.9412\" y=\"-6.2\" font-family=\"Helvetica,sans-Serif\" font-size=\"11.00\" fill=\"#444443\">6</text>\n",
       "<polygon fill=\"#fefecd\" stroke=\"transparent\" points=\"13,-1 13,-18 31,-18 31,-1 13,-1\"/>\n",
       "<polyline fill=\"none\" stroke=\"#000000\" points=\"31,-1 31,-18 \"/>\n",
       "<text text-anchor=\"start\" x=\"15.8823\" y=\"-6.2\" font-family=\"Helvetica,sans-Serif\" font-size=\"11.00\" fill=\"#444443\">49</text>\n",
       "<polygon fill=\"#fefecd\" stroke=\"transparent\" points=\"31,-1 31,-18 49,-18 49,-1 31,-1\"/>\n",
       "<polyline fill=\"none\" stroke=\"#000000\" points=\"49,-1 49,-18 \"/>\n",
       "<text text-anchor=\"start\" x=\"33.8823\" y=\"-6.2\" font-family=\"Helvetica,sans-Serif\" font-size=\"11.00\" fill=\"#444443\">27</text>\n",
       "<polygon fill=\"#fefecd\" stroke=\"transparent\" points=\"49,-1 49,-18 67,-18 67,-1 49,-1\"/>\n",
       "<polyline fill=\"none\" stroke=\"#000000\" points=\"67,-1 67,-18 \"/>\n",
       "<text text-anchor=\"start\" x=\"51.8823\" y=\"-6.2\" font-family=\"Helvetica,sans-Serif\" font-size=\"11.00\" fill=\"#444443\">30</text>\n",
       "<polygon fill=\"#fefecd\" stroke=\"transparent\" points=\"67,-1 67,-18 85,-18 85,-1 67,-1\"/>\n",
       "<polyline fill=\"none\" stroke=\"#000000\" points=\"85,-1 85,-18 \"/>\n",
       "<text text-anchor=\"start\" x=\"69.8823\" y=\"-6.2\" font-family=\"Helvetica,sans-Serif\" font-size=\"11.00\" fill=\"#444443\">19</text>\n",
       "<polygon fill=\"#fefecd\" stroke=\"transparent\" points=\"85,-1 85,-18 103,-18 103,-1 85,-1\"/>\n",
       "<polyline fill=\"none\" stroke=\"#000000\" points=\"103,-1 103,-18 \"/>\n",
       "<text text-anchor=\"start\" x=\"87.8823\" y=\"-6.2\" font-family=\"Helvetica,sans-Serif\" font-size=\"11.00\" fill=\"#444443\">21</text>\n",
       "<polygon fill=\"#fefecd\" stroke=\"transparent\" points=\"103,-1 103,-18 121,-18 121,-1 103,-1\"/>\n",
       "<polyline fill=\"none\" stroke=\"#000000\" points=\"121,-1 121,-18 \"/>\n",
       "<text text-anchor=\"start\" x=\"105.8823\" y=\"-6.2\" font-family=\"Helvetica,sans-Serif\" font-size=\"11.00\" fill=\"#444443\">12</text>\n",
       "<polygon fill=\"#fefecd\" stroke=\"transparent\" points=\"121,-1 121,-18 139,-18 139,-1 121,-1\"/>\n",
       "<polyline fill=\"none\" stroke=\"#000000\" points=\"139,-1 139,-18 \"/>\n",
       "<text text-anchor=\"start\" x=\"123.8823\" y=\"-6.2\" font-family=\"Helvetica,sans-Serif\" font-size=\"11.00\" fill=\"#444443\">22</text>\n",
       "<polygon fill=\"#fefecd\" stroke=\"transparent\" points=\"139,-1 139,-18 155,-18 155,-1 139,-1\"/>\n",
       "<text text-anchor=\"start\" x=\"140.8823\" y=\"-6.2\" font-family=\"Helvetica,sans-Serif\" font-size=\"11.00\" fill=\"#444443\">21</text>\n",
       "</g>\n",
       "</g>\n",
       "</svg>\n"
      ],
      "text/plain": [
       "<graphviz.files.Source at 0x1029f2710>"
      ]
     },
     "execution_count": 11,
     "metadata": {},
     "output_type": "execute_result"
    }
   ],
   "source": [
    "objviz(Quantity)"
   ]
  },
  {
   "cell_type": "markdown",
   "metadata": {},
   "source": [
    "We can think of the rows of a spreadsheet as lists also. For example, the header row of a spreadsheet is really a list of strings:\n",
    "\n",
    "<img src=\"images/header-row.png\" width=\"750\">"
   ]
  },
  {
   "cell_type": "code",
   "execution_count": 12,
   "metadata": {},
   "outputs": [
    {
     "data": {
      "text/plain": [
       "list"
      ]
     },
     "execution_count": 12,
     "metadata": {},
     "output_type": "execute_result"
    }
   ],
   "source": [
    "headers = ['Date', 'Quantity', 'Unit Price', 'Shipping']\n",
    "type(headers)"
   ]
  },
  {
   "cell_type": "code",
   "execution_count": 13,
   "metadata": {},
   "outputs": [
    {
     "data": {
      "image/svg+xml": [
       "<?xml version=\"1.0\" encoding=\"UTF-8\" standalone=\"no\"?>\n",
       "<!DOCTYPE svg PUBLIC \"-//W3C//DTD SVG 1.1//EN\"\n",
       " \"http://www.w3.org/Graphics/SVG/1.1/DTD/svg11.dtd\">\n",
       "<!-- Generated by graphviz version 2.40.1 (20161225.0304)\n",
       " -->\n",
       "<!-- Title: G Pages: 1 -->\n",
       "<svg width=\"202pt\" height=\"38pt\"\n",
       " viewBox=\"0.00 0.00 202.00 38.00\" xmlns=\"http://www.w3.org/2000/svg\" xmlns:xlink=\"http://www.w3.org/1999/xlink\">\n",
       "<g id=\"graph0\" class=\"graph\" transform=\"scale(1 1) rotate(0) translate(4 34)\">\n",
       "<title>G</title>\n",
       "<polygon fill=\"#ffffff\" stroke=\"transparent\" points=\"-4,4 -4,-34 198,-34 198,4 -4,4\"/>\n",
       "<!-- node4338945160 -->\n",
       "<g id=\"node1\" class=\"node\">\n",
       "<title>node4338945160</title>\n",
       "<polygon fill=\"none\" stroke=\"#000000\" stroke-width=\".5\" points=\"194,-30 0,-30 0,0 194,0 194,-30\"/>\n",
       "<polygon fill=\"#fefecd\" stroke=\"transparent\" points=\"1,-18 1,-29 34,-29 34,-18 1,-18\"/>\n",
       "<polyline fill=\"none\" stroke=\"#000000\" points=\"1,-18 34,-18 34,-29 \"/>\n",
       "<text text-anchor=\"start\" x=\"14.9973\" y=\"-20.8\" font-family=\"Helvetica,sans-Serif\" font-size=\"9.00\" fill=\"#444443\">0</text>\n",
       "<polygon fill=\"#fefecd\" stroke=\"transparent\" points=\"34,-18 34,-29 85,-29 85,-18 34,-18\"/>\n",
       "<polyline fill=\"none\" stroke=\"#000000\" points=\"34,-18 85,-18 85,-29 \"/>\n",
       "<text text-anchor=\"start\" x=\"56.9973\" y=\"-20.8\" font-family=\"Helvetica,sans-Serif\" font-size=\"9.00\" fill=\"#444443\">1</text>\n",
       "<polygon fill=\"#fefecd\" stroke=\"transparent\" points=\"85,-18 85,-29 142,-29 142,-18 85,-18\"/>\n",
       "<polyline fill=\"none\" stroke=\"#000000\" points=\"85,-18 142,-18 142,-29 \"/>\n",
       "<text text-anchor=\"start\" x=\"110.9973\" y=\"-20.8\" font-family=\"Helvetica,sans-Serif\" font-size=\"9.00\" fill=\"#444443\">2</text>\n",
       "<polygon fill=\"#fefecd\" stroke=\"transparent\" points=\"142,-18 142,-29 193,-29 193,-18 142,-18\"/>\n",
       "<polyline fill=\"none\" stroke=\"#000000\" points=\"142,-18 193,-18 \"/>\n",
       "<text text-anchor=\"start\" x=\"164.9973\" y=\"-20.8\" font-family=\"Helvetica,sans-Serif\" font-size=\"9.00\" fill=\"#444443\">3</text>\n",
       "<polygon fill=\"#fefecd\" stroke=\"transparent\" points=\"1,-1 1,-18 34,-18 34,-1 1,-1\"/>\n",
       "<polyline fill=\"none\" stroke=\"#000000\" points=\"34,-1 34,-18 \"/>\n",
       "<text text-anchor=\"start\" x=\"3.7822\" y=\"-6.2\" font-family=\"Helvetica,sans-Serif\" font-size=\"11.00\" fill=\"#444443\">&#39;Date&#39;</text>\n",
       "<polygon fill=\"#fefecd\" stroke=\"transparent\" points=\"34,-1 34,-18 85,-18 85,-1 34,-1\"/>\n",
       "<polyline fill=\"none\" stroke=\"#000000\" points=\"85,-1 85,-18 \"/>\n",
       "<text text-anchor=\"start\" x=\"36.9172\" y=\"-6.2\" font-family=\"Helvetica,sans-Serif\" font-size=\"11.00\" fill=\"#444443\">&#39;Quantity&#39;</text>\n",
       "<polygon fill=\"#fefecd\" stroke=\"transparent\" points=\"85,-1 85,-18 142,-18 142,-1 85,-1\"/>\n",
       "<polyline fill=\"none\" stroke=\"#000000\" points=\"142,-1 142,-18 \"/>\n",
       "<text text-anchor=\"start\" x=\"87.5603\" y=\"-6.2\" font-family=\"Helvetica,sans-Serif\" font-size=\"11.00\" fill=\"#444443\">&#39;Unit Price&#39;</text>\n",
       "<polygon fill=\"#fefecd\" stroke=\"transparent\" points=\"142,-1 142,-18 193,-18 193,-1 142,-1\"/>\n",
       "<text text-anchor=\"start\" x=\"143.9934\" y=\"-6.2\" font-family=\"Helvetica,sans-Serif\" font-size=\"11.00\" fill=\"#444443\">&#39;Shipping&#39;</text>\n",
       "</g>\n",
       "</g>\n",
       "</svg>\n"
      ],
      "text/plain": [
       "<graphviz.files.Source at 0x1029f2ac8>"
      ]
     },
     "execution_count": 13,
     "metadata": {},
     "output_type": "execute_result"
    }
   ],
   "source": [
    "objviz(headers)"
   ]
  },
  {
   "cell_type": "markdown",
   "metadata": {},
   "source": [
    "All of these lists have one thing in common: the type of element is the same. They are *homogeneous*. But, we can also have lists with *heterogeneous* elements, which is typically what we see in spreadsheet rows:\n",
    "\n",
    "<img src=\"images/sample-row.png\" width=\"800\">"
   ]
  },
  {
   "cell_type": "code",
   "execution_count": 14,
   "metadata": {},
   "outputs": [],
   "source": [
    "arow = ['10/13/10', 6, 38.94, 35, 'Muhammed MacIntyre']"
   ]
  },
  {
   "cell_type": "markdown",
   "metadata": {},
   "source": [
    "or"
   ]
  },
  {
   "cell_type": "code",
   "execution_count": 15,
   "metadata": {},
   "outputs": [
    {
     "data": {
      "text/plain": [
       "[datetime.date(2010, 10, 13), 6, 38.94, 35, 'Muhammed MacIntyre']"
      ]
     },
     "execution_count": 15,
     "metadata": {},
     "output_type": "execute_result"
    }
   ],
   "source": [
    "from datetime import date\n",
    "arow = [date(2010, 10, 13), 6, 38.94, 35, 'Muhammed MacIntyre']\n",
    "arow"
   ]
  },
  {
   "cell_type": "code",
   "execution_count": 16,
   "metadata": {},
   "outputs": [
    {
     "data": {
      "text/plain": [
       "list"
      ]
     },
     "execution_count": 16,
     "metadata": {},
     "output_type": "execute_result"
    }
   ],
   "source": [
    "type(arow)"
   ]
  },
  {
   "cell_type": "code",
   "execution_count": 17,
   "metadata": {},
   "outputs": [
    {
     "data": {
      "image/svg+xml": [
       "<?xml version=\"1.0\" encoding=\"UTF-8\" standalone=\"no\"?>\n",
       "<!DOCTYPE svg PUBLIC \"-//W3C//DTD SVG 1.1//EN\"\n",
       " \"http://www.w3.org/Graphics/SVG/1.1/DTD/svg11.dtd\">\n",
       "<!-- Generated by graphviz version 2.40.1 (20161225.0304)\n",
       " -->\n",
       "<!-- Title: G Pages: 1 -->\n",
       "<svg width=\"331pt\" height=\"38pt\"\n",
       " viewBox=\"0.00 0.00 331.00 38.00\" xmlns=\"http://www.w3.org/2000/svg\" xmlns:xlink=\"http://www.w3.org/1999/xlink\">\n",
       "<g id=\"graph0\" class=\"graph\" transform=\"scale(1 1) rotate(0) translate(4 34)\">\n",
       "<title>G</title>\n",
       "<polygon fill=\"#ffffff\" stroke=\"transparent\" points=\"-4,4 -4,-34 327,-34 327,4 -4,4\"/>\n",
       "<!-- node4338608712 -->\n",
       "<g id=\"node1\" class=\"node\">\n",
       "<title>node4338608712</title>\n",
       "<polygon fill=\"none\" stroke=\"#000000\" stroke-width=\".5\" points=\"323,-30 0,-30 0,0 323,0 323,-30\"/>\n",
       "<polygon fill=\"#fefecd\" stroke=\"transparent\" points=\"1.5,-18 1.5,-29 142.5,-29 142.5,-18 1.5,-18\"/>\n",
       "<polyline fill=\"none\" stroke=\"#000000\" points=\"1.5,-18 142.5,-18 142.5,-29 \"/>\n",
       "<text text-anchor=\"start\" x=\"69.4973\" y=\"-20.8\" font-family=\"Helvetica,sans-Serif\" font-size=\"9.00\" fill=\"#444443\">0</text>\n",
       "<polygon fill=\"#fefecd\" stroke=\"transparent\" points=\"142.5,-18 142.5,-29 154.5,-29 154.5,-18 142.5,-18\"/>\n",
       "<polyline fill=\"none\" stroke=\"#000000\" points=\"142.5,-18 154.5,-18 154.5,-29 \"/>\n",
       "<text text-anchor=\"start\" x=\"145.9973\" y=\"-20.8\" font-family=\"Helvetica,sans-Serif\" font-size=\"9.00\" fill=\"#444443\">1</text>\n",
       "<polygon fill=\"#fefecd\" stroke=\"transparent\" points=\"154.5,-18 154.5,-29 187.5,-29 187.5,-18 154.5,-18\"/>\n",
       "<polyline fill=\"none\" stroke=\"#000000\" points=\"154.5,-18 187.5,-18 187.5,-29 \"/>\n",
       "<text text-anchor=\"start\" x=\"168.4973\" y=\"-20.8\" font-family=\"Helvetica,sans-Serif\" font-size=\"9.00\" fill=\"#444443\">2</text>\n",
       "<polygon fill=\"#fefecd\" stroke=\"transparent\" points=\"187.5,-18 187.5,-29 205.5,-29 205.5,-18 187.5,-18\"/>\n",
       "<polyline fill=\"none\" stroke=\"#000000\" points=\"187.5,-18 205.5,-18 205.5,-29 \"/>\n",
       "<text text-anchor=\"start\" x=\"193.9973\" y=\"-20.8\" font-family=\"Helvetica,sans-Serif\" font-size=\"9.00\" fill=\"#444443\">3</text>\n",
       "<polygon fill=\"#fefecd\" stroke=\"transparent\" points=\"205.5,-18 205.5,-29 322.5,-29 322.5,-18 205.5,-18\"/>\n",
       "<polyline fill=\"none\" stroke=\"#000000\" points=\"205.5,-18 322.5,-18 \"/>\n",
       "<text text-anchor=\"start\" x=\"261.4973\" y=\"-20.8\" font-family=\"Helvetica,sans-Serif\" font-size=\"9.00\" fill=\"#444443\">4</text>\n",
       "<polygon fill=\"#fefecd\" stroke=\"transparent\" points=\"1.5,-1 1.5,-18 142.5,-18 142.5,-1 1.5,-1\"/>\n",
       "<polyline fill=\"none\" stroke=\"#000000\" points=\"142.5,-1 142.5,-18 \"/>\n",
       "<text text-anchor=\"start\" x=\"4.4263\" y=\"-6.2\" font-family=\"Helvetica,sans-Serif\" font-size=\"11.00\" fill=\"#444443\">datetime.date(2010, 10, 13)</text>\n",
       "<polygon fill=\"#fefecd\" stroke=\"transparent\" points=\"142.5,-1 142.5,-18 154.5,-18 154.5,-1 142.5,-1\"/>\n",
       "<polyline fill=\"none\" stroke=\"#000000\" points=\"154.5,-1 154.5,-18 \"/>\n",
       "<text text-anchor=\"start\" x=\"145.4412\" y=\"-6.2\" font-family=\"Helvetica,sans-Serif\" font-size=\"11.00\" fill=\"#444443\">6</text>\n",
       "<polygon fill=\"#fefecd\" stroke=\"transparent\" points=\"154.5,-1 154.5,-18 187.5,-18 187.5,-1 154.5,-1\"/>\n",
       "<polyline fill=\"none\" stroke=\"#000000\" points=\"187.5,-1 187.5,-18 \"/>\n",
       "<text text-anchor=\"start\" x=\"157.2366\" y=\"-6.2\" font-family=\"Helvetica,sans-Serif\" font-size=\"11.00\" fill=\"#444443\">38.94</text>\n",
       "<polygon fill=\"#fefecd\" stroke=\"transparent\" points=\"187.5,-1 187.5,-18 205.5,-18 205.5,-1 187.5,-1\"/>\n",
       "<polyline fill=\"none\" stroke=\"#000000\" points=\"205.5,-1 205.5,-18 \"/>\n",
       "<text text-anchor=\"start\" x=\"190.3823\" y=\"-6.2\" font-family=\"Helvetica,sans-Serif\" font-size=\"11.00\" fill=\"#444443\">35</text>\n",
       "<polygon fill=\"#fefecd\" stroke=\"transparent\" points=\"205.5,-1 205.5,-18 322.5,-18 322.5,-1 205.5,-1\"/>\n",
       "<text text-anchor=\"start\" x=\"207.1873\" y=\"-6.2\" font-family=\"Helvetica,sans-Serif\" font-size=\"11.00\" fill=\"#444443\">&#39;Muhammed MacIntyre&#39;</text>\n",
       "</g>\n",
       "</g>\n",
       "</svg>\n"
      ],
      "text/plain": [
       "<graphviz.files.Source at 0x1029f2d30>"
      ]
     },
     "execution_count": 17,
     "metadata": {},
     "output_type": "execute_result"
    }
   ],
   "source": [
    "listviz(arow)"
   ]
  },
  {
   "cell_type": "markdown",
   "metadata": {},
   "source": [
    "Heterogeneous lists are typically used to group bits of information about a particular entity. In machine learning, we call this a **feature vector**, an **instance**, or an **observation**.  For example, an apples versus oranges classifier might have feature vectors containing weight (number), volume (number), and color (string).  The important point here is that a list can also be used to as a way to aggregate features about a particular entity. The sequence of the elements is less important than the fact that they are contained (aggregated) within the same list."
   ]
  },
  {
   "cell_type": "markdown",
   "metadata": {},
   "source": [
    "### Tuple\n",
    "\n",
    "A tuple is an immutable list and is often used for returning multiple values from a function. It's also a simple way to group number of related elements such as:"
   ]
  },
  {
   "cell_type": "code",
   "execution_count": 42,
   "metadata": {},
   "outputs": [
    {
     "data": {
      "text/plain": [
       "('parrt', 607)"
      ]
     },
     "execution_count": 42,
     "metadata": {},
     "output_type": "execute_result"
    }
   ],
   "source": [
    "me = ('parrt',607)\n",
    "me"
   ]
  },
  {
   "cell_type": "markdown",
   "metadata": {},
   "source": [
    "We index the elements just like we do with a list:"
   ]
  },
  {
   "cell_type": "code",
   "execution_count": 43,
   "metadata": {},
   "outputs": [
    {
     "name": "stdout",
     "output_type": "stream",
     "text": [
      "parrt\n",
      "607\n"
     ]
    }
   ],
   "source": [
    "print(me[0])\n",
    "print(me[1])"
   ]
  },
  {
   "cell_type": "markdown",
   "metadata": {},
   "source": [
    "But, there's no way to change the elements, as there is with a list. If we do:\n",
    "\n",
    "```python\n",
    "me[0] = 'tombu'\n",
    "```\n",
    "\n",
    "the result is an error:\n",
    "\n",
    "```\n",
    "TypeError: 'tuple' object does not support item assignment\n",
    "```"
   ]
  },
  {
   "cell_type": "markdown",
   "metadata": {},
   "source": [
    "Here's an example of pulling apart a tuple using the multiple assignment statement:"
   ]
  },
  {
   "cell_type": "code",
   "execution_count": 47,
   "metadata": {},
   "outputs": [
    {
     "name": "stdout",
     "output_type": "stream",
     "text": [
      "parrt\n",
      "607\n"
     ]
    }
   ],
   "source": [
    "userid,office = me\n",
    "print(userid)\n",
    "print(office)"
   ]
  },
  {
   "cell_type": "markdown",
   "metadata": {},
   "source": [
    "Tuples are a great way to group related items without having to create a formal Python class definition."
   ]
  },
  {
   "cell_type": "markdown",
   "metadata": {},
   "source": [
    "### Set"
   ]
  },
  {
   "cell_type": "markdown",
   "metadata": {},
   "source": [
    "If we enforce a rule that all elements within a list are unique, then we get a **set**. Sets are unordered."
   ]
  },
  {
   "cell_type": "code",
   "execution_count": 18,
   "metadata": {},
   "outputs": [
    {
     "data": {
      "text/plain": [
       "{100, 102, 103, 113, 121}"
      ]
     },
     "execution_count": 18,
     "metadata": {},
     "output_type": "execute_result"
    }
   ],
   "source": [
    "ids = {100, 103, 121, 102, 113, 113, 113, 113}\n",
    "ids"
   ]
  },
  {
   "cell_type": "code",
   "execution_count": 19,
   "metadata": {},
   "outputs": [
    {
     "data": {
      "text/plain": [
       "set"
      ]
     },
     "execution_count": 19,
     "metadata": {},
     "output_type": "execute_result"
    }
   ],
   "source": [
    "type(ids)"
   ]
  },
  {
   "cell_type": "code",
   "execution_count": 20,
   "metadata": {},
   "outputs": [
    {
     "data": {
      "image/svg+xml": [
       "<?xml version=\"1.0\" encoding=\"UTF-8\" standalone=\"no\"?>\n",
       "<!DOCTYPE svg PUBLIC \"-//W3C//DTD SVG 1.1//EN\"\n",
       " \"http://www.w3.org/Graphics/SVG/1.1/DTD/svg11.dtd\">\n",
       "<!-- Generated by graphviz version 2.40.1 (20161225.0304)\n",
       " -->\n",
       "<!-- Title: G Pages: 1 -->\n",
       "<svg width=\"127pt\" height=\"38pt\"\n",
       " viewBox=\"0.00 0.00 127.00 38.00\" xmlns=\"http://www.w3.org/2000/svg\" xmlns:xlink=\"http://www.w3.org/1999/xlink\">\n",
       "<g id=\"graph0\" class=\"graph\" transform=\"scale(1 1) rotate(0) translate(4 34)\">\n",
       "<title>G</title>\n",
       "<polygon fill=\"#ffffff\" stroke=\"transparent\" points=\"-4,4 -4,-34 123,-34 123,4 -4,4\"/>\n",
       "<!-- node4338980232 -->\n",
       "<g id=\"node1\" class=\"node\">\n",
       "<title>node4338980232</title>\n",
       "<polygon fill=\"none\" stroke=\"#000000\" stroke-width=\".5\" points=\"119,-30 0,-30 0,0 119,0 119,-30\"/>\n",
       "<polygon fill=\"#fefecd\" stroke=\"transparent\" points=\"1.5,-18 1.5,-29 25.5,-29 25.5,-18 1.5,-18\"/>\n",
       "<polyline fill=\"none\" stroke=\"#000000\" points=\"1.5,-18 25.5,-18 25.5,-29 \"/>\n",
       "<text text-anchor=\"start\" x=\"10.9973\" y=\"-20.8\" font-family=\"Helvetica,sans-Serif\" font-size=\"9.00\" fill=\"#444443\">0</text>\n",
       "<polygon fill=\"#fefecd\" stroke=\"transparent\" points=\"25.5,-18 25.5,-29 49.5,-29 49.5,-18 25.5,-18\"/>\n",
       "<polyline fill=\"none\" stroke=\"#000000\" points=\"25.5,-18 49.5,-18 49.5,-29 \"/>\n",
       "<text text-anchor=\"start\" x=\"34.9973\" y=\"-20.8\" font-family=\"Helvetica,sans-Serif\" font-size=\"9.00\" fill=\"#444443\">1</text>\n",
       "<polygon fill=\"#fefecd\" stroke=\"transparent\" points=\"49.5,-18 49.5,-29 73.5,-29 73.5,-18 49.5,-18\"/>\n",
       "<polyline fill=\"none\" stroke=\"#000000\" points=\"49.5,-18 73.5,-18 73.5,-29 \"/>\n",
       "<text text-anchor=\"start\" x=\"58.9973\" y=\"-20.8\" font-family=\"Helvetica,sans-Serif\" font-size=\"9.00\" fill=\"#444443\">2</text>\n",
       "<polygon fill=\"#fefecd\" stroke=\"transparent\" points=\"73.5,-18 73.5,-29 96.5,-29 96.5,-18 73.5,-18\"/>\n",
       "<polyline fill=\"none\" stroke=\"#000000\" points=\"73.5,-18 96.5,-18 96.5,-29 \"/>\n",
       "<text text-anchor=\"start\" x=\"82.4973\" y=\"-20.8\" font-family=\"Helvetica,sans-Serif\" font-size=\"9.00\" fill=\"#444443\">3</text>\n",
       "<polygon fill=\"#fefecd\" stroke=\"transparent\" points=\"96.5,-18 96.5,-29 118.5,-29 118.5,-18 96.5,-18\"/>\n",
       "<polyline fill=\"none\" stroke=\"#000000\" points=\"96.5,-18 118.5,-18 \"/>\n",
       "<text text-anchor=\"start\" x=\"104.9973\" y=\"-20.8\" font-family=\"Helvetica,sans-Serif\" font-size=\"9.00\" fill=\"#444443\">4</text>\n",
       "<polygon fill=\"#fefecd\" stroke=\"transparent\" points=\"1.5,-1 1.5,-18 25.5,-18 25.5,-1 1.5,-1\"/>\n",
       "<polyline fill=\"none\" stroke=\"#000000\" points=\"25.5,-1 25.5,-18 \"/>\n",
       "<text text-anchor=\"start\" x=\"4.3235\" y=\"-6.2\" font-family=\"Helvetica,sans-Serif\" font-size=\"11.00\" fill=\"#444443\">100</text>\n",
       "<polygon fill=\"#fefecd\" stroke=\"transparent\" points=\"25.5,-1 25.5,-18 49.5,-18 49.5,-1 25.5,-1\"/>\n",
       "<polyline fill=\"none\" stroke=\"#000000\" points=\"49.5,-1 49.5,-18 \"/>\n",
       "<text text-anchor=\"start\" x=\"28.3235\" y=\"-6.2\" font-family=\"Helvetica,sans-Serif\" font-size=\"11.00\" fill=\"#444443\">102</text>\n",
       "<polygon fill=\"#fefecd\" stroke=\"transparent\" points=\"49.5,-1 49.5,-18 73.5,-18 73.5,-1 49.5,-1\"/>\n",
       "<polyline fill=\"none\" stroke=\"#000000\" points=\"73.5,-1 73.5,-18 \"/>\n",
       "<text text-anchor=\"start\" x=\"52.3235\" y=\"-6.2\" font-family=\"Helvetica,sans-Serif\" font-size=\"11.00\" fill=\"#444443\">103</text>\n",
       "<polygon fill=\"#fefecd\" stroke=\"transparent\" points=\"73.5,-1 73.5,-18 96.5,-18 96.5,-1 73.5,-1\"/>\n",
       "<polyline fill=\"none\" stroke=\"#000000\" points=\"96.5,-1 96.5,-18 \"/>\n",
       "<text text-anchor=\"start\" x=\"76.229\" y=\"-6.2\" font-family=\"Helvetica,sans-Serif\" font-size=\"11.00\" fill=\"#444443\">113</text>\n",
       "<polygon fill=\"#fefecd\" stroke=\"transparent\" points=\"96.5,-1 96.5,-18 118.5,-18 118.5,-1 96.5,-1\"/>\n",
       "<text text-anchor=\"start\" x=\"98.3235\" y=\"-6.2\" font-family=\"Helvetica,sans-Serif\" font-size=\"11.00\" fill=\"#444443\">121</text>\n",
       "</g>\n",
       "</g>\n",
       "</svg>\n"
      ],
      "text/plain": [
       "<graphviz.files.Source at 0x1029f2da0>"
      ]
     },
     "execution_count": 20,
     "metadata": {},
     "output_type": "execute_result"
    }
   ],
   "source": [
    "objviz(ids)"
   ]
  },
  {
   "cell_type": "markdown",
   "metadata": {},
   "source": [
    "We can do lots of fun set arithmetic:"
   ]
  },
  {
   "cell_type": "code",
   "execution_count": 21,
   "metadata": {},
   "outputs": [
    {
     "data": {
      "text/plain": [
       "{100, 102, 109}"
      ]
     },
     "execution_count": 21,
     "metadata": {},
     "output_type": "execute_result"
    }
   ],
   "source": [
    "{100,102}.union({109})"
   ]
  },
  {
   "cell_type": "code",
   "execution_count": 22,
   "metadata": {},
   "outputs": [
    {
     "data": {
      "text/plain": [
       "{100}"
      ]
     },
     "execution_count": 22,
     "metadata": {},
     "output_type": "execute_result"
    }
   ],
   "source": [
    "{100,102}.intersection({100,119})"
   ]
  },
  {
   "cell_type": "markdown",
   "metadata": {},
   "source": [
    "### Tables (list of lists)"
   ]
  },
  {
   "cell_type": "markdown",
   "metadata": {},
   "source": [
    "Spreadsheets arrange rows one after the other, which programmers interpret as a *list of lists.* In the analytics or database world, we call this a **table**:\n",
    "\n",
    "<img src=\"images/rows.png\" width=\"700\">\n",
    "\n",
    "In this example, each row represents a sales transaction.\n",
    "\n",
    "The input to machine learning algorithms is often a table where each row aggregates the data associated with a specific instance or observation. These tables are called **dataframes** and will become your BFF."
   ]
  },
  {
   "cell_type": "code",
   "execution_count": 23,
   "metadata": {},
   "outputs": [
    {
     "data": {
      "text/html": [
       "<div>\n",
       "<style scoped>\n",
       "    .dataframe tbody tr th:only-of-type {\n",
       "        vertical-align: middle;\n",
       "    }\n",
       "\n",
       "    .dataframe tbody tr th {\n",
       "        vertical-align: top;\n",
       "    }\n",
       "\n",
       "    .dataframe thead th {\n",
       "        text-align: right;\n",
       "    }\n",
       "</style>\n",
       "<table border=\"1\" class=\"dataframe\">\n",
       "  <thead>\n",
       "    <tr style=\"text-align: right;\">\n",
       "      <th></th>\n",
       "      <th>ID</th>\n",
       "      <th>user</th>\n",
       "    </tr>\n",
       "  </thead>\n",
       "  <tbody>\n",
       "    <tr>\n",
       "      <th>0</th>\n",
       "      <td>99</td>\n",
       "      <td>parrt</td>\n",
       "    </tr>\n",
       "    <tr>\n",
       "      <th>1</th>\n",
       "      <td>101</td>\n",
       "      <td>sri</td>\n",
       "    </tr>\n",
       "    <tr>\n",
       "      <th>2</th>\n",
       "      <td>42</td>\n",
       "      <td>kayla</td>\n",
       "    </tr>\n",
       "  </tbody>\n",
       "</table>\n",
       "</div>"
      ],
      "text/plain": [
       "    ID   user\n",
       "0   99  parrt\n",
       "1  101    sri\n",
       "2   42  kayla"
      ]
     },
     "execution_count": 23,
     "metadata": {},
     "output_type": "execute_result"
    }
   ],
   "source": [
    "from pandas import DataFrame\n",
    "\n",
    "df = DataFrame(data=[[99,'parrt'],[101,'sri'],[42,'kayla']],\n",
    "               columns=['ID','user'])\n",
    "df"
   ]
  },
  {
   "cell_type": "code",
   "execution_count": 24,
   "metadata": {},
   "outputs": [
    {
     "data": {
      "text/plain": [
       "array([[99, 'parrt'],\n",
       "       [101, 'sri'],\n",
       "       [42, 'kayla']], dtype=object)"
      ]
     },
     "execution_count": 24,
     "metadata": {},
     "output_type": "execute_result"
    }
   ],
   "source": [
    "df.values"
   ]
  },
  {
   "cell_type": "code",
   "execution_count": 25,
   "metadata": {},
   "outputs": [
    {
     "data": {
      "text/plain": [
       "Index(['ID', 'user'], dtype='object')"
      ]
     },
     "execution_count": 25,
     "metadata": {},
     "output_type": "execute_result"
    }
   ],
   "source": [
    "df.columns"
   ]
  },
  {
   "cell_type": "code",
   "execution_count": 26,
   "metadata": {},
   "outputs": [
    {
     "data": {
      "text/plain": [
       "0    parrt\n",
       "1      sri\n",
       "2    kayla\n",
       "Name: user, dtype: object"
      ]
     },
     "execution_count": 26,
     "metadata": {},
     "output_type": "execute_result"
    }
   ],
   "source": [
    "df.user"
   ]
  },
  {
   "cell_type": "code",
   "execution_count": 27,
   "metadata": {},
   "outputs": [
    {
     "data": {
      "text/plain": [
       "array([[99, 'parrt'],\n",
       "       [101, 'sri'],\n",
       "       [42, 'kayla']], dtype=object)"
      ]
     },
     "execution_count": 27,
     "metadata": {},
     "output_type": "execute_result"
    }
   ],
   "source": [
    "df.values"
   ]
  },
  {
   "cell_type": "code",
   "execution_count": 28,
   "metadata": {},
   "outputs": [
    {
     "data": {
      "image/svg+xml": [
       "<?xml version=\"1.0\" encoding=\"UTF-8\" standalone=\"no\"?>\n",
       "<!DOCTYPE svg PUBLIC \"-//W3C//DTD SVG 1.1//EN\"\n",
       " \"http://www.w3.org/Graphics/SVG/1.1/DTD/svg11.dtd\">\n",
       "<!-- Generated by graphviz version 2.40.1 (20161225.0304)\n",
       " -->\n",
       "<!-- Title: G Pages: 1 -->\n",
       "<svg width=\"103pt\" height=\"106pt\"\n",
       " viewBox=\"0.00 0.00 103.00 106.00\" xmlns=\"http://www.w3.org/2000/svg\" xmlns:xlink=\"http://www.w3.org/1999/xlink\">\n",
       "<g id=\"graph0\" class=\"graph\" transform=\"scale(1 1) rotate(0) translate(4 102)\">\n",
       "<title>G</title>\n",
       "<polygon fill=\"#ffffff\" stroke=\"transparent\" points=\"-4,4 -4,-102 99,-102 99,4 -4,4\"/>\n",
       "<!-- node4387130376 -->\n",
       "<g id=\"node1\" class=\"node\">\n",
       "<title>node4387130376</title>\n",
       "<polygon fill=\"#cfe2d4\" stroke=\"#444443\" stroke-width=\".5\" points=\"13,-73.5 0,-73.5 0,-26.5 13,-26.5 13,-73.5\"/>\n",
       "<polygon fill=\"#cfe2d4\" stroke=\"transparent\" points=\"1.5,-57 1.5,-72 12.5,-72 12.5,-57 1.5,-57\"/>\n",
       "<polyline fill=\"none\" stroke=\"#444443\" points=\"1.5,-57 12.5,-57 \"/>\n",
       "<text text-anchor=\"start\" x=\"4.4973\" y=\"-61.8\" font-family=\"Helvetica,sans-Serif\" font-size=\"9.00\" fill=\"#444443\">0</text>\n",
       "<polygon fill=\"#cfe2d4\" stroke=\"transparent\" points=\"1.5,-42 1.5,-57 12.5,-57 12.5,-42 1.5,-42\"/>\n",
       "<polyline fill=\"none\" stroke=\"#444443\" points=\"1.5,-42 12.5,-42 \"/>\n",
       "<text text-anchor=\"start\" x=\"4.4973\" y=\"-46.8\" font-family=\"Helvetica,sans-Serif\" font-size=\"9.00\" fill=\"#444443\">1</text>\n",
       "<polygon fill=\"#cfe2d4\" stroke=\"transparent\" points=\"1.5,-27 1.5,-42 12.5,-42 12.5,-27 1.5,-27\"/>\n",
       "<text text-anchor=\"start\" x=\"4.4973\" y=\"-31.8\" font-family=\"Helvetica,sans-Serif\" font-size=\"9.00\" fill=\"#444443\">2</text>\n",
       "</g>\n",
       "<!-- node4338944648 -->\n",
       "<g id=\"node2\" class=\"node\">\n",
       "<title>node4338944648</title>\n",
       "<polygon fill=\"none\" stroke=\"#000000\" stroke-width=\".5\" points=\"93.5,-98 43.5,-98 43.5,-68 93.5,-68 93.5,-98\"/>\n",
       "<polygon fill=\"#fefecd\" stroke=\"transparent\" points=\"44.5,-86 44.5,-97 62.5,-97 62.5,-86 44.5,-86\"/>\n",
       "<polyline fill=\"none\" stroke=\"#000000\" points=\"44.5,-86 62.5,-86 62.5,-97 \"/>\n",
       "<text text-anchor=\"start\" x=\"50.9973\" y=\"-88.8\" font-family=\"Helvetica,sans-Serif\" font-size=\"9.00\" fill=\"#444443\">0</text>\n",
       "<polygon fill=\"#fefecd\" stroke=\"transparent\" points=\"62.5,-86 62.5,-97 92.5,-97 92.5,-86 62.5,-86\"/>\n",
       "<polyline fill=\"none\" stroke=\"#000000\" points=\"62.5,-86 92.5,-86 \"/>\n",
       "<text text-anchor=\"start\" x=\"74.9973\" y=\"-88.8\" font-family=\"Helvetica,sans-Serif\" font-size=\"9.00\" fill=\"#444443\">1</text>\n",
       "<polygon fill=\"#fefecd\" stroke=\"transparent\" points=\"44.5,-69 44.5,-86 62.5,-86 62.5,-69 44.5,-69\"/>\n",
       "<polyline fill=\"none\" stroke=\"#000000\" points=\"62.5,-69 62.5,-86 \"/>\n",
       "<text text-anchor=\"start\" x=\"47.3823\" y=\"-74.2\" font-family=\"Helvetica,sans-Serif\" font-size=\"11.00\" fill=\"#444443\">99</text>\n",
       "<polygon fill=\"#fefecd\" stroke=\"transparent\" points=\"62.5,-69 62.5,-86 92.5,-86 92.5,-69 62.5,-69\"/>\n",
       "<text text-anchor=\"start\" x=\"64.0911\" y=\"-74.2\" font-family=\"Helvetica,sans-Serif\" font-size=\"11.00\" fill=\"#444443\">&#39;parrt&#39;</text>\n",
       "</g>\n",
       "<!-- node4387130376&#45;&gt;node4338944648 -->\n",
       "<g id=\"edge1\" class=\"edge\">\n",
       "<title>node4387130376:0&#45;&gt;node4338944648:w</title>\n",
       "<path fill=\"none\" stroke=\"#444443\" stroke-width=\".5\" d=\"M12.5,-65C26.9383,-65 27.5824,-79.7832 39.4343,-82.5551\"/>\n",
       "<polygon fill=\"#444443\" stroke=\"#444443\" stroke-width=\".5\" points=\"39.3714,-83.9564 43.5,-83 39.6761,-81.1731 39.3714,-83.9564\"/>\n",
       "</g>\n",
       "<!-- node4387128584 -->\n",
       "<g id=\"node3\" class=\"node\">\n",
       "<title>node4387128584</title>\n",
       "<polygon fill=\"none\" stroke=\"#000000\" stroke-width=\".5\" points=\"91,-64 46,-64 46,-34 91,-34 91,-64\"/>\n",
       "<polygon fill=\"#fefecd\" stroke=\"transparent\" points=\"47.5,-52 47.5,-63 71.5,-63 71.5,-52 47.5,-52\"/>\n",
       "<polyline fill=\"none\" stroke=\"#000000\" points=\"47.5,-52 71.5,-52 71.5,-63 \"/>\n",
       "<text text-anchor=\"start\" x=\"56.9973\" y=\"-54.8\" font-family=\"Helvetica,sans-Serif\" font-size=\"9.00\" fill=\"#444443\">0</text>\n",
       "<polygon fill=\"#fefecd\" stroke=\"transparent\" points=\"71.5,-52 71.5,-63 90.5,-63 90.5,-52 71.5,-52\"/>\n",
       "<polyline fill=\"none\" stroke=\"#000000\" points=\"71.5,-52 90.5,-52 \"/>\n",
       "<text text-anchor=\"start\" x=\"78.4973\" y=\"-54.8\" font-family=\"Helvetica,sans-Serif\" font-size=\"9.00\" fill=\"#444443\">1</text>\n",
       "<polygon fill=\"#fefecd\" stroke=\"transparent\" points=\"47.5,-35 47.5,-52 71.5,-52 71.5,-35 47.5,-35\"/>\n",
       "<polyline fill=\"none\" stroke=\"#000000\" points=\"71.5,-35 71.5,-52 \"/>\n",
       "<text text-anchor=\"start\" x=\"50.3235\" y=\"-40.2\" font-family=\"Helvetica,sans-Serif\" font-size=\"11.00\" fill=\"#444443\">101</text>\n",
       "<polygon fill=\"#fefecd\" stroke=\"transparent\" points=\"71.5,-35 71.5,-52 90.5,-52 90.5,-35 71.5,-35\"/>\n",
       "<text text-anchor=\"start\" x=\"73.0964\" y=\"-40.2\" font-family=\"Helvetica,sans-Serif\" font-size=\"11.00\" fill=\"#444443\">&#39;sri&#39;</text>\n",
       "</g>\n",
       "<!-- node4387130376&#45;&gt;node4387128584 -->\n",
       "<g id=\"edge2\" class=\"edge\">\n",
       "<title>node4387130376:1&#45;&gt;node4387128584:w</title>\n",
       "<path fill=\"none\" stroke=\"#444443\" stroke-width=\".5\" d=\"M12.5,-49C25.6771,-49 29.9751,-49 41.3486,-49\"/>\n",
       "<polygon fill=\"#444443\" stroke=\"#444443\" stroke-width=\".5\" points=\"41.5,-50.4001 45.5,-49 41.5,-47.6001 41.5,-50.4001\"/>\n",
       "</g>\n",
       "<!-- node4387173064 -->\n",
       "<g id=\"node4\" class=\"node\">\n",
       "<title>node4387173064</title>\n",
       "<polygon fill=\"none\" stroke=\"#000000\" stroke-width=\".5\" points=\"95,-30 42,-30 42,0 95,0 95,-30\"/>\n",
       "<polygon fill=\"#fefecd\" stroke=\"transparent\" points=\"43.5,-18 43.5,-29 61.5,-29 61.5,-18 43.5,-18\"/>\n",
       "<polyline fill=\"none\" stroke=\"#000000\" points=\"43.5,-18 61.5,-18 61.5,-29 \"/>\n",
       "<text text-anchor=\"start\" x=\"49.9973\" y=\"-20.8\" font-family=\"Helvetica,sans-Serif\" font-size=\"9.00\" fill=\"#444443\">0</text>\n",
       "<polygon fill=\"#fefecd\" stroke=\"transparent\" points=\"61.5,-18 61.5,-29 94.5,-29 94.5,-18 61.5,-18\"/>\n",
       "<polyline fill=\"none\" stroke=\"#000000\" points=\"61.5,-18 94.5,-18 \"/>\n",
       "<text text-anchor=\"start\" x=\"75.4973\" y=\"-20.8\" font-family=\"Helvetica,sans-Serif\" font-size=\"9.00\" fill=\"#444443\">1</text>\n",
       "<polygon fill=\"#fefecd\" stroke=\"transparent\" points=\"43.5,-1 43.5,-18 61.5,-18 61.5,-1 43.5,-1\"/>\n",
       "<polyline fill=\"none\" stroke=\"#000000\" points=\"61.5,-1 61.5,-18 \"/>\n",
       "<text text-anchor=\"start\" x=\"46.3823\" y=\"-6.2\" font-family=\"Helvetica,sans-Serif\" font-size=\"11.00\" fill=\"#444443\">42</text>\n",
       "<polygon fill=\"#fefecd\" stroke=\"transparent\" points=\"61.5,-1 61.5,-18 94.5,-18 94.5,-1 61.5,-1\"/>\n",
       "<text text-anchor=\"start\" x=\"63.0603\" y=\"-6.2\" font-family=\"Helvetica,sans-Serif\" font-size=\"11.00\" fill=\"#444443\">&#39;kayla&#39;</text>\n",
       "</g>\n",
       "<!-- node4387130376&#45;&gt;node4387173064 -->\n",
       "<g id=\"edge3\" class=\"edge\">\n",
       "<title>node4387130376:2&#45;&gt;node4387173064:w</title>\n",
       "<path fill=\"none\" stroke=\"#444443\" stroke-width=\".5\" d=\"M12.5,-34C26.5113,-34 26.5699,-18.6634 37.747,-15.5481\"/>\n",
       "<polygon fill=\"#444443\" stroke=\"#444443\" stroke-width=\".5\" points=\"38.2118,-16.8999 42,-15 37.8538,-14.1229 38.2118,-16.8999\"/>\n",
       "</g>\n",
       "</g>\n",
       "</svg>\n"
      ],
      "text/plain": [
       "<graphviz.files.Source at 0x1057f3198>"
      ]
     },
     "execution_count": 28,
     "metadata": {},
     "output_type": "execute_result"
    }
   ],
   "source": [
    "lolviz(df.values.tolist())"
   ]
  },
  {
   "cell_type": "markdown",
   "metadata": {},
   "source": [
    "### Matrix"
   ]
  },
  {
   "cell_type": "markdown",
   "metadata": {},
   "source": [
    "If the table elements are all numbers, we call it a **matrix**. Here's a matrix with 5 rows and 2 columns:\n",
    "\n",
    "<img src=\"images/matrix.png\" width=\"110\">\n",
    "\n",
    "Let me introduce you to another of your new BFF, `numpy`:"
   ]
  },
  {
   "cell_type": "code",
   "execution_count": 29,
   "metadata": {},
   "outputs": [
    {
     "name": "stdout",
     "output_type": "stream",
     "text": [
      "[[ 19  11]\n",
      " [ 21  15]\n",
      " [103  18]\n",
      " [ 99  13]\n",
      " [  8   2]]\n"
     ]
    }
   ],
   "source": [
    "import numpy as np\n",
    "A = np.array([[19,11],\n",
    "              [21,15],\n",
    "              [103,18],\n",
    "              [99,13],\n",
    "              [8,2]])\n",
    "print(A)"
   ]
  },
  {
   "cell_type": "markdown",
   "metadata": {},
   "source": [
    "That is a matrix with shape 5 rows, 2 columns:"
   ]
  },
  {
   "cell_type": "code",
   "execution_count": 30,
   "metadata": {},
   "outputs": [
    {
     "data": {
      "text/plain": [
       "(5, 2)"
      ]
     },
     "execution_count": 30,
     "metadata": {},
     "output_type": "execute_result"
    }
   ],
   "source": [
    "A.shape"
   ]
  },
  {
   "cell_type": "markdown",
   "metadata": {},
   "source": [
    "There are many ways to represent or layout things and memory. In this case, we can view the matrix as a list of lists using lolviz:"
   ]
  },
  {
   "cell_type": "code",
   "execution_count": 31,
   "metadata": {},
   "outputs": [
    {
     "data": {
      "image/svg+xml": [
       "<?xml version=\"1.0\" encoding=\"UTF-8\" standalone=\"no\"?>\n",
       "<!DOCTYPE svg PUBLIC \"-//W3C//DTD SVG 1.1//EN\"\n",
       " \"http://www.w3.org/Graphics/SVG/1.1/DTD/svg11.dtd\">\n",
       "<!-- Generated by graphviz version 2.40.1 (20161225.0304)\n",
       " -->\n",
       "<!-- Title: G Pages: 1 -->\n",
       "<svg width=\"92pt\" height=\"174pt\"\n",
       " viewBox=\"0.00 0.00 92.00 174.00\" xmlns=\"http://www.w3.org/2000/svg\" xmlns:xlink=\"http://www.w3.org/1999/xlink\">\n",
       "<g id=\"graph0\" class=\"graph\" transform=\"scale(1 1) rotate(0) translate(4 170)\">\n",
       "<title>G</title>\n",
       "<polygon fill=\"#ffffff\" stroke=\"transparent\" points=\"-4,4 -4,-170 88,-170 88,4 -4,4\"/>\n",
       "<!-- node4338979592 -->\n",
       "<g id=\"node1\" class=\"node\">\n",
       "<title>node4338979592</title>\n",
       "<polygon fill=\"#cfe2d4\" stroke=\"#444443\" stroke-width=\".5\" points=\"13,-122.5 0,-122.5 0,-45.5 13,-45.5 13,-122.5\"/>\n",
       "<polygon fill=\"#cfe2d4\" stroke=\"transparent\" points=\"1.5,-106 1.5,-121 12.5,-121 12.5,-106 1.5,-106\"/>\n",
       "<polyline fill=\"none\" stroke=\"#444443\" points=\"1.5,-106 12.5,-106 \"/>\n",
       "<text text-anchor=\"start\" x=\"4.4973\" y=\"-110.8\" font-family=\"Helvetica,sans-Serif\" font-size=\"9.00\" fill=\"#444443\">0</text>\n",
       "<polygon fill=\"#cfe2d4\" stroke=\"transparent\" points=\"1.5,-91 1.5,-106 12.5,-106 12.5,-91 1.5,-91\"/>\n",
       "<polyline fill=\"none\" stroke=\"#444443\" points=\"1.5,-91 12.5,-91 \"/>\n",
       "<text text-anchor=\"start\" x=\"4.4973\" y=\"-95.8\" font-family=\"Helvetica,sans-Serif\" font-size=\"9.00\" fill=\"#444443\">1</text>\n",
       "<polygon fill=\"#cfe2d4\" stroke=\"transparent\" points=\"1.5,-76 1.5,-91 12.5,-91 12.5,-76 1.5,-76\"/>\n",
       "<polyline fill=\"none\" stroke=\"#444443\" points=\"1.5,-76 12.5,-76 \"/>\n",
       "<text text-anchor=\"start\" x=\"4.4973\" y=\"-80.8\" font-family=\"Helvetica,sans-Serif\" font-size=\"9.00\" fill=\"#444443\">2</text>\n",
       "<polygon fill=\"#cfe2d4\" stroke=\"transparent\" points=\"1.5,-61 1.5,-76 12.5,-76 12.5,-61 1.5,-61\"/>\n",
       "<polyline fill=\"none\" stroke=\"#444443\" points=\"1.5,-61 12.5,-61 \"/>\n",
       "<text text-anchor=\"start\" x=\"4.4973\" y=\"-65.8\" font-family=\"Helvetica,sans-Serif\" font-size=\"9.00\" fill=\"#444443\">3</text>\n",
       "<polygon fill=\"#cfe2d4\" stroke=\"transparent\" points=\"1.5,-46 1.5,-61 12.5,-61 12.5,-46 1.5,-46\"/>\n",
       "<text text-anchor=\"start\" x=\"4.4973\" y=\"-50.8\" font-family=\"Helvetica,sans-Serif\" font-size=\"9.00\" fill=\"#444443\">4</text>\n",
       "</g>\n",
       "<!-- node4338981768 -->\n",
       "<g id=\"node2\" class=\"node\">\n",
       "<title>node4338981768</title>\n",
       "<polygon fill=\"none\" stroke=\"#000000\" stroke-width=\".5\" points=\"80.5,-166 45.5,-166 45.5,-136 80.5,-136 80.5,-166\"/>\n",
       "<polygon fill=\"#fefecd\" stroke=\"transparent\" points=\"47,-154 47,-165 65,-165 65,-154 47,-154\"/>\n",
       "<polyline fill=\"none\" stroke=\"#000000\" points=\"47,-154 65,-154 65,-165 \"/>\n",
       "<text text-anchor=\"start\" x=\"53.4973\" y=\"-156.8\" font-family=\"Helvetica,sans-Serif\" font-size=\"9.00\" fill=\"#444443\">0</text>\n",
       "<polygon fill=\"#fefecd\" stroke=\"transparent\" points=\"65,-154 65,-165 80,-165 80,-154 65,-154\"/>\n",
       "<polyline fill=\"none\" stroke=\"#000000\" points=\"65,-154 80,-154 \"/>\n",
       "<text text-anchor=\"start\" x=\"69.9973\" y=\"-156.8\" font-family=\"Helvetica,sans-Serif\" font-size=\"9.00\" fill=\"#444443\">1</text>\n",
       "<polygon fill=\"#fefecd\" stroke=\"transparent\" points=\"47,-137 47,-154 65,-154 65,-137 47,-137\"/>\n",
       "<polyline fill=\"none\" stroke=\"#000000\" points=\"65,-137 65,-154 \"/>\n",
       "<text text-anchor=\"start\" x=\"49.8823\" y=\"-142.2\" font-family=\"Helvetica,sans-Serif\" font-size=\"11.00\" fill=\"#444443\">19</text>\n",
       "<polygon fill=\"#fefecd\" stroke=\"transparent\" points=\"65,-137 65,-154 80,-154 80,-137 65,-137\"/>\n",
       "<text text-anchor=\"start\" x=\"66.7878\" y=\"-142.2\" font-family=\"Helvetica,sans-Serif\" font-size=\"11.00\" fill=\"#444443\">11</text>\n",
       "</g>\n",
       "<!-- node4338979592&#45;&gt;node4338981768 -->\n",
       "<g id=\"edge1\" class=\"edge\">\n",
       "<title>node4338979592:0&#45;&gt;node4338981768:w</title>\n",
       "<path fill=\"none\" stroke=\"#444443\" stroke-width=\".5\" d=\"M12.5,-114C32.8485,-114 24.5341,-145.9798 40.8519,-150.477\"/>\n",
       "<polygon fill=\"#444443\" stroke=\"#444443\" stroke-width=\".5\" points=\"40.8563,-151.8885 45,-151 41.2066,-149.1105 40.8563,-151.8885\"/>\n",
       "</g>\n",
       "<!-- node4338979272 -->\n",
       "<g id=\"node3\" class=\"node\">\n",
       "<title>node4338979272</title>\n",
       "<polygon fill=\"none\" stroke=\"#000000\" stroke-width=\".5\" points=\"81,-132 45,-132 45,-102 81,-102 81,-132\"/>\n",
       "<polygon fill=\"#fefecd\" stroke=\"transparent\" points=\"46,-120 46,-131 64,-131 64,-120 46,-120\"/>\n",
       "<polyline fill=\"none\" stroke=\"#000000\" points=\"46,-120 64,-120 64,-131 \"/>\n",
       "<text text-anchor=\"start\" x=\"52.4973\" y=\"-122.8\" font-family=\"Helvetica,sans-Serif\" font-size=\"9.00\" fill=\"#444443\">0</text>\n",
       "<polygon fill=\"#fefecd\" stroke=\"transparent\" points=\"64,-120 64,-131 80,-131 80,-120 64,-120\"/>\n",
       "<polyline fill=\"none\" stroke=\"#000000\" points=\"64,-120 80,-120 \"/>\n",
       "<text text-anchor=\"start\" x=\"69.4973\" y=\"-122.8\" font-family=\"Helvetica,sans-Serif\" font-size=\"9.00\" fill=\"#444443\">1</text>\n",
       "<polygon fill=\"#fefecd\" stroke=\"transparent\" points=\"46,-103 46,-120 64,-120 64,-103 46,-103\"/>\n",
       "<polyline fill=\"none\" stroke=\"#000000\" points=\"64,-103 64,-120 \"/>\n",
       "<text text-anchor=\"start\" x=\"48.8823\" y=\"-108.2\" font-family=\"Helvetica,sans-Serif\" font-size=\"11.00\" fill=\"#444443\">21</text>\n",
       "<polygon fill=\"#fefecd\" stroke=\"transparent\" points=\"64,-103 64,-120 80,-120 80,-103 64,-103\"/>\n",
       "<text text-anchor=\"start\" x=\"65.8823\" y=\"-108.2\" font-family=\"Helvetica,sans-Serif\" font-size=\"11.00\" fill=\"#444443\">15</text>\n",
       "</g>\n",
       "<!-- node4338979592&#45;&gt;node4338979272 -->\n",
       "<g id=\"edge2\" class=\"edge\">\n",
       "<title>node4338979592:1&#45;&gt;node4338979272:w</title>\n",
       "<path fill=\"none\" stroke=\"#444443\" stroke-width=\".5\" d=\"M12.5,-99C27.4639,-99 28.4366,-113.7832 40.7771,-116.5551\"/>\n",
       "<polygon fill=\"#444443\" stroke=\"#444443\" stroke-width=\".5\" points=\"40.8753,-117.9731 45,-117 41.1688,-115.1885 40.8753,-117.9731\"/>\n",
       "</g>\n",
       "<!-- node4387131272 -->\n",
       "<g id=\"node4\" class=\"node\">\n",
       "<title>node4387131272</title>\n",
       "<polygon fill=\"none\" stroke=\"#000000\" stroke-width=\".5\" points=\"84,-98 42,-98 42,-68 84,-68 84,-98\"/>\n",
       "<polygon fill=\"#fefecd\" stroke=\"transparent\" points=\"43,-86 43,-97 67,-97 67,-86 43,-86\"/>\n",
       "<polyline fill=\"none\" stroke=\"#000000\" points=\"43,-86 67,-86 67,-97 \"/>\n",
       "<text text-anchor=\"start\" x=\"52.4973\" y=\"-88.8\" font-family=\"Helvetica,sans-Serif\" font-size=\"9.00\" fill=\"#444443\">0</text>\n",
       "<polygon fill=\"#fefecd\" stroke=\"transparent\" points=\"67,-86 67,-97 83,-97 83,-86 67,-86\"/>\n",
       "<polyline fill=\"none\" stroke=\"#000000\" points=\"67,-86 83,-86 \"/>\n",
       "<text text-anchor=\"start\" x=\"72.4973\" y=\"-88.8\" font-family=\"Helvetica,sans-Serif\" font-size=\"9.00\" fill=\"#444443\">1</text>\n",
       "<polygon fill=\"#fefecd\" stroke=\"transparent\" points=\"43,-69 43,-86 67,-86 67,-69 43,-69\"/>\n",
       "<polyline fill=\"none\" stroke=\"#000000\" points=\"67,-69 67,-86 \"/>\n",
       "<text text-anchor=\"start\" x=\"45.8235\" y=\"-74.2\" font-family=\"Helvetica,sans-Serif\" font-size=\"11.00\" fill=\"#444443\">103</text>\n",
       "<polygon fill=\"#fefecd\" stroke=\"transparent\" points=\"67,-69 67,-86 83,-86 83,-69 67,-69\"/>\n",
       "<text text-anchor=\"start\" x=\"68.8823\" y=\"-74.2\" font-family=\"Helvetica,sans-Serif\" font-size=\"11.00\" fill=\"#444443\">18</text>\n",
       "</g>\n",
       "<!-- node4338979592&#45;&gt;node4387131272 -->\n",
       "<g id=\"edge3\" class=\"edge\">\n",
       "<title>node4338979592:2&#45;&gt;node4387131272:w</title>\n",
       "<path fill=\"none\" stroke=\"#444443\" stroke-width=\".5\" d=\"M12.5,-83C24.0747,-83 27.9856,-83 37.7641,-83\"/>\n",
       "<polygon fill=\"#444443\" stroke=\"#444443\" stroke-width=\".5\" points=\"38,-84.4001 42,-83 38,-81.6001 38,-84.4001\"/>\n",
       "</g>\n",
       "<!-- node4338607816 -->\n",
       "<g id=\"node5\" class=\"node\">\n",
       "<title>node4338607816</title>\n",
       "<polygon fill=\"none\" stroke=\"#000000\" stroke-width=\".5\" points=\"81,-64 45,-64 45,-34 81,-34 81,-64\"/>\n",
       "<polygon fill=\"#fefecd\" stroke=\"transparent\" points=\"46,-52 46,-63 64,-63 64,-52 46,-52\"/>\n",
       "<polyline fill=\"none\" stroke=\"#000000\" points=\"46,-52 64,-52 64,-63 \"/>\n",
       "<text text-anchor=\"start\" x=\"52.4973\" y=\"-54.8\" font-family=\"Helvetica,sans-Serif\" font-size=\"9.00\" fill=\"#444443\">0</text>\n",
       "<polygon fill=\"#fefecd\" stroke=\"transparent\" points=\"64,-52 64,-63 80,-63 80,-52 64,-52\"/>\n",
       "<polyline fill=\"none\" stroke=\"#000000\" points=\"64,-52 80,-52 \"/>\n",
       "<text text-anchor=\"start\" x=\"69.4973\" y=\"-54.8\" font-family=\"Helvetica,sans-Serif\" font-size=\"9.00\" fill=\"#444443\">1</text>\n",
       "<polygon fill=\"#fefecd\" stroke=\"transparent\" points=\"46,-35 46,-52 64,-52 64,-35 46,-35\"/>\n",
       "<polyline fill=\"none\" stroke=\"#000000\" points=\"64,-35 64,-52 \"/>\n",
       "<text text-anchor=\"start\" x=\"48.8823\" y=\"-40.2\" font-family=\"Helvetica,sans-Serif\" font-size=\"11.00\" fill=\"#444443\">99</text>\n",
       "<polygon fill=\"#fefecd\" stroke=\"transparent\" points=\"64,-35 64,-52 80,-52 80,-35 64,-35\"/>\n",
       "<text text-anchor=\"start\" x=\"65.8823\" y=\"-40.2\" font-family=\"Helvetica,sans-Serif\" font-size=\"11.00\" fill=\"#444443\">13</text>\n",
       "</g>\n",
       "<!-- node4338979592&#45;&gt;node4338607816 -->\n",
       "<g id=\"edge4\" class=\"edge\">\n",
       "<title>node4338979592:3&#45;&gt;node4338607816:w</title>\n",
       "<path fill=\"none\" stroke=\"#444443\" stroke-width=\".5\" d=\"M12.5,-68C27.6631,-68 28.2934,-52.3955 40.7316,-49.4697\"/>\n",
       "<polygon fill=\"#444443\" stroke=\"#444443\" stroke-width=\".5\" points=\"41.1771,-50.8292 45,-49 40.8708,-48.046 41.1771,-50.8292\"/>\n",
       "</g>\n",
       "<!-- node4387172552 -->\n",
       "<g id=\"node6\" class=\"node\">\n",
       "<title>node4387172552</title>\n",
       "<polygon fill=\"none\" stroke=\"#000000\" stroke-width=\".5\" points=\"75,-30 51,-30 51,0 75,0 75,-30\"/>\n",
       "<polygon fill=\"#fefecd\" stroke=\"transparent\" points=\"52,-18 52,-29 64,-29 64,-18 52,-18\"/>\n",
       "<polyline fill=\"none\" stroke=\"#000000\" points=\"52,-18 64,-18 64,-29 \"/>\n",
       "<text text-anchor=\"start\" x=\"55.4973\" y=\"-20.8\" font-family=\"Helvetica,sans-Serif\" font-size=\"9.00\" fill=\"#444443\">0</text>\n",
       "<polygon fill=\"#fefecd\" stroke=\"transparent\" points=\"64,-18 64,-29 74,-29 74,-18 64,-18\"/>\n",
       "<polyline fill=\"none\" stroke=\"#000000\" points=\"64,-18 74,-18 \"/>\n",
       "<text text-anchor=\"start\" x=\"66.4973\" y=\"-20.8\" font-family=\"Helvetica,sans-Serif\" font-size=\"9.00\" fill=\"#444443\">1</text>\n",
       "<polygon fill=\"#fefecd\" stroke=\"transparent\" points=\"52,-1 52,-18 64,-18 64,-1 52,-1\"/>\n",
       "<polyline fill=\"none\" stroke=\"#000000\" points=\"64,-1 64,-18 \"/>\n",
       "<text text-anchor=\"start\" x=\"54.9412\" y=\"-6.2\" font-family=\"Helvetica,sans-Serif\" font-size=\"11.00\" fill=\"#444443\">8</text>\n",
       "<polygon fill=\"#fefecd\" stroke=\"transparent\" points=\"64,-1 64,-18 74,-18 74,-1 64,-1\"/>\n",
       "<text text-anchor=\"start\" x=\"65.9412\" y=\"-6.2\" font-family=\"Helvetica,sans-Serif\" font-size=\"11.00\" fill=\"#444443\">2</text>\n",
       "</g>\n",
       "<!-- node4338979592&#45;&gt;node4387172552 -->\n",
       "<g id=\"edge5\" class=\"edge\">\n",
       "<title>node4338979592:4&#45;&gt;node4387172552:w</title>\n",
       "<path fill=\"none\" stroke=\"#444443\" stroke-width=\".5\" d=\"M12.5,-53C35.0395,-53 28.0245,-19.6016 46.8697,-15.4268\"/>\n",
       "<polygon fill=\"#444443\" stroke=\"#444443\" stroke-width=\".5\" points=\"47.1651,-16.8038 51,-15 46.8773,-14.0186 47.1651,-16.8038\"/>\n",
       "</g>\n",
       "</g>\n",
       "</svg>\n"
      ],
      "text/plain": [
       "<graphviz.files.Source at 0x1057f3390>"
      ]
     },
     "execution_count": 31,
     "metadata": {},
     "output_type": "execute_result"
    }
   ],
   "source": [
    "lolviz(A.tolist())"
   ]
  },
  {
   "cell_type": "markdown",
   "metadata": {},
   "source": [
    "We can do lots of matrix math with numpy:"
   ]
  },
  {
   "cell_type": "code",
   "execution_count": 32,
   "metadata": {},
   "outputs": [
    {
     "name": "stdout",
     "output_type": "stream",
     "text": [
      "[[ 38  22]\n",
      " [ 42  30]\n",
      " [206  36]\n",
      " [198  26]\n",
      " [ 16   4]]\n"
     ]
    }
   ],
   "source": [
    "print(A+A)"
   ]
  },
  {
   "cell_type": "code",
   "execution_count": 33,
   "metadata": {},
   "outputs": [
    {
     "name": "stdout",
     "output_type": "stream",
     "text": [
      "[[ 1881  1089]\n",
      " [ 2079  1485]\n",
      " [10197  1782]\n",
      " [ 9801  1287]\n",
      " [  792   198]]\n"
     ]
    }
   ],
   "source": [
    "print(A*99)"
   ]
  },
  {
   "cell_type": "code",
   "execution_count": 34,
   "metadata": {},
   "outputs": [
    {
     "data": {
      "text/plain": [
       "array([[ 19,  21, 103,  99,   8],\n",
       "       [ 11,  15,  18,  13,   2]])"
      ]
     },
     "execution_count": 34,
     "metadata": {},
     "output_type": "execute_result"
    }
   ],
   "source": [
    "A.T #transpose"
   ]
  },
  {
   "cell_type": "markdown",
   "metadata": {},
   "source": [
    "Here's a system of equation: $A x = b$, $x = A^{-1} b$:\n",
    "\n",
    "\\begin{equation*}\n",
    "\\begin{bmatrix}\n",
    "38 & 22\\\\\n",
    "42 & 30\n",
    "\\end{bmatrix}\n",
    "\\begin{bmatrix}\n",
    "x_1  \\\\\n",
    "x_2 \n",
    "\\end{bmatrix} =\n",
    "\\begin{bmatrix}\n",
    "3 \\\\\n",
    "5 \n",
    "\\end{bmatrix}\n",
    "\\end{equation*}"
   ]
  },
  {
   "cell_type": "markdown",
   "metadata": {},
   "source": [
    "Using numpy, we can solve that using the inverse of $A$."
   ]
  },
  {
   "cell_type": "code",
   "execution_count": 35,
   "metadata": {},
   "outputs": [
    {
     "name": "stdout",
     "output_type": "stream",
     "text": [
      "[-0.09259259  0.2962963 ]\n"
     ]
    }
   ],
   "source": [
    "from numpy.linalg import inv\n",
    "A = np.array([[38, 22], [42, 30]])\n",
    "b = np.array([3, 5])\n",
    "x = inv(A).dot(b)\n",
    "print(x)"
   ]
  },
  {
   "cell_type": "markdown",
   "metadata": {},
   "source": [
    "Here's some more stuff about the shape of various numpy $n$-dimensional arrays:"
   ]
  },
  {
   "cell_type": "code",
   "execution_count": 36,
   "metadata": {},
   "outputs": [
    {
     "name": "stdout",
     "output_type": "stream",
     "text": [
      "(2,)\n",
      "(1, 2)\n",
      "(2, 1)\n"
     ]
    }
   ],
   "source": [
    "x = np.array([3, 5])     # vertical vector with 2 rows\n",
    "y = np.array([[3, 5]])   # matrix with 1 row and 2 columns\n",
    "z = np.array([[3],[5]])  # matrix with 2 rows, 1 column\n",
    "print(x.shape)\n",
    "print(y.shape)\n",
    "print(z.shape)"
   ]
  },
  {
   "cell_type": "markdown",
   "metadata": {},
   "source": [
    "The tuple `(2,)` means a one-dimensional vector with 2 rows.  We can't use notation `(2)` because that's just an expression that means 2 rather than a tuple. It's a quirk but necessary."
   ]
  },
  {
   "cell_type": "markdown",
   "metadata": {},
   "source": [
    "### Dictionary"
   ]
  },
  {
   "cell_type": "markdown",
   "metadata": {},
   "source": [
    "If we arrange two lists side-by-side and kind of glue them together, we get a **dictionary**. Dictionaries map one value to another, just like a dictionary in the real world maps a word to a definition.  Here is a sample dictionary that maps a movie title to the year it was nominated for an Oscar award:\n",
    "\n",
    "<img src=\"images/dict.png\" width=\"220\">"
   ]
  },
  {
   "cell_type": "code",
   "execution_count": 37,
   "metadata": {},
   "outputs": [
    {
     "name": "stdout",
     "output_type": "stream",
     "text": [
      "<class 'dict'>\n",
      "{'Amadeus': 1984, 'Witness': 1985}\n"
     ]
    }
   ],
   "source": [
    "movies = {'Amadeus':1984, 'Witness':1985}\n",
    "print(type(movies))\n",
    "print(movies)"
   ]
  },
  {
   "cell_type": "code",
   "execution_count": 38,
   "metadata": {},
   "outputs": [
    {
     "name": "stdout",
     "output_type": "stream",
     "text": [
      "dict_keys(['Amadeus', 'Witness'])\n",
      "dict_values([1984, 1985])\n"
     ]
    }
   ],
   "source": [
    "print(movies.keys())\n",
    "print(movies.values())"
   ]
  },
  {
   "cell_type": "code",
   "execution_count": 39,
   "metadata": {},
   "outputs": [
    {
     "data": {
      "text/plain": [
       "1984"
      ]
     },
     "execution_count": 39,
     "metadata": {},
     "output_type": "execute_result"
    }
   ],
   "source": [
    "movies['Amadeus']"
   ]
  },
  {
   "cell_type": "markdown",
   "metadata": {},
   "source": [
    "```\n",
    "movies['foo']\n",
    "```\n",
    "\n",
    "gets a KeyError:\n",
    "\n",
    "```\n",
    "---------------------------------------------------------------------------\n",
    "KeyError                                  Traceback (most recent call last)\n",
    "<ipython-input-40-72c06b90f573> in <module>()\n",
    "----> 1 movies['foo'] # gets a KeyError\n",
    "\n",
    "KeyError: 'foo'\n",
    "```"
   ]
  },
  {
   "cell_type": "markdown",
   "metadata": {},
   "source": [
    "## Traversing data structures"
   ]
  },
  {
   "cell_type": "markdown",
   "metadata": {},
   "source": [
    "The spreadsheet model is a good one for understanding data structures but it's important to keep in mind that computers process one element (number or string) at a time.\n",
    "As humans, we can look at the spreadsheet or data structure from above in its entirety, but programs must **walk** or **traverse** the elements of a data structure one after the other. It's kind of like sliding a magnifying glass over the elements of a list:\n",
    "\n",
    "<img src=\"images/int-list-item.png\" width=\"230\">\n",
    "\n",
    "This notion of traversal abstracts to any **sequence** (or **stream**) of elements, not just lists. For example, we will eventually traverse the lines of a text file or a sequence of filenames obtained from the operating system. Sequences are extremely powerful because it allows us to process data that is much bigger than the memory of our computer. We can process the data piecemeal whereas a list requires all elements to be in memory at once.\n",
    "\n",
    "Typically we iterate through the elements of a list with a `for`-each statement:"
   ]
  },
  {
   "cell_type": "code",
   "execution_count": 40,
   "metadata": {},
   "outputs": [
    {
     "name": "stdout",
     "output_type": "stream",
     "text": [
      "6\n",
      "49\n",
      "27\n",
      "30\n",
      "19\n",
      "21\n",
      "12\n",
      "22\n",
      "21\n"
     ]
    }
   ],
   "source": [
    "for q in Quantity:\n",
    "    print(q)"
   ]
  },
  {
   "cell_type": "markdown",
   "metadata": {},
   "source": [
    "Here, the type of the objects pointed to by `q` is `int`.  We can also iterate through that list using an indexed loop:"
   ]
  },
  {
   "cell_type": "code",
   "execution_count": 41,
   "metadata": {},
   "outputs": [
    {
     "name": "stdout",
     "output_type": "stream",
     "text": [
      "6\n",
      "49\n",
      "27\n",
      "30\n",
      "19\n",
      "21\n",
      "12\n",
      "22\n",
      "21\n"
     ]
    }
   ],
   "source": [
    "for i in range(len(Quantity)):\n",
    "    print(Quantity[i])"
   ]
  },
  {
   "cell_type": "markdown",
   "metadata": {},
   "source": [
    "For lists and other structures that fit completely in memory, we often find a **reverse traversal** useful, that examines elements from last to first:"
   ]
  },
  {
   "cell_type": "code",
   "execution_count": 48,
   "metadata": {},
   "outputs": [
    {
     "name": "stdout",
     "output_type": "stream",
     "text": [
      "21\n",
      "22\n",
      "12\n",
      "21\n",
      "19\n",
      "30\n",
      "27\n",
      "49\n",
      "6\n"
     ]
    }
   ],
   "source": [
    "for q in reversed(Quantity):\n",
    "    print(q)"
   ]
  },
  {
   "cell_type": "markdown",
   "metadata": {},
   "source": [
    "Walking a dictionary is also easy but we have to decide whether we want to walk the keys or the values:"
   ]
  },
  {
   "cell_type": "code",
   "execution_count": 52,
   "metadata": {},
   "outputs": [
    {
     "name": "stdout",
     "output_type": "stream",
     "text": [
      "Amadeus\n",
      "Witness\n"
     ]
    }
   ],
   "source": [
    "movies = {'Amadeus':1984, 'Witness':1985}\n",
    "for m in movies: # walk keys\n",
    "    print(m)"
   ]
  },
  {
   "cell_type": "code",
   "execution_count": 53,
   "metadata": {},
   "outputs": [
    {
     "name": "stdout",
     "output_type": "stream",
     "text": [
      "1984\n",
      "1985\n"
     ]
    }
   ],
   "source": [
    "for m in movies.values(): # walk values\n",
    "    print(m)"
   ]
  },
  {
   "cell_type": "markdown",
   "metadata": {},
   "source": [
    "## Data aliasing\n",
    "\n",
    "One of the trickiest things about programming is figuring out exactly what data a variable refers to. Remember that we use names like `data` and `salary` to represent memory cells holding data values. The names are easier to remember than the physical memory addresses, but we can get fooled. For example, it's obvious that two variables `x` and `y` can both have the same integer value 7:"
   ]
  },
  {
   "cell_type": "code",
   "execution_count": 64,
   "metadata": {},
   "outputs": [
    {
     "name": "stdout",
     "output_type": "stream",
     "text": [
      "7 7\n"
     ]
    }
   ],
   "source": [
    "x = y = 7\n",
    "print(x,y)"
   ]
  },
  {
   "cell_type": "markdown",
   "metadata": {},
   "source": [
    "But, did you know that they are both referring to the same 7 object? In other words, variables in Python are always references or pointers to data so the variables are not technically holding the value.  Pointers are like phone numbers that \"point at\" phones but pointers themselves are not the phone itself.\n",
    "\n",
    "We can uncover this secret level of indirection using the built-in `id(x)` function that returns the physical memory address pointed out by `x`. To demonstrate that, let's ask what `x` and `y` point at:"
   ]
  },
  {
   "cell_type": "code",
   "execution_count": 65,
   "metadata": {},
   "outputs": [
    {
     "name": "stdout",
     "output_type": "stream",
     "text": [
      "4376626720\n",
      "4376626720\n"
     ]
    }
   ],
   "source": [
    "x = y = 7\n",
    "print(id(x))\n",
    "print(id(y))"
   ]
  },
  {
   "cell_type": "markdown",
   "metadata": {},
   "source": [
    "Wow! They are the same.  That number represents the memory location where Python has stored the shared 7 object."
   ]
  },
  {
   "cell_type": "markdown",
   "metadata": {},
   "source": [
    "Of course, as programmers we don't think of these atomic elements as referring to the same object; just keep in mind that they do. We are more likely to view them as copies of the same number, as lolviz shows visually:"
   ]
  },
  {
   "cell_type": "code",
   "execution_count": 66,
   "metadata": {},
   "outputs": [
    {
     "data": {
      "image/svg+xml": [
       "<?xml version=\"1.0\" encoding=\"UTF-8\" standalone=\"no\"?>\n",
       "<!DOCTYPE svg PUBLIC \"-//W3C//DTD SVG 1.1//EN\"\n",
       " \"http://www.w3.org/Graphics/SVG/1.1/DTD/svg11.dtd\">\n",
       "<!-- Generated by graphviz version 2.40.1 (20161225.0304)\n",
       " -->\n",
       "<!-- Title: G Pages: 1 -->\n",
       "<svg width=\"46pt\" height=\"55pt\"\n",
       " viewBox=\"0.00 0.00 46.00 55.00\" xmlns=\"http://www.w3.org/2000/svg\" xmlns:xlink=\"http://www.w3.org/1999/xlink\">\n",
       "<g id=\"graph0\" class=\"graph\" transform=\"scale(1 1) rotate(0) translate(4 51)\">\n",
       "<title>G</title>\n",
       "<polygon fill=\"#ffffff\" stroke=\"transparent\" points=\"-4,4 -4,-51 42,-51 42,4 -4,4\"/>\n",
       "<!-- node4413609928 -->\n",
       "<g id=\"node1\" class=\"node\">\n",
       "<title>node4413609928</title>\n",
       "<polygon fill=\"#d9e6f5\" stroke=\"#444443\" stroke-width=\".5\" points=\"38,-47 0,-47 0,0 38,0 38,-47\"/>\n",
       "<polygon fill=\"#d9e6f5\" stroke=\"transparent\" points=\"2,-31.5 2,-44.5 36,-44.5 36,-31.5 2,-31.5\"/>\n",
       "<polyline fill=\"none\" stroke=\"#444443\" points=\"2,-31.5 36,-31.5 \"/>\n",
       "<text text-anchor=\"start\" x=\"2.8035\" y=\"-34.7\" font-family=\"Times,serif\" font-style=\"italic\" font-size=\"11.00\" fill=\"#444443\">globals</text>\n",
       "<polygon fill=\"#d9e6f5\" stroke=\"transparent\" points=\"2,-29.5 2,-31.5 36,-31.5 36,-29.5 2,-29.5\"/>\n",
       "<polygon fill=\"#d9e6f5\" stroke=\"transparent\" points=\"2,-16.5 2,-29.5 18,-29.5 18,-16.5 2,-16.5\"/>\n",
       "<polyline fill=\"none\" stroke=\"#444443\" points=\"18,-16.5 18,-29.5 \"/>\n",
       "<text text-anchor=\"start\" x=\"8.4438\" y=\"-19.7\" font-family=\"Helvetica,sans-Serif\" font-size=\"11.00\" fill=\"#444443\">x </text>\n",
       "<polygon fill=\"#d9e6f5\" stroke=\"transparent\" points=\"21,-16.5 21,-29.5 36,-29.5 36,-16.5 21,-16.5\"/>\n",
       "<text text-anchor=\"start\" x=\"22\" y=\"-19.7\" font-family=\"Helvetica,sans-Serif\" font-size=\"11.00\" fill=\"#444443\"> 7</text>\n",
       "<polygon fill=\"#d9e6f5\" stroke=\"transparent\" points=\"2,-14.5 2,-16.5 36,-16.5 36,-14.5 2,-14.5\"/>\n",
       "<polygon fill=\"#d9e6f5\" stroke=\"transparent\" points=\"2,-1.5 2,-14.5 18,-14.5 18,-1.5 2,-1.5\"/>\n",
       "<polyline fill=\"none\" stroke=\"#444443\" points=\"18,-1.5 18,-14.5 \"/>\n",
       "<text text-anchor=\"start\" x=\"8.4438\" y=\"-4.7\" font-family=\"Helvetica,sans-Serif\" font-size=\"11.00\" fill=\"#444443\">y </text>\n",
       "<polygon fill=\"#d9e6f5\" stroke=\"transparent\" points=\"21,-1.5 21,-14.5 36,-14.5 36,-1.5 21,-1.5\"/>\n",
       "<text text-anchor=\"start\" x=\"22\" y=\"-4.7\" font-family=\"Helvetica,sans-Serif\" font-size=\"11.00\" fill=\"#444443\"> 7</text>\n",
       "</g>\n",
       "</g>\n",
       "</svg>\n"
      ],
      "text/plain": [
       "<graphviz.files.Source at 0x107130588>"
      ]
     },
     "execution_count": 66,
     "metadata": {},
     "output_type": "execute_result"
    }
   ],
   "source": [
    "from lolviz import *\n",
    "callviz(varnames=['x','y'])"
   ]
  },
  {
   "cell_type": "markdown",
   "metadata": {},
   "source": [
    "Let's verify that the same thing happens for strings:"
   ]
  },
  {
   "cell_type": "code",
   "execution_count": 67,
   "metadata": {},
   "outputs": [
    {
     "name": "stdout",
     "output_type": "stream",
     "text": [
      "4410792288\n",
      "4410792288\n"
     ]
    }
   ],
   "source": [
    "name = 'parrt'\n",
    "userid = name # userid now points at the same memory as name\n",
    "print(id(name))\n",
    "print(id(userid))"
   ]
  },
  {
   "cell_type": "markdown",
   "metadata": {},
   "source": [
    "Ok, great, so we are in fact sharing the same memory address to hold the string `'parrt'` and both of the variable names point at that same shared space. (We call this *aliasing*, in the language implementation business.)\n",
    "\n",
    "Things only get freaky when we start changing shared data. This can't happen with integers and strings because they are *immutable* (can't be changed). Let's look at two identical copies of a single list:"
   ]
  },
  {
   "cell_type": "code",
   "execution_count": 68,
   "metadata": {},
   "outputs": [
    {
     "name": "stdout",
     "output_type": "stream",
     "text": [
      "4412287112\n",
      "4409332744\n"
     ]
    },
    {
     "data": {
      "image/svg+xml": [
       "<?xml version=\"1.0\" encoding=\"UTF-8\" standalone=\"no\"?>\n",
       "<!DOCTYPE svg PUBLIC \"-//W3C//DTD SVG 1.1//EN\"\n",
       " \"http://www.w3.org/Graphics/SVG/1.1/DTD/svg11.dtd\">\n",
       "<!-- Generated by graphviz version 2.40.1 (20161225.0304)\n",
       " -->\n",
       "<!-- Title: G Pages: 1 -->\n",
       "<svg width=\"92pt\" height=\"75pt\"\n",
       " viewBox=\"0.00 0.00 92.00 75.00\" xmlns=\"http://www.w3.org/2000/svg\" xmlns:xlink=\"http://www.w3.org/1999/xlink\">\n",
       "<g id=\"graph0\" class=\"graph\" transform=\"scale(1 1) rotate(0) translate(4 71)\">\n",
       "<title>G</title>\n",
       "<polygon fill=\"#ffffff\" stroke=\"transparent\" points=\"-4,4 -4,-71 88,-71 88,4 -4,4\"/>\n",
       "<!-- node140448525661096 -->\n",
       "<g id=\"node1\" class=\"node\">\n",
       "<title>node140448525661096</title>\n",
       "<polygon fill=\"#d9e6f5\" stroke=\"#444443\" stroke-width=\".5\" points=\"40,-65.5 0,-65.5 0,-18.5 40,-18.5 40,-65.5\"/>\n",
       "<polygon fill=\"#d9e6f5\" stroke=\"transparent\" points=\"2,-50 2,-63 38,-63 38,-50 2,-50\"/>\n",
       "<polyline fill=\"none\" stroke=\"#444443\" points=\"2,-50 38,-50 \"/>\n",
       "<text text-anchor=\"start\" x=\"3.8035\" y=\"-53.2\" font-family=\"Times,serif\" font-style=\"italic\" font-size=\"11.00\" fill=\"#444443\">globals</text>\n",
       "<polygon fill=\"#d9e6f5\" stroke=\"transparent\" points=\"2,-48 2,-50 38,-50 38,-48 2,-48\"/>\n",
       "<polygon fill=\"#d9e6f5\" stroke=\"transparent\" points=\"2,-35 2,-48 24,-48 24,-35 2,-35\"/>\n",
       "<polyline fill=\"none\" stroke=\"#444443\" points=\"24,-35 24,-48 \"/>\n",
       "<text text-anchor=\"start\" x=\"2.6042\" y=\"-38.2\" font-family=\"Helvetica,sans-Serif\" font-size=\"11.00\" fill=\"#444443\">you </text>\n",
       "<polygon fill=\"#d9e6f5\" stroke=\"transparent\" points=\"24,-35 24,-48 38,-48 38,-35 24,-35\"/>\n",
       "<text text-anchor=\"start\" x=\"24.8877\" y=\"-38.2\" font-family=\"Helvetica,sans-Serif\" font-size=\"11.00\" fill=\"#444443\"> &#160;&#160;&#160;</text>\n",
       "<polygon fill=\"#d9e6f5\" stroke=\"transparent\" points=\"2,-33 2,-35 38,-35 38,-33 2,-33\"/>\n",
       "<polygon fill=\"#d9e6f5\" stroke=\"transparent\" points=\"2,-20 2,-33 24,-33 24,-20 2,-20\"/>\n",
       "<polyline fill=\"none\" stroke=\"#444443\" points=\"24,-20 24,-33 \"/>\n",
       "<text text-anchor=\"start\" x=\"4.6631\" y=\"-23.2\" font-family=\"Helvetica,sans-Serif\" font-size=\"11.00\" fill=\"#444443\">me </text>\n",
       "<polygon fill=\"#d9e6f5\" stroke=\"transparent\" points=\"24,-20 24,-33 38,-33 38,-20 24,-20\"/>\n",
       "<text text-anchor=\"start\" x=\"24.8877\" y=\"-23.2\" font-family=\"Helvetica,sans-Serif\" font-size=\"11.00\" fill=\"#444443\"> &#160;&#160;&#160;</text>\n",
       "</g>\n",
       "<!-- node4412287112 -->\n",
       "<g id=\"node2\" class=\"node\">\n",
       "<title>node4412287112</title>\n",
       "<polygon fill=\"none\" stroke=\"#000000\" stroke-width=\".5\" points=\"84,-67 48,-67 48,-37 84,-37 84,-67\"/>\n",
       "<polygon fill=\"#fefecd\" stroke=\"transparent\" points=\"49,-55 49,-66 61,-66 61,-55 49,-55\"/>\n",
       "<polyline fill=\"none\" stroke=\"#000000\" points=\"49,-55 61,-55 61,-66 \"/>\n",
       "<text text-anchor=\"start\" x=\"52.4973\" y=\"-57.8\" font-family=\"Helvetica,sans-Serif\" font-size=\"9.00\" fill=\"#444443\">0</text>\n",
       "<polygon fill=\"#fefecd\" stroke=\"transparent\" points=\"61,-55 61,-66 73,-66 73,-55 61,-55\"/>\n",
       "<polyline fill=\"none\" stroke=\"#000000\" points=\"61,-55 73,-55 73,-66 \"/>\n",
       "<text text-anchor=\"start\" x=\"64.4973\" y=\"-57.8\" font-family=\"Helvetica,sans-Serif\" font-size=\"9.00\" fill=\"#444443\">1</text>\n",
       "<polygon fill=\"#fefecd\" stroke=\"transparent\" points=\"73,-55 73,-66 83,-66 83,-55 73,-55\"/>\n",
       "<polyline fill=\"none\" stroke=\"#000000\" points=\"73,-55 83,-55 \"/>\n",
       "<text text-anchor=\"start\" x=\"75.4973\" y=\"-57.8\" font-family=\"Helvetica,sans-Serif\" font-size=\"9.00\" fill=\"#444443\">2</text>\n",
       "<polygon fill=\"#fefecd\" stroke=\"transparent\" points=\"49,-38 49,-55 61,-55 61,-38 49,-38\"/>\n",
       "<polyline fill=\"none\" stroke=\"#000000\" points=\"61,-38 61,-55 \"/>\n",
       "<text text-anchor=\"start\" x=\"51.9412\" y=\"-43.2\" font-family=\"Helvetica,sans-Serif\" font-size=\"11.00\" fill=\"#444443\">1</text>\n",
       "<polygon fill=\"#fefecd\" stroke=\"transparent\" points=\"61,-38 61,-55 73,-55 73,-38 61,-38\"/>\n",
       "<polyline fill=\"none\" stroke=\"#000000\" points=\"73,-38 73,-55 \"/>\n",
       "<text text-anchor=\"start\" x=\"63.9412\" y=\"-43.2\" font-family=\"Helvetica,sans-Serif\" font-size=\"11.00\" fill=\"#444443\">3</text>\n",
       "<polygon fill=\"#fefecd\" stroke=\"transparent\" points=\"73,-38 73,-55 83,-55 83,-38 73,-38\"/>\n",
       "<text text-anchor=\"start\" x=\"74.9412\" y=\"-43.2\" font-family=\"Helvetica,sans-Serif\" font-size=\"11.00\" fill=\"#444443\">5</text>\n",
       "</g>\n",
       "<!-- node140448525661096&#45;&gt;node4412287112 -->\n",
       "<g id=\"edge1\" class=\"edge\">\n",
       "<title>node140448525661096:c&#45;&gt;node4412287112</title>\n",
       "<path fill=\"none\" stroke=\"#444443\" stroke-width=\".5\" d=\"M34.2848,-42.0324C36.6621,-42.7795 40.1055,-43.8617 43.8557,-45.0404\"/>\n",
       "<ellipse fill=\"#444443\" stroke=\"#444443\" stroke-width=\".5\" cx=\"32.5264\" cy=\"-41.4798\" rx=\"1.6\" ry=\"1.6\"/>\n",
       "<polygon fill=\"#444443\" stroke=\"#444443\" stroke-width=\".5\" points=\"43.4442,-46.3785 47.68,-46.2423 44.2838,-43.7073 43.4442,-46.3785\"/>\n",
       "</g>\n",
       "<!-- node4409332744 -->\n",
       "<g id=\"node3\" class=\"node\">\n",
       "<title>node4409332744</title>\n",
       "<polygon fill=\"none\" stroke=\"#000000\" stroke-width=\".5\" points=\"84,-30 48,-30 48,0 84,0 84,-30\"/>\n",
       "<polygon fill=\"#fefecd\" stroke=\"transparent\" points=\"49,-18 49,-29 61,-29 61,-18 49,-18\"/>\n",
       "<polyline fill=\"none\" stroke=\"#000000\" points=\"49,-18 61,-18 61,-29 \"/>\n",
       "<text text-anchor=\"start\" x=\"52.4973\" y=\"-20.8\" font-family=\"Helvetica,sans-Serif\" font-size=\"9.00\" fill=\"#444443\">0</text>\n",
       "<polygon fill=\"#fefecd\" stroke=\"transparent\" points=\"61,-18 61,-29 73,-29 73,-18 61,-18\"/>\n",
       "<polyline fill=\"none\" stroke=\"#000000\" points=\"61,-18 73,-18 73,-29 \"/>\n",
       "<text text-anchor=\"start\" x=\"64.4973\" y=\"-20.8\" font-family=\"Helvetica,sans-Serif\" font-size=\"9.00\" fill=\"#444443\">1</text>\n",
       "<polygon fill=\"#fefecd\" stroke=\"transparent\" points=\"73,-18 73,-29 83,-29 83,-18 73,-18\"/>\n",
       "<polyline fill=\"none\" stroke=\"#000000\" points=\"73,-18 83,-18 \"/>\n",
       "<text text-anchor=\"start\" x=\"75.4973\" y=\"-20.8\" font-family=\"Helvetica,sans-Serif\" font-size=\"9.00\" fill=\"#444443\">2</text>\n",
       "<polygon fill=\"#fefecd\" stroke=\"transparent\" points=\"49,-1 49,-18 61,-18 61,-1 49,-1\"/>\n",
       "<polyline fill=\"none\" stroke=\"#000000\" points=\"61,-1 61,-18 \"/>\n",
       "<text text-anchor=\"start\" x=\"51.9412\" y=\"-6.2\" font-family=\"Helvetica,sans-Serif\" font-size=\"11.00\" fill=\"#444443\">1</text>\n",
       "<polygon fill=\"#fefecd\" stroke=\"transparent\" points=\"61,-1 61,-18 73,-18 73,-1 61,-1\"/>\n",
       "<polyline fill=\"none\" stroke=\"#000000\" points=\"73,-1 73,-18 \"/>\n",
       "<text text-anchor=\"start\" x=\"63.9412\" y=\"-6.2\" font-family=\"Helvetica,sans-Serif\" font-size=\"11.00\" fill=\"#444443\">3</text>\n",
       "<polygon fill=\"#fefecd\" stroke=\"transparent\" points=\"73,-1 73,-18 83,-18 83,-1 73,-1\"/>\n",
       "<text text-anchor=\"start\" x=\"74.9412\" y=\"-6.2\" font-family=\"Helvetica,sans-Serif\" font-size=\"11.00\" fill=\"#444443\">5</text>\n",
       "</g>\n",
       "<!-- node140448525661096&#45;&gt;node4409332744 -->\n",
       "<g id=\"edge2\" class=\"edge\">\n",
       "<title>node140448525661096:c&#45;&gt;node4409332744</title>\n",
       "<path fill=\"none\" stroke=\"#444443\" stroke-width=\".5\" d=\"M34.2848,-24.9676C36.6621,-24.2205 40.1055,-23.1383 43.8557,-21.9596\"/>\n",
       "<ellipse fill=\"#444443\" stroke=\"#444443\" stroke-width=\".5\" cx=\"32.5264\" cy=\"-25.5202\" rx=\"1.6\" ry=\"1.6\"/>\n",
       "<polygon fill=\"#444443\" stroke=\"#444443\" stroke-width=\".5\" points=\"44.2838,-23.2927 47.68,-20.7577 43.4442,-20.6215 44.2838,-23.2927\"/>\n",
       "</g>\n",
       "</g>\n",
       "</svg>\n"
      ],
      "text/plain": [
       "<graphviz.files.Source at 0x107129a58>"
      ]
     },
     "execution_count": 68,
     "metadata": {},
     "output_type": "execute_result"
    }
   ],
   "source": [
    "you = [1,3,5]\n",
    "me  = [1,3,5]\n",
    "print(id(you))\n",
    "print(id(me))\n",
    "callviz(varnames=['you','me'])"
   ]
  },
  {
   "cell_type": "markdown",
   "metadata": {},
   "source": [
    "Those lists have the same value but live a different memory addresses. They are not aliased; they are not shared. Consequently, changing one does not change the other:"
   ]
  },
  {
   "cell_type": "code",
   "execution_count": 69,
   "metadata": {},
   "outputs": [
    {
     "name": "stdout",
     "output_type": "stream",
     "text": [
      "[1, 3, 5] [1, 3, 5]\n",
      "[99, 3, 5] [1, 3, 5]\n"
     ]
    }
   ],
   "source": [
    "you = [1,3,5]\n",
    "me  = [1,3,5]\n",
    "print(you, me)\n",
    "you[0] = 99\n",
    "print(you, me)"
   ]
  },
  {
   "cell_type": "markdown",
   "metadata": {},
   "source": [
    "On the other hand, let's see what happens if we make `you` and `me` share the same copy of the list (point at the same memory location):"
   ]
  },
  {
   "cell_type": "code",
   "execution_count": 70,
   "metadata": {},
   "outputs": [
    {
     "name": "stdout",
     "output_type": "stream",
     "text": [
      "[1, 3, 5] [1, 3, 5]\n"
     ]
    },
    {
     "data": {
      "image/svg+xml": [
       "<?xml version=\"1.0\" encoding=\"UTF-8\" standalone=\"no\"?>\n",
       "<!DOCTYPE svg PUBLIC \"-//W3C//DTD SVG 1.1//EN\"\n",
       " \"http://www.w3.org/Graphics/SVG/1.1/DTD/svg11.dtd\">\n",
       "<!-- Generated by graphviz version 2.40.1 (20161225.0304)\n",
       " -->\n",
       "<!-- Title: G Pages: 1 -->\n",
       "<svg width=\"92pt\" height=\"55pt\"\n",
       " viewBox=\"0.00 0.00 92.00 55.00\" xmlns=\"http://www.w3.org/2000/svg\" xmlns:xlink=\"http://www.w3.org/1999/xlink\">\n",
       "<g id=\"graph0\" class=\"graph\" transform=\"scale(1 1) rotate(0) translate(4 51)\">\n",
       "<title>G</title>\n",
       "<polygon fill=\"#ffffff\" stroke=\"transparent\" points=\"-4,4 -4,-51 88,-51 88,4 -4,4\"/>\n",
       "<!-- node140448559535416 -->\n",
       "<g id=\"node1\" class=\"node\">\n",
       "<title>node140448559535416</title>\n",
       "<polygon fill=\"#d9e6f5\" stroke=\"#444443\" stroke-width=\".5\" points=\"40,-47 0,-47 0,0 40,0 40,-47\"/>\n",
       "<polygon fill=\"#d9e6f5\" stroke=\"transparent\" points=\"2,-31.5 2,-44.5 38,-44.5 38,-31.5 2,-31.5\"/>\n",
       "<polyline fill=\"none\" stroke=\"#444443\" points=\"2,-31.5 38,-31.5 \"/>\n",
       "<text text-anchor=\"start\" x=\"3.8035\" y=\"-34.7\" font-family=\"Times,serif\" font-style=\"italic\" font-size=\"11.00\" fill=\"#444443\">globals</text>\n",
       "<polygon fill=\"#d9e6f5\" stroke=\"transparent\" points=\"2,-29.5 2,-31.5 38,-31.5 38,-29.5 2,-29.5\"/>\n",
       "<polygon fill=\"#d9e6f5\" stroke=\"transparent\" points=\"2,-16.5 2,-29.5 24,-29.5 24,-16.5 2,-16.5\"/>\n",
       "<polyline fill=\"none\" stroke=\"#444443\" points=\"24,-16.5 24,-29.5 \"/>\n",
       "<text text-anchor=\"start\" x=\"2.6042\" y=\"-19.7\" font-family=\"Helvetica,sans-Serif\" font-size=\"11.00\" fill=\"#444443\">you </text>\n",
       "<polygon fill=\"#d9e6f5\" stroke=\"transparent\" points=\"24,-16.5 24,-29.5 38,-29.5 38,-16.5 24,-16.5\"/>\n",
       "<text text-anchor=\"start\" x=\"24.8877\" y=\"-19.7\" font-family=\"Helvetica,sans-Serif\" font-size=\"11.00\" fill=\"#444443\"> &#160;&#160;&#160;</text>\n",
       "<polygon fill=\"#d9e6f5\" stroke=\"transparent\" points=\"2,-14.5 2,-16.5 38,-16.5 38,-14.5 2,-14.5\"/>\n",
       "<polygon fill=\"#d9e6f5\" stroke=\"transparent\" points=\"2,-1.5 2,-14.5 24,-14.5 24,-1.5 2,-1.5\"/>\n",
       "<polyline fill=\"none\" stroke=\"#444443\" points=\"24,-1.5 24,-14.5 \"/>\n",
       "<text text-anchor=\"start\" x=\"4.6631\" y=\"-4.7\" font-family=\"Helvetica,sans-Serif\" font-size=\"11.00\" fill=\"#444443\">me </text>\n",
       "<polygon fill=\"#d9e6f5\" stroke=\"transparent\" points=\"24,-1.5 24,-14.5 38,-14.5 38,-1.5 24,-1.5\"/>\n",
       "<text text-anchor=\"start\" x=\"24.8877\" y=\"-4.7\" font-family=\"Helvetica,sans-Serif\" font-size=\"11.00\" fill=\"#444443\"> &#160;&#160;&#160;</text>\n",
       "</g>\n",
       "<!-- node4412091592 -->\n",
       "<g id=\"node2\" class=\"node\">\n",
       "<title>node4412091592</title>\n",
       "<polygon fill=\"none\" stroke=\"#000000\" stroke-width=\".5\" points=\"84,-30.5 48,-30.5 48,-.5 84,-.5 84,-30.5\"/>\n",
       "<polygon fill=\"#fefecd\" stroke=\"transparent\" points=\"49,-18.5 49,-29.5 61,-29.5 61,-18.5 49,-18.5\"/>\n",
       "<polyline fill=\"none\" stroke=\"#000000\" points=\"49,-18.5 61,-18.5 61,-29.5 \"/>\n",
       "<text text-anchor=\"start\" x=\"52.4973\" y=\"-21.3\" font-family=\"Helvetica,sans-Serif\" font-size=\"9.00\" fill=\"#444443\">0</text>\n",
       "<polygon fill=\"#fefecd\" stroke=\"transparent\" points=\"61,-18.5 61,-29.5 73,-29.5 73,-18.5 61,-18.5\"/>\n",
       "<polyline fill=\"none\" stroke=\"#000000\" points=\"61,-18.5 73,-18.5 73,-29.5 \"/>\n",
       "<text text-anchor=\"start\" x=\"64.4973\" y=\"-21.3\" font-family=\"Helvetica,sans-Serif\" font-size=\"9.00\" fill=\"#444443\">1</text>\n",
       "<polygon fill=\"#fefecd\" stroke=\"transparent\" points=\"73,-18.5 73,-29.5 83,-29.5 83,-18.5 73,-18.5\"/>\n",
       "<polyline fill=\"none\" stroke=\"#000000\" points=\"73,-18.5 83,-18.5 \"/>\n",
       "<text text-anchor=\"start\" x=\"75.4973\" y=\"-21.3\" font-family=\"Helvetica,sans-Serif\" font-size=\"9.00\" fill=\"#444443\">2</text>\n",
       "<polygon fill=\"#fefecd\" stroke=\"transparent\" points=\"49,-1.5 49,-18.5 61,-18.5 61,-1.5 49,-1.5\"/>\n",
       "<polyline fill=\"none\" stroke=\"#000000\" points=\"61,-1.5 61,-18.5 \"/>\n",
       "<text text-anchor=\"start\" x=\"51.9412\" y=\"-6.7\" font-family=\"Helvetica,sans-Serif\" font-size=\"11.00\" fill=\"#444443\">1</text>\n",
       "<polygon fill=\"#fefecd\" stroke=\"transparent\" points=\"61,-1.5 61,-18.5 73,-18.5 73,-1.5 61,-1.5\"/>\n",
       "<polyline fill=\"none\" stroke=\"#000000\" points=\"73,-1.5 73,-18.5 \"/>\n",
       "<text text-anchor=\"start\" x=\"63.9412\" y=\"-6.7\" font-family=\"Helvetica,sans-Serif\" font-size=\"11.00\" fill=\"#444443\">3</text>\n",
       "<polygon fill=\"#fefecd\" stroke=\"transparent\" points=\"73,-1.5 73,-18.5 83,-18.5 83,-1.5 73,-1.5\"/>\n",
       "<text text-anchor=\"start\" x=\"74.9412\" y=\"-6.7\" font-family=\"Helvetica,sans-Serif\" font-size=\"11.00\" fill=\"#444443\">5</text>\n",
       "</g>\n",
       "<!-- node140448559535416&#45;&gt;node4412091592 -->\n",
       "<g id=\"edge1\" class=\"edge\">\n",
       "<title>node140448559535416:c&#45;&gt;node4412091592</title>\n",
       "<path fill=\"none\" stroke=\"#444443\" stroke-width=\".5\" d=\"M34.2848,-21.843C36.5631,-21.3874 39.8204,-20.7359 43.3886,-20.0223\"/>\n",
       "<ellipse fill=\"#444443\" stroke=\"#444443\" stroke-width=\".5\" cx=\"32.5689\" cy=\"-22.1862\" rx=\"1.6\" ry=\"1.6\"/>\n",
       "<polygon fill=\"#444443\" stroke=\"#444443\" stroke-width=\".5\" points=\"44.0322,-21.3214 47.68,-19.164 43.483,-18.5757 44.0322,-21.3214\"/>\n",
       "</g>\n",
       "<!-- node140448559535416&#45;&gt;node4412091592 -->\n",
       "<g id=\"edge2\" class=\"edge\">\n",
       "<title>node140448559535416:c&#45;&gt;node4412091592</title>\n",
       "<path fill=\"none\" stroke=\"#444443\" stroke-width=\".5\" d=\"M34.2848,-8.2508C36.5631,-8.7716 39.8204,-9.5161 43.3886,-10.3317\"/>\n",
       "<ellipse fill=\"#444443\" stroke=\"#444443\" stroke-width=\".5\" cx=\"32.5598\" cy=\"-7.8566\" rx=\"1.6\" ry=\"1.6\"/>\n",
       "<polygon fill=\"#444443\" stroke=\"#444443\" stroke-width=\".5\" points=\"43.4685,-11.786 47.68,-11.3126 44.0925,-9.0564 43.4685,-11.786\"/>\n",
       "</g>\n",
       "</g>\n",
       "</svg>\n"
      ],
      "text/plain": [
       "<graphviz.files.Source at 0x107108e80>"
      ]
     },
     "execution_count": 70,
     "metadata": {},
     "output_type": "execute_result"
    }
   ],
   "source": [
    "you = [1,3,5]\n",
    "me  = you\n",
    "print(you, me)\n",
    "callviz(varnames=['you','me'])"
   ]
  },
  {
   "cell_type": "markdown",
   "metadata": {},
   "source": [
    "Now, changing one appears to change the other, but in fact both simply refer to the same location in memory:"
   ]
  },
  {
   "cell_type": "code",
   "execution_count": 71,
   "metadata": {},
   "outputs": [
    {
     "name": "stdout",
     "output_type": "stream",
     "text": [
      "[99, 3, 5] [99, 3, 5]\n"
     ]
    },
    {
     "data": {
      "image/svg+xml": [
       "<?xml version=\"1.0\" encoding=\"UTF-8\" standalone=\"no\"?>\n",
       "<!DOCTYPE svg PUBLIC \"-//W3C//DTD SVG 1.1//EN\"\n",
       " \"http://www.w3.org/Graphics/SVG/1.1/DTD/svg11.dtd\">\n",
       "<!-- Generated by graphviz version 2.40.1 (20161225.0304)\n",
       " -->\n",
       "<!-- Title: G Pages: 1 -->\n",
       "<svg width=\"98pt\" height=\"55pt\"\n",
       " viewBox=\"0.00 0.00 98.00 55.00\" xmlns=\"http://www.w3.org/2000/svg\" xmlns:xlink=\"http://www.w3.org/1999/xlink\">\n",
       "<g id=\"graph0\" class=\"graph\" transform=\"scale(1 1) rotate(0) translate(4 51)\">\n",
       "<title>G</title>\n",
       "<polygon fill=\"#ffffff\" stroke=\"transparent\" points=\"-4,4 -4,-51 94,-51 94,4 -4,4\"/>\n",
       "<!-- node140448564436184 -->\n",
       "<g id=\"node1\" class=\"node\">\n",
       "<title>node140448564436184</title>\n",
       "<polygon fill=\"#d9e6f5\" stroke=\"#444443\" stroke-width=\".5\" points=\"40,-47 0,-47 0,0 40,0 40,-47\"/>\n",
       "<polygon fill=\"#d9e6f5\" stroke=\"transparent\" points=\"2,-31.5 2,-44.5 38,-44.5 38,-31.5 2,-31.5\"/>\n",
       "<polyline fill=\"none\" stroke=\"#444443\" points=\"2,-31.5 38,-31.5 \"/>\n",
       "<text text-anchor=\"start\" x=\"3.8035\" y=\"-34.7\" font-family=\"Times,serif\" font-style=\"italic\" font-size=\"11.00\" fill=\"#444443\">globals</text>\n",
       "<polygon fill=\"#d9e6f5\" stroke=\"transparent\" points=\"2,-29.5 2,-31.5 38,-31.5 38,-29.5 2,-29.5\"/>\n",
       "<polygon fill=\"#d9e6f5\" stroke=\"transparent\" points=\"2,-16.5 2,-29.5 24,-29.5 24,-16.5 2,-16.5\"/>\n",
       "<polyline fill=\"none\" stroke=\"#444443\" points=\"24,-16.5 24,-29.5 \"/>\n",
       "<text text-anchor=\"start\" x=\"2.6042\" y=\"-19.7\" font-family=\"Helvetica,sans-Serif\" font-size=\"11.00\" fill=\"#444443\">you </text>\n",
       "<polygon fill=\"#d9e6f5\" stroke=\"transparent\" points=\"24,-16.5 24,-29.5 38,-29.5 38,-16.5 24,-16.5\"/>\n",
       "<text text-anchor=\"start\" x=\"24.8877\" y=\"-19.7\" font-family=\"Helvetica,sans-Serif\" font-size=\"11.00\" fill=\"#444443\"> &#160;&#160;&#160;</text>\n",
       "<polygon fill=\"#d9e6f5\" stroke=\"transparent\" points=\"2,-14.5 2,-16.5 38,-16.5 38,-14.5 2,-14.5\"/>\n",
       "<polygon fill=\"#d9e6f5\" stroke=\"transparent\" points=\"2,-1.5 2,-14.5 24,-14.5 24,-1.5 2,-1.5\"/>\n",
       "<polyline fill=\"none\" stroke=\"#444443\" points=\"24,-1.5 24,-14.5 \"/>\n",
       "<text text-anchor=\"start\" x=\"4.6631\" y=\"-4.7\" font-family=\"Helvetica,sans-Serif\" font-size=\"11.00\" fill=\"#444443\">me </text>\n",
       "<polygon fill=\"#d9e6f5\" stroke=\"transparent\" points=\"24,-1.5 24,-14.5 38,-14.5 38,-1.5 24,-1.5\"/>\n",
       "<text text-anchor=\"start\" x=\"24.8877\" y=\"-4.7\" font-family=\"Helvetica,sans-Serif\" font-size=\"11.00\" fill=\"#444443\"> &#160;&#160;&#160;</text>\n",
       "</g>\n",
       "<!-- node4412091592 -->\n",
       "<g id=\"node2\" class=\"node\">\n",
       "<title>node4412091592</title>\n",
       "<polygon fill=\"none\" stroke=\"#000000\" stroke-width=\".5\" points=\"90,-30.5 48,-30.5 48,-.5 90,-.5 90,-30.5\"/>\n",
       "<polygon fill=\"#fefecd\" stroke=\"transparent\" points=\"49,-18.5 49,-29.5 67,-29.5 67,-18.5 49,-18.5\"/>\n",
       "<polyline fill=\"none\" stroke=\"#000000\" points=\"49,-18.5 67,-18.5 67,-29.5 \"/>\n",
       "<text text-anchor=\"start\" x=\"55.4973\" y=\"-21.3\" font-family=\"Helvetica,sans-Serif\" font-size=\"9.00\" fill=\"#444443\">0</text>\n",
       "<polygon fill=\"#fefecd\" stroke=\"transparent\" points=\"67,-18.5 67,-29.5 79,-29.5 79,-18.5 67,-18.5\"/>\n",
       "<polyline fill=\"none\" stroke=\"#000000\" points=\"67,-18.5 79,-18.5 79,-29.5 \"/>\n",
       "<text text-anchor=\"start\" x=\"70.4973\" y=\"-21.3\" font-family=\"Helvetica,sans-Serif\" font-size=\"9.00\" fill=\"#444443\">1</text>\n",
       "<polygon fill=\"#fefecd\" stroke=\"transparent\" points=\"79,-18.5 79,-29.5 89,-29.5 89,-18.5 79,-18.5\"/>\n",
       "<polyline fill=\"none\" stroke=\"#000000\" points=\"79,-18.5 89,-18.5 \"/>\n",
       "<text text-anchor=\"start\" x=\"81.4973\" y=\"-21.3\" font-family=\"Helvetica,sans-Serif\" font-size=\"9.00\" fill=\"#444443\">2</text>\n",
       "<polygon fill=\"#fefecd\" stroke=\"transparent\" points=\"49,-1.5 49,-18.5 67,-18.5 67,-1.5 49,-1.5\"/>\n",
       "<polyline fill=\"none\" stroke=\"#000000\" points=\"67,-1.5 67,-18.5 \"/>\n",
       "<text text-anchor=\"start\" x=\"51.8823\" y=\"-6.7\" font-family=\"Helvetica,sans-Serif\" font-size=\"11.00\" fill=\"#444443\">99</text>\n",
       "<polygon fill=\"#fefecd\" stroke=\"transparent\" points=\"67,-1.5 67,-18.5 79,-18.5 79,-1.5 67,-1.5\"/>\n",
       "<polyline fill=\"none\" stroke=\"#000000\" points=\"79,-1.5 79,-18.5 \"/>\n",
       "<text text-anchor=\"start\" x=\"69.9412\" y=\"-6.7\" font-family=\"Helvetica,sans-Serif\" font-size=\"11.00\" fill=\"#444443\">3</text>\n",
       "<polygon fill=\"#fefecd\" stroke=\"transparent\" points=\"79,-1.5 79,-18.5 89,-18.5 89,-1.5 79,-1.5\"/>\n",
       "<text text-anchor=\"start\" x=\"80.9412\" y=\"-6.7\" font-family=\"Helvetica,sans-Serif\" font-size=\"11.00\" fill=\"#444443\">5</text>\n",
       "</g>\n",
       "<!-- node140448564436184&#45;&gt;node4412091592 -->\n",
       "<g id=\"edge1\" class=\"edge\">\n",
       "<title>node140448564436184:c&#45;&gt;node4412091592</title>\n",
       "<path fill=\"none\" stroke=\"#444443\" stroke-width=\".5\" d=\"M34.2522,-21.9009C36.5174,-21.4836 39.7736,-20.8838 43.3956,-20.2166\"/>\n",
       "<ellipse fill=\"#444443\" stroke=\"#444443\" stroke-width=\".5\" cx=\"32.5735\" cy=\"-22.2101\" rx=\"1.6\" ry=\"1.6\"/>\n",
       "<polygon fill=\"#444443\" stroke=\"#444443\" stroke-width=\".5\" points=\"44.0978,-21.5109 47.778,-19.4093 43.5905,-18.7572 44.0978,-21.5109\"/>\n",
       "</g>\n",
       "<!-- node140448564436184&#45;&gt;node4412091592 -->\n",
       "<g id=\"edge2\" class=\"edge\">\n",
       "<title>node140448564436184:c&#45;&gt;node4412091592</title>\n",
       "<path fill=\"none\" stroke=\"#444443\" stroke-width=\".5\" d=\"M34.2522,-8.1847C36.5174,-8.6616 39.7736,-9.3471 43.3956,-10.1096\"/>\n",
       "<ellipse fill=\"#444443\" stroke=\"#444443\" stroke-width=\".5\" cx=\"32.5657\" cy=\"-7.8297\" rx=\"1.6\" ry=\"1.6\"/>\n",
       "<polygon fill=\"#444443\" stroke=\"#444443\" stroke-width=\".5\" points=\"43.5753,-11.5781 47.778,-11.0322 44.1522,-8.8381 43.5753,-11.5781\"/>\n",
       "</g>\n",
       "</g>\n",
       "</svg>\n"
      ],
      "text/plain": [
       "<graphviz.files.Source at 0x1071291d0>"
      ]
     },
     "execution_count": 71,
     "metadata": {},
     "output_type": "execute_result"
    }
   ],
   "source": [
    "you[0] = 99\n",
    "print(you, me)\n",
    "callviz(varnames=['you','me'])"
   ]
  },
  {
   "cell_type": "markdown",
   "metadata": {},
   "source": [
    "This aliasing of data happens a great deal when we pass lists or other data structures to functions. Passing list `Quantity` to a function whose argument is called `data` means that the two are aliased. Let's look at this in more detail in the next section."
   ]
  },
  {
   "cell_type": "markdown",
   "metadata": {},
   "source": [
    "## Summary"
   ]
  },
  {
   "cell_type": "markdown",
   "metadata": {},
   "source": [
    "Here are the commonly-used data types:\n",
    "\n",
    "* integer numbers like -2, 0, 99\n",
    "* real numbers (floating-point numbers) like -2.3, 99.1932\n",
    "* strings like \"Mary\", \"President Obama\"\n",
    "\n",
    "And here are the commonly-used data structures:\n",
    "\n",
    "* ordered list\n",
    "* set (just an unordered, unique list)\n",
    "* list of lists such as tables or matrices with rows and columns \n",
    "* tuples are immutable lists\n",
    "* dictionary such as mapping a student name to their student ID; we can think of this as a table where each row in the table associates the key with a value.\n",
    "\n",
    "Now that we know what data looks like in memory, let's consider a [computation model](computation.ipynb)."
   ]
  }
 ],
 "metadata": {
  "kernelspec": {
   "display_name": "Python 3",
   "language": "python",
   "name": "python3"
  },
  "language_info": {
   "codemirror_mode": {
    "name": "ipython",
    "version": 3
   },
   "file_extension": ".py",
   "mimetype": "text/x-python",
   "name": "python",
   "nbconvert_exporter": "python",
   "pygments_lexer": "ipython3",
   "version": "3.6.5"
  }
 },
 "nbformat": 4,
 "nbformat_minor": 2
}
