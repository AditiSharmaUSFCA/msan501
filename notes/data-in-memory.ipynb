{
 "cells": [
  {
   "cell_type": "markdown",
   "metadata": {},
   "source": [
    "# Representing data in memory"
   ]
  },
  {
   "cell_type": "markdown",
   "metadata": {},
   "source": [
    "A typical program outline calls for us to load data from disk and place into memory organized into data structures. The way we represent data in memory is critical to building programs. This is particularly true with analytics programs because processing data is our focus.  \n",
    "\n",
    "First, let's get something straight about data. Atomic data elements have *values* and *types*, such as `32` and *integer* or `\"hi\"` and *string*. We build the data structures by combining and organizing atomic data elements, such as a list of integers.\n",
    "\n",
    "Next, let's take a small detour into computer architecture to get a handle on what it means to load something into memory."
   ]
  },
  {
   "cell_type": "markdown",
   "metadata": {},
   "source": [
    "## Computer architecture detour\n",
    "\n",
    "A computer consists of three primary components: a disk to hold data, a memory (that is wiped upon power off), and a processor (CPU) to process that data. Here is a picture of an actual CPU and some memory chips:\n",
    "\n",
    "<img src=\"images/cpu-memory.png\" width=\"400\">\n",
    "\n",
    "Computer memory is much faster but usually much smaller than the disk and all memory is lost when the computer powers off. Think of memory as your working or scratch space and the disk as your permanent storage. Memory chips are kind of like human short-term memory that is prone to disappearing versus a piece of paper which is slower to read and write but *persistent*.\n",
    "\n",
    "The memory is broken up into discrete cells of a fixed size. The size of a cell is one *byte*, which consists of 8 *bits*, binary on/off digits. It is sufficient to hold a number between 0 and 255. Each cell is identified by an integer address, just like the numbers on mailboxes (see image below and to the right). Processors can ask for the data at a particular address and can store a piece of data at a specific memory location as well. For example, here is an abstract representation of byte-addressable computer memory:\n",
    "\n",
    "<table border=\"0\">\n",
    "<tr>\n",
    "<td><img src=\"images/addresses.png\" width=\"80\">\n",
    "<td><img src=\"images/mailboxes.png\"  width=\"70\">\n",
    "</table>\n",
    "\n",
    "In this case, the memory has value 100 at address 0. At address 1, the memory has value 0. Address 4 has the maximum value we can store in a single byte: 255. Everything from actual numbers to music to videos is stored using one or more of these atomic storage units called bytes."
   ]
  },
  {
   "cell_type": "markdown",
   "metadata": {},
   "source": [
    "## Programming language view of memory"
   ]
  },
  {
   "cell_type": "markdown",
   "metadata": {},
   "source": [
    "Programming languages present us with a higher level view of the memory in two ways: we can use names to refer to locations in memory and each memory cell can hold integer and real number values of arbitrary size (they do have a limit, but let's keep things simple for now). For example, here are two named values stored in memory:\n",
    "\n",
    "<img src=\"images/named-memory.png\" width=\"90\">"
   ]
  },
  {
   "cell_type": "code",
   "execution_count": 67,
   "metadata": {},
   "outputs": [],
   "source": [
    "units = 923\n",
    "price = 8.02"
   ]
  },
  {
   "cell_type": "markdown",
   "metadata": {},
   "source": [
    "<img src=\"images/redbang.png\" width=\"30\" align=\"left\">When referring to the kind of thing a value represents, we use the word **type**. The type of the \"units\" cell is integer and the type of \"price\" is real number (or floating-point number)."
   ]
  },
  {
   "cell_type": "code",
   "execution_count": 68,
   "metadata": {},
   "outputs": [
    {
     "data": {
      "text/plain": [
       "int"
      ]
     },
     "execution_count": 68,
     "metadata": {},
     "output_type": "execute_result"
    }
   ],
   "source": [
    "type(units)"
   ]
  },
  {
   "cell_type": "code",
   "execution_count": 69,
   "metadata": {},
   "outputs": [
    {
     "data": {
      "text/plain": [
       "float"
      ]
     },
     "execution_count": 69,
     "metadata": {},
     "output_type": "execute_result"
    }
   ],
   "source": [
    "type(price)"
   ]
  },
  {
   "cell_type": "markdown",
   "metadata": {},
   "source": [
    "Another very common value type is *string*, which is really a list of characters. We use strings to hold place names, book titles, and any other text-based values.  We can think of strings as being a single value because the programming language hides the details.  Strings can be arbitrarily long and the programming language stores the characters as a sequence of bytes in memory. In other words, we think of it as\n",
    "\n",
    "<img src=\"images/strings.png\" width=\"110\">"
   ]
  },
  {
   "cell_type": "code",
   "execution_count": 70,
   "metadata": {},
   "outputs": [],
   "source": [
    "name = \"Mary\""
   ]
  },
  {
   "cell_type": "code",
   "execution_count": 71,
   "metadata": {},
   "outputs": [
    {
     "data": {
      "text/plain": [
       "str"
      ]
     },
     "execution_count": 71,
     "metadata": {},
     "output_type": "execute_result"
    }
   ],
   "source": [
    "type(name)"
   ]
  },
  {
   "cell_type": "markdown",
   "metadata": {},
   "source": [
    "but it is really more like this:\n",
    "\n",
    "<img src=\"images/strings2.png\" width=\"110\">\n",
    "\n",
    "Using package [lolviz](https://github.com/parrt/lolviz) we can visualize even simple types like strings:"
   ]
  },
  {
   "cell_type": "code",
   "execution_count": 103,
   "metadata": {},
   "outputs": [
    {
     "data": {
      "image/svg+xml": [
       "<?xml version=\"1.0\" encoding=\"UTF-8\" standalone=\"no\"?>\n",
       "<!DOCTYPE svg PUBLIC \"-//W3C//DTD SVG 1.1//EN\"\n",
       " \"http://www.w3.org/Graphics/SVG/1.1/DTD/svg11.dtd\">\n",
       "<!-- Generated by graphviz version 2.40.1 (20161225.0304)\n",
       " -->\n",
       "<!-- Title: G Pages: 1 -->\n",
       "<svg width=\"56pt\" height=\"41pt\"\n",
       " viewBox=\"0.00 0.00 56.00 41.00\" xmlns=\"http://www.w3.org/2000/svg\" xmlns:xlink=\"http://www.w3.org/1999/xlink\">\n",
       "<g id=\"graph0\" class=\"graph\" transform=\"scale(1 1) rotate(0) translate(4 37)\">\n",
       "<title>G</title>\n",
       "<polygon fill=\"#ffffff\" stroke=\"transparent\" points=\"-4,4 -4,-37 52,-37 52,4 -4,4\"/>\n",
       "<!-- node4367560520 -->\n",
       "<g id=\"node1\" class=\"node\">\n",
       "<title>node4367560520</title>\n",
       "<polygon fill=\"#fefecd\" stroke=\"#444443\" stroke-width=\".5\" points=\"48,-33 0,-33 0,0 48,0 48,-33\"/>\n",
       "<polygon fill=\"#fbfeb0\" stroke=\"transparent\" points=\"10,-17.5 10,-28.5 17,-28.5 17,-17.5 10,-17.5\"/>\n",
       "<polyline fill=\"none\" stroke=\"#444443\" points=\"10,-17.5 17,-17.5 17,-28.5 \"/>\n",
       "<text text-anchor=\"start\" x=\"10.9973\" y=\"-20.3\" font-family=\"Helvetica,sans-Serif\" font-size=\"9.00\" fill=\"#444443\">0</text>\n",
       "<polygon fill=\"#fbfeb0\" stroke=\"transparent\" points=\"17,-17.5 17,-28.5 24,-28.5 24,-17.5 17,-17.5\"/>\n",
       "<polyline fill=\"none\" stroke=\"#444443\" points=\"17,-17.5 24,-17.5 24,-28.5 \"/>\n",
       "<text text-anchor=\"start\" x=\"17.9973\" y=\"-20.3\" font-family=\"Helvetica,sans-Serif\" font-size=\"9.00\" fill=\"#444443\">1</text>\n",
       "<polygon fill=\"#fbfeb0\" stroke=\"transparent\" points=\"24,-17.5 24,-28.5 31,-28.5 31,-17.5 24,-17.5\"/>\n",
       "<polyline fill=\"none\" stroke=\"#444443\" points=\"24,-17.5 31,-17.5 31,-28.5 \"/>\n",
       "<text text-anchor=\"start\" x=\"24.9973\" y=\"-20.3\" font-family=\"Helvetica,sans-Serif\" font-size=\"9.00\" fill=\"#444443\">2</text>\n",
       "<polygon fill=\"#fbfeb0\" stroke=\"transparent\" points=\"31,-17.5 31,-28.5 38,-28.5 38,-17.5 31,-17.5\"/>\n",
       "<polyline fill=\"none\" stroke=\"#444443\" points=\"31,-17.5 38,-17.5 \"/>\n",
       "<text text-anchor=\"start\" x=\"31.9973\" y=\"-20.3\" font-family=\"Helvetica,sans-Serif\" font-size=\"9.00\" fill=\"#444443\">3</text>\n",
       "<text text-anchor=\"start\" x=\"7.6636\" y=\"-6.3\" font-family=\"Helvetica,sans-Serif\" font-size=\"14.00\" fill=\"#444443\">&#39;</text>\n",
       "<polygon fill=\"#fbfeb0\" stroke=\"transparent\" points=\"10,-3.5 10,-17.5 17,-17.5 17,-3.5 10,-3.5\"/>\n",
       "<text text-anchor=\"start\" x=\"10.1995\" y=\"-8.7\" font-family=\"Monaco\" font-size=\"11.00\" fill=\"#444443\">M</text>\n",
       "<polygon fill=\"#fbfeb0\" stroke=\"transparent\" points=\"17,-3.5 17,-17.5 24,-17.5 24,-3.5 17,-3.5\"/>\n",
       "<text text-anchor=\"start\" x=\"17.1995\" y=\"-8.7\" font-family=\"Monaco\" font-size=\"11.00\" fill=\"#444443\">a</text>\n",
       "<polygon fill=\"#fbfeb0\" stroke=\"transparent\" points=\"24,-3.5 24,-17.5 31,-17.5 31,-3.5 24,-3.5\"/>\n",
       "<text text-anchor=\"start\" x=\"24.1995\" y=\"-8.7\" font-family=\"Monaco\" font-size=\"11.00\" fill=\"#444443\">r</text>\n",
       "<polygon fill=\"#fbfeb0\" stroke=\"transparent\" points=\"31,-3.5 31,-17.5 38,-17.5 38,-3.5 31,-3.5\"/>\n",
       "<text text-anchor=\"start\" x=\"31.1995\" y=\"-8.7\" font-family=\"Monaco\" font-size=\"11.00\" fill=\"#444443\">y</text>\n",
       "<text text-anchor=\"start\" x=\"37.6636\" y=\"-6.3\" font-family=\"Helvetica,sans-Serif\" font-size=\"14.00\" fill=\"#444443\">&#39;</text>\n",
       "</g>\n",
       "</g>\n",
       "</svg>\n"
      ],
      "text/plain": [
       "<graphviz.files.Source at 0x11406ad30>"
      ]
     },
     "execution_count": 103,
     "metadata": {},
     "output_type": "execute_result"
    }
   ],
   "source": [
    "from lolviz import *\n",
    "strviz(name)"
   ]
  },
  {
   "cell_type": "code",
   "execution_count": 73,
   "metadata": {},
   "outputs": [
    {
     "data": {
      "image/svg+xml": [
       "<?xml version=\"1.0\" encoding=\"UTF-8\" standalone=\"no\"?>\n",
       "<!DOCTYPE svg PUBLIC \"-//W3C//DTD SVG 1.1//EN\"\n",
       " \"http://www.w3.org/Graphics/SVG/1.1/DTD/svg11.dtd\">\n",
       "<!-- Generated by graphviz version 2.40.1 (20161225.0304)\n",
       " -->\n",
       "<!-- Title: G Pages: 1 -->\n",
       "<svg width=\"71pt\" height=\"38pt\"\n",
       " viewBox=\"0.00 0.00 71.00 38.00\" xmlns=\"http://www.w3.org/2000/svg\" xmlns:xlink=\"http://www.w3.org/1999/xlink\">\n",
       "<g id=\"graph0\" class=\"graph\" transform=\"scale(1 1) rotate(0) translate(4 34)\">\n",
       "<title>G</title>\n",
       "<polygon fill=\"#ffffff\" stroke=\"transparent\" points=\"-4,4 -4,-34 67,-34 67,4 -4,4\"/>\n",
       "<!-- node4631299912 -->\n",
       "<g id=\"node1\" class=\"node\">\n",
       "<title>node4631299912</title>\n",
       "<polygon fill=\"none\" stroke=\"#000000\" stroke-width=\".5\" points=\"63,-30 0,-30 0,0 63,0 63,-30\"/>\n",
       "<polygon fill=\"#fefecd\" stroke=\"transparent\" points=\"1.5,-18 1.5,-29 20.5,-29 20.5,-18 1.5,-18\"/>\n",
       "<polyline fill=\"none\" stroke=\"#000000\" points=\"1.5,-18 20.5,-18 20.5,-29 \"/>\n",
       "<text text-anchor=\"start\" x=\"8.4973\" y=\"-20.8\" font-family=\"Helvetica,sans-Serif\" font-size=\"9.00\" fill=\"#444443\">0</text>\n",
       "<polygon fill=\"#fefecd\" stroke=\"transparent\" points=\"20.5,-18 20.5,-29 36.5,-29 36.5,-18 20.5,-18\"/>\n",
       "<polyline fill=\"none\" stroke=\"#000000\" points=\"20.5,-18 36.5,-18 36.5,-29 \"/>\n",
       "<text text-anchor=\"start\" x=\"25.9973\" y=\"-20.8\" font-family=\"Helvetica,sans-Serif\" font-size=\"9.00\" fill=\"#444443\">1</text>\n",
       "<polygon fill=\"#fefecd\" stroke=\"transparent\" points=\"36.5,-18 36.5,-29 49.5,-29 49.5,-18 36.5,-18\"/>\n",
       "<polyline fill=\"none\" stroke=\"#000000\" points=\"36.5,-18 49.5,-18 49.5,-29 \"/>\n",
       "<text text-anchor=\"start\" x=\"40.4973\" y=\"-20.8\" font-family=\"Helvetica,sans-Serif\" font-size=\"9.00\" fill=\"#444443\">2</text>\n",
       "<polygon fill=\"#fefecd\" stroke=\"transparent\" points=\"49.5,-18 49.5,-29 62.5,-29 62.5,-18 49.5,-18\"/>\n",
       "<polyline fill=\"none\" stroke=\"#000000\" points=\"49.5,-18 62.5,-18 \"/>\n",
       "<text text-anchor=\"start\" x=\"53.4973\" y=\"-20.8\" font-family=\"Helvetica,sans-Serif\" font-size=\"9.00\" fill=\"#444443\">3</text>\n",
       "<polygon fill=\"#fefecd\" stroke=\"transparent\" points=\"1.5,-1 1.5,-18 20.5,-18 20.5,-1 1.5,-1\"/>\n",
       "<polyline fill=\"none\" stroke=\"#000000\" points=\"20.5,-1 20.5,-18 \"/>\n",
       "<text text-anchor=\"start\" x=\"4.3184\" y=\"-6.2\" font-family=\"Helvetica,sans-Serif\" font-size=\"11.00\" fill=\"#444443\">&#39;M&#39;</text>\n",
       "<polygon fill=\"#fefecd\" stroke=\"transparent\" points=\"20.5,-1 20.5,-18 36.5,-18 36.5,-1 20.5,-1\"/>\n",
       "<polyline fill=\"none\" stroke=\"#000000\" points=\"36.5,-1 36.5,-18 \"/>\n",
       "<text text-anchor=\"start\" x=\"23.3411\" y=\"-6.2\" font-family=\"Helvetica,sans-Serif\" font-size=\"11.00\" fill=\"#444443\">&#39;a&#39;</text>\n",
       "<polygon fill=\"#fefecd\" stroke=\"transparent\" points=\"36.5,-1 36.5,-18 49.5,-18 49.5,-1 36.5,-1\"/>\n",
       "<polyline fill=\"none\" stroke=\"#000000\" points=\"49.5,-1 49.5,-18 \"/>\n",
       "<text text-anchor=\"start\" x=\"39.0684\" y=\"-6.2\" font-family=\"Helvetica,sans-Serif\" font-size=\"11.00\" fill=\"#444443\">&#39;r&#39;</text>\n",
       "<polygon fill=\"#fefecd\" stroke=\"transparent\" points=\"49.5,-1 49.5,-18 62.5,-18 62.5,-1 49.5,-1\"/>\n",
       "<text text-anchor=\"start\" x=\"51.1499\" y=\"-6.2\" font-family=\"Helvetica,sans-Serif\" font-size=\"11.00\" fill=\"#444443\">&#39;y&#39;</text>\n",
       "</g>\n",
       "</g>\n",
       "</svg>\n"
      ],
      "text/plain": [
       "<graphviz.files.Source at 0x113ffeef0>"
      ]
     },
     "execution_count": 73,
     "metadata": {},
     "output_type": "execute_result"
    }
   ],
   "source": [
    "objviz(name) # render as list of char"
   ]
  },
  {
   "cell_type": "markdown",
   "metadata": {},
   "source": [
    "These basic data types:\n",
    "\n",
    "* integer numbers\n",
    "* floating-point numbers\n",
    "* strings\n",
    "\n",
    "are our building blocks. If we arrange some of these blocks together, we can create more complex structures."
   ]
  },
  {
   "cell_type": "markdown",
   "metadata": {},
   "source": [
    "## Data structures"
   ]
  },
  {
   "cell_type": "markdown",
   "metadata": {},
   "source": [
    "### List"
   ]
  },
  {
   "cell_type": "markdown",
   "metadata": {},
   "source": [
    "The most common *data structures* is the **list**, which is just a sequence of memory cells.  Because we're all familiar with spreadsheets, let's visualize these data structures using a spreadsheet.  Columns in a spreadsheet are really lists, such as the following lists/columns of integers, floating-point numbers, and strings:\n",
    "\n",
    "<img src=\"images/int-list.png\" width=\"60\">&nbsp;&nbsp;<img src=\"images/float-list.png\" width=\"80\">&nbsp;&nbsp;<img src=\"images/names-list.png\" width=\"139\">"
   ]
  },
  {
   "cell_type": "code",
   "execution_count": 74,
   "metadata": {},
   "outputs": [],
   "source": [
    "Quantity = [6, 49, 27, 30, 19, 21, 12, 22, 21]"
   ]
  },
  {
   "cell_type": "code",
   "execution_count": 75,
   "metadata": {},
   "outputs": [
    {
     "data": {
      "text/plain": [
       "list"
      ]
     },
     "execution_count": 75,
     "metadata": {},
     "output_type": "execute_result"
    }
   ],
   "source": [
    "type(Quantity)"
   ]
  },
  {
   "cell_type": "code",
   "execution_count": 76,
   "metadata": {},
   "outputs": [
    {
     "data": {
      "image/svg+xml": [
       "<?xml version=\"1.0\" encoding=\"UTF-8\" standalone=\"no\"?>\n",
       "<!DOCTYPE svg PUBLIC \"-//W3C//DTD SVG 1.1//EN\"\n",
       " \"http://www.w3.org/Graphics/SVG/1.1/DTD/svg11.dtd\">\n",
       "<!-- Generated by graphviz version 2.40.1 (20161225.0304)\n",
       " -->\n",
       "<!-- Title: G Pages: 1 -->\n",
       "<svg width=\"164pt\" height=\"38pt\"\n",
       " viewBox=\"0.00 0.00 164.00 38.00\" xmlns=\"http://www.w3.org/2000/svg\" xmlns:xlink=\"http://www.w3.org/1999/xlink\">\n",
       "<g id=\"graph0\" class=\"graph\" transform=\"scale(1 1) rotate(0) translate(4 34)\">\n",
       "<title>G</title>\n",
       "<polygon fill=\"#ffffff\" stroke=\"transparent\" points=\"-4,4 -4,-34 160,-34 160,4 -4,4\"/>\n",
       "<!-- node4631301768 -->\n",
       "<g id=\"node1\" class=\"node\">\n",
       "<title>node4631301768</title>\n",
       "<polygon fill=\"none\" stroke=\"#000000\" stroke-width=\".5\" points=\"156,-30 0,-30 0,0 156,0 156,-30\"/>\n",
       "<polygon fill=\"#fefecd\" stroke=\"transparent\" points=\"1,-18 1,-29 13,-29 13,-18 1,-18\"/>\n",
       "<polyline fill=\"none\" stroke=\"#000000\" points=\"1,-18 13,-18 13,-29 \"/>\n",
       "<text text-anchor=\"start\" x=\"4.4973\" y=\"-20.8\" font-family=\"Helvetica,sans-Serif\" font-size=\"9.00\" fill=\"#444443\">0</text>\n",
       "<polygon fill=\"#fefecd\" stroke=\"transparent\" points=\"13,-18 13,-29 31,-29 31,-18 13,-18\"/>\n",
       "<polyline fill=\"none\" stroke=\"#000000\" points=\"13,-18 31,-18 31,-29 \"/>\n",
       "<text text-anchor=\"start\" x=\"19.4973\" y=\"-20.8\" font-family=\"Helvetica,sans-Serif\" font-size=\"9.00\" fill=\"#444443\">1</text>\n",
       "<polygon fill=\"#fefecd\" stroke=\"transparent\" points=\"31,-18 31,-29 49,-29 49,-18 31,-18\"/>\n",
       "<polyline fill=\"none\" stroke=\"#000000\" points=\"31,-18 49,-18 49,-29 \"/>\n",
       "<text text-anchor=\"start\" x=\"37.4973\" y=\"-20.8\" font-family=\"Helvetica,sans-Serif\" font-size=\"9.00\" fill=\"#444443\">2</text>\n",
       "<polygon fill=\"#fefecd\" stroke=\"transparent\" points=\"49,-18 49,-29 67,-29 67,-18 49,-18\"/>\n",
       "<polyline fill=\"none\" stroke=\"#000000\" points=\"49,-18 67,-18 67,-29 \"/>\n",
       "<text text-anchor=\"start\" x=\"55.4973\" y=\"-20.8\" font-family=\"Helvetica,sans-Serif\" font-size=\"9.00\" fill=\"#444443\">3</text>\n",
       "<polygon fill=\"#fefecd\" stroke=\"transparent\" points=\"67,-18 67,-29 85,-29 85,-18 67,-18\"/>\n",
       "<polyline fill=\"none\" stroke=\"#000000\" points=\"67,-18 85,-18 85,-29 \"/>\n",
       "<text text-anchor=\"start\" x=\"73.4973\" y=\"-20.8\" font-family=\"Helvetica,sans-Serif\" font-size=\"9.00\" fill=\"#444443\">4</text>\n",
       "<polygon fill=\"#fefecd\" stroke=\"transparent\" points=\"85,-18 85,-29 103,-29 103,-18 85,-18\"/>\n",
       "<polyline fill=\"none\" stroke=\"#000000\" points=\"85,-18 103,-18 103,-29 \"/>\n",
       "<text text-anchor=\"start\" x=\"91.4973\" y=\"-20.8\" font-family=\"Helvetica,sans-Serif\" font-size=\"9.00\" fill=\"#444443\">5</text>\n",
       "<polygon fill=\"#fefecd\" stroke=\"transparent\" points=\"103,-18 103,-29 121,-29 121,-18 103,-18\"/>\n",
       "<polyline fill=\"none\" stroke=\"#000000\" points=\"103,-18 121,-18 121,-29 \"/>\n",
       "<text text-anchor=\"start\" x=\"109.4973\" y=\"-20.8\" font-family=\"Helvetica,sans-Serif\" font-size=\"9.00\" fill=\"#444443\">6</text>\n",
       "<polygon fill=\"#fefecd\" stroke=\"transparent\" points=\"121,-18 121,-29 139,-29 139,-18 121,-18\"/>\n",
       "<polyline fill=\"none\" stroke=\"#000000\" points=\"121,-18 139,-18 139,-29 \"/>\n",
       "<text text-anchor=\"start\" x=\"127.4973\" y=\"-20.8\" font-family=\"Helvetica,sans-Serif\" font-size=\"9.00\" fill=\"#444443\">7</text>\n",
       "<polygon fill=\"#fefecd\" stroke=\"transparent\" points=\"139,-18 139,-29 155,-29 155,-18 139,-18\"/>\n",
       "<polyline fill=\"none\" stroke=\"#000000\" points=\"139,-18 155,-18 \"/>\n",
       "<text text-anchor=\"start\" x=\"144.4973\" y=\"-20.8\" font-family=\"Helvetica,sans-Serif\" font-size=\"9.00\" fill=\"#444443\">8</text>\n",
       "<polygon fill=\"#fefecd\" stroke=\"transparent\" points=\"1,-1 1,-18 13,-18 13,-1 1,-1\"/>\n",
       "<polyline fill=\"none\" stroke=\"#000000\" points=\"13,-1 13,-18 \"/>\n",
       "<text text-anchor=\"start\" x=\"3.9412\" y=\"-6.2\" font-family=\"Helvetica,sans-Serif\" font-size=\"11.00\" fill=\"#444443\">6</text>\n",
       "<polygon fill=\"#fefecd\" stroke=\"transparent\" points=\"13,-1 13,-18 31,-18 31,-1 13,-1\"/>\n",
       "<polyline fill=\"none\" stroke=\"#000000\" points=\"31,-1 31,-18 \"/>\n",
       "<text text-anchor=\"start\" x=\"15.8823\" y=\"-6.2\" font-family=\"Helvetica,sans-Serif\" font-size=\"11.00\" fill=\"#444443\">49</text>\n",
       "<polygon fill=\"#fefecd\" stroke=\"transparent\" points=\"31,-1 31,-18 49,-18 49,-1 31,-1\"/>\n",
       "<polyline fill=\"none\" stroke=\"#000000\" points=\"49,-1 49,-18 \"/>\n",
       "<text text-anchor=\"start\" x=\"33.8823\" y=\"-6.2\" font-family=\"Helvetica,sans-Serif\" font-size=\"11.00\" fill=\"#444443\">27</text>\n",
       "<polygon fill=\"#fefecd\" stroke=\"transparent\" points=\"49,-1 49,-18 67,-18 67,-1 49,-1\"/>\n",
       "<polyline fill=\"none\" stroke=\"#000000\" points=\"67,-1 67,-18 \"/>\n",
       "<text text-anchor=\"start\" x=\"51.8823\" y=\"-6.2\" font-family=\"Helvetica,sans-Serif\" font-size=\"11.00\" fill=\"#444443\">30</text>\n",
       "<polygon fill=\"#fefecd\" stroke=\"transparent\" points=\"67,-1 67,-18 85,-18 85,-1 67,-1\"/>\n",
       "<polyline fill=\"none\" stroke=\"#000000\" points=\"85,-1 85,-18 \"/>\n",
       "<text text-anchor=\"start\" x=\"69.8823\" y=\"-6.2\" font-family=\"Helvetica,sans-Serif\" font-size=\"11.00\" fill=\"#444443\">19</text>\n",
       "<polygon fill=\"#fefecd\" stroke=\"transparent\" points=\"85,-1 85,-18 103,-18 103,-1 85,-1\"/>\n",
       "<polyline fill=\"none\" stroke=\"#000000\" points=\"103,-1 103,-18 \"/>\n",
       "<text text-anchor=\"start\" x=\"87.8823\" y=\"-6.2\" font-family=\"Helvetica,sans-Serif\" font-size=\"11.00\" fill=\"#444443\">21</text>\n",
       "<polygon fill=\"#fefecd\" stroke=\"transparent\" points=\"103,-1 103,-18 121,-18 121,-1 103,-1\"/>\n",
       "<polyline fill=\"none\" stroke=\"#000000\" points=\"121,-1 121,-18 \"/>\n",
       "<text text-anchor=\"start\" x=\"105.8823\" y=\"-6.2\" font-family=\"Helvetica,sans-Serif\" font-size=\"11.00\" fill=\"#444443\">12</text>\n",
       "<polygon fill=\"#fefecd\" stroke=\"transparent\" points=\"121,-1 121,-18 139,-18 139,-1 121,-1\"/>\n",
       "<polyline fill=\"none\" stroke=\"#000000\" points=\"139,-1 139,-18 \"/>\n",
       "<text text-anchor=\"start\" x=\"123.8823\" y=\"-6.2\" font-family=\"Helvetica,sans-Serif\" font-size=\"11.00\" fill=\"#444443\">22</text>\n",
       "<polygon fill=\"#fefecd\" stroke=\"transparent\" points=\"139,-1 139,-18 155,-18 155,-1 139,-1\"/>\n",
       "<text text-anchor=\"start\" x=\"140.8823\" y=\"-6.2\" font-family=\"Helvetica,sans-Serif\" font-size=\"11.00\" fill=\"#444443\">21</text>\n",
       "</g>\n",
       "</g>\n",
       "</svg>\n"
      ],
      "text/plain": [
       "<graphviz.files.Source at 0x113ffee48>"
      ]
     },
     "execution_count": 76,
     "metadata": {},
     "output_type": "execute_result"
    }
   ],
   "source": [
    "objviz(Quantity)"
   ]
  },
  {
   "cell_type": "markdown",
   "metadata": {},
   "source": [
    "We can think of the rows of a spreadsheet as lists also. For example, the header row of a spreadsheet is really a list of strings:\n",
    "\n",
    "<img src=\"images/header-row.png\" width=\"750\">"
   ]
  },
  {
   "cell_type": "code",
   "execution_count": 77,
   "metadata": {},
   "outputs": [
    {
     "data": {
      "text/plain": [
       "list"
      ]
     },
     "execution_count": 77,
     "metadata": {},
     "output_type": "execute_result"
    }
   ],
   "source": [
    "headers = ['Date', 'Quantity', 'Unit Price', 'Shipping']\n",
    "type(headers)"
   ]
  },
  {
   "cell_type": "code",
   "execution_count": 78,
   "metadata": {},
   "outputs": [
    {
     "data": {
      "image/svg+xml": [
       "<?xml version=\"1.0\" encoding=\"UTF-8\" standalone=\"no\"?>\n",
       "<!DOCTYPE svg PUBLIC \"-//W3C//DTD SVG 1.1//EN\"\n",
       " \"http://www.w3.org/Graphics/SVG/1.1/DTD/svg11.dtd\">\n",
       "<!-- Generated by graphviz version 2.40.1 (20161225.0304)\n",
       " -->\n",
       "<!-- Title: G Pages: 1 -->\n",
       "<svg width=\"202pt\" height=\"38pt\"\n",
       " viewBox=\"0.00 0.00 202.00 38.00\" xmlns=\"http://www.w3.org/2000/svg\" xmlns:xlink=\"http://www.w3.org/1999/xlink\">\n",
       "<g id=\"graph0\" class=\"graph\" transform=\"scale(1 1) rotate(0) translate(4 34)\">\n",
       "<title>G</title>\n",
       "<polygon fill=\"#ffffff\" stroke=\"transparent\" points=\"-4,4 -4,-34 198,-34 198,4 -4,4\"/>\n",
       "<!-- node4631300488 -->\n",
       "<g id=\"node1\" class=\"node\">\n",
       "<title>node4631300488</title>\n",
       "<polygon fill=\"none\" stroke=\"#000000\" stroke-width=\".5\" points=\"194,-30 0,-30 0,0 194,0 194,-30\"/>\n",
       "<polygon fill=\"#fefecd\" stroke=\"transparent\" points=\"1,-18 1,-29 34,-29 34,-18 1,-18\"/>\n",
       "<polyline fill=\"none\" stroke=\"#000000\" points=\"1,-18 34,-18 34,-29 \"/>\n",
       "<text text-anchor=\"start\" x=\"14.9973\" y=\"-20.8\" font-family=\"Helvetica,sans-Serif\" font-size=\"9.00\" fill=\"#444443\">0</text>\n",
       "<polygon fill=\"#fefecd\" stroke=\"transparent\" points=\"34,-18 34,-29 85,-29 85,-18 34,-18\"/>\n",
       "<polyline fill=\"none\" stroke=\"#000000\" points=\"34,-18 85,-18 85,-29 \"/>\n",
       "<text text-anchor=\"start\" x=\"56.9973\" y=\"-20.8\" font-family=\"Helvetica,sans-Serif\" font-size=\"9.00\" fill=\"#444443\">1</text>\n",
       "<polygon fill=\"#fefecd\" stroke=\"transparent\" points=\"85,-18 85,-29 142,-29 142,-18 85,-18\"/>\n",
       "<polyline fill=\"none\" stroke=\"#000000\" points=\"85,-18 142,-18 142,-29 \"/>\n",
       "<text text-anchor=\"start\" x=\"110.9973\" y=\"-20.8\" font-family=\"Helvetica,sans-Serif\" font-size=\"9.00\" fill=\"#444443\">2</text>\n",
       "<polygon fill=\"#fefecd\" stroke=\"transparent\" points=\"142,-18 142,-29 193,-29 193,-18 142,-18\"/>\n",
       "<polyline fill=\"none\" stroke=\"#000000\" points=\"142,-18 193,-18 \"/>\n",
       "<text text-anchor=\"start\" x=\"164.9973\" y=\"-20.8\" font-family=\"Helvetica,sans-Serif\" font-size=\"9.00\" fill=\"#444443\">3</text>\n",
       "<polygon fill=\"#fefecd\" stroke=\"transparent\" points=\"1,-1 1,-18 34,-18 34,-1 1,-1\"/>\n",
       "<polyline fill=\"none\" stroke=\"#000000\" points=\"34,-1 34,-18 \"/>\n",
       "<text text-anchor=\"start\" x=\"3.7822\" y=\"-6.2\" font-family=\"Helvetica,sans-Serif\" font-size=\"11.00\" fill=\"#444443\">&#39;Date&#39;</text>\n",
       "<polygon fill=\"#fefecd\" stroke=\"transparent\" points=\"34,-1 34,-18 85,-18 85,-1 34,-1\"/>\n",
       "<polyline fill=\"none\" stroke=\"#000000\" points=\"85,-1 85,-18 \"/>\n",
       "<text text-anchor=\"start\" x=\"36.9172\" y=\"-6.2\" font-family=\"Helvetica,sans-Serif\" font-size=\"11.00\" fill=\"#444443\">&#39;Quantity&#39;</text>\n",
       "<polygon fill=\"#fefecd\" stroke=\"transparent\" points=\"85,-1 85,-18 142,-18 142,-1 85,-1\"/>\n",
       "<polyline fill=\"none\" stroke=\"#000000\" points=\"142,-1 142,-18 \"/>\n",
       "<text text-anchor=\"start\" x=\"87.5603\" y=\"-6.2\" font-family=\"Helvetica,sans-Serif\" font-size=\"11.00\" fill=\"#444443\">&#39;Unit Price&#39;</text>\n",
       "<polygon fill=\"#fefecd\" stroke=\"transparent\" points=\"142,-1 142,-18 193,-18 193,-1 142,-1\"/>\n",
       "<text text-anchor=\"start\" x=\"143.9934\" y=\"-6.2\" font-family=\"Helvetica,sans-Serif\" font-size=\"11.00\" fill=\"#444443\">&#39;Shipping&#39;</text>\n",
       "</g>\n",
       "</g>\n",
       "</svg>\n"
      ],
      "text/plain": [
       "<graphviz.files.Source at 0x113ffe438>"
      ]
     },
     "execution_count": 78,
     "metadata": {},
     "output_type": "execute_result"
    }
   ],
   "source": [
    "objviz(headers)"
   ]
  },
  {
   "cell_type": "markdown",
   "metadata": {},
   "source": [
    "All of these lists have one thing in common: the type of element is the same. They are *homogeneous*. But, we can also have lists with *heterogeneous* elements, which is typically what we see in spreadsheet rows:\n",
    "\n",
    "<img src=\"images/sample-row.png\" width=\"800\">"
   ]
  },
  {
   "cell_type": "code",
   "execution_count": 79,
   "metadata": {},
   "outputs": [],
   "source": [
    "arow = ['10/13/10', 6, 38.94, 35, 'Muhammed MacIntyre']"
   ]
  },
  {
   "cell_type": "markdown",
   "metadata": {},
   "source": [
    "or"
   ]
  },
  {
   "cell_type": "code",
   "execution_count": 80,
   "metadata": {},
   "outputs": [
    {
     "data": {
      "text/plain": [
       "[datetime.date(2010, 10, 13), 6, 38.94, 35, 'Muhammed MacIntyre']"
      ]
     },
     "execution_count": 80,
     "metadata": {},
     "output_type": "execute_result"
    }
   ],
   "source": [
    "from datetime import date\n",
    "arow = [date(2010, 10, 13), 6, 38.94, 35, 'Muhammed MacIntyre']\n",
    "arow"
   ]
  },
  {
   "cell_type": "code",
   "execution_count": 81,
   "metadata": {},
   "outputs": [
    {
     "data": {
      "text/plain": [
       "list"
      ]
     },
     "execution_count": 81,
     "metadata": {},
     "output_type": "execute_result"
    }
   ],
   "source": [
    "type(arow)"
   ]
  },
  {
   "cell_type": "code",
   "execution_count": 82,
   "metadata": {},
   "outputs": [
    {
     "data": {
      "image/svg+xml": [
       "<?xml version=\"1.0\" encoding=\"UTF-8\" standalone=\"no\"?>\n",
       "<!DOCTYPE svg PUBLIC \"-//W3C//DTD SVG 1.1//EN\"\n",
       " \"http://www.w3.org/Graphics/SVG/1.1/DTD/svg11.dtd\">\n",
       "<!-- Generated by graphviz version 2.40.1 (20161225.0304)\n",
       " -->\n",
       "<!-- Title: G Pages: 1 -->\n",
       "<svg width=\"331pt\" height=\"38pt\"\n",
       " viewBox=\"0.00 0.00 331.00 38.00\" xmlns=\"http://www.w3.org/2000/svg\" xmlns:xlink=\"http://www.w3.org/1999/xlink\">\n",
       "<g id=\"graph0\" class=\"graph\" transform=\"scale(1 1) rotate(0) translate(4 34)\">\n",
       "<title>G</title>\n",
       "<polygon fill=\"#ffffff\" stroke=\"transparent\" points=\"-4,4 -4,-34 327,-34 327,4 -4,4\"/>\n",
       "<!-- node4631299336 -->\n",
       "<g id=\"node1\" class=\"node\">\n",
       "<title>node4631299336</title>\n",
       "<polygon fill=\"none\" stroke=\"#000000\" stroke-width=\".5\" points=\"323,-30 0,-30 0,0 323,0 323,-30\"/>\n",
       "<polygon fill=\"#fefecd\" stroke=\"transparent\" points=\"1.5,-18 1.5,-29 142.5,-29 142.5,-18 1.5,-18\"/>\n",
       "<polyline fill=\"none\" stroke=\"#000000\" points=\"1.5,-18 142.5,-18 142.5,-29 \"/>\n",
       "<text text-anchor=\"start\" x=\"69.4973\" y=\"-20.8\" font-family=\"Helvetica,sans-Serif\" font-size=\"9.00\" fill=\"#444443\">0</text>\n",
       "<polygon fill=\"#fefecd\" stroke=\"transparent\" points=\"142.5,-18 142.5,-29 154.5,-29 154.5,-18 142.5,-18\"/>\n",
       "<polyline fill=\"none\" stroke=\"#000000\" points=\"142.5,-18 154.5,-18 154.5,-29 \"/>\n",
       "<text text-anchor=\"start\" x=\"145.9973\" y=\"-20.8\" font-family=\"Helvetica,sans-Serif\" font-size=\"9.00\" fill=\"#444443\">1</text>\n",
       "<polygon fill=\"#fefecd\" stroke=\"transparent\" points=\"154.5,-18 154.5,-29 187.5,-29 187.5,-18 154.5,-18\"/>\n",
       "<polyline fill=\"none\" stroke=\"#000000\" points=\"154.5,-18 187.5,-18 187.5,-29 \"/>\n",
       "<text text-anchor=\"start\" x=\"168.4973\" y=\"-20.8\" font-family=\"Helvetica,sans-Serif\" font-size=\"9.00\" fill=\"#444443\">2</text>\n",
       "<polygon fill=\"#fefecd\" stroke=\"transparent\" points=\"187.5,-18 187.5,-29 205.5,-29 205.5,-18 187.5,-18\"/>\n",
       "<polyline fill=\"none\" stroke=\"#000000\" points=\"187.5,-18 205.5,-18 205.5,-29 \"/>\n",
       "<text text-anchor=\"start\" x=\"193.9973\" y=\"-20.8\" font-family=\"Helvetica,sans-Serif\" font-size=\"9.00\" fill=\"#444443\">3</text>\n",
       "<polygon fill=\"#fefecd\" stroke=\"transparent\" points=\"205.5,-18 205.5,-29 322.5,-29 322.5,-18 205.5,-18\"/>\n",
       "<polyline fill=\"none\" stroke=\"#000000\" points=\"205.5,-18 322.5,-18 \"/>\n",
       "<text text-anchor=\"start\" x=\"261.4973\" y=\"-20.8\" font-family=\"Helvetica,sans-Serif\" font-size=\"9.00\" fill=\"#444443\">4</text>\n",
       "<polygon fill=\"#fefecd\" stroke=\"transparent\" points=\"1.5,-1 1.5,-18 142.5,-18 142.5,-1 1.5,-1\"/>\n",
       "<polyline fill=\"none\" stroke=\"#000000\" points=\"142.5,-1 142.5,-18 \"/>\n",
       "<text text-anchor=\"start\" x=\"4.4263\" y=\"-6.2\" font-family=\"Helvetica,sans-Serif\" font-size=\"11.00\" fill=\"#444443\">datetime.date(2010, 10, 13)</text>\n",
       "<polygon fill=\"#fefecd\" stroke=\"transparent\" points=\"142.5,-1 142.5,-18 154.5,-18 154.5,-1 142.5,-1\"/>\n",
       "<polyline fill=\"none\" stroke=\"#000000\" points=\"154.5,-1 154.5,-18 \"/>\n",
       "<text text-anchor=\"start\" x=\"145.4412\" y=\"-6.2\" font-family=\"Helvetica,sans-Serif\" font-size=\"11.00\" fill=\"#444443\">6</text>\n",
       "<polygon fill=\"#fefecd\" stroke=\"transparent\" points=\"154.5,-1 154.5,-18 187.5,-18 187.5,-1 154.5,-1\"/>\n",
       "<polyline fill=\"none\" stroke=\"#000000\" points=\"187.5,-1 187.5,-18 \"/>\n",
       "<text text-anchor=\"start\" x=\"157.2366\" y=\"-6.2\" font-family=\"Helvetica,sans-Serif\" font-size=\"11.00\" fill=\"#444443\">38.94</text>\n",
       "<polygon fill=\"#fefecd\" stroke=\"transparent\" points=\"187.5,-1 187.5,-18 205.5,-18 205.5,-1 187.5,-1\"/>\n",
       "<polyline fill=\"none\" stroke=\"#000000\" points=\"205.5,-1 205.5,-18 \"/>\n",
       "<text text-anchor=\"start\" x=\"190.3823\" y=\"-6.2\" font-family=\"Helvetica,sans-Serif\" font-size=\"11.00\" fill=\"#444443\">35</text>\n",
       "<polygon fill=\"#fefecd\" stroke=\"transparent\" points=\"205.5,-1 205.5,-18 322.5,-18 322.5,-1 205.5,-1\"/>\n",
       "<text text-anchor=\"start\" x=\"207.1873\" y=\"-6.2\" font-family=\"Helvetica,sans-Serif\" font-size=\"11.00\" fill=\"#444443\">&#39;Muhammed MacIntyre&#39;</text>\n",
       "</g>\n",
       "</g>\n",
       "</svg>\n"
      ],
      "text/plain": [
       "<graphviz.files.Source at 0x11406a7f0>"
      ]
     },
     "execution_count": 82,
     "metadata": {},
     "output_type": "execute_result"
    }
   ],
   "source": [
    "listviz(arow)"
   ]
  },
  {
   "cell_type": "markdown",
   "metadata": {},
   "source": [
    "Heterogeneous lists are typically used to group bits of information about a particular entity. In machine learning, we call this a **feature vector**, an **instance**, or an **observation**.  For example, an apples versus oranges classifier might have feature vectors containing weight (number), volume (number), and color (string).  The important point here is that a list can also be used to as a way to aggregate features about a particular entity. The sequence of the elements is less important than the fact that they are contained (aggregated) within the same list. We will see this notion again when we talk about *tuples* in [Extracting information from text](text.ipynb)."
   ]
  },
  {
   "cell_type": "markdown",
   "metadata": {},
   "source": [
    "### Set"
   ]
  },
  {
   "cell_type": "markdown",
   "metadata": {},
   "source": [
    "If we enforce a rule that all elements within a list are unique, then we get a **set**. Sets are unordered."
   ]
  },
  {
   "cell_type": "code",
   "execution_count": 83,
   "metadata": {},
   "outputs": [
    {
     "data": {
      "text/plain": [
       "{100, 102, 103, 113, 121}"
      ]
     },
     "execution_count": 83,
     "metadata": {},
     "output_type": "execute_result"
    }
   ],
   "source": [
    "ids = {100, 103, 121, 102, 113, 113, 113, 113}\n",
    "ids"
   ]
  },
  {
   "cell_type": "code",
   "execution_count": 84,
   "metadata": {},
   "outputs": [
    {
     "data": {
      "text/plain": [
       "set"
      ]
     },
     "execution_count": 84,
     "metadata": {},
     "output_type": "execute_result"
    }
   ],
   "source": [
    "type(ids)"
   ]
  },
  {
   "cell_type": "code",
   "execution_count": 85,
   "metadata": {},
   "outputs": [
    {
     "data": {
      "image/svg+xml": [
       "<?xml version=\"1.0\" encoding=\"UTF-8\" standalone=\"no\"?>\n",
       "<!DOCTYPE svg PUBLIC \"-//W3C//DTD SVG 1.1//EN\"\n",
       " \"http://www.w3.org/Graphics/SVG/1.1/DTD/svg11.dtd\">\n",
       "<!-- Generated by graphviz version 2.40.1 (20161225.0304)\n",
       " -->\n",
       "<!-- Title: G Pages: 1 -->\n",
       "<svg width=\"127pt\" height=\"38pt\"\n",
       " viewBox=\"0.00 0.00 127.00 38.00\" xmlns=\"http://www.w3.org/2000/svg\" xmlns:xlink=\"http://www.w3.org/1999/xlink\">\n",
       "<g id=\"graph0\" class=\"graph\" transform=\"scale(1 1) rotate(0) translate(4 34)\">\n",
       "<title>G</title>\n",
       "<polygon fill=\"#ffffff\" stroke=\"transparent\" points=\"-4,4 -4,-34 123,-34 123,4 -4,4\"/>\n",
       "<!-- node4631417992 -->\n",
       "<g id=\"node1\" class=\"node\">\n",
       "<title>node4631417992</title>\n",
       "<polygon fill=\"none\" stroke=\"#000000\" stroke-width=\".5\" points=\"119,-30 0,-30 0,0 119,0 119,-30\"/>\n",
       "<polygon fill=\"#fefecd\" stroke=\"transparent\" points=\"1.5,-18 1.5,-29 25.5,-29 25.5,-18 1.5,-18\"/>\n",
       "<polyline fill=\"none\" stroke=\"#000000\" points=\"1.5,-18 25.5,-18 25.5,-29 \"/>\n",
       "<text text-anchor=\"start\" x=\"10.9973\" y=\"-20.8\" font-family=\"Helvetica,sans-Serif\" font-size=\"9.00\" fill=\"#444443\">0</text>\n",
       "<polygon fill=\"#fefecd\" stroke=\"transparent\" points=\"25.5,-18 25.5,-29 49.5,-29 49.5,-18 25.5,-18\"/>\n",
       "<polyline fill=\"none\" stroke=\"#000000\" points=\"25.5,-18 49.5,-18 49.5,-29 \"/>\n",
       "<text text-anchor=\"start\" x=\"34.9973\" y=\"-20.8\" font-family=\"Helvetica,sans-Serif\" font-size=\"9.00\" fill=\"#444443\">1</text>\n",
       "<polygon fill=\"#fefecd\" stroke=\"transparent\" points=\"49.5,-18 49.5,-29 73.5,-29 73.5,-18 49.5,-18\"/>\n",
       "<polyline fill=\"none\" stroke=\"#000000\" points=\"49.5,-18 73.5,-18 73.5,-29 \"/>\n",
       "<text text-anchor=\"start\" x=\"58.9973\" y=\"-20.8\" font-family=\"Helvetica,sans-Serif\" font-size=\"9.00\" fill=\"#444443\">2</text>\n",
       "<polygon fill=\"#fefecd\" stroke=\"transparent\" points=\"73.5,-18 73.5,-29 96.5,-29 96.5,-18 73.5,-18\"/>\n",
       "<polyline fill=\"none\" stroke=\"#000000\" points=\"73.5,-18 96.5,-18 96.5,-29 \"/>\n",
       "<text text-anchor=\"start\" x=\"82.4973\" y=\"-20.8\" font-family=\"Helvetica,sans-Serif\" font-size=\"9.00\" fill=\"#444443\">3</text>\n",
       "<polygon fill=\"#fefecd\" stroke=\"transparent\" points=\"96.5,-18 96.5,-29 118.5,-29 118.5,-18 96.5,-18\"/>\n",
       "<polyline fill=\"none\" stroke=\"#000000\" points=\"96.5,-18 118.5,-18 \"/>\n",
       "<text text-anchor=\"start\" x=\"104.9973\" y=\"-20.8\" font-family=\"Helvetica,sans-Serif\" font-size=\"9.00\" fill=\"#444443\">4</text>\n",
       "<polygon fill=\"#fefecd\" stroke=\"transparent\" points=\"1.5,-1 1.5,-18 25.5,-18 25.5,-1 1.5,-1\"/>\n",
       "<polyline fill=\"none\" stroke=\"#000000\" points=\"25.5,-1 25.5,-18 \"/>\n",
       "<text text-anchor=\"start\" x=\"4.3235\" y=\"-6.2\" font-family=\"Helvetica,sans-Serif\" font-size=\"11.00\" fill=\"#444443\">100</text>\n",
       "<polygon fill=\"#fefecd\" stroke=\"transparent\" points=\"25.5,-1 25.5,-18 49.5,-18 49.5,-1 25.5,-1\"/>\n",
       "<polyline fill=\"none\" stroke=\"#000000\" points=\"49.5,-1 49.5,-18 \"/>\n",
       "<text text-anchor=\"start\" x=\"28.3235\" y=\"-6.2\" font-family=\"Helvetica,sans-Serif\" font-size=\"11.00\" fill=\"#444443\">102</text>\n",
       "<polygon fill=\"#fefecd\" stroke=\"transparent\" points=\"49.5,-1 49.5,-18 73.5,-18 73.5,-1 49.5,-1\"/>\n",
       "<polyline fill=\"none\" stroke=\"#000000\" points=\"73.5,-1 73.5,-18 \"/>\n",
       "<text text-anchor=\"start\" x=\"52.3235\" y=\"-6.2\" font-family=\"Helvetica,sans-Serif\" font-size=\"11.00\" fill=\"#444443\">103</text>\n",
       "<polygon fill=\"#fefecd\" stroke=\"transparent\" points=\"73.5,-1 73.5,-18 96.5,-18 96.5,-1 73.5,-1\"/>\n",
       "<polyline fill=\"none\" stroke=\"#000000\" points=\"96.5,-1 96.5,-18 \"/>\n",
       "<text text-anchor=\"start\" x=\"76.229\" y=\"-6.2\" font-family=\"Helvetica,sans-Serif\" font-size=\"11.00\" fill=\"#444443\">113</text>\n",
       "<polygon fill=\"#fefecd\" stroke=\"transparent\" points=\"96.5,-1 96.5,-18 118.5,-18 118.5,-1 96.5,-1\"/>\n",
       "<text text-anchor=\"start\" x=\"98.3235\" y=\"-6.2\" font-family=\"Helvetica,sans-Serif\" font-size=\"11.00\" fill=\"#444443\">121</text>\n",
       "</g>\n",
       "</g>\n",
       "</svg>\n"
      ],
      "text/plain": [
       "<graphviz.files.Source at 0x11406a630>"
      ]
     },
     "execution_count": 85,
     "metadata": {},
     "output_type": "execute_result"
    }
   ],
   "source": [
    "objviz(ids)"
   ]
  },
  {
   "cell_type": "markdown",
   "metadata": {},
   "source": [
    "We can do lots of fun set arithmetic:"
   ]
  },
  {
   "cell_type": "code",
   "execution_count": 86,
   "metadata": {},
   "outputs": [
    {
     "data": {
      "text/plain": [
       "{100, 102, 109}"
      ]
     },
     "execution_count": 86,
     "metadata": {},
     "output_type": "execute_result"
    }
   ],
   "source": [
    "{100,102}.union({109})"
   ]
  },
  {
   "cell_type": "code",
   "execution_count": 87,
   "metadata": {},
   "outputs": [
    {
     "data": {
      "text/plain": [
       "{100}"
      ]
     },
     "execution_count": 87,
     "metadata": {},
     "output_type": "execute_result"
    }
   ],
   "source": [
    "{100,102}.intersection({100,119})"
   ]
  },
  {
   "cell_type": "markdown",
   "metadata": {},
   "source": [
    "### Tables (list of lists)"
   ]
  },
  {
   "cell_type": "markdown",
   "metadata": {},
   "source": [
    "Spreadsheets arrange rows one after the other, which programmers interpret as a *list of lists.* In the analytics or database world, we call this a **table**:\n",
    "\n",
    "<img src=\"images/rows.png\" width=\"700\">\n",
    "\n",
    "In this example, each row represents a sales transaction.\n",
    "\n",
    "The input to machine learning algorithms is often a table where each row aggregates the data associated with a specific instance or observation. These tables are called **dataframes** and will become your BFF."
   ]
  },
  {
   "cell_type": "code",
   "execution_count": 88,
   "metadata": {},
   "outputs": [
    {
     "data": {
      "text/html": [
       "<div>\n",
       "<style scoped>\n",
       "    .dataframe tbody tr th:only-of-type {\n",
       "        vertical-align: middle;\n",
       "    }\n",
       "\n",
       "    .dataframe tbody tr th {\n",
       "        vertical-align: top;\n",
       "    }\n",
       "\n",
       "    .dataframe thead th {\n",
       "        text-align: right;\n",
       "    }\n",
       "</style>\n",
       "<table border=\"1\" class=\"dataframe\">\n",
       "  <thead>\n",
       "    <tr style=\"text-align: right;\">\n",
       "      <th></th>\n",
       "      <th>ID</th>\n",
       "      <th>user</th>\n",
       "    </tr>\n",
       "  </thead>\n",
       "  <tbody>\n",
       "    <tr>\n",
       "      <th>0</th>\n",
       "      <td>99</td>\n",
       "      <td>parrt</td>\n",
       "    </tr>\n",
       "    <tr>\n",
       "      <th>1</th>\n",
       "      <td>101</td>\n",
       "      <td>sri</td>\n",
       "    </tr>\n",
       "    <tr>\n",
       "      <th>2</th>\n",
       "      <td>42</td>\n",
       "      <td>kayla</td>\n",
       "    </tr>\n",
       "  </tbody>\n",
       "</table>\n",
       "</div>"
      ],
      "text/plain": [
       "    ID   user\n",
       "0   99  parrt\n",
       "1  101    sri\n",
       "2   42  kayla"
      ]
     },
     "execution_count": 88,
     "metadata": {},
     "output_type": "execute_result"
    }
   ],
   "source": [
    "from pandas import DataFrame\n",
    "\n",
    "df = DataFrame(data=[[99,'parrt'],[101,'sri'],[42,'kayla']],\n",
    "               columns=['ID','user'])\n",
    "df"
   ]
  },
  {
   "cell_type": "code",
   "execution_count": 89,
   "metadata": {},
   "outputs": [
    {
     "data": {
      "text/plain": [
       "array([[99, 'parrt'],\n",
       "       [101, 'sri'],\n",
       "       [42, 'kayla']], dtype=object)"
      ]
     },
     "execution_count": 89,
     "metadata": {},
     "output_type": "execute_result"
    }
   ],
   "source": [
    "df.values"
   ]
  },
  {
   "cell_type": "code",
   "execution_count": 90,
   "metadata": {},
   "outputs": [
    {
     "data": {
      "text/plain": [
       "Index(['ID', 'user'], dtype='object')"
      ]
     },
     "execution_count": 90,
     "metadata": {},
     "output_type": "execute_result"
    }
   ],
   "source": [
    "df.columns"
   ]
  },
  {
   "cell_type": "code",
   "execution_count": 91,
   "metadata": {},
   "outputs": [
    {
     "data": {
      "text/plain": [
       "0    parrt\n",
       "1      sri\n",
       "2    kayla\n",
       "Name: user, dtype: object"
      ]
     },
     "execution_count": 91,
     "metadata": {},
     "output_type": "execute_result"
    }
   ],
   "source": [
    "df.user"
   ]
  },
  {
   "cell_type": "markdown",
   "metadata": {},
   "source": [
    "### Matrix"
   ]
  },
  {
   "cell_type": "markdown",
   "metadata": {},
   "source": [
    "If the table elements are all numbers, we call it a **matrix**. Here's a matrix with 5 rows and 2 columns:\n",
    "\n",
    "<img src=\"images/matrix.png\" width=\"110\">\n",
    "\n",
    "Let me introduce you to another of your new BFF:"
   ]
  },
  {
   "cell_type": "code",
   "execution_count": 92,
   "metadata": {},
   "outputs": [
    {
     "name": "stdout",
     "output_type": "stream",
     "text": [
      "[[ 19  11]\n",
      " [ 21  15]\n",
      " [103  18]\n",
      " [ 99  13]\n",
      " [  8   2]]\n"
     ]
    }
   ],
   "source": [
    "import numpy as np\n",
    "A = np.array([[19,11],\n",
    "              [21,15],\n",
    "              [103,18],\n",
    "              [99,13],\n",
    "              [8,2]])\n",
    "print(A)"
   ]
  },
  {
   "cell_type": "code",
   "execution_count": 93,
   "metadata": {},
   "outputs": [
    {
     "data": {
      "text/plain": [
       "(5, 2)"
      ]
     },
     "execution_count": 93,
     "metadata": {},
     "output_type": "execute_result"
    }
   ],
   "source": [
    "A.shape"
   ]
  },
  {
   "cell_type": "markdown",
   "metadata": {},
   "source": [
    "We can do lots of matrix math with numpy:"
   ]
  },
  {
   "cell_type": "code",
   "execution_count": 94,
   "metadata": {},
   "outputs": [
    {
     "name": "stdout",
     "output_type": "stream",
     "text": [
      "[[ 38  22]\n",
      " [ 42  30]\n",
      " [206  36]\n",
      " [198  26]\n",
      " [ 16   4]]\n"
     ]
    }
   ],
   "source": [
    "print(A+A)"
   ]
  },
  {
   "cell_type": "code",
   "execution_count": 95,
   "metadata": {},
   "outputs": [
    {
     "name": "stdout",
     "output_type": "stream",
     "text": [
      "[[ 1881  1089]\n",
      " [ 2079  1485]\n",
      " [10197  1782]\n",
      " [ 9801  1287]\n",
      " [  792   198]]\n"
     ]
    }
   ],
   "source": [
    "print(A*99)"
   ]
  },
  {
   "cell_type": "code",
   "execution_count": 96,
   "metadata": {},
   "outputs": [
    {
     "data": {
      "text/plain": [
       "array([[ 19,  21, 103,  99,   8],\n",
       "       [ 11,  15,  18,  13,   2]])"
      ]
     },
     "execution_count": 96,
     "metadata": {},
     "output_type": "execute_result"
    }
   ],
   "source": [
    "A.T #transpose"
   ]
  },
  {
   "cell_type": "markdown",
   "metadata": {},
   "source": [
    "Systems of equations: $A x = b$, $x = A^{-1} b$:\n",
    "\n",
    "\\begin{equation*}\n",
    "\\begin{bmatrix}\n",
    "38 & 22\\\\\n",
    "42 & 30\n",
    "\\end{bmatrix}\n",
    "\\begin{bmatrix}\n",
    "x_1  \\\\\n",
    "x_2 \n",
    "\\end{bmatrix} =\n",
    "\\begin{bmatrix}\n",
    "3 \\\\\n",
    "5 \n",
    "\\end{bmatrix}\n",
    "\\end{equation*}"
   ]
  },
  {
   "cell_type": "code",
   "execution_count": 97,
   "metadata": {},
   "outputs": [
    {
     "name": "stdout",
     "output_type": "stream",
     "text": [
      "[-0.09259259  0.2962963 ]\n"
     ]
    }
   ],
   "source": [
    "from numpy.linalg import inv\n",
    "A = np.array([[38, 22], [42, 30]])\n",
    "b = np.array([3, 5])\n",
    "x = inv(A).dot(b)\n",
    "print(x)"
   ]
  },
  {
   "cell_type": "code",
   "execution_count": 98,
   "metadata": {},
   "outputs": [
    {
     "name": "stdout",
     "output_type": "stream",
     "text": [
      "(2,)\n",
      "(1, 2)\n",
      "(2, 1)\n"
     ]
    }
   ],
   "source": [
    "x = np.array([3, 5])     # vertical vector with 2 rows\n",
    "y = np.array([[3, 5]])   # matrix with 1 row and 2 columns\n",
    "z = np.array([[3],[5]])  # matrix with 2 rows, 1 column\n",
    "print(x.shape)\n",
    "print(y.shape)\n",
    "print(z.shape)"
   ]
  },
  {
   "cell_type": "markdown",
   "metadata": {},
   "source": [
    "### Dictionary"
   ]
  },
  {
   "cell_type": "markdown",
   "metadata": {},
   "source": [
    "If we arrange two lists side-by-side and kind of glue them together, we get a **dictionary**. Dictionaries map one value to another, just like a dictionary in the real world maps a word to a definition.  Here is a sample dictionary that maps a movie title to the year it was nominated for an Oscar award:\n",
    "\n",
    "<img src=\"images/dict.png\" width=\"220\">"
   ]
  },
  {
   "cell_type": "code",
   "execution_count": 99,
   "metadata": {},
   "outputs": [
    {
     "name": "stdout",
     "output_type": "stream",
     "text": [
      "<class 'dict'>\n",
      "{'Amadeus': 1984, 'Witness': 1985}\n"
     ]
    }
   ],
   "source": [
    "movies = {'Amadeus':1984, 'Witness':1985}\n",
    "print(type(movies))\n",
    "print(movies)"
   ]
  },
  {
   "cell_type": "code",
   "execution_count": 100,
   "metadata": {},
   "outputs": [
    {
     "name": "stdout",
     "output_type": "stream",
     "text": [
      "dict_keys(['Amadeus', 'Witness'])\n",
      "dict_values([1984, 1985])\n"
     ]
    }
   ],
   "source": [
    "print(movies.keys())\n",
    "print(movies.values())"
   ]
  },
  {
   "cell_type": "code",
   "execution_count": 101,
   "metadata": {},
   "outputs": [
    {
     "data": {
      "text/plain": [
       "1984"
      ]
     },
     "execution_count": 101,
     "metadata": {},
     "output_type": "execute_result"
    }
   ],
   "source": [
    "movies['Amadeus']"
   ]
  },
  {
   "cell_type": "code",
   "execution_count": 102,
   "metadata": {},
   "outputs": [
    {
     "ename": "KeyError",
     "evalue": "'foo'",
     "output_type": "error",
     "traceback": [
      "\u001b[0;31m---------------------------------------------------------------------------\u001b[0m",
      "\u001b[0;31mKeyError\u001b[0m                                  Traceback (most recent call last)",
      "\u001b[0;32m<ipython-input-102-72c06b90f573>\u001b[0m in \u001b[0;36m<module>\u001b[0;34m()\u001b[0m\n\u001b[0;32m----> 1\u001b[0;31m \u001b[0mmovies\u001b[0m\u001b[0;34m[\u001b[0m\u001b[0;34m'foo'\u001b[0m\u001b[0;34m]\u001b[0m \u001b[0;31m# gets a KeyError\u001b[0m\u001b[0;34m\u001b[0m\u001b[0m\n\u001b[0m",
      "\u001b[0;31mKeyError\u001b[0m: 'foo'"
     ]
    }
   ],
   "source": [
    "movies['foo'] # gets a KeyError"
   ]
  },
  {
   "cell_type": "markdown",
   "metadata": {},
   "source": [
    "## Traversing data structures"
   ]
  },
  {
   "cell_type": "markdown",
   "metadata": {},
   "source": [
    "The spreadsheet model is a good one for understanding data structures but it's important to keep in mind that computers process one element (number or string) at a time.\n",
    "As humans, we can look at the spreadsheet or data structure from above in its entirety, but programs must **walk** or **traverse** the elements of a data structure one after the other. It's kind of like sliding a magnifying glass over the elements of a list:\n",
    "\n",
    "<img src=\"images/int-list-item.png\" width=\"230\">\n",
    "\n",
    "This notion of traversal abstracts to any **sequence** (or **stream**) of elements, not just lists. For example, we will eventually traverse the lines of a text file or a sequence of filenames obtained from the operating system. Sequences are extremely powerful because it allows us to process data that is much bigger than the memory of our computer. We can process the data piecemeal whereas a list requires all elements to be in memory at once.\n",
    "\n",
    "For lists and other structures that fit completely in memory, we often find a **reverse traversal** useful, that examines elements from last to first."
   ]
  },
  {
   "cell_type": "markdown",
   "metadata": {},
   "source": [
    "## Summary"
   ]
  },
  {
   "cell_type": "markdown",
   "metadata": {},
   "source": [
    "Here are the commonly-used data types:\n",
    "\n",
    "* integer numbers like -2, 0, 99\n",
    "* real numbers (floating-point numbers) like -2.3, 99.1932\n",
    "* strings like \"Mary\", \"President Obama\"\n",
    "\n",
    "And here are the commonly-used data structures:\n",
    "\n",
    "* ordered list\n",
    "* set (just an unordered, unique list)\n",
    "* list of lists such as tables or matrices with rows and columns \n",
    "* dictionary such as mapping a student name to their student ID; we can think of this as a table where each row in the table associates the key with a value.\n",
    "\n",
    "Now that we know what data looks like in memory, let's consider a small but powerful set of possible operations we can do on that data in [Common Programming Operations](operations.md)."
   ]
  }
 ],
 "metadata": {
  "kernelspec": {
   "display_name": "Python 3",
   "language": "python",
   "name": "python3"
  },
  "language_info": {
   "codemirror_mode": {
    "name": "ipython",
    "version": 3
   },
   "file_extension": ".py",
   "mimetype": "text/x-python",
   "name": "python",
   "nbconvert_exporter": "python",
   "pygments_lexer": "ipython3",
   "version": "3.6.5"
  }
 },
 "nbformat": 4,
 "nbformat_minor": 2
}
