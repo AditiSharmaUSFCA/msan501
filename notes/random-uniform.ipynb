{
 "cells": [
  {
   "cell_type": "markdown",
   "metadata": {},
   "source": [
    "# Generating Uniform Random Numbers\n",
    "\n",
    "> **Q**: *How to generate pure random string?*<br>\n",
    "**A**: *Put a fresh student in front of vi editor and ask him[/her] to quit.*<br>\n",
    "&nbsp;&nbsp;&nbsp;&nbsp;&nbsp;-- Emiliano Lourbet (@taitooz)\n",
    "\n",
    "\n",
    "To perform computer-based simulation we need to be able to generate random numbers. Generating random numbers following a uniform distribution are the easiest to generate and are what comes out of the standard programming language \"give me a random number\" function.  Here's a sample Python session:"
   ]
  },
  {
   "cell_type": "code",
   "execution_count": 1,
   "metadata": {
    "collapsed": false
   },
   "outputs": [
    {
     "name": "stdout",
     "output_type": "stream",
     "text": [
      "0.362111223764\n",
      "0.627501442713\n",
      "0.116071400253\n"
     ]
    }
   ],
   "source": [
    "import random\n",
    "print random.random()\n",
    "print random.random()\n",
    "print random.random()"
   ]
  },
  {
   "cell_type": "markdown",
   "metadata": {},
   "source": [
    "Uniform random variables are super important because they are the basis from which we generate other random variables, such as binomial, normal, exponential etc."
   ]
  },
  {
   "cell_type": "markdown",
   "metadata": {},
   "source": [
    "## Discussion\n",
    "\n",
    "We could generate real random numbers by accessing, for example, noise on the ethernet network device but that noise might not be uniformly distributed. We typically generate pseudorandom numbers that aren't really random but look like they are. From Ross' *Simulation* book,  we see a very easy recursive mechanism (recurrence relation) that generates values in $[0,1)$ using the [modulo](https://en.wikipedia.org/wiki/Modulo_operation) (remainder) operation:\n",
    "\n",
    "$x_{i+1} = a x_i$ modulo $m$\n",
    "\n",
    "That is recursive (or iterative and not *closed form*) because $x_i$ is a function of a prior value:\n",
    "\n",
    "$x_1 = ax_0$ modulo $m$<br>\n",
    "$x_2 = ax_1$ modulo $m$<br>\n",
    "$x_3 = ax_2$ modulo $m$<br>\n",
    "$x_4 = ax_3$ modulo $m$<br>\n",
    "$...$\n",
    "\n",
    "Ross indicates that the $x_i$ values are in [0,m-1] but setting any $x_i=0$ renders all subsequent $x_i=0$, so we should avoid that. Practically speaking, then, this method returns values in (0,1).\n",
    "\n",
    "To get random numbers in [0,1) from $x_i$, we use $x_i / m$.\n",
    "\n",
    "We must pick a value for $a$ and $m$ that make $x_i$ seem random. Ross suggests choosing a large prime number for $m$ that fits in our integer word size, e.g., $m = 2^{31} - 1$, and $a = 7^5 = 16807$.\n",
    "\n",
    "Initially we set a value for $x_0$, called the *random seed* (it is not the first random number). Every seed leads to a different sequence of pseudorandom numbers. (In Python, you can set the seed of the standard library by using `random.seed([x])`.)\n"
   ]
  },
  {
   "cell_type": "markdown",
   "metadata": {},
   "source": [
    "## Python implementation\n",
    "\n",
    "Our goal is to take that simple recursive formula and use it to generate uniform random numbers. Function `runif01()` returns a new random value *for every call*. Use $m = 2^{31} - 1$, $a = 7^5 = 16807$, and an initial seed of $x_0 = 666$."
   ]
  },
  {
   "cell_type": "code",
   "execution_count": 7,
   "metadata": {
    "collapsed": false
   },
   "outputs": [],
   "source": [
    "a = 16807\n",
    "m = pow(2,31)-1\n",
    "DFLT_SEED = 666\n",
    "x_i = DFLT_SEED # this is our x_i that changes each runif01() call\n",
    "\n",
    "def runif01():\n",
    "    \"Return a random value in U(0,1)\"\n",
    "    global x_i\n",
    "    x_i = a * x_i % m\n",
    "    return x_i / float(m)"
   ]
  },
  {
   "cell_type": "markdown",
   "metadata": {},
   "source": [
    "Let's try it out:"
   ]
  },
  {
   "cell_type": "code",
   "execution_count": 8,
   "metadata": {
    "collapsed": false
   },
   "outputs": [
    {
     "name": "stdout",
     "output_type": "stream",
     "text": [
      "0.00521236192678\n",
      "0.604166903349\n",
      "0.233144581892\n",
      "0.460987861017\n"
     ]
    }
   ],
   "source": [
    "print runif01()\n",
    "print runif01()\n",
    "print runif01()\n",
    "print runif01()"
   ]
  },
  {
   "cell_type": "markdown",
   "metadata": {},
   "source": [
    "### Exercise\n",
    "\n",
    "Define a new function, `runif(a,b)` that generates a random number in [a,b) instead of [0,1). Hint: We need to scale and shift a random uniform value in [0,1). Note: *You can't use random.random() or any other built-in random number generators for this lab.*\n",
    "\n",
    "```python\n",
    "def runif(a,b):\n",
    "    \"Return a random value in U(a,b)\"\n",
    "    ...\n",
    "```"
   ]
  },
  {
   "cell_type": "code",
   "execution_count": 11,
   "metadata": {
    "collapsed": false,
    "scrolled": true
   },
   "outputs": [
    {
     "name": "stdout",
     "output_type": "stream",
     "text": [
      "3.20627374258\n",
      "7.84279157307\n",
      "3.79796860916\n",
      "5.2458414227\n",
      "5.85679129178\n",
      "5.0912410282\n"
     ]
    }
   ],
   "source": [
    "def runif(a,b):\n",
    "    \"Return a random value in U(a,b)\"\n",
    "    if b<a: # swap\n",
    "        t = a\n",
    "        a = b\n",
    "        b = t\n",
    "        \n",
    "    return runif01()*(b-a) + a\n",
    "\n",
    "print runif(0,10)\n",
    "print runif(0,10)\n",
    "print runif(0,10)\n",
    "print runif(5,6)\n",
    "print runif(5,6)\n",
    "print runif(5,6)"
   ]
  },
  {
   "cell_type": "markdown",
   "metadata": {},
   "source": [
    "### Exercise\n",
    "\n",
    "Define a new function, `setseed(x)`, that updates the `seed` global variable.\n",
    "\n",
    "```python\n",
    "def setseed(s):\n",
    "    \"Update the seed global variable but ensure seed > 0\"\n",
    "    ...\n",
    "```\n",
    "\n",
    "This test sequence:\n",
    "\n",
    "```python\n",
    "setseed(501)\n",
    "print runif01()\n",
    "print runif01()\n",
    "print runif01()\n",
    "```\n",
    "\n",
    "should generate:\n",
    "\n",
    "```\n",
    "0.00392101099897\n",
    "0.900431859726\n",
    "0.558266419712\n",
    "```\n"
   ]
  },
  {
   "cell_type": "code",
   "execution_count": 4,
   "metadata": {
    "collapsed": false
   },
   "outputs": [
    {
     "name": "stdout",
     "output_type": "stream",
     "text": [
      "0.00392101099897\n",
      "0.900431859726\n",
      "0.558266419712\n"
     ]
    },
    {
     "ename": "NameError",
     "evalue": "name 'runif' is not defined",
     "output_type": "error",
     "traceback": [
      "\u001b[0;31m---------------------------------------------------------------------------\u001b[0m",
      "\u001b[0;31mNameError\u001b[0m                                 Traceback (most recent call last)",
      "\u001b[0;32m<ipython-input-4-efde79a1928f>\u001b[0m in \u001b[0;36m<module>\u001b[0;34m()\u001b[0m\n\u001b[1;32m      9\u001b[0m \u001b[0;32mprint\u001b[0m \u001b[0mrunif01\u001b[0m\u001b[0;34m(\u001b[0m\u001b[0;34m)\u001b[0m\u001b[0;34m\u001b[0m\u001b[0m\n\u001b[1;32m     10\u001b[0m \u001b[0;32mprint\u001b[0m \u001b[0mrunif01\u001b[0m\u001b[0;34m(\u001b[0m\u001b[0;34m)\u001b[0m\u001b[0;34m\u001b[0m\u001b[0m\n\u001b[0;32m---> 11\u001b[0;31m \u001b[0;32mprint\u001b[0m \u001b[0mrunif\u001b[0m\u001b[0;34m(\u001b[0m\u001b[0;36m5\u001b[0m\u001b[0;34m,\u001b[0m\u001b[0;36m6\u001b[0m\u001b[0;34m)\u001b[0m\u001b[0;34m\u001b[0m\u001b[0m\n\u001b[0m\u001b[1;32m     12\u001b[0m \u001b[0;32mprint\u001b[0m \u001b[0mrunif\u001b[0m\u001b[0;34m(\u001b[0m\u001b[0;36m5\u001b[0m\u001b[0;34m,\u001b[0m\u001b[0;36m6\u001b[0m\u001b[0;34m)\u001b[0m\u001b[0;34m\u001b[0m\u001b[0m\n\u001b[1;32m     13\u001b[0m \u001b[0;32mprint\u001b[0m \u001b[0mrunif\u001b[0m\u001b[0;34m(\u001b[0m\u001b[0;36m5\u001b[0m\u001b[0;34m,\u001b[0m\u001b[0;36m6\u001b[0m\u001b[0;34m)\u001b[0m\u001b[0;34m\u001b[0m\u001b[0m\n",
      "\u001b[0;31mNameError\u001b[0m: name 'runif' is not defined"
     ]
    }
   ],
   "source": [
    "def setseed(s):\n",
    "    \"Update the seed global variable but ensure seed > 0\"\n",
    "    global x_i\n",
    "    if s <= 0: s = 666\n",
    "    x_i = s\n",
    "\n",
    "setseed(501)\n",
    "print runif01()\n",
    "print runif01()\n",
    "print runif01()\n",
    "print runif(5,6)\n",
    "print runif(5,6)\n",
    "print runif(5,6)"
   ]
  },
  {
   "cell_type": "markdown",
   "metadata": {},
   "source": [
    "### Random variable density function estimate\n",
    "\n",
    "Jumping ahead a bit, we can use the histogram plotting example from [Manipulating and Visualizing Data](data.ipynb) as a crude form of density estimation to verify that the distribution of random values is approximately uniform:"
   ]
  },
  {
   "cell_type": "code",
   "execution_count": 12,
   "metadata": {
    "collapsed": false
   },
   "outputs": [
    {
     "data": {
      "image/png": "[encoded data removed]",
      "text/plain": [
       "<matplotlib.figure.Figure at 0x10f46d810>"
      ]
     },
     "metadata": {},
     "output_type": "display_data"
    }
   ],
   "source": [
    "import matplotlib.pyplot as plt\n",
    "# jupyter notebook command (ignore)\n",
    "%matplotlib inline \n",
    "\n",
    "sample = [runif01() for i in range(5000)] # Get 5000 random variables\n",
    "plt.figure(figsize=(4, 1.5))\n",
    "plt.hist(sample, bins=10, normed=True, alpha=0.3)\n",
    "plt.xlabel('Random value from U(0,1)')\n",
    "plt.ylabel('Probability')\n",
    "plt.show()"
   ]
  },
  {
   "cell_type": "markdown",
   "metadata": {},
   "source": [
    "In the case of generating pseudorandom numbers, we are interested in the sequence of values generated by the recurrence relation. Now we'll turn our attention to iterative methods that loop until the recurrence relation value converges."
   ]
  }
 ],
 "metadata": {
  "anaconda-cloud": {},
  "kernelspec": {
   "display_name": "Python 2",
   "language": "python",
   "name": "python2"
  },
  "language_info": {
   "codemirror_mode": {
    "name": "ipython",
    "version": 2
   },
   "file_extension": ".py",
   "mimetype": "text/x-python",
   "name": "python",
   "nbconvert_exporter": "python",
   "pygments_lexer": "ipython2",
   "version": "2.7.13"
  },
  "toc": {
   "colors": {
    "hover_highlight": "#DAA520",
    "navigate_num": "#000000",
    "navigate_text": "#333333",
    "running_highlight": "#FF0000",
    "selected_highlight": "#FFD700",
    "sidebar_border": "#EEEEEE",
    "wrapper_background": "#FFFFFF"
   },
   "moveMenuLeft": true,
   "nav_menu": {
    "height": "130px",
    "width": "252px"
   },
   "navigate_menu": true,
   "number_sections": true,
   "sideBar": true,
   "threshold": 4,
   "toc_cell": false,
   "toc_section_display": "block",
   "toc_window_display": false,
   "widenNotebook": false
  }
 },
 "nbformat": 4,
 "nbformat_minor": 1
}
