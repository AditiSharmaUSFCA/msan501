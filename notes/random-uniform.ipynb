{
 "cells": [
  {
   "cell_type": "markdown",
   "metadata": {},
   "source": [
    "# Generating Uniform Random Numbers\n",
    "\n",
    "> **Q**: *How to generate pure random string?*<br>\n",
    "**A**: *Put a fresh student in front of vi editor and ask him[/her] to quit.*<br>\n",
    "&nbsp;&nbsp;&nbsp;&nbsp;&nbsp;-- Emiliano Lourbet (@taitooz)\n",
    "\n",
    "\n",
    "To perform computer-based simulation we need to be able to generate random numbers. Generating random numbers following a uniform distribution are the easiest to generate and are what comes out of the standard programming language \"give me a random number\" function.  Here's a sample Python session:"
   ]
  },
  {
   "cell_type": "code",
   "execution_count": 1,
   "metadata": {
    "collapsed": false
   },
   "outputs": [
    {
     "name": "stdout",
     "output_type": "stream",
     "text": [
      "0.362111223764\n",
      "0.627501442713\n",
      "0.116071400253\n"
     ]
    }
   ],
   "source": [
    "import random\n",
    "print random.random()\n",
    "print random.random()\n",
    "print random.random()"
   ]
  },
  {
   "cell_type": "markdown",
   "metadata": {},
   "source": [
    "Uniform random variables are super important because they are the basis from which we generate other random variables, such as binomial, normal, exponential etc."
   ]
  },
  {
   "cell_type": "markdown",
   "metadata": {},
   "source": [
    "## Discussion\n",
    "\n",
    "We could generate real random numbers by accessing, for example, noise on the ethernet network device but that noise might not be uniformly distributed. We typically generate pseudorandom numbers that aren't really random but look like they are. From Ross' *Simulation* book,  we see a very easy recursive mechanism (recurrence relation) that generates values in $[0,1)$ using the [modulo](https://en.wikipedia.org/wiki/Modulo_operation) (remainder) operation:\n",
    "\n",
    "$x_n = a x_{n-1}$ modulo $m$\n",
    "\n",
    "That is recursive (or iterative and not *closed form*) because $x_n$ is a function of a prior value:\n",
    "\n",
    "$x_1 = ax_0$ modulo $m$<br>\n",
    "$x_2 = ax_1$ modulo $m$<br>\n",
    "$x_3 = ax_2$ modulo $m$<br>\n",
    "$x_4 = ax_3$ modulo $m$<br>\n",
    "$...$\n",
    "\n",
    "Ross indicates that the $x_n$ values are in [0,m-1] but setting any $x_n=0$ renders all subsequent $x_n=0$, so we should avoid that. Practically speaking, then, this method returns values in (0,1).\n",
    "\n",
    "To get random numbers in [0,1), we use $x_n / m$.\n",
    "\n",
    "We must pick a value for $a$ and $m$ that make $x_n$ seem random. Ross suggests choosing a large prime number for $m$ that fits in our integer word size, e.g., $m = 2^{31} - 1$, and $a = 7^5 = 16807$.\n",
    "\n",
    "Initially we set a value for $x_0$, called the *random seed* (it is not the first random number). Every seed leads to a different sequence of pseudorandom numbers. (In Python, you can set the seed of the standard library by using `random.seed([x])`.)"
   ]
  },
  {
   "cell_type": "markdown",
   "metadata": {},
   "source": [
    "## Python implementation\n",
    "\n",
    "Our goal is to take that simple recursive formula and use it to generate uniform random numbers. Function `runif01()` returns a new random value *for every call*. Use $m = 2^{31} - 1$, $a = 7^5 = 16807$, and an initial seed of $x_0 = 666$."
   ]
  },
  {
   "cell_type": "code",
   "execution_count": 4,
   "metadata": {
    "collapsed": true
   },
   "outputs": [],
   "source": [
    "a = 16807\n",
    "m = pow(2,31)-1\n",
    "x_n = 666 # this is our x_n that changes each runif01() call\n",
    "\n",
    "def runif01():\n",
    "    \"Return a random value in U(0,1)\"\n",
    "    global x_n\n",
    "    x_n = a * x_n % m\n",
    "    return x_n / float(m)"
   ]
  },
  {
   "cell_type": "markdown",
   "metadata": {},
   "source": [
    "Let's try it out:"
   ]
  },
  {
   "cell_type": "code",
   "execution_count": 5,
   "metadata": {
    "collapsed": false
   },
   "outputs": [
    {
     "name": "stdout",
     "output_type": "stream",
     "text": [
      "0.00521236192678\n",
      "0.604166903349\n",
      "0.233144581892\n",
      "0.460987861017\n"
     ]
    }
   ],
   "source": [
    "print runif01()\n",
    "print runif01()\n",
    "print runif01()\n",
    "print runif01()"
   ]
  },
  {
   "cell_type": "markdown",
   "metadata": {},
   "source": [
    "### Exercise\n",
    "\n",
    "Define a new function, `runif(a,b)` that generates a random number in [a,b) instead of [0,1). Hint: We need to scale and shift a random uniform value in [0,1). Note: *You can't use random.random() or any other built-in random number generators for this lab.*\n",
    "\n",
    "```python\n",
    "def runif(a,b):\n",
    "    \"Return a random value in U(a,b)\"\n",
    "    ...\n",
    "```"
   ]
  },
  {
   "cell_type": "code",
   "execution_count": 11,
   "metadata": {
    "collapsed": false,
    "scrolled": true
   },
   "outputs": [
    {
     "name": "stdout",
     "output_type": "stream",
     "text": [
      "3.20627374258\n",
      "7.84279157307\n",
      "3.79796860916\n",
      "5.2458414227\n",
      "5.85679129178\n",
      "5.0912410282\n"
     ]
    }
   ],
   "source": [
    "def runif(a,b):\n",
    "    \"Return a random value in U(a,b)\"\n",
    "    if b<a: # swap\n",
    "        t = a\n",
    "        a = b\n",
    "        b = t\n",
    "        \n",
    "    return runif01()*(b-a) + a\n",
    "\n",
    "print runif(0,10)\n",
    "print runif(0,10)\n",
    "print runif(0,10)\n",
    "print runif(5,6)\n",
    "print runif(5,6)\n",
    "print runif(5,6)"
   ]
  },
  {
   "cell_type": "markdown",
   "metadata": {},
   "source": [
    "### Exercise\n",
    "\n",
    "Define a new function, `setseed(x)`, that updates the `seed` global variable.\n",
    "\n",
    "```python\n",
    "def setseed(s):\n",
    "    \"Update the seed global variable but ensure > 0\"\n",
    "    ...\n",
    "```\n",
    "\n",
    "This test sequence:\n",
    "\n",
    "```python\n",
    "setseed(501)\n",
    "print runif01()\n",
    "print runif01()\n",
    "print runif01()\n",
    "```\n",
    "\n",
    "should generate:\n",
    "\n",
    "```\n",
    "0.00392101099897\n",
    "0.900431859726\n",
    "0.558266419712\n",
    "```\n"
   ]
  },
  {
   "cell_type": "code",
   "execution_count": 12,
   "metadata": {
    "collapsed": false
   },
   "outputs": [
    {
     "name": "stdout",
     "output_type": "stream",
     "text": [
      "0.00392101099897\n",
      "0.900431859726\n",
      "0.558266419712\n",
      "5.78371609365\n",
      "5.9163859435\n",
      "5.69855235037\n"
     ]
    }
   ],
   "source": [
    "def setseed(s):\n",
    "    \"Update the seed global variable but ensure > 0\"\n",
    "    global x_n\n",
    "    if s <= 0: s = 666\n",
    "    x_n = s\n",
    "\n",
    "setseed(501)\n",
    "print runif01()\n",
    "print runif01()\n",
    "print runif01()\n",
    "print runif(5,6)\n",
    "print runif(5,6)\n",
    "print runif(5,6)"
   ]
  },
  {
   "cell_type": "markdown",
   "metadata": {},
   "source": []
  }
 ],
 "metadata": {
  "kernelspec": {
   "display_name": "Python [default]",
   "language": "python",
   "name": "python2"
  },
  "language_info": {
   "codemirror_mode": {
    "name": "ipython",
    "version": 2
   },
   "file_extension": ".py",
   "mimetype": "text/x-python",
   "name": "python",
   "nbconvert_exporter": "python",
   "pygments_lexer": "ipython2",
   "version": "2.7.12"
  }
 },
 "nbformat": 4,
 "nbformat_minor": 1
}
