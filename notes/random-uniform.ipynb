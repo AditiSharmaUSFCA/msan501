{
 "cells": [
  {
   "cell_type": "markdown",
   "metadata": {},
   "source": [
    "# Generating Uniform Random Numbers\n",
    "\n",
    "> **Q**: *How to generate pure random string?*<br>\n",
    "**A**: *Put a fresh student in front of vi editor and ask him[/her] to quit.*<br>\n",
    "&nbsp;&nbsp;&nbsp;&nbsp;&nbsp;-- Emiliano Lourbet (@taitooz)\n",
    "\n",
    "\n",
    "To perform computer-based simulation we need to be able to generate random numbers. Generating random numbers following a uniform distribution are the easiest to generate and are what comes out of the standard programming language \"give me a random number\" function.  Here's a sample Python session:"
   ]
  },
  {
   "cell_type": "code",
   "execution_count": 1,
   "metadata": {
    "collapsed": false
   },
   "outputs": [
    {
     "name": "stdout",
     "output_type": "stream",
     "text": [
      "0.362111223764\n",
      "0.627501442713\n",
      "0.116071400253\n"
     ]
    }
   ],
   "source": [
    "import random\n",
    "print random.random()\n",
    "print random.random()\n",
    "print random.random()"
   ]
  },
  {
   "cell_type": "markdown",
   "metadata": {},
   "source": [
    "## Discussion\n",
    "\n",
    "We could generate real random numbers by accessing, for example, noise on the ethernet network device but that noise might not be uniformly distributed. We typically generate pseudorandom numbers that aren't really random but look like they are. From Ross' *Simulation* book,  we see a very easy recursive mechanism (recurrence relation) that generates values in $[0,1)$ using the [modulo](https://en.wikipedia.org/wiki/Modulo_operation) (remainder) operation:\n",
    "\n",
    "$x_n = a x_{n-1}$ modulo $m$\n",
    "\n",
    "That is recursive (or iterative and not *closed form*) because $x_n$ is a function of a prior value:\n",
    "\n",
    "$x_1 = ax_0$ modulo $m$<br>\n",
    "$x_2 = ax_1$ modulo $m$<br>\n",
    "$x_3 = ax_2$ modulo $m$<br>\n",
    "$x_4 = ax_3$ modulo $m$<br>\n",
    "$...$\n",
    "\n",
    "The $x_n$ values are in [0,m-1] so, to get random numbers in [0,1), we use $x_n / m$.\n",
    "\n",
    "We must pick a value for $a$ and $m$ that make $x_n$ seem random. Ross suggests choosing a large prime number for $m$ that fits in our integer word size, e.g., $m = 2^{31} - 1$, and $a = 7^5 = 16807$.\n",
    "\n",
    "Initially we set a value for $x_0$, called the *random seed* (it is not the first random number). Every seed leads to a different sequence of pseudorandom numbers. (In Python, you can set the seed of the standard library by using `random.seed([x])`.)"
   ]
  },
  {
   "cell_type": "markdown",
   "metadata": {},
   "source": [
    "## Python implementation\n",
    "\n",
    "Our goal is to take that simple recursive formula and use it to generate uniform random numbers. Function `runif01()` returns a new random value *for every call*. Use $m = 2^{31} - 1$, $a = 7^5 = 16807$, and an initial seed of $x_0 = 666$."
   ]
  },
  {
   "cell_type": "code",
   "execution_count": null,
   "metadata": {
    "collapsed": true
   },
   "outputs": [],
   "source": [
    "a = 16807\n",
    "m = pow(2,31)-1\n",
    "x = 666 # this is our x_n that changes each runif01() call\n",
    "\n",
    "def runif01():\n",
    "    \"Return a random value in U(0,1)\"\n",
    "    global x\n",
    "    x = a * x % m\n",
    "    return x / float(m)"
   ]
  },
  {
   "cell_type": "markdown",
   "metadata": {},
   "source": [
    "Let's try it out:"
   ]
  },
  {
   "cell_type": "code",
   "execution_count": 3,
   "metadata": {
    "collapsed": false
   },
   "outputs": [
    {
     "name": "stdout",
     "output_type": "stream",
     "text": [
      "0.00521236192678\n",
      "0.604166903349\n",
      "0.233144581892\n",
      "0.460987861017\n"
     ]
    }
   ],
   "source": [
    "print runif01()\n",
    "print runif01()\n",
    "print runif01()\n",
    "print runif01()"
   ]
  },
  {
   "cell_type": "markdown",
   "metadata": {},
   "source": [
    "### Exercise\n",
    "\n",
    "Define a new function, `runif(a,b)` that generates a random number in [a,b) instead of [0,1). Note: *You can't use random.random() or any other built-in random number generators for this lab.*\n",
    "\n",
    "```python\n",
    "def runif(a,b):\n",
    "    \"Return a random value in U(a,b)\"\n",
    "    ...\n",
    "```"
   ]
  },
  {
   "cell_type": "markdown",
   "metadata": {},
   "source": [
    "### Exercise\n",
    "\n",
    "Define a new function, `setseed(x)`, that updates the `seed` global variable.\n",
    "\n",
    "```python\n",
    "def setseed(s):\n",
    "    \"updates the seed global variable\"\n",
    "    ...\n",
    "```"
   ]
  },
  {
   "cell_type": "markdown",
   "metadata": {},
   "source": []
  }
 ],
 "metadata": {
  "kernelspec": {
   "display_name": "Python [default]",
   "language": "python",
   "name": "python2"
  },
  "language_info": {
   "codemirror_mode": {
    "name": "ipython",
    "version": 2
   },
   "file_extension": ".py",
   "mimetype": "text/x-python",
   "name": "python",
   "nbconvert_exporter": "python",
   "pygments_lexer": "ipython2",
   "version": "2.7.12"
  }
 },
 "nbformat": 4,
 "nbformat_minor": 1
}
