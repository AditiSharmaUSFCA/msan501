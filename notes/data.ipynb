{
 "cells": [
  {
   "cell_type": "markdown",
   "metadata": {},
   "source": [
    "# Visualizing Data\n",
    "\n",
    "Our generic analytics program template\n",
    "\n",
    "1. Acquire data, which means finding a suitable file or collecting data from the web and storing in a file\n",
    "2. Load data from disk and place into memory organized into data structures\n",
    "2. Normalize, clean, or otherwise prepare data\n",
    "3. Process the data, which can mean training a machine learning model, computing summary statistics, or optimizing a cost function\n",
    "4. Emit results, which can be anything from simply printing an answer to saving data to the disk to generating a fancy visualization\n",
    "\n",
    "\n",
    "To make loading data meaningful, we'll also learn how to generate histograms from data files using [matplotlib](https://matplotlib.org/).\n",
    "\n",
    "missing values\n",
    "\tdelete row\n",
    "\tinsert value\n",
    "\n",
    "## Two new BFFs\n",
    "\n",
    "Get some administrative details out of the way"
   ]
  },
  {
   "cell_type": "code",
   "execution_count": 1,
   "metadata": {
    "collapsed": false
   },
   "outputs": [],
   "source": [
    "import pandas\n",
    "import numpy as np\n",
    "import matplotlib.pyplot as plt\n",
    "\n",
    "# jupyter notebook command (ignore)\n",
    "%matplotlib inline\n",
    "\n",
    "pandas.options.display.max_rows = 4 # Don't display too much data\n",
    "np.set_printoptions(threshold=4)"
   ]
  },
  {
   "cell_type": "markdown",
   "metadata": {},
   "source": [
    "asdfasfd"
   ]
  },
  {
   "cell_type": "code",
   "execution_count": 2,
   "metadata": {
    "collapsed": false,
    "scrolled": true
   },
   "outputs": [
    {
     "name": "stdout",
     "output_type": "stream",
     "text": [
      "type is <class 'pandas.core.frame.DataFrame'>\n",
      "shape is (344, 1)\n"
     ]
    },
    {
     "data": {
      "text/html": [
       "<div>\n",
       "<table border=\"1\" class=\"dataframe\">\n",
       "  <thead>\n",
       "    <tr style=\"text-align: right;\">\n",
       "      <th></th>\n",
       "      <th>0.605</th>\n",
       "    </tr>\n",
       "  </thead>\n",
       "  <tbody>\n",
       "    <tr>\n",
       "      <th>0</th>\n",
       "      <td>0.600</td>\n",
       "    </tr>\n",
       "    <tr>\n",
       "      <th>1</th>\n",
       "      <td>0.594</td>\n",
       "    </tr>\n",
       "    <tr>\n",
       "      <th>...</th>\n",
       "      <td>...</td>\n",
       "    </tr>\n",
       "    <tr>\n",
       "      <th>342</th>\n",
       "      <td>1.898</td>\n",
       "    </tr>\n",
       "    <tr>\n",
       "      <th>343</th>\n",
       "      <td>1.891</td>\n",
       "    </tr>\n",
       "  </tbody>\n",
       "</table>\n",
       "<p>344 rows × 1 columns</p>\n",
       "</div>"
      ],
      "text/plain": [
       "     0.605\n",
       "0    0.600\n",
       "1    0.594\n",
       "..     ...\n",
       "342  1.898\n",
       "343  1.891\n",
       "\n",
       "[344 rows x 1 columns]"
      ]
     },
     "execution_count": 2,
     "metadata": {},
     "output_type": "execute_result"
    }
   ],
   "source": [
    "prices = pandas.read_csv('data/prices.txt')\n",
    "print \"type is\", type(prices)\n",
    "print \"shape is\", prices.shape\n",
    "prices"
   ]
  },
  {
   "cell_type": "markdown",
   "metadata": {},
   "source": [
    "numpy array is homogeneous 1, 2, or multidimensional array. they must all have the same type"
   ]
  },
  {
   "cell_type": "code",
   "execution_count": 3,
   "metadata": {
    "collapsed": false
   },
   "outputs": [
    {
     "name": "stdout",
     "output_type": "stream",
     "text": [
      "type is <type 'numpy.ndarray'>\n",
      "shape is (344, 1)\n",
      "[[ 0.6  ]\n",
      " [ 0.594]\n",
      " [ 0.592]\n",
      " ..., \n",
      " [ 1.939]\n",
      " [ 1.898]\n",
      " [ 1.891]]\n"
     ]
    }
   ],
   "source": [
    "m = prices.as_matrix()\n",
    "print \"type is\", type(m)\n",
    "print \"shape is\", m.shape\n",
    "print m"
   ]
  },
  {
   "cell_type": "markdown",
   "metadata": {},
   "source": [
    "We can also take a regular listing converted to an array"
   ]
  },
  {
   "cell_type": "code",
   "execution_count": 4,
   "metadata": {
    "collapsed": false
   },
   "outputs": [
    {
     "name": "stdout",
     "output_type": "stream",
     "text": [
      "shape is (8,)\n",
      "[28 32 34 ..., 39 40 41]\n"
     ]
    }
   ],
   "source": [
    "sizes = [28, 32, 34, 36, 38, 39, 40, 41]\n",
    "a = np.array(sizes)\n",
    "print \"shape is\", a.shape\n",
    "print a"
   ]
  },
  {
   "cell_type": "markdown",
   "metadata": {},
   "source": [
    "Two-dimensional is very common as well"
   ]
  },
  {
   "cell_type": "code",
   "execution_count": 21,
   "metadata": {
    "collapsed": false,
    "scrolled": true
   },
   "outputs": [
    {
     "name": "stdout",
     "output_type": "stream",
     "text": [
      "shape is (3, 4)\n",
      "[[  18    8  307 3504]\n",
      " [  15    8  350 3693]\n",
      " [  18    8  318 3436]]\n"
     ]
    }
   ],
   "source": [
    "stuff = [\n",
    "    [ 18, 8, 307, 3504],\n",
    "    [ 15, 8, 350, 3693],\n",
    "    [ 18, 8, 318, 3436]\n",
    "]\n",
    "m = np.array(stuff)\n",
    "print \"shape is\", m.shape\n",
    "print m"
   ]
  },
  {
   "cell_type": "markdown",
   "metadata": {},
   "source": [
    "## Plotting Time Series Data"
   ]
  },
  {
   "cell_type": "markdown",
   "metadata": {},
   "source": []
  },
  {
   "cell_type": "code",
   "execution_count": 6,
   "metadata": {
    "collapsed": false
   },
   "outputs": [
    {
     "data": {
      "image/png": "[encoded data removed]",
      "text/plain": [
       "<matplotlib.figure.Figure at 0x10ed14350>"
      ]
     },
     "metadata": {},
     "output_type": "display_data"
    }
   ],
   "source": [
    "time = np.arange(0, len(prices), 1)\n",
    "fig=plt.figure(figsize=(5, 2))\n",
    "plt.plot(time, prices)\n",
    "plt.xlabel(\"Time\")\n",
    "plt.ylabel(\"Price (dollars)\")\n",
    "plt.show()"
   ]
  },
  {
   "cell_type": "code",
   "execution_count": 7,
   "metadata": {
    "collapsed": false
   },
   "outputs": [
    {
     "data": {
      "image/png": "[encoded data removed]",
      "text/plain": [
       "<matplotlib.figure.Figure at 0x10ed3be50>"
      ]
     },
     "metadata": {},
     "output_type": "display_data"
    }
   ],
   "source": [
    "def f(x):\n",
    "    return np.cos(3 * np.pi * x) / x\n",
    "\n",
    "fig=plt.figure(figsize=(5, 2))\n",
    "X = np.arange(.1, 1.1, 0.01) # from .1 to 1.1 by step 0.01 \n",
    "# Get f(x) values in three different ways\n",
    "# Option 1: (non-Pythonic)\n",
    "Y = [] \n",
    "for x in X: Y.append(f(x))\n",
    "# Option 2: (cool kids do this)\n",
    "Y = [f(x) for x in X]\n",
    "# Option 3: (most popular kids do this)\n",
    "Y = f(X)  # a so-called broadcast; implied map\n",
    "\n",
    "plt.plot(X, Y)\n",
    "plt.xlabel(\"x\")\n",
    "plt.ylabel(\"cos(3 * pi * x) / x\")\n",
    "plt.show()"
   ]
  },
  {
   "cell_type": "code",
   "execution_count": null,
   "metadata": {
    "collapsed": false
   },
   "outputs": [],
   "source": []
  },
  {
   "cell_type": "code",
   "execution_count": null,
   "metadata": {
    "collapsed": true
   },
   "outputs": [],
   "source": []
  },
  {
   "cell_type": "code",
   "execution_count": null,
   "metadata": {
    "collapsed": false
   },
   "outputs": [],
   "source": []
  },
  {
   "cell_type": "markdown",
   "metadata": {},
   "source": [
    "##  Visualizing the relationship between variables"
   ]
  },
  {
   "cell_type": "code",
   "execution_count": 8,
   "metadata": {
    "collapsed": false,
    "scrolled": true
   },
   "outputs": [
    {
     "data": {
      "text/html": [
       "<div>\n",
       "<table border=\"1\" class=\"dataframe\">\n",
       "  <thead>\n",
       "    <tr style=\"text-align: right;\">\n",
       "      <th></th>\n",
       "      <th>MPG</th>\n",
       "      <th>CYL</th>\n",
       "      <th>ENG</th>\n",
       "      <th>WGT</th>\n",
       "    </tr>\n",
       "  </thead>\n",
       "  <tbody>\n",
       "    <tr>\n",
       "      <th>0</th>\n",
       "      <td>18.0</td>\n",
       "      <td>8</td>\n",
       "      <td>307.0</td>\n",
       "      <td>3504</td>\n",
       "    </tr>\n",
       "    <tr>\n",
       "      <th>1</th>\n",
       "      <td>15.0</td>\n",
       "      <td>8</td>\n",
       "      <td>350.0</td>\n",
       "      <td>3693</td>\n",
       "    </tr>\n",
       "    <tr>\n",
       "      <th>...</th>\n",
       "      <td>...</td>\n",
       "      <td>...</td>\n",
       "      <td>...</td>\n",
       "      <td>...</td>\n",
       "    </tr>\n",
       "    <tr>\n",
       "      <th>390</th>\n",
       "      <td>28.0</td>\n",
       "      <td>4</td>\n",
       "      <td>120.0</td>\n",
       "      <td>2625</td>\n",
       "    </tr>\n",
       "    <tr>\n",
       "      <th>391</th>\n",
       "      <td>31.0</td>\n",
       "      <td>4</td>\n",
       "      <td>119.0</td>\n",
       "      <td>2720</td>\n",
       "    </tr>\n",
       "  </tbody>\n",
       "</table>\n",
       "<p>392 rows × 4 columns</p>\n",
       "</div>"
      ],
      "text/plain": [
       "      MPG  CYL    ENG   WGT\n",
       "0    18.0    8  307.0  3504\n",
       "1    15.0    8  350.0  3693\n",
       "..    ...  ...    ...   ...\n",
       "390  28.0    4  120.0  2625\n",
       "391  31.0    4  119.0  2720\n",
       "\n",
       "[392 rows x 4 columns]"
      ]
     },
     "execution_count": 8,
     "metadata": {},
     "output_type": "execute_result"
    }
   ],
   "source": [
    "cars = pandas.read_csv('data/cars.csv')\n",
    "cars"
   ]
  },
  {
   "cell_type": "code",
   "execution_count": 9,
   "metadata": {
    "collapsed": false
   },
   "outputs": [
    {
     "name": "stdout",
     "output_type": "stream",
     "text": [
      "[[   18.     8.   307.  3504.]\n",
      " [   15.     8.   350.  3693.]\n",
      " [   18.     8.   318.  3436.]\n",
      " ..., \n",
      " [   32.     4.   135.  2295.]\n",
      " [   28.     4.   120.  2625.]\n",
      " [   31.     4.   119.  2720.]]\n"
     ]
    }
   ],
   "source": [
    "m = cars.as_matrix()\n",
    "print m"
   ]
  },
  {
   "cell_type": "code",
   "execution_count": 10,
   "metadata": {
    "collapsed": false
   },
   "outputs": [
    {
     "data": {
      "image/png": "[encoded data removed]",
      "text/plain": [
       "<matplotlib.figure.Figure at 0x10ef17110>"
      ]
     },
     "metadata": {},
     "output_type": "display_data"
    }
   ],
   "source": [
    "mpg = m[:,0]\n",
    "wgt = m[:,3]\n",
    "fig=plt.figure(figsize=(5, 2.5))\n",
    "plt.scatter(mpg, wgt, alpha=0.5) # looks cooler with alpha (opacity) at 50%\n",
    "plt.xlabel('Miles per gallon')\n",
    "plt.ylabel('Weight (pounds)')\n",
    "plt.show()"
   ]
  },
  {
   "cell_type": "markdown",
   "metadata": {},
   "source": [
    "If we ever need a unique set, use"
   ]
  },
  {
   "cell_type": "markdown",
   "metadata": {},
   "source": [
    "## Histograms"
   ]
  },
  {
   "cell_type": "code",
   "execution_count": 11,
   "metadata": {
    "collapsed": false
   },
   "outputs": [
    {
     "data": {
      "image/png": "[encoded data removed]",
      "text/plain": [
       "<matplotlib.figure.Figure at 0x1124181d0>"
      ]
     },
     "metadata": {},
     "output_type": "display_data"
    }
   ],
   "source": [
    "m = cars.as_matrix()\n",
    "hp = m[:,2]\n",
    "fig=plt.figure(figsize=(5, 2.5))\n",
    "n, bins, patches = plt.hist(hp, 20, normed=1, alpha=0.75)\n",
    "plt.xlabel('Horsepower')\n",
    "plt.ylabel('Probability')\n",
    "plt.show()"
   ]
  },
  {
   "cell_type": "markdown",
   "metadata": {},
   "source": [
    "## Slicing and dicing\n"
   ]
  },
  {
   "cell_type": "code",
   "execution_count": null,
   "metadata": {
    "collapsed": false
   },
   "outputs": [],
   "source": []
  },
  {
   "cell_type": "markdown",
   "metadata": {},
   "source": [
    "**Loading tables**\n",
    "\n",
    "dataframes"
   ]
  },
  {
   "cell_type": "code",
   "execution_count": 12,
   "metadata": {
    "collapsed": false
   },
   "outputs": [
    {
     "data": {
      "text/html": [
       "<div>\n",
       "<table border=\"1\" class=\"dataframe\">\n",
       "  <thead>\n",
       "    <tr style=\"text-align: right;\">\n",
       "      <th></th>\n",
       "      <th>Date</th>\n",
       "      <th>Quantity</th>\n",
       "      <th>Unit Price</th>\n",
       "      <th>Shipping</th>\n",
       "      <th>Customer Name</th>\n",
       "      <th>Product Category</th>\n",
       "      <th>Product Name</th>\n",
       "    </tr>\n",
       "  </thead>\n",
       "  <tbody>\n",
       "    <tr>\n",
       "      <th>0</th>\n",
       "      <td>10/13/10</td>\n",
       "      <td>6</td>\n",
       "      <td>38.94</td>\n",
       "      <td>35.00</td>\n",
       "      <td>Muhammed MacIntyre</td>\n",
       "      <td>Office Supplies</td>\n",
       "      <td>Eldon Base for stackable storage shelf, platinum</td>\n",
       "    </tr>\n",
       "    <tr>\n",
       "      <th>1</th>\n",
       "      <td>10/1/12</td>\n",
       "      <td>49</td>\n",
       "      <td>208.16</td>\n",
       "      <td>68.02</td>\n",
       "      <td>Barry French</td>\n",
       "      <td>Office Supplies</td>\n",
       "      <td>1.7 Cubic Foot Compact \"Cube\" Office Refrigera...</td>\n",
       "    </tr>\n",
       "    <tr>\n",
       "      <th>...</th>\n",
       "      <td>...</td>\n",
       "      <td>...</td>\n",
       "      <td>...</td>\n",
       "      <td>...</td>\n",
       "      <td>...</td>\n",
       "      <td>...</td>\n",
       "      <td>...</td>\n",
       "    </tr>\n",
       "    <tr>\n",
       "      <th>29</th>\n",
       "      <td>10/21/12</td>\n",
       "      <td>49</td>\n",
       "      <td>6.08</td>\n",
       "      <td>1.17</td>\n",
       "      <td>Grant Carroll</td>\n",
       "      <td>Office Supplies</td>\n",
       "      <td>Col-Erase� Pencils with Erasers</td>\n",
       "    </tr>\n",
       "    <tr>\n",
       "      <th>30</th>\n",
       "      <td>1/1/11</td>\n",
       "      <td>10</td>\n",
       "      <td>5.98</td>\n",
       "      <td>4.38</td>\n",
       "      <td>Don Miller</td>\n",
       "      <td>Technology</td>\n",
       "      <td>Imation 3.5\" DS/HD IBM Formatted Diskettes, 10...</td>\n",
       "    </tr>\n",
       "  </tbody>\n",
       "</table>\n",
       "<p>31 rows × 7 columns</p>\n",
       "</div>"
      ],
      "text/plain": [
       "        Date  Quantity  Unit Price  Shipping       Customer Name  \\\n",
       "0   10/13/10         6       38.94     35.00  Muhammed MacIntyre   \n",
       "1    10/1/12        49      208.16     68.02        Barry French   \n",
       "..       ...       ...         ...       ...                 ...   \n",
       "29  10/21/12        49        6.08      1.17       Grant Carroll   \n",
       "30    1/1/11        10        5.98      4.38          Don Miller   \n",
       "\n",
       "   Product Category                                       Product Name  \n",
       "0   Office Supplies   Eldon Base for stackable storage shelf, platinum  \n",
       "1   Office Supplies  1.7 Cubic Foot Compact \"Cube\" Office Refrigera...  \n",
       "..              ...                                                ...  \n",
       "29  Office Supplies                    Col-Erase� Pencils with Erasers  \n",
       "30       Technology  Imation 3.5\" DS/HD IBM Formatted Diskettes, 10...  \n",
       "\n",
       "[31 rows x 7 columns]"
      ]
     },
     "execution_count": 12,
     "metadata": {},
     "output_type": "execute_result"
    }
   ],
   "source": [
    "sales = pandas.read_csv('data/sales-small.csv')\n",
    "sales"
   ]
  },
  {
   "cell_type": "code",
   "execution_count": 13,
   "metadata": {
    "collapsed": false
   },
   "outputs": [
    {
     "data": {
      "text/plain": [
       "0     10/13/10\n",
       "1      10/1/12\n",
       "        ...   \n",
       "29    10/21/12\n",
       "30      1/1/11\n",
       "Name: Date, dtype: object"
      ]
     },
     "execution_count": 13,
     "metadata": {},
     "output_type": "execute_result"
    }
   ],
   "source": [
    "sales['Date']"
   ]
  },
  {
   "cell_type": "code",
   "execution_count": 14,
   "metadata": {
    "collapsed": false
   },
   "outputs": [
    {
     "data": {
      "text/plain": [
       "0     Muhammed MacIntyre\n",
       "1           Barry French\n",
       "             ...        \n",
       "29         Grant Carroll\n",
       "30            Don Miller\n",
       "Name: Customer Name, dtype: object"
      ]
     },
     "execution_count": 14,
     "metadata": {},
     "output_type": "execute_result"
    }
   ],
   "source": [
    "sales['Customer Name']"
   ]
  },
  {
   "cell_type": "markdown",
   "metadata": {},
   "source": [
    "can convert to matrix:"
   ]
  },
  {
   "cell_type": "code",
   "execution_count": 15,
   "metadata": {
    "collapsed": false
   },
   "outputs": [
    {
     "data": {
      "text/plain": [
       "array(['10/13/10', 6, 38.94, ..., 'Muhammed MacIntyre', 'Office Supplies',\n",
       "       'Eldon Base for stackable storage shelf, platinum'], dtype=object)"
      ]
     },
     "execution_count": 15,
     "metadata": {},
     "output_type": "execute_result"
    }
   ],
   "source": [
    "m = sales.as_matrix()\n",
    "m[0] # get first row"
   ]
  },
  {
   "cell_type": "code",
   "execution_count": 16,
   "metadata": {
    "collapsed": false,
    "scrolled": true
   },
   "outputs": [
    {
     "data": {
      "text/plain": [
       "array(['10/13/10', '10/1/12', '10/1/12', ..., '11/8/10', '10/21/12',\n",
       "       '1/1/11'], dtype=object)"
      ]
     },
     "execution_count": 16,
     "metadata": {},
     "output_type": "execute_result"
    }
   ],
   "source": [
    "m[:,0] # get first column"
   ]
  },
  {
   "cell_type": "code",
   "execution_count": 17,
   "metadata": {
    "collapsed": false
   },
   "outputs": [
    {
     "data": {
      "text/plain": [
       "array(['Muhammed MacIntyre', 'Barry French', 'Barry French', ...,\n",
       "       'Carlos Soltero', 'Grant Carroll', 'Don Miller'], dtype=object)"
      ]
     },
     "execution_count": 17,
     "metadata": {},
     "output_type": "execute_result"
    }
   ],
   "source": [
    "m[:,4] # get fifth column"
   ]
  },
  {
   "cell_type": "code",
   "execution_count": null,
   "metadata": {
    "collapsed": false
   },
   "outputs": [],
   "source": []
  },
  {
   "cell_type": "code",
   "execution_count": null,
   "metadata": {
    "collapsed": false,
    "scrolled": true
   },
   "outputs": [],
   "source": []
  },
  {
   "cell_type": "markdown",
   "metadata": {},
   "source": [
    "## Word clouds\n",
    "\n",
    "tuples\n",
    "list of tuples\n",
    "dict\n",
    "\n",
    "clean out punct, ws, nums, short words. filter out stop words\n",
    "\n",
    "show unique words with set(words).\n",
    "\n",
    "Python has a nice library called `wordcloud` we can use. It should already be installed in your Anaconda  Python directory, but if not use the command line:\n",
    "\n",
    "```bash\n",
    "$ pip install wordcloud\n",
    "```"
   ]
  },
  {
   "cell_type": "code",
   "execution_count": 18,
   "metadata": {
    "collapsed": false
   },
   "outputs": [
    {
     "name": "stdout",
     "output_type": "stream",
     "text": [
      "['the', 'city', 'and', 'its', 'people', 'istanbul', 'is', 'one', 'of', 'the', 'worlds', 'most', 'venerable', 'cities.', 'part', 'of', 'the', 'citys', 'allure', 'is']\n"
     ]
    }
   ],
   "source": [
    "f = open('data/IntroIstanbul.txt')\n",
    "contents = f.read() # read all content of the file\n",
    "f.close()\n",
    "words = contents.split(' ')\n",
    "words = [w for w in words if len(w)>1]\n",
    "words = [w.lower() for w in words]\n",
    "words = [w.strip() for w in words]\n",
    "print words[:20]"
   ]
  },
  {
   "cell_type": "code",
   "execution_count": 19,
   "metadata": {
    "collapsed": false,
    "scrolled": true
   },
   "outputs": [
    {
     "name": "stdout",
     "output_type": "stream",
     "text": [
      "istanbul 6\n",
      "byzantine 3\n",
      "the 123\n",
      "[('the', 123), ('of', 55), ('and', 40), ('to', 18), ('in', 16), ('is', 14), ('from', 9), ('most', 9), ('city', 8), ('this', 7)]\n"
     ]
    }
   ],
   "source": [
    "from collections import Counter # a kind of dict\n",
    "freq = Counter(words)\n",
    "print \"istanbul\", freq['istanbul']\n",
    "print \"byzantine\", freq['byzantine']\n",
    "print \"the\", freq['the']\n",
    "print freq.most_common(10)"
   ]
  },
  {
   "cell_type": "code",
   "execution_count": 20,
   "metadata": {
    "collapsed": false
   },
   "outputs": [
    {
     "data": {
      "image/png": "[encoded data removed]",
      "text/plain": [
       "<matplotlib.figure.Figure at 0x112292dd0>"
      ]
     },
     "metadata": {},
     "output_type": "display_data"
    }
   ],
   "source": [
    "from wordcloud import WordCloud\n",
    "import matplotlib.pyplot as plt\n",
    "\n",
    "wordcloud = WordCloud()\n",
    "\n",
    "#... get tuples with (word,count) from categories Counter ...                      \n",
    "wordtuples = Counter(words).most_common(20)\n",
    "wordcloud.fit_words(dict(wordtuples))\n",
    "\n",
    "plt.imshow(wordcloud)\n",
    "plt.axis(\"off\")\n",
    "plt.show()"
   ]
  }
 ],
 "metadata": {
  "kernelspec": {
   "display_name": "Python [conda root]",
   "language": "python",
   "name": "conda-root-py"
  },
  "language_info": {
   "codemirror_mode": {
    "name": "ipython",
    "version": 2
   },
   "file_extension": ".py",
   "mimetype": "text/x-python",
   "name": "python",
   "nbconvert_exporter": "python",
   "pygments_lexer": "ipython2",
   "version": "2.7.12"
  }
 },
 "nbformat": 4,
 "nbformat_minor": 1
}
