{
 "cells": [
  {
   "cell_type": "markdown",
   "metadata": {},
   "source": [
    "# Visualizing Data\n",
    "\n",
    "We've learned the basics of [Loading files](files.md) and now it's time to reorganize the loaded data into commonly-used data structures from [NumPy](http://www.numpy.org/) and [Pandas](http://pandas.pydata.org/). To motivate the various data structures, we're going to feed them into [matplotlib](https://matplotlib.org/) for visualization. This lecture-lab is then all about steps 2, 3, and 5 from our generic analytics program template:\n",
    "\n",
    "1. Acquire data, which means finding a suitable file or collecting data from the web and storing in a file\n",
    "2. Load data from disk and place into memory **organized into data structures**\n",
    "3. Normalize, clean, or otherwise **prepare data**\n",
    "4. Process the data, which can mean training a machine learning model, computing summary statistics, or optimizing a cost function\n",
    "5. Emit results, which can be anything from simply printing an answer to saving data to the disk to generating a fancy **visualization**\n",
    "\n",
    "You'll learn more about step 4 in your courses on machine learning, timeseries analysis, and so on.\n",
    "\n",
    "missing values\n",
    "\tdelete row\n",
    "\tinsert value\n",
    "    \n",
    "Let's get started by importing all of the packages we're going to need and setting a few parameters that make this Jupyter notebook look better:"
   ]
  },
  {
   "cell_type": "code",
   "execution_count": 33,
   "metadata": {
    "collapsed": true
   },
   "outputs": [],
   "source": [
    "import pandas\n",
    "import numpy as np\n",
    "import matplotlib.pyplot as plt\n",
    "\n",
    "# jupyter notebook command (ignore)\n",
    "%matplotlib inline\n",
    "\n",
    "pandas.options.display.max_rows = 4 # Don't display too much data (Pandas)\n",
    "np.set_printoptions(threshold=4)    # Don't display too much data (NumPy)"
   ]
  },
  {
   "cell_type": "markdown",
   "metadata": {},
   "source": [
    "## Your new BFFs\n",
    "\n",
    "Analytics programs tend to use lots of one- and two-dimensional arrays. 2D arrays are matrices and tables of data. 1D arrays are vectors, such as points in Euclidean space. A column or row of a table is also a 1D array. Python has lists and lists of lists that would suffice for 1D and 2D arrays, but Pandas and NumPy to find similar but more capable data structures.\n",
    "\n",
    "Let's start with Pandas *data frames*, which are powerful tables very much like Excel tables. I also think that Pandas' `read_csv()` is the easiest way to load most kinds of data organized into rows and columns. Here's a sample data file with a list of prices over time, one data point per line and no header row:"
   ]
  },
  {
   "cell_type": "code",
   "execution_count": 54,
   "metadata": {
    "collapsed": false
   },
   "outputs": [
    {
     "name": "stdout",
     "output_type": "stream",
     "text": [
      "     345     345    2067 data/prices.txt\n",
      "0.605\n",
      "0.600\n",
      "0.594\n",
      "0.592\n",
      "0.600\n",
      "0.616\n",
      "0.623\n",
      "0.628\n",
      "0.630\n",
      "0.629\n"
     ]
    }
   ],
   "source": [
    "! wc data/prices.txt\n",
    "! head data/prices.txt"
   ]
  },
  {
   "cell_type": "markdown",
   "metadata": {},
   "source": [
    "(The `wc` and `head` are bash commands that you might find useful in the future.)\n",
    "\n",
    "Here's how to load that file using Pandas:"
   ]
  },
  {
   "cell_type": "code",
   "execution_count": 44,
   "metadata": {
    "collapsed": false,
    "scrolled": true
   },
   "outputs": [
    {
     "data": {
      "text/html": [
       "<div>\n",
       "<table border=\"1\" class=\"dataframe\">\n",
       "  <thead>\n",
       "    <tr style=\"text-align: right;\">\n",
       "      <th></th>\n",
       "      <th>0.605</th>\n",
       "    </tr>\n",
       "  </thead>\n",
       "  <tbody>\n",
       "    <tr>\n",
       "      <th>0</th>\n",
       "      <td>0.600</td>\n",
       "    </tr>\n",
       "    <tr>\n",
       "      <th>1</th>\n",
       "      <td>0.594</td>\n",
       "    </tr>\n",
       "    <tr>\n",
       "      <th>...</th>\n",
       "      <td>...</td>\n",
       "    </tr>\n",
       "    <tr>\n",
       "      <th>342</th>\n",
       "      <td>1.898</td>\n",
       "    </tr>\n",
       "    <tr>\n",
       "      <th>343</th>\n",
       "      <td>1.891</td>\n",
       "    </tr>\n",
       "  </tbody>\n",
       "</table>\n",
       "<p>344 rows × 1 columns</p>\n",
       "</div>"
      ],
      "text/plain": [
       "     0.605\n",
       "0    0.600\n",
       "1    0.594\n",
       "..     ...\n",
       "342  1.898\n",
       "343  1.891\n",
       "\n",
       "[344 rows x 1 columns]"
      ]
     },
     "execution_count": 44,
     "metadata": {},
     "output_type": "execute_result"
    }
   ],
   "source": [
    "prices = pandas.read_csv('data/prices.txt')\n",
    "prices # jupyter notebooks know how to display this nicely"
   ]
  },
  {
   "cell_type": "markdown",
   "metadata": {},
   "source": [
    "The numbers in the left column are just the index and are displayed by Pandas for your information; they are not stored in memory as part of the data structure. Let's look at the type and shape of this data structure:"
   ]
  },
  {
   "cell_type": "code",
   "execution_count": 45,
   "metadata": {
    "collapsed": false
   },
   "outputs": [
    {
     "name": "stdout",
     "output_type": "stream",
     "text": [
      "type is <class 'pandas.core.frame.DataFrame'>\n",
      "shape is (344, 1)\n"
     ]
    }
   ],
   "source": [
    "print \"type is\", type(prices)\n",
    "print \"shape is\", prices.shape"
   ]
  },
  {
   "cell_type": "markdown",
   "metadata": {},
   "source": [
    "That output indicates that the data is stored in a `DataFrame` object and there are 344 rows and one column.\n",
    "\n",
    "While Pandas is great for loading the data, and a few other things we'll see below, I prefer working with NumPy arrays; the actual type is called `ndarray`. Let's convert that list of prices from a data frame to a NumPy array:"
   ]
  },
  {
   "cell_type": "code",
   "execution_count": 55,
   "metadata": {
    "collapsed": false
   },
   "outputs": [
    {
     "name": "stdout",
     "output_type": "stream",
     "text": [
      "type is <type 'numpy.ndarray'>\n",
      "shape is (344, 1)\n",
      "[[ 0.6  ]\n",
      " [ 0.594]\n",
      " [ 0.592]\n",
      " ..., \n",
      " [ 1.939]\n",
      " [ 1.898]\n",
      " [ 1.891]]\n"
     ]
    }
   ],
   "source": [
    "m = prices.as_matrix()     # Convert data frame to numpy array\n",
    "print \"type is\", type(m)\n",
    "print \"shape is\", m.shape\n",
    "print m"
   ]
  },
  {
   "cell_type": "markdown",
   "metadata": {},
   "source": [
    "<img src=\"images/redbang.png\" style=\"width:30px\" align=\"left\">The printed array looks like a list of lists but it is a different data type. Just because two data structures print out in the same way, doesn't mean they are the same kinds of objects.\n",
    "\n",
    "We can access the 2D NumPy arrays using array index notation as *array*`[`*row*, *column*`]`:"
   ]
  },
  {
   "cell_type": "code",
   "execution_count": 66,
   "metadata": {
    "collapsed": false
   },
   "outputs": [
    {
     "name": "stdout",
     "output_type": "stream",
     "text": [
      "[  18    8  307 3504]\n",
      "18\n",
      "[  15    8  350 3693]\n",
      "15\n"
     ]
    }
   ],
   "source": [
    "print m[0]         # Access the first row\n",
    "print m[0,0]      # Access the first column of the first row\n",
    "print m[1]         # Access the 2nd row\n",
    "print m[1,0]      # Access the first column of the 2nd row"
   ]
  },
  {
   "cell_type": "markdown",
   "metadata": {},
   "source": [
    "That is a little weird though. We think of that as a 1D array or just a list, not a 2D array with a single column (shape is 344 x 1). To get NumPy to treat that as 1D, we use the `shape` attribute of the array:"
   ]
  },
  {
   "cell_type": "code",
   "execution_count": 61,
   "metadata": {
    "collapsed": false
   },
   "outputs": [
    {
     "data": {
      "text/plain": [
       "array([ 0.6  ,  0.594,  0.592, ...,  1.939,  1.898,  1.891])"
      ]
     },
     "execution_count": 61,
     "metadata": {},
     "output_type": "execute_result"
    }
   ],
   "source": [
    "m.shape = (344,)   # len(m)==344\n",
    "m"
   ]
  },
  {
   "cell_type": "markdown",
   "metadata": {},
   "source": [
    "Now, we can access the elements using a single index as we would expect:"
   ]
  },
  {
   "cell_type": "code",
   "execution_count": 63,
   "metadata": {
    "collapsed": false
   },
   "outputs": [
    {
     "name": "stdout",
     "output_type": "stream",
     "text": [
      "0.6\n",
      "0.594\n",
      "0.592\n"
     ]
    }
   ],
   "source": [
    "print m[0]\n",
    "print m[1]\n",
    "print m[2]"
   ]
  },
  {
   "cell_type": "markdown",
   "metadata": {},
   "source": [
    "A shape with an empty second parameter indicates a 1D array, which is how NumPy converts a regular Python list to an array:"
   ]
  },
  {
   "cell_type": "code",
   "execution_count": 62,
   "metadata": {
    "collapsed": false
   },
   "outputs": [
    {
     "name": "stdout",
     "output_type": "stream",
     "text": [
      "shape is (8,)\n"
     ]
    },
    {
     "data": {
      "text/plain": [
       "array([28, 32, 34, ..., 39, 40, 41])"
      ]
     },
     "execution_count": 62,
     "metadata": {},
     "output_type": "execute_result"
    }
   ],
   "source": [
    "sizes = [28, 32, 34, 36, 38, 39, 40, 41] # Plain old Python list\n",
    "a = np.array(sizes)                      # Convert to NumPy array\n",
    "print \"shape is\", a.shape\n",
    "a"
   ]
  },
  {
   "cell_type": "markdown",
   "metadata": {},
   "source": [
    "While we're at it, here's how to convert a list of lists to a 2D NumPy array:"
   ]
  },
  {
   "cell_type": "code",
   "execution_count": 64,
   "metadata": {
    "collapsed": false,
    "scrolled": true
   },
   "outputs": [
    {
     "name": "stdout",
     "output_type": "stream",
     "text": [
      "shape is (3, 4)\n"
     ]
    },
    {
     "data": {
      "text/plain": [
       "array([[  18,    8,  307, 3504],\n",
       "       [  15,    8,  350, 3693],\n",
       "       [  18,    8,  318, 3436]])"
      ]
     },
     "execution_count": 64,
     "metadata": {},
     "output_type": "execute_result"
    }
   ],
   "source": [
    "stuff = [\n",
    "    [ 18, 8, 307, 3504],\n",
    "    [ 15, 8, 350, 3693],\n",
    "    [ 18, 8, 318, 3436]\n",
    "]\n",
    "m = np.array(stuff)\n",
    "print \"shape is\", m.shape\n",
    "m"
   ]
  },
  {
   "cell_type": "markdown",
   "metadata": {},
   "source": [
    "Now multiple indices make sense. For example, to access the element containing value 3436, we'd use `m[2,3]` (3rd row, 4th column)."
   ]
  },
  {
   "cell_type": "markdown",
   "metadata": {},
   "source": [
    "## Plotting Time Series Data"
   ]
  },
  {
   "cell_type": "markdown",
   "metadata": {},
   "source": [
    "Our list of prices is representative of timeseries data, such as stock price, temperature, or population fluctuations. Matplotlib is a great library for visualizing data and in this section we're going to use it to display the prices as a timeseries using `plot()`. That function takes the X and Y coordinates as separate arrays.\n",
    "\n",
    "I find Matplotlib kind of mysterious, but I have learned patterns that I use over and over again, such as this timeseries plot."
   ]
  },
  {
   "cell_type": "code",
   "execution_count": 69,
   "metadata": {
    "collapsed": false,
    "scrolled": true
   },
   "outputs": [
    {
     "data": {
      "image/png": "[encoded data removed]",
      "text/plain": [
       "<matplotlib.figure.Figure at 0x1121ca0d0>"
      ]
     },
     "metadata": {},
     "output_type": "display_data"
    }
   ],
   "source": [
    "m = prices.as_matrix()           # Let's convert pandas data frame to numpy array\n",
    "time = np.arange(0, len(m), 1)   # Time axis goes from 0 to len(m) by 1\n",
    "fig=plt.figure(figsize=(5, 2))   # Prepare a plot 5x2 inches\n",
    "plt.plot(time, m)                # Plot time vs the prices data\n",
    "plt.xlabel(\"Time\")               # Always set the axes labels\n",
    "plt.ylabel(\"Price (dollars)\")\n",
    "plt.show()                       # Show the actual plot"
   ]
  },
  {
   "cell_type": "markdown",
   "metadata": {},
   "source": [
    "Sometimes we have a smooth function such as a cosine that we'd like to plot.  To do that, we need to sample the function at regular intervals to collect a list of Y coordinates (like prices from before).  Let's start by defining the function that maps X coordinates to Y values and then get a sample of X values at regular intervals between 0.1 and 1.1, stepping by 0.01:"
   ]
  },
  {
   "cell_type": "code",
   "execution_count": 73,
   "metadata": {
    "collapsed": false
   },
   "outputs": [],
   "source": [
    "def f(x):\n",
    "    return np.cos(3 * np.pi * x) / x\n",
    "\n",
    "X = np.arange(.1, 1.1, 0.01) # from .1 to 1.1 by step 0.01 "
   ]
  },
  {
   "cell_type": "markdown",
   "metadata": {},
   "source": [
    "There are three ways to sample the function `f()` at the coordinates contained in X, which I've delineated here. All of these 3 methods employ our Map pattern:"
   ]
  },
  {
   "cell_type": "code",
   "execution_count": 78,
   "metadata": {
    "collapsed": false
   },
   "outputs": [
    {
     "name": "stdout",
     "output_type": "stream",
     "text": [
      "[ 0.1   0.11  0.12 ...,  1.07  1.08  1.09]\n",
      "[ 5.87785252  4.62764923  3.54816076 ..., -0.73846263 -0.67497095\n",
      " -0.60670813]\n"
     ]
    }
   ],
   "source": [
    "# Get f(x) values for all x in three different ways\n",
    "# Option 1: (non-Pythonic)\n",
    "Y = [] \n",
    "for x in X:\n",
    "    Y.append(f(x))\n",
    "\n",
    "# Option 2: Pythonic way (cool kids do this)\n",
    "Y = [f(x) for x in X]\n",
    "\n",
    "# Option 3: Data science way (the most popular kids do this)\n",
    "Y = f(X)  # a so-called broadcast; implied map\n",
    "\n",
    "print X\n",
    "print Y"
   ]
  },
  {
   "cell_type": "markdown",
   "metadata": {},
   "source": [
    "Given X and Y coordinates, we can plot the function:"
   ]
  },
  {
   "cell_type": "code",
   "execution_count": 71,
   "metadata": {
    "collapsed": false
   },
   "outputs": [
    {
     "data": {
      "image/png": "[encoded data removed]",
      "text/plain": [
       "<matplotlib.figure.Figure at 0x10ecdbb90>"
      ]
     },
     "metadata": {},
     "output_type": "display_data"
    }
   ],
   "source": [
    "fig=plt.figure(figsize=(5, 2))\n",
    "\n",
    "plt.plot(X, Y)\n",
    "plt.xlabel(\"x\")\n",
    "plt.ylabel(\"cos(3 * pi * x) / x\")\n",
    "plt.show()"
   ]
  },
  {
   "cell_type": "code",
   "execution_count": null,
   "metadata": {
    "collapsed": true
   },
   "outputs": [],
   "source": []
  },
  {
   "cell_type": "code",
   "execution_count": null,
   "metadata": {
    "collapsed": false
   },
   "outputs": [],
   "source": []
  },
  {
   "cell_type": "markdown",
   "metadata": {},
   "source": [
    "##  Visualizing the relationship between variables"
   ]
  },
  {
   "cell_type": "code",
   "execution_count": 47,
   "metadata": {
    "collapsed": false,
    "scrolled": true
   },
   "outputs": [
    {
     "data": {
      "text/html": [
       "<div>\n",
       "<table border=\"1\" class=\"dataframe\">\n",
       "  <thead>\n",
       "    <tr style=\"text-align: right;\">\n",
       "      <th></th>\n",
       "      <th>MPG</th>\n",
       "      <th>CYL</th>\n",
       "      <th>ENG</th>\n",
       "      <th>WGT</th>\n",
       "    </tr>\n",
       "  </thead>\n",
       "  <tbody>\n",
       "    <tr>\n",
       "      <th>0</th>\n",
       "      <td>18.0</td>\n",
       "      <td>8</td>\n",
       "      <td>307.0</td>\n",
       "      <td>3504</td>\n",
       "    </tr>\n",
       "    <tr>\n",
       "      <th>1</th>\n",
       "      <td>15.0</td>\n",
       "      <td>8</td>\n",
       "      <td>350.0</td>\n",
       "      <td>3693</td>\n",
       "    </tr>\n",
       "    <tr>\n",
       "      <th>...</th>\n",
       "      <td>...</td>\n",
       "      <td>...</td>\n",
       "      <td>...</td>\n",
       "      <td>...</td>\n",
       "    </tr>\n",
       "    <tr>\n",
       "      <th>390</th>\n",
       "      <td>28.0</td>\n",
       "      <td>4</td>\n",
       "      <td>120.0</td>\n",
       "      <td>2625</td>\n",
       "    </tr>\n",
       "    <tr>\n",
       "      <th>391</th>\n",
       "      <td>31.0</td>\n",
       "      <td>4</td>\n",
       "      <td>119.0</td>\n",
       "      <td>2720</td>\n",
       "    </tr>\n",
       "  </tbody>\n",
       "</table>\n",
       "<p>392 rows × 4 columns</p>\n",
       "</div>"
      ],
      "text/plain": [
       "      MPG  CYL    ENG   WGT\n",
       "0    18.0    8  307.0  3504\n",
       "1    15.0    8  350.0  3693\n",
       "..    ...  ...    ...   ...\n",
       "390  28.0    4  120.0  2625\n",
       "391  31.0    4  119.0  2720\n",
       "\n",
       "[392 rows x 4 columns]"
      ]
     },
     "execution_count": 47,
     "metadata": {},
     "output_type": "execute_result"
    }
   ],
   "source": [
    "cars = pandas.read_csv('data/cars.csv')\n",
    "cars"
   ]
  },
  {
   "cell_type": "code",
   "execution_count": 9,
   "metadata": {
    "collapsed": false
   },
   "outputs": [
    {
     "name": "stdout",
     "output_type": "stream",
     "text": [
      "[[   18.     8.   307.  3504.]\n",
      " [   15.     8.   350.  3693.]\n",
      " [   18.     8.   318.  3436.]\n",
      " ..., \n",
      " [   32.     4.   135.  2295.]\n",
      " [   28.     4.   120.  2625.]\n",
      " [   31.     4.   119.  2720.]]\n"
     ]
    }
   ],
   "source": [
    "m = cars.as_matrix()\n",
    "print m"
   ]
  },
  {
   "cell_type": "code",
   "execution_count": 10,
   "metadata": {
    "collapsed": false
   },
   "outputs": [
    {
     "data": {
      "image/png": "[encoded data removed]",
      "text/plain": [
       "<matplotlib.figure.Figure at 0x112298090>"
      ]
     },
     "metadata": {},
     "output_type": "display_data"
    }
   ],
   "source": [
    "mpg = m[:,0]\n",
    "wgt = m[:,3]\n",
    "fig=plt.figure(figsize=(5, 2.5))\n",
    "plt.scatter(mpg, wgt, alpha=0.5) # looks cooler with alpha (opacity) at 50%\n",
    "plt.xlabel('Miles per gallon')\n",
    "plt.ylabel('Weight (pounds)')\n",
    "plt.show()"
   ]
  },
  {
   "cell_type": "markdown",
   "metadata": {},
   "source": [
    "If we ever need a unique set, use"
   ]
  },
  {
   "cell_type": "markdown",
   "metadata": {},
   "source": [
    "## Histograms"
   ]
  },
  {
   "cell_type": "code",
   "execution_count": 11,
   "metadata": {
    "collapsed": false
   },
   "outputs": [
    {
     "data": {
      "image/png": "[encoded data removed]",
      "text/plain": [
       "<matplotlib.figure.Figure at 0x11250d210>"
      ]
     },
     "metadata": {},
     "output_type": "display_data"
    }
   ],
   "source": [
    "m = cars.as_matrix()\n",
    "hp = m[:,2]\n",
    "fig=plt.figure(figsize=(5, 2.5))\n",
    "n, bins, patches = plt.hist(hp, 20, normed=1, alpha=0.75)\n",
    "plt.xlabel('Horsepower')\n",
    "plt.ylabel('Probability')\n",
    "plt.show()"
   ]
  },
  {
   "cell_type": "markdown",
   "metadata": {},
   "source": [
    "## Slicing and dicing\n"
   ]
  },
  {
   "cell_type": "code",
   "execution_count": null,
   "metadata": {
    "collapsed": false
   },
   "outputs": [],
   "source": []
  },
  {
   "cell_type": "markdown",
   "metadata": {},
   "source": [
    "**Loading tables**\n",
    "\n",
    "dataframes"
   ]
  },
  {
   "cell_type": "code",
   "execution_count": 50,
   "metadata": {
    "collapsed": false
   },
   "outputs": [
    {
     "data": {
      "text/html": [
       "<div>\n",
       "<table border=\"1\" class=\"dataframe\">\n",
       "  <thead>\n",
       "    <tr style=\"text-align: right;\">\n",
       "      <th></th>\n",
       "      <th>Date</th>\n",
       "      <th>Quantity</th>\n",
       "      <th>Unit Price</th>\n",
       "      <th>Shipping</th>\n",
       "      <th>Customer Name</th>\n",
       "      <th>Product Category</th>\n",
       "      <th>Product Name</th>\n",
       "    </tr>\n",
       "  </thead>\n",
       "  <tbody>\n",
       "    <tr>\n",
       "      <th>0</th>\n",
       "      <td>10/13/10</td>\n",
       "      <td>6</td>\n",
       "      <td>38.94</td>\n",
       "      <td>35.00</td>\n",
       "      <td>Muhammed MacIntyre</td>\n",
       "      <td>Office Supplies</td>\n",
       "      <td>Eldon Base for stackable storage shelf, platinum</td>\n",
       "    </tr>\n",
       "    <tr>\n",
       "      <th>1</th>\n",
       "      <td>10/1/12</td>\n",
       "      <td>49</td>\n",
       "      <td>208.16</td>\n",
       "      <td>68.02</td>\n",
       "      <td>Barry French</td>\n",
       "      <td>Office Supplies</td>\n",
       "      <td>1.7 Cubic Foot Compact \"Cube\" Office Refrigera...</td>\n",
       "    </tr>\n",
       "    <tr>\n",
       "      <th>...</th>\n",
       "      <td>...</td>\n",
       "      <td>...</td>\n",
       "      <td>...</td>\n",
       "      <td>...</td>\n",
       "      <td>...</td>\n",
       "      <td>...</td>\n",
       "      <td>...</td>\n",
       "    </tr>\n",
       "    <tr>\n",
       "      <th>29</th>\n",
       "      <td>10/21/12</td>\n",
       "      <td>49</td>\n",
       "      <td>6.08</td>\n",
       "      <td>1.17</td>\n",
       "      <td>Grant Carroll</td>\n",
       "      <td>Office Supplies</td>\n",
       "      <td>Col-Erase� Pencils with Erasers</td>\n",
       "    </tr>\n",
       "    <tr>\n",
       "      <th>30</th>\n",
       "      <td>1/1/11</td>\n",
       "      <td>10</td>\n",
       "      <td>5.98</td>\n",
       "      <td>4.38</td>\n",
       "      <td>Don Miller</td>\n",
       "      <td>Technology</td>\n",
       "      <td>Imation 3.5\" DS/HD IBM Formatted Diskettes, 10...</td>\n",
       "    </tr>\n",
       "  </tbody>\n",
       "</table>\n",
       "<p>31 rows × 7 columns</p>\n",
       "</div>"
      ],
      "text/plain": [
       "        Date  Quantity  Unit Price  Shipping       Customer Name  \\\n",
       "0   10/13/10         6       38.94     35.00  Muhammed MacIntyre   \n",
       "1    10/1/12        49      208.16     68.02        Barry French   \n",
       "..       ...       ...         ...       ...                 ...   \n",
       "29  10/21/12        49        6.08      1.17       Grant Carroll   \n",
       "30    1/1/11        10        5.98      4.38          Don Miller   \n",
       "\n",
       "   Product Category                                       Product Name  \n",
       "0   Office Supplies   Eldon Base for stackable storage shelf, platinum  \n",
       "1   Office Supplies  1.7 Cubic Foot Compact \"Cube\" Office Refrigera...  \n",
       "..              ...                                                ...  \n",
       "29  Office Supplies                    Col-Erase� Pencils with Erasers  \n",
       "30       Technology  Imation 3.5\" DS/HD IBM Formatted Diskettes, 10...  \n",
       "\n",
       "[31 rows x 7 columns]"
      ]
     },
     "execution_count": 50,
     "metadata": {},
     "output_type": "execute_result"
    }
   ],
   "source": [
    "sales = pandas.read_csv('data/sales-small.csv')\n",
    "sales"
   ]
  },
  {
   "cell_type": "code",
   "execution_count": 13,
   "metadata": {
    "collapsed": false
   },
   "outputs": [
    {
     "data": {
      "text/plain": [
       "0     10/13/10\n",
       "1      10/1/12\n",
       "        ...   \n",
       "29    10/21/12\n",
       "30      1/1/11\n",
       "Name: Date, dtype: object"
      ]
     },
     "execution_count": 13,
     "metadata": {},
     "output_type": "execute_result"
    }
   ],
   "source": [
    "sales['Date']"
   ]
  },
  {
   "cell_type": "code",
   "execution_count": 14,
   "metadata": {
    "collapsed": false
   },
   "outputs": [
    {
     "data": {
      "text/plain": [
       "0     Muhammed MacIntyre\n",
       "1           Barry French\n",
       "             ...        \n",
       "29         Grant Carroll\n",
       "30            Don Miller\n",
       "Name: Customer Name, dtype: object"
      ]
     },
     "execution_count": 14,
     "metadata": {},
     "output_type": "execute_result"
    }
   ],
   "source": [
    "sales['Customer Name']"
   ]
  },
  {
   "cell_type": "markdown",
   "metadata": {},
   "source": [
    "can convert to matrix here we get a list of lists kind of thing"
   ]
  },
  {
   "cell_type": "code",
   "execution_count": 52,
   "metadata": {
    "collapsed": false
   },
   "outputs": [
    {
     "name": "stdout",
     "output_type": "stream",
     "text": [
      "<type 'numpy.ndarray'>\n",
      "(31, 7)\n"
     ]
    },
    {
     "data": {
      "text/plain": [
       "array(['10/13/10', 6, 38.94, ..., 'Muhammed MacIntyre', 'Office Supplies',\n",
       "       'Eldon Base for stackable storage shelf, platinum'], dtype=object)"
      ]
     },
     "execution_count": 52,
     "metadata": {},
     "output_type": "execute_result"
    }
   ],
   "source": [
    "m = sales.as_matrix()\n",
    "print type(m)\n",
    "print m.shape\n",
    "m[0] # get first row"
   ]
  },
  {
   "cell_type": "code",
   "execution_count": 16,
   "metadata": {
    "collapsed": false,
    "scrolled": true
   },
   "outputs": [
    {
     "data": {
      "text/plain": [
       "array(['10/13/10', '10/1/12', '10/1/12', ..., '11/8/10', '10/21/12',\n",
       "       '1/1/11'], dtype=object)"
      ]
     },
     "execution_count": 16,
     "metadata": {},
     "output_type": "execute_result"
    }
   ],
   "source": [
    "m[:,0] # get first column"
   ]
  },
  {
   "cell_type": "code",
   "execution_count": 17,
   "metadata": {
    "collapsed": false
   },
   "outputs": [
    {
     "data": {
      "text/plain": [
       "array(['Muhammed MacIntyre', 'Barry French', 'Barry French', ...,\n",
       "       'Carlos Soltero', 'Grant Carroll', 'Don Miller'], dtype=object)"
      ]
     },
     "execution_count": 17,
     "metadata": {},
     "output_type": "execute_result"
    }
   ],
   "source": [
    "m[:,4] # get fifth column"
   ]
  },
  {
   "cell_type": "code",
   "execution_count": null,
   "metadata": {
    "collapsed": false
   },
   "outputs": [],
   "source": []
  },
  {
   "cell_type": "code",
   "execution_count": null,
   "metadata": {
    "collapsed": false,
    "scrolled": true
   },
   "outputs": [],
   "source": []
  },
  {
   "cell_type": "markdown",
   "metadata": {},
   "source": [
    "## Word clouds\n",
    "\n",
    "tuples\n",
    "list of tuples\n",
    "dict\n",
    "\n",
    "clean out punct, ws, nums, short words. filter out stop words\n",
    "\n",
    "show unique words with set(words).\n",
    "\n",
    "Difference between the way things print out and their data type.  list of associations versus dictionary.\n",
    "\n",
    "Python has a nice library called `wordcloud` we can use. It should already be installed in your Anaconda  Python directory, but if not use the command line:\n",
    "\n",
    "```bash\n",
    "$ pip install wordcloud\n",
    "```"
   ]
  },
  {
   "cell_type": "code",
   "execution_count": 18,
   "metadata": {
    "collapsed": false
   },
   "outputs": [
    {
     "name": "stdout",
     "output_type": "stream",
     "text": [
      "['\\n', '', '\\n', '', '\\n', '', '', '', '\\n', '', '', '', '', '', '\\n', '', '', '', '', '', '', '', 'The', 'City', 'and']\n"
     ]
    }
   ],
   "source": [
    "f = open('data/IntroIstanbul.txt')\n",
    "contents = f.read() # read all content of the file\n",
    "f.close()\n",
    "words = contents.split(' ')\n",
    "print words[:25]"
   ]
  },
  {
   "cell_type": "code",
   "execution_count": 19,
   "metadata": {
    "collapsed": false
   },
   "outputs": [
    {
     "name": "stdout",
     "output_type": "stream",
     "text": [
      "['The', 'City', 'and', 'ITS', 'People\\n']\n"
     ]
    }
   ],
   "source": [
    "words = [w for w in words if len(w)>1]\n",
    "print words[:5]"
   ]
  },
  {
   "cell_type": "code",
   "execution_count": 20,
   "metadata": {
    "collapsed": false
   },
   "outputs": [
    {
     "name": "stdout",
     "output_type": "stream",
     "text": [
      "['the', 'city', 'and', 'its', 'people\\n']\n"
     ]
    }
   ],
   "source": [
    "words = [w.lower() for w in words]\n",
    "print words[:5]"
   ]
  },
  {
   "cell_type": "code",
   "execution_count": 21,
   "metadata": {
    "collapsed": false
   },
   "outputs": [
    {
     "name": "stdout",
     "output_type": "stream",
     "text": [
      "['the', 'city', 'and', 'its', 'people']\n"
     ]
    }
   ],
   "source": [
    "words = [w.strip() for w in words]\n",
    "print words[:5]"
   ]
  },
  {
   "cell_type": "code",
   "execution_count": 25,
   "metadata": {
    "collapsed": false
   },
   "outputs": [
    {
     "name": "stdout",
     "output_type": "stream",
     "text": [
      "['city', 'people', 'istanbul', 'worlds', 'venerable']\n"
     ]
    }
   ],
   "source": [
    "from sklearn.feature_extraction.text import ENGLISH_STOP_WORDS\n",
    "words = [w for w in words if w not in ENGLISH_STOP_WORDS]\n",
    "print words[:5]"
   ]
  },
  {
   "cell_type": "code",
   "execution_count": 26,
   "metadata": {
    "collapsed": false,
    "scrolled": true
   },
   "outputs": [
    {
     "name": "stdout",
     "output_type": "stream",
     "text": [
      "istanbul 6\n",
      "byzantine 3\n",
      "the 0\n",
      "[('city', 8), ('worlds', 6), ('istanbul', 6), ('citys', 5), ('bosphorus', 5), ('ottoman', 4), ('sea', 4), ('important', 4), ('palace,', 3), ('asia', 3)]\n"
     ]
    }
   ],
   "source": [
    "from collections import Counter # a kind of dict that counts keys\n",
    "freq = Counter(words)\n",
    "print \"istanbul\", freq['istanbul']\n",
    "print \"byzantine\", freq['byzantine']\n",
    "print \"the\", freq['the']\n",
    "print freq.most_common(10)"
   ]
  },
  {
   "cell_type": "markdown",
   "metadata": {},
   "source": []
  },
  {
   "cell_type": "code",
   "execution_count": 28,
   "metadata": {
    "collapsed": false
   },
   "outputs": [
    {
     "data": {
      "image/png": "[encoded data removed]",
      "text/plain": [
       "<matplotlib.figure.Figure at 0x1141531d0>"
      ]
     },
     "metadata": {},
     "output_type": "display_data"
    }
   ],
   "source": [
    "from wordcloud import WordCloud\n",
    "import matplotlib.pyplot as plt\n",
    "\n",
    "wordcloud = WordCloud()\n",
    "\n",
    "# get tuples with (word,count) from categories Counter\n",
    "freq = Counter(words)\n",
    "wordtuples = freq.most_common(20)\n",
    "wordcloud.fit_words(dict(wordtuples))\n",
    "\n",
    "plt.imshow(wordcloud)\n",
    "plt.axis(\"off\")\n",
    "plt.show()"
   ]
  }
 ],
 "metadata": {
  "kernelspec": {
   "display_name": "Python [conda root]",
   "language": "python",
   "name": "conda-root-py"
  },
  "language_info": {
   "codemirror_mode": {
    "name": "ipython",
    "version": 2
   },
   "file_extension": ".py",
   "mimetype": "text/x-python",
   "name": "python",
   "nbconvert_exporter": "python",
   "pygments_lexer": "ipython2",
   "version": "2.7.12"
  }
 },
 "nbformat": 4,
 "nbformat_minor": 1
}
