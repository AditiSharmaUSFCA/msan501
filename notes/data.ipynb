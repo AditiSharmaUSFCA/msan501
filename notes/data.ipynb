{
 "cells": [
  {
   "cell_type": "markdown",
   "metadata": {},
   "source": [
    "# Massaging and Visualizing Data\n",
    "\n",
    "Our generic analytics program template\n",
    "\n",
    "1. Acquire data, which means finding a suitable file or collecting data from the web and storing in a file\n",
    "2. Load data from disk and place into memory organized into data structures\n",
    "2. Normalize, clean, or otherwise prepare data\n",
    "3. Process the data, which can mean training a machine learning model, computing summary statistics, or optimizing a cost function\n",
    "4. Emit results, which can be anything from simply printing an answer to saving data to the disk to generating a fancy visualization\n",
    "\n",
    "numpy array is homogeneous 1, 2, or multidimensional array. they must all have the same type\n",
    "\n",
    "To make loading data meaningful, we'll also learn how to generate histograms from data files using [matplotlib](https://matplotlib.org/).\n",
    "\n",
    "tuples\n",
    "set\n",
    "list of tuples\n",
    "dict\n",
    "\n",
    "slicing/splicing\n",
    "\n",
    "X to x, y\n",
    "\n",
    "missing values\n",
    "\tdelete row\n",
    "\tinsert value\n",
    "\n",
    "scatter\n",
    "\n",
    "sine wave\n",
    "\n",
    "histogram; unif, normal\n",
    "\n",
    "## Plotting functions"
   ]
  },
  {
   "cell_type": "code",
   "execution_count": 2,
   "metadata": {
    "collapsed": false
   },
   "outputs": [
    {
     "name": "stdout",
     "output_type": "stream",
     "text": [
      "66150 samples in 1.5 seconds\n"
     ]
    },
    {
     "data": {
      "image/png": "[encoded data removed]",
      "text/plain": [
       "<matplotlib.figure.Figure at 0x10cb63350>"
      ]
     },
     "metadata": {},
     "output_type": "display_data"
    }
   ],
   "source": [
    "import numpy as np\n",
    "import matplotlib.pyplot as plt\n",
    "%matplotlib inline\n",
    "fs = 44100 # sampling frequency\n",
    "T = 1.5    # seconds\n",
    "t = np.linspace(0, T, int(T*fs), endpoint=False) # time variable\n",
    "y = np.sin(2*np.pi*440*t)                     # pure sine wave at 440 Hz\n",
    "print len(y), \"samples in\", T, \"seconds\"\n",
    "plt.scatter(t[0:1000],y[0:1000],s=1)\n",
    "plt.show()"
   ]
  },
  {
   "cell_type": "markdown",
   "metadata": {},
   "source": [
    "then add them together"
   ]
  },
  {
   "cell_type": "code",
   "execution_count": 5,
   "metadata": {
    "collapsed": false
   },
   "outputs": [
    {
     "data": {
      "image/png": "[encoded data removed]",
      "text/plain": [
       "<matplotlib.figure.Figure at 0x10cbc8290>"
      ]
     },
     "metadata": {},
     "output_type": "display_data"
    }
   ],
   "source": [
    "y2 = np.sin(2*np.pi*700*t)                     # pure sine wave at 700 Hz\n",
    "plt.scatter(t[0:1000],y[0:1000]+y2[0:1000],s=1)\n",
    "plt.show()"
   ]
  },
  {
   "cell_type": "markdown",
   "metadata": {},
   "source": [
    "## Loading tables\n",
    "\n",
    "dataframes"
   ]
  },
  {
   "cell_type": "code",
   "execution_count": 19,
   "metadata": {
    "collapsed": false
   },
   "outputs": [
    {
     "data": {
      "text/html": [
       "<div>\n",
       "<table border=\"1\" class=\"dataframe\">\n",
       "  <thead>\n",
       "    <tr style=\"text-align: right;\">\n",
       "      <th></th>\n",
       "      <th>Date</th>\n",
       "      <th>Quantity</th>\n",
       "      <th>Unit Price</th>\n",
       "      <th>Shipping</th>\n",
       "      <th>Customer Name</th>\n",
       "      <th>Product Category</th>\n",
       "      <th>Product Name</th>\n",
       "    </tr>\n",
       "  </thead>\n",
       "  <tbody>\n",
       "    <tr>\n",
       "      <th>0</th>\n",
       "      <td>10/13/10</td>\n",
       "      <td>6</td>\n",
       "      <td>38.94</td>\n",
       "      <td>35.00</td>\n",
       "      <td>Muhammed MacIntyre</td>\n",
       "      <td>Office Supplies</td>\n",
       "      <td>Eldon Base for stackable storage shelf, platinum</td>\n",
       "    </tr>\n",
       "    <tr>\n",
       "      <th>1</th>\n",
       "      <td>10/1/12</td>\n",
       "      <td>49</td>\n",
       "      <td>208.16</td>\n",
       "      <td>68.02</td>\n",
       "      <td>Barry French</td>\n",
       "      <td>Office Supplies</td>\n",
       "      <td>1.7 Cubic Foot Compact \"Cube\" Office Refrigera...</td>\n",
       "    </tr>\n",
       "    <tr>\n",
       "      <th>...</th>\n",
       "      <td>...</td>\n",
       "      <td>...</td>\n",
       "      <td>...</td>\n",
       "      <td>...</td>\n",
       "      <td>...</td>\n",
       "      <td>...</td>\n",
       "      <td>...</td>\n",
       "    </tr>\n",
       "    <tr>\n",
       "      <th>29</th>\n",
       "      <td>10/21/12</td>\n",
       "      <td>49</td>\n",
       "      <td>6.08</td>\n",
       "      <td>1.17</td>\n",
       "      <td>Grant Carroll</td>\n",
       "      <td>Office Supplies</td>\n",
       "      <td>Col-Erase� Pencils with Erasers</td>\n",
       "    </tr>\n",
       "    <tr>\n",
       "      <th>30</th>\n",
       "      <td>1/1/11</td>\n",
       "      <td>10</td>\n",
       "      <td>5.98</td>\n",
       "      <td>4.38</td>\n",
       "      <td>Don Miller</td>\n",
       "      <td>Technology</td>\n",
       "      <td>Imation 3.5\" DS/HD IBM Formatted Diskettes, 10...</td>\n",
       "    </tr>\n",
       "  </tbody>\n",
       "</table>\n",
       "<p>31 rows × 7 columns</p>\n",
       "</div>"
      ],
      "text/plain": [
       "        Date  Quantity  Unit Price  Shipping       Customer Name  \\\n",
       "0   10/13/10         6       38.94     35.00  Muhammed MacIntyre   \n",
       "1    10/1/12        49      208.16     68.02        Barry French   \n",
       "..       ...       ...         ...       ...                 ...   \n",
       "29  10/21/12        49        6.08      1.17       Grant Carroll   \n",
       "30    1/1/11        10        5.98      4.38          Don Miller   \n",
       "\n",
       "   Product Category                                       Product Name  \n",
       "0   Office Supplies   Eldon Base for stackable storage shelf, platinum  \n",
       "1   Office Supplies  1.7 Cubic Foot Compact \"Cube\" Office Refrigera...  \n",
       "..              ...                                                ...  \n",
       "29  Office Supplies                    Col-Erase� Pencils with Erasers  \n",
       "30       Technology  Imation 3.5\" DS/HD IBM Formatted Diskettes, 10...  \n",
       "\n",
       "[31 rows x 7 columns]"
      ]
     },
     "execution_count": 19,
     "metadata": {},
     "output_type": "execute_result"
    }
   ],
   "source": [
    "import pandas\n",
    "sales = pandas.read_csv('data/sales-small.csv')\n",
    "pandas.options.display.max_rows = 4\n",
    "sales"
   ]
  },
  {
   "cell_type": "code",
   "execution_count": 14,
   "metadata": {
    "collapsed": false
   },
   "outputs": [
    {
     "data": {
      "text/plain": [
       "0     10/13/10\n",
       "1      10/1/12\n",
       "        ...   \n",
       "29    10/21/12\n",
       "30      1/1/11\n",
       "Name: Date, dtype: object"
      ]
     },
     "execution_count": 14,
     "metadata": {},
     "output_type": "execute_result"
    }
   ],
   "source": [
    "sales['Date']"
   ]
  },
  {
   "cell_type": "code",
   "execution_count": 15,
   "metadata": {
    "collapsed": false
   },
   "outputs": [
    {
     "data": {
      "text/plain": [
       "0     Muhammed MacIntyre\n",
       "1           Barry French\n",
       "             ...        \n",
       "29         Grant Carroll\n",
       "30            Don Miller\n",
       "Name: Customer Name, dtype: object"
      ]
     },
     "execution_count": 15,
     "metadata": {},
     "output_type": "execute_result"
    }
   ],
   "source": [
    "sales['Customer Name']"
   ]
  },
  {
   "cell_type": "markdown",
   "metadata": {},
   "source": [
    "can convert to matrix:"
   ]
  },
  {
   "cell_type": "code",
   "execution_count": 23,
   "metadata": {
    "collapsed": false
   },
   "outputs": [
    {
     "data": {
      "text/plain": [
       "array(['10/13/10', 6, 38.94, 35.0, 'Muhammed MacIntyre', 'Office Supplies',\n",
       "       'Eldon Base for stackable storage shelf, platinum'], dtype=object)"
      ]
     },
     "execution_count": 23,
     "metadata": {},
     "output_type": "execute_result"
    }
   ],
   "source": [
    "m = sales.as_matrix()\n",
    "m[0] # get first row"
   ]
  },
  {
   "cell_type": "code",
   "execution_count": 21,
   "metadata": {
    "collapsed": false,
    "scrolled": true
   },
   "outputs": [
    {
     "data": {
      "text/plain": [
       "array(['10/13/10', '10/1/12', '10/1/12', '7/10/11', '8/28/10', '8/28/10',\n",
       "       '6/17/11', '6/17/11', '3/24/11', '2/26/10', '11/23/10', '11/23/10',\n",
       "       '6/8/12', '6/8/12', '8/4/12', '5/30/11', '11/25/09', '2/14/12',\n",
       "       '2/14/12', '4/15/12', '4/15/12', '3/12/10', '3/12/10', '3/9/11',\n",
       "       '3/9/11', '8/4/12', '5/6/11', '12/23/10', '11/8/10', '10/21/12',\n",
       "       '1/1/11'], dtype=object)"
      ]
     },
     "execution_count": 21,
     "metadata": {},
     "output_type": "execute_result"
    }
   ],
   "source": [
    "m[:,0] # get first column"
   ]
  },
  {
   "cell_type": "code",
   "execution_count": 22,
   "metadata": {
    "collapsed": false
   },
   "outputs": [
    {
     "data": {
      "text/plain": [
       "array(['Muhammed MacIntyre', 'Barry French', 'Barry French',\n",
       "       'Clay Rozendal', 'Carlos Soltero', 'Carlos Soltero', 'Carl Jackson',\n",
       "       'Carl Jackson', 'Monica Federle', 'Dorothy Badders',\n",
       "       'Neola Schneider', 'Neola Schneider', 'Carlos Daly', 'Carlos Daly',\n",
       "       'Claudia Miner', 'Neola Schneider', 'Allen Rosenblatt',\n",
       "       'Sylvia Foulston', 'Sylvia Foulston', 'Jim Radford', 'Jim Radford',\n",
       "       'Carlos Soltero', 'Carlos Soltero', 'Carl Ludwig', 'Carl Ludwig',\n",
       "       'Don Miller', 'Annie Cyprus', 'Carl Ludwig', 'Carlos Soltero',\n",
       "       'Grant Carroll', 'Don Miller'], dtype=object)"
      ]
     },
     "execution_count": 22,
     "metadata": {},
     "output_type": "execute_result"
    }
   ],
   "source": [
    "m[:,4] # get fifth column"
   ]
  },
  {
   "cell_type": "code",
   "execution_count": null,
   "metadata": {
    "collapsed": true
   },
   "outputs": [],
   "source": [
    "import pandas\n",
    "sales = pandas.read_csv('/tmp/sales-small.csv')\n",
    "pandas.options.display.max_rows = 10\n",
    "sales\n",
    "\n",
    "note doesn't work: can't handle quotes you get errors\n",
    "\n",
    "sales = np.genfromtxt('/tmp/cars.csv', delimiter=',', names=True)\n",
    "\n",
    "## Scatter plots\n",
    "\n",
    "save as csv from cars.xls\n",
    "\n",
    "```python\n",
    "import numpy as np\n",
    "import matplotlib.pyplot as plt\n",
    "cars = pandas.read_csv('/tmp/cars.csv')\n",
    "cars = cars.as_matrix()\n",
    "plt.scatter(cars[:,0], cars[:,3], alpha=0.5) # looks cooler with alpha (opacity) at 50%\n",
    "plt.show()\n",
    "```\n",
    "\n",
    "```\n",
    "[[   18.     8.   307.  3504.]\n",
    " [   15.     8.   350.  3693.]\n",
    " [   18.     8.   318.  3436.]\n",
    " ..., \n",
    " [   32.     4.   135.  2295.]\n",
    " [   28.     4.   120.  2625.]\n",
    " [   31.     4.   119.  2720.]]\n",
    "```\n",
    "\n",
    "## Word clouds\n",
    "\n",
    "clean out punct, ws, nums, short words. filter out stop words\n",
    "\n",
    "show unique words with set(words).\n",
    "\n",
    "Python has a nice library called `wordcloud` we can use. It should already be installed in your Anaconda  Python directory, but if not use the command line:\n",
    "\n",
    "```bash\n",
    "$ pip install wordcloud\n",
    "```\n",
    "\n",
    "```python\n",
    "from wordcloud import WordCloud\n",
    "from csvcols import get_column\n",
    "import matplotlib.pyplot as plt\n",
    "import sys\n",
    "\n",
    "...\n",
    "wordcloud = WordCloud(width=1800,\n",
    "                      height=1400,\n",
    "                      max_words=10000,\n",
    "                      random_state=1,\n",
    "                      relative_scaling=0.25)\n",
    "\n",
    "... get tuples with (word,count) from categories Counter ...                      \n",
    "wordcloud.fit_words(wordtuples)\n",
    "\n",
    "plt.imshow(wordcloud)\n",
    "plt.axis(\"off\")\n",
    "plt.show()\n",
    "```"
   ]
  }
 ],
 "metadata": {
  "kernelspec": {
   "display_name": "Python [conda root]",
   "language": "python",
   "name": "conda-root-py"
  },
  "language_info": {
   "codemirror_mode": {
    "name": "ipython",
    "version": 2
   },
   "file_extension": ".py",
   "mimetype": "text/x-python",
   "name": "python",
   "nbconvert_exporter": "python",
   "pygments_lexer": "ipython2",
   "version": "2.7.12"
  }
 },
 "nbformat": 4,
 "nbformat_minor": 1
}
